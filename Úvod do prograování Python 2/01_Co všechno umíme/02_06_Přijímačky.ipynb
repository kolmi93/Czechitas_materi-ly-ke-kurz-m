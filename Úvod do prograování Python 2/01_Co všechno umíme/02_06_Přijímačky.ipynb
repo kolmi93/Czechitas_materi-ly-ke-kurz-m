{
 "cells": [
  {
   "cell_type": "markdown",
   "metadata": {},
   "source": [
    "# Přijímačky\n",
    "\n",
    "#### Vrať se k příkladu vysvědčení studenta."
   ]
  },
  {
   "cell_type": "markdown",
   "metadata": {},
   "source": [
    "#### Při přihlašování na střední školu mohou být důležitější příklady z některých konkrétních předmětů. Uprav kód z lekce tak, aby spočítal průměr pouze z jazyků, matematiky a fyziky."
   ]
  },
  {
   "cell_type": "code",
   "execution_count": 2,
   "metadata": {},
   "outputs": [],
   "source": [
    "school_report = [\n",
    "    [\"Český jazyk\", 1],\n",
    "    [\"Anglický jazyk\", 1],\n",
    "    [\"Matematika\", 1],\n",
    "    [\"Přírodopis\", 2],\n",
    "    [\"Dějepis\", 1],\n",
    "    [\"Fyzika\", 2],\n",
    "    [\"Hudební výchova\", 4],\n",
    "    [\"Výtvarná výchova\", 2],\n",
    "    [\"Tělesná výchova\", 3],\n",
    "    [\"Chemie\", 4],\n",
    "]"
   ]
  },
  {
   "cell_type": "markdown",
   "metadata": {},
   "source": [
    "### Řešení"
   ]
  },
  {
   "cell_type": "code",
   "execution_count": 4,
   "metadata": {},
   "outputs": [
    {
     "name": "stdout",
     "output_type": "stream",
     "text": [
      " Průměr sledovaných předmětů je 1.25\n"
     ]
    }
   ],
   "source": [
    "soucet = 0\n",
    "sledovane_predmety = ['Český jazyk','Anglický jazyk','Matematika','Fyzika']\n",
    "\n",
    "for znamka_predmet in school_report:\n",
    "    predmet = znamka_predmet[0]\n",
    "    znamka = znamka_predmet[1]\n",
    "    if predmet in sledovane_predmety:\n",
    "        soucet += znamka\n",
    "\n",
    "print(f\" Průměr sledovaných předmětů je {soucet/len(sledovane_predmety)}.\")"
   ]
  }
 ],
 "metadata": {
  "kernelspec": {
   "display_name": "Python 3",
   "language": "python",
   "name": "python3"
  },
  "language_info": {
   "codemirror_mode": {
    "name": "ipython",
    "version": 3
   },
   "file_extension": ".py",
   "mimetype": "text/x-python",
   "name": "python",
   "nbconvert_exporter": "python",
   "pygments_lexer": "ipython3",
   "version": "3.11.3"
  }
 },
 "nbformat": 4,
 "nbformat_minor": 2
}
