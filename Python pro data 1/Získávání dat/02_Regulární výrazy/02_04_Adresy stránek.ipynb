{
 "cells": [
  {
   "cell_type": "markdown",
   "metadata": {},
   "source": [
    "# Adresy stránek\n",
    "\n",
    "Adresy webových stránek zpravidla začínají záhadným shlukem písmen http:// nebo https://. Například náš web najdete pod adresou https://kodim.cz. Zkrátka HTTP nebo HTTPS je ve skutečnosti označení protokolu, což je nějaký popis toho, jak by měla vypadat komunikace mezi dvěma zařízeními. Standardního tvaru můžeme využít, abychom z textu vytáhli všechny adresy. Napiš program, který z proměnné email_s_radami vytáhne všechny webové stránky, které jsou tam zmíněny."
   ]
  },
  {
   "cell_type": "code",
   "execution_count": 1,
   "metadata": {},
   "outputs": [],
   "source": [
    "email_s_radami = \"\"\"\n",
    "Ahoj,\n",
    "posílám ti pár tipů, kam se podívat. https://realpython.com nabízí spoustu článků i kurzů. http://docs.python.org nabízí tutoriál i rozsáhlou dokumentaci. http://www.learnpython.org nabízí hezky strukturovaný kurz pro začátečníky, rozebírá ale i nějaká pokročilejší témata. https://www.pluralsight.com je placený web, který ale kvalitou kurzů víceméně nemá konkurenci. Určitě ale sleduj i web https://www.czechitas.cz a přihlašuj se na naše kurzy!\n",
    "\"\"\""
   ]
  },
  {
   "cell_type": "code",
   "execution_count": 2,
   "metadata": {},
   "outputs": [
    {
     "name": "stdout",
     "output_type": "stream",
     "text": [
      "https://realpython.com\n",
      "http://docs.python.org\n",
      "http://www.learnpython.org\n",
      "https://www.pluralsight.com\n",
      "https://www.czechitas.cz\n"
     ]
    }
   ],
   "source": [
    "import re\n",
    "\n",
    "regularni_vyraz = r\"(https?://[A-Za-z0-9.]+)\"\n",
    "web = re.findall(regularni_vyraz, email_s_radami)\n",
    "\n",
    "for one in web:\n",
    "    print(one)"
   ]
  },
  {
   "cell_type": "code",
   "execution_count": 4,
   "metadata": {},
   "outputs": [
    {
     "name": "stdout",
     "output_type": "stream",
     "text": [
      "https://realpython.com\n",
      "http://docs.python.org\n",
      "http://www.learnpython.org\n",
      "https://www.pluralsight.com\n",
      "https://www.czechitas.cz\n"
     ]
    }
   ],
   "source": [
    "import re\n",
    "\n",
    "regularni_vyraz = re.compile(r\"(https?://[A-Za-z0-9.]+)\")\n",
    "hledani = regularni_vyraz.findall(email_s_radami)\n",
    "\n",
    "for one in hledani:\n",
    "    print(one)"
   ]
  },
  {
   "cell_type": "markdown",
   "metadata": {},
   "source": [
    "re.findall(reguární výraz, string ve kterém hledám)\n",
    "\n",
    "projde string zleva do prava a vypíše vše, co odpovídá danému regexu"
   ]
  },
  {
   "cell_type": "markdown",
   "metadata": {},
   "source": []
  }
 ],
 "metadata": {
  "kernelspec": {
   "display_name": "Python 3",
   "language": "python",
   "name": "python3"
  },
  "language_info": {
   "codemirror_mode": {
    "name": "ipython",
    "version": 3
   },
   "file_extension": ".py",
   "mimetype": "text/x-python",
   "name": "python",
   "nbconvert_exporter": "python",
   "pygments_lexer": "ipython3",
   "version": "3.11.3"
  }
 },
 "nbformat": 4,
 "nbformat_minor": 2
}
