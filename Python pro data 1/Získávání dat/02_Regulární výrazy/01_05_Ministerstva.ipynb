{
 "cells": [
  {
   "cell_type": "markdown",
   "metadata": {},
   "source": [
    "# Ministerstva\n",
    "\n",
    "Napiš regulární výraz, který z následujícího řádku vybere celé názvy ministerstev."
   ]
  },
  {
   "cell_type": "markdown",
   "metadata": {},
   "source": [
    "### Řešení"
   ]
  },
  {
   "cell_type": "markdown",
   "metadata": {},
   "source": [
    "Ministerstvo.{1,}"
   ]
  },
  {
   "cell_type": "markdown",
   "metadata": {},
   "source": [
    "viz.: https://regex101.com/r/y7hpZN/1"
   ]
  },
  {
   "cell_type": "code",
   "execution_count": 14,
   "metadata": {},
   "outputs": [
    {
     "name": "stdout",
     "output_type": "stream",
     "text": [
      "Ministerstvo pro místní rozvoj\n",
      "Ministerstvo životního prostředí\n",
      "Ministerstvo práce a sociálních věcí\n"
     ]
    }
   ],
   "source": [
    "import re\n",
    "\n",
    "text = [\"Ministerstvo pro místní rozvoj\", \"Celní správa České republiky\", \"Ministerstvo životního prostředí\", \"Ministerstvo práce a sociálních věcí\", \"Český statistický úřad\", \"Nejvyšší kontrolní úřad\"]\n",
    "\n",
    "regular_string = re.compile(r'Ministerstvo')\n",
    "\n",
    "for line in text:\n",
    "    if re.search('Ministerstvo', line):\n",
    "        print(line)"
   ]
  }
 ],
 "metadata": {
  "kernelspec": {
   "display_name": "Python 3",
   "language": "python",
   "name": "python3"
  },
  "language_info": {
   "codemirror_mode": {
    "name": "ipython",
    "version": 3
   },
   "file_extension": ".py",
   "mimetype": "text/x-python",
   "name": "python",
   "nbconvert_exporter": "python",
   "pygments_lexer": "ipython3",
   "version": "3.11.3"
  }
 },
 "nbformat": 4,
 "nbformat_minor": 2
}
