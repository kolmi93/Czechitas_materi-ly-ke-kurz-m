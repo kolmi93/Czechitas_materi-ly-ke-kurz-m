{
 "cells": [
  {
   "cell_type": "markdown",
   "metadata": {},
   "source": [
    "# IP adresy\n",
    "\n",
    "Počítačové sítě jsou ve skutečnosti postavené na číselných adresách, které jsou označeny jako IP adresy. Každá IP adresy je čtveřice čísel v rozsahu 0 až 255, které jsou odděleny tečkou. Například IP adresy webu Czechitas v internetu je 51.68.166.161. My ale pro zjednodušení budeme kontrolovat pouze to, zda je číslo v rozsahu 0 až 299.\n",
    "\n",
    "Uvažuj, že vytváříš aplikaci, která pošle testovací zprávu (tzv. ping) počítači s nějaou IP adresou. Napiš program, která požádá uživatele o IP adresu a zkontroluj, zda je adresa platná. Např. adresa 325.125.100.128 není platná (první číslo je větší než 255), adresa 152.145.146 také není platá (jde o trojici čísel, nikoli čtveřici), adresa 192.168.1.0 je platná (čtveřice čísel v daném rozsahu)."
   ]
  },
  {
   "cell_type": "markdown",
   "metadata": {},
   "source": [
    "### Řešení"
   ]
  },
  {
   "cell_type": "code",
   "execution_count": 5,
   "metadata": {},
   "outputs": [
    {
     "name": "stdout",
     "output_type": "stream",
     "text": [
      "Vámi zadaná IP adresa není platná.\n"
     ]
    }
   ],
   "source": [
    "import re\n",
    "\n",
    "ip_adresa = input('Napiš mi IP adresu:\\n')\n",
    "\n",
    "regular_expression = re.compile(r'([12]?[0-9]{1,2})(\\.([12]?[0-9]{1,2})){3}')\n",
    "\n",
    "if regular_expression.fullmatch(ip_adresa):\n",
    "    print('Vámi zadaná IP adresa je platná.')\n",
    "else:\n",
    "    print('Vámi zadaná IP adresa není platná.')\n"
   ]
  }
 ],
 "metadata": {
  "kernelspec": {
   "display_name": "Python 3",
   "language": "python",
   "name": "python3"
  },
  "language_info": {
   "codemirror_mode": {
    "name": "ipython",
    "version": 3
   },
   "file_extension": ".py",
   "mimetype": "text/x-python",
   "name": "python",
   "nbconvert_exporter": "python",
   "pygments_lexer": "ipython3",
   "version": "3.11.3"
  }
 },
 "nbformat": 4,
 "nbformat_minor": 2
}
