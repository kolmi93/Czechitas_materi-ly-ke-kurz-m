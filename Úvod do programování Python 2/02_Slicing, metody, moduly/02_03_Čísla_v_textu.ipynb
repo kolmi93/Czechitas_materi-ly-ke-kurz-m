{
 "cells": [
  {
   "cell_type": "markdown",
   "metadata": {},
   "source": [
    "# Čísla v text\n",
    "\n",
    "#### Máme obdobné zadání jako v předchozím cvičení, avšak tentokrát máme čísla zadána nikoliv v seznamu, ale v řetězci oddělená mezerou:"
   ]
  },
  {
   "cell_type": "code",
   "execution_count": 2,
   "metadata": {},
   "outputs": [],
   "source": [
    "hodnoty = '12.1 1.68 7.45 -11.51'"
   ]
  },
  {
   "cell_type": "markdown",
   "metadata": {},
   "source": [
    "#### K poslednímu číslu v seznamu chceme přičíst 0.25 tak, aby výsledek vypadal takto\n",
    "\n",
    "#### hodnoty = '12.1 1.68 7.45 -11.26'\n",
    "\n",
    "#### Určitě se vám budou hodit metody split a join."
   ]
  },
  {
   "cell_type": "markdown",
   "metadata": {},
   "source": [
    "### Řešení"
   ]
  },
  {
   "cell_type": "code",
   "execution_count": 3,
   "metadata": {},
   "outputs": [
    {
     "name": "stdout",
     "output_type": "stream",
     "text": [
      "12.1 1.68 7.45 -11.26\n"
     ]
    }
   ],
   "source": [
    "hodnota = '12.1 1.68 7.45 -11.51'\n",
    "\n",
    "cisla = hodnota.split()\n",
    "# print(cisla)\n",
    "\n",
    "nove = float(cisla[-1]) + 0.25\n",
    "cisla[-1] = str(nove)\n",
    "# print(cisla)\n",
    "\n",
    "hodnota = ' '.join(cisla)\n",
    "print(hodnota)"
   ]
  }
 ],
 "metadata": {
  "kernelspec": {
   "display_name": "Python 3",
   "language": "python",
   "name": "python3"
  },
  "language_info": {
   "codemirror_mode": {
    "name": "ipython",
    "version": 3
   },
   "file_extension": ".py",
   "mimetype": "text/x-python",
   "name": "python",
   "nbconvert_exporter": "python",
   "pygments_lexer": "ipython3",
   "version": "3.11.3"
  }
 },
 "nbformat": 4,
 "nbformat_minor": 2
}
