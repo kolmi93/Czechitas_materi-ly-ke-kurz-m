{
 "cells": [
  {
   "cell_type": "markdown",
   "metadata": {},
   "source": [
    "# Nápravy\n",
    "\n",
    "#### Náprava je část vozidla, která spojuje kola s karosérií vozidla. U nákladních vozidel ho můžeme chápat jako počet \"dvojic kol\". Počet náprav je důležitý napříkad kvůli maximální povolené hmotnosti vozidla.\n",
    "\n",
    "#### Uvažuj limity pro maximální hmotnost nákladního vozidla, které jsou v tabulce níže.\n",
    "\n",
    "2 18\n",
    "3 25\n",
    "4 32\n",
    "5 48\n",
    "\n",
    "#### Pokud je limit překročen, platí provozovatel pokutu 1000 Kč za každou tunu, o které je vozidlo těžší. Například pokud má vozidlo 4 nápravy a hmotnost 34 tun, platí provozovatel pokutu 2000 Kč. Napiš funkci spocitej_pokutu(), která bude mít dva parametry - pocet_naprav (počet náprav vozidla) a hmotnost (hmotnost vozidla v tunách). Funkce na základě těchto parametrů vypočte výpiš pokuty a vráti ji jako celé číslo."
   ]
  },
  {
   "cell_type": "markdown",
   "metadata": {},
   "source": [
    "limity:\n",
    "2: 18,\n",
    "3: 25,\n",
    "4: 32,\n",
    "5: 48"
   ]
  },
  {
   "cell_type": "markdown",
   "metadata": {},
   "source": [
    "#### Dále uvažuj následující dvourozměrný seznam, kde na prvním místě vnořeného seznamu je počet náprav vozidla a na druhém místě je zjištěná hmotnost."
   ]
  },
  {
   "cell_type": "code",
   "execution_count": 2,
   "metadata": {},
   "outputs": [],
   "source": [
    "vazeni = [\n",
    "    [4, 33],\n",
    "    [2, 19],\n",
    "    [3, 29],\n",
    "    [3, 27],\n",
    "    [5, 53],\n",
    "    [5, 51],\n",
    "    [2, 20],\n",
    "]"
   ]
  },
  {
   "cell_type": "markdown",
   "metadata": {},
   "source": [
    "#### Projdi seznam pomocí cyklu a pro každé vážení urči (s využitím funkce spocitej_pokutu()) výši pokuty. Spočítej celkovou výši pokut za všechna vážení."
   ]
  },
  {
   "cell_type": "markdown",
   "metadata": {},
   "source": [
    "### Řešení"
   ]
  },
  {
   "cell_type": "code",
   "execution_count": 3,
   "metadata": {},
   "outputs": [
    {
     "name": "stdout",
     "output_type": "stream",
     "text": [
      "Pokuta činí: 2000,- Kč.\n"
     ]
    }
   ],
   "source": [
    "def spocitej_pokutu (pocet_naprav, hmotnost):\n",
    "    if pocet_naprav == 2:\n",
    "        max_hmotnost = 18\n",
    "    elif pocet_naprav == 3:\n",
    "        max_hmotnost = 25\n",
    "    elif pocet_naprav == 4:\n",
    "        max_hmotnost = 32\n",
    "    elif pocet_naprav == 5:\n",
    "        max_hmotnost = 48\n",
    "    \n",
    "    pokuta = (hmotnost - max_hmotnost) * 1000\n",
    "    print(f'Pokuta činí: {pokuta},- Kč.') # 2000\n",
    "\n",
    "spocitej_pokutu(4, 34)"
   ]
  },
  {
   "cell_type": "code",
   "execution_count": 4,
   "metadata": {},
   "outputs": [
    {
     "name": "stdout",
     "output_type": "stream",
     "text": [
      "Pokuta činí: 1000,- Kč.\n",
      "Pokuta činí: 1000,- Kč.\n",
      "Pokuta činí: 4000,- Kč.\n",
      "Pokuta činí: 2000,- Kč.\n",
      "Pokuta činí: 5000,- Kč.\n",
      "Pokuta činí: 3000,- Kč.\n",
      "Pokuta činí: 2000,- Kč.\n"
     ]
    }
   ],
   "source": [
    "for auto in vazeni:\n",
    "    spocitej_pokutu(auto[0], auto[1])"
   ]
  }
 ],
 "metadata": {
  "kernelspec": {
   "display_name": "Python 3",
   "language": "python",
   "name": "python3"
  },
  "language_info": {
   "codemirror_mode": {
    "name": "ipython",
    "version": 3
   },
   "file_extension": ".py",
   "mimetype": "text/x-python",
   "name": "python",
   "nbconvert_exporter": "python",
   "pygments_lexer": "ipython3",
   "version": "3.11.3"
  }
 },
 "nbformat": 4,
 "nbformat_minor": 2
}
