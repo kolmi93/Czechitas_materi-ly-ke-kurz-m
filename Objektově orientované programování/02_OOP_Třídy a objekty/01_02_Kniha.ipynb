{
 "cells": [
  {
   "cell_type": "markdown",
   "metadata": {},
   "source": [
    "# Kniha\n",
    "\n",
    "#### Zkus pro nakladatelství vytvořit software s využitím tříd a objektů. Vytvoř tedy třídu Book, která reprezentuje knihu. Každá kniha bude mít atributy title, pages a price. Hodnoty nastav ve funkci __init__.\n",
    "\n",
    "- Přidej knize funkci get_info(), která vypíše informace o knize v nějakém pěkném formátu.\n",
    "- Přidej metodu get_time_to_read(). Metoda vrátí čas potřebný na přečtení knihy v hodinách. S využitím atributu pages vypočítej čas na přečtení knihy. Metoda bude mít nepovinný parametr, který udává počet minut potřebných pro přečtení jedné stránky knihy. Dobu potřebnou na přečtení knihy získáš jako násobek doby potřebné na přečtení jedné stránky knihy a počet stránek knihy. Výchozí hodnota nepovinného parametru je 4."
   ]
  },
  {
   "cell_type": "markdown",
   "metadata": {},
   "source": [
    "### Řešení"
   ]
  },
  {
   "cell_type": "code",
   "execution_count": 6,
   "metadata": {},
   "outputs": [
    {
     "name": "stdout",
     "output_type": "stream",
     "text": [
      "Kniha Saturnin má 365 stran a stojí 400,- Kč.\n",
      "Knihu Saturnin trvá přečíst 24 hodin.\n",
      "Kniha Harry Potter a kámen mudrců má 275 stran a stojí 300,- Kč.\n",
      "Knihu Harry Potter a kámen mudrců trvá přečíst 18 hodin.\n"
     ]
    }
   ],
   "source": [
    "class Book:\n",
    "    def __init__(self, title, pages, price):\n",
    "        self.title = title\n",
    "        self.pages = pages\n",
    "        self.price = price\n",
    "    \n",
    "    def get_info(self):\n",
    "        return f'Kniha {self.title} má {self.pages} stran a stojí {self.price},- Kč.'\n",
    "\n",
    "    def get_time_to_read(self, minutes_per_pages = 4):\n",
    "        time_to_read = (minutes_per_pages * self.pages) / 60\n",
    "        return f'Knihu {self.title} trvá přečíst {round(time_to_read)} hodin.'\n",
    "\n",
    "book_01 = Book('Saturnin', 365, 400)\n",
    "book_02 = Book('Harry Potter a kámen mudrců', 275, 300)\n",
    "\n",
    "print(book_01.get_info())\n",
    "print(book_01.get_time_to_read())\n",
    "print(book_02.get_info())\n",
    "print(book_02.get_time_to_read())"
   ]
  }
 ],
 "metadata": {
  "kernelspec": {
   "display_name": "Python 3",
   "language": "python",
   "name": "python3"
  },
  "language_info": {
   "codemirror_mode": {
    "name": "ipython",
    "version": 3
   },
   "file_extension": ".py",
   "mimetype": "text/x-python",
   "name": "python",
   "nbconvert_exporter": "python",
   "pygments_lexer": "ipython3",
   "version": "3.11.3"
  }
 },
 "nbformat": 4,
 "nbformat_minor": 2
}
