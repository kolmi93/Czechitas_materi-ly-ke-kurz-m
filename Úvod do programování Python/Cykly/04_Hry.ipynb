{
 "cells": [
  {
   "cell_type": "markdown",
   "metadata": {},
   "source": [
    "# Hry\n",
    "\n",
    "Následující seznam obsahuje seznam všech divadelních her, které se hrají v divadle Pěst na oko. Každá hra má svůj název a trvání v minutách."
   ]
  },
  {
   "cell_type": "code",
   "execution_count": 2,
   "metadata": {},
   "outputs": [],
   "source": [
    "hry = [\n",
    "    [\"Ňadro na ňadru na nádru\", 180],\n",
    "    [\"Útok plyšových krokodýlů\", 95],\n",
    "    [\"Cesta do říše zelí\", 128],\n",
    "    [\"Romance na zdymadle\", 144],\n",
    "    [\"Zátiší s mimozemšťanem\", 135],\n",
    "    [\"Čtyři facky a dortík\", 100],\n",
    "    [\"Motorová okurka\", 165],\n",
    "    [\"Johnny Noir\", 140],\n",
    "    [\"Pražská kavárna vrací úder\", 130],\n",
    "    [\"Pět sester ve vratech\", 111],\n",
    "    [\"Stařec a krajta\", 187],\n",
    "    [\"Růžová nemoc\", 210],\n",
    "    [\"Smrt v přímém přenosu\", 265],\n",
    "]"
   ]
  },
  {
   "cell_type": "markdown",
   "metadata": {},
   "source": [
    "1. Pomocí cyklu projděte tento seznam a vypište na výstup názvy všech her.\n",
    "2. Vypište na výstup názvy všech her, které trvají více než 120 minut.\n",
    "3. Vypište na výstup názvy všech her spolu s jejich trváním v hodinách a minutách."
   ]
  },
  {
   "cell_type": "markdown",
   "metadata": {},
   "source": [
    "### Řešení"
   ]
  },
  {
   "cell_type": "code",
   "execution_count": 3,
   "metadata": {},
   "outputs": [
    {
     "name": "stdout",
     "output_type": "stream",
     "text": [
      "Ňadro na ňadru na nádru\n",
      "Útok plyšových krokodýlů\n",
      "Cesta do říše zelí\n",
      "Romance na zdymadle\n",
      "Zátiší s mimozemšťanem\n",
      "Čtyři facky a dortík\n",
      "Motorová okurka\n",
      "Johnny Noir\n",
      "Pražská kavárna vrací úder\n",
      "Pět sester ve vratech\n",
      "Stařec a krajta\n",
      "Růžová nemoc\n",
      "Smrt v přímém přenosu\n"
     ]
    }
   ],
   "source": [
    "for hra in hry:\n",
    "    nazev = hra[0]\n",
    "    print(nazev)"
   ]
  },
  {
   "cell_type": "code",
   "execution_count": 4,
   "metadata": {},
   "outputs": [
    {
     "name": "stdout",
     "output_type": "stream",
     "text": [
      "Ňadro na ňadru na nádru\n",
      "Cesta do říše zelí\n",
      "Romance na zdymadle\n",
      "Zátiší s mimozemšťanem\n",
      "Motorová okurka\n",
      "Johnny Noir\n",
      "Pražská kavárna vrací úder\n",
      "Stařec a krajta\n",
      "Růžová nemoc\n",
      "Smrt v přímém přenosu\n"
     ]
    }
   ],
   "source": [
    "for hra in hry:\n",
    "    if hra[1] > 120:\n",
    "        print(hra[0])"
   ]
  },
  {
   "cell_type": "code",
   "execution_count": 5,
   "metadata": {},
   "outputs": [
    {
     "name": "stdout",
     "output_type": "stream",
     "text": [
      "Hra Ňadro na ňadru na nádru trvá 3 hodin a 0 minut.\n",
      "Hra Útok plyšových krokodýlů trvá 1 hodin a 35 minut.\n",
      "Hra Cesta do říše zelí trvá 2 hodin a 8 minut.\n",
      "Hra Romance na zdymadle trvá 2 hodin a 24 minut.\n",
      "Hra Zátiší s mimozemšťanem trvá 2 hodin a 15 minut.\n",
      "Hra Čtyři facky a dortík trvá 1 hodin a 40 minut.\n",
      "Hra Motorová okurka trvá 2 hodin a 45 minut.\n",
      "Hra Johnny Noir trvá 2 hodin a 20 minut.\n",
      "Hra Pražská kavárna vrací úder trvá 2 hodin a 10 minut.\n",
      "Hra Pět sester ve vratech trvá 1 hodin a 51 minut.\n",
      "Hra Stařec a krajta trvá 3 hodin a 7 minut.\n",
      "Hra Růžová nemoc trvá 3 hodin a 30 minut.\n",
      "Hra Smrt v přímém přenosu trvá 4 hodin a 25 minut.\n"
     ]
    }
   ],
   "source": [
    "for hra in hry:\n",
    "    print(f'Hra {hra[0]} trvá {hra[1] // 60} hodin a {hra[1] % 60} minut.')"
   ]
  }
 ],
 "metadata": {
  "kernelspec": {
   "display_name": "Python 3",
   "language": "python",
   "name": "python3"
  },
  "language_info": {
   "codemirror_mode": {
    "name": "ipython",
    "version": 3
   },
   "file_extension": ".py",
   "mimetype": "text/x-python",
   "name": "python",
   "nbconvert_exporter": "python",
   "pygments_lexer": "ipython3",
   "version": "3.11.3"
  }
 },
 "nbformat": 4,
 "nbformat_minor": 2
}
