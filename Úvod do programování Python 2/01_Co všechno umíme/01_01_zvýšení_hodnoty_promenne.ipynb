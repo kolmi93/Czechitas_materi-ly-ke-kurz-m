{
 "cells": [
  {
   "cell_type": "markdown",
   "metadata": {},
   "source": [
    "# Zvýšení hodnoty proměnné\n",
    "\n",
    "#### Vlož si následující kód do editoru a splň úkol v komentáři.\n",
    "\n",
    "\n",
    "cislo = 100\n",
    "print(cislo)\n",
    "\n",
    "#Sem přidej kód, který proměnnou cislo zvýší o 1\n",
    "\n",
    "\n",
    "print(cislo)  # Vypíše 101"
   ]
  },
  {
   "cell_type": "markdown",
   "metadata": {},
   "source": [
    "### Řešení"
   ]
  },
  {
   "cell_type": "markdown",
   "metadata": {},
   "source": [
    "##### varianta A"
   ]
  },
  {
   "cell_type": "code",
   "execution_count": 4,
   "metadata": {},
   "outputs": [
    {
     "name": "stdout",
     "output_type": "stream",
     "text": [
      "100\n",
      "101\n"
     ]
    }
   ],
   "source": [
    "cislo = 100\n",
    "print(cislo)\n",
    "\n",
    "cislo += 1\n",
    "print(cislo)"
   ]
  },
  {
   "cell_type": "markdown",
   "metadata": {},
   "source": [
    "- += s kódem to udělá to samé, jako kdybych se napsala variantu B\n",
    "- jen je to rychlejší, přehlednější\n",
    "- stejným způsobem jde používat i -="
   ]
  },
  {
   "cell_type": "markdown",
   "metadata": {},
   "source": [
    "##### varianta B"
   ]
  },
  {
   "cell_type": "code",
   "execution_count": 5,
   "metadata": {},
   "outputs": [
    {
     "name": "stdout",
     "output_type": "stream",
     "text": [
      "100\n",
      "101\n"
     ]
    }
   ],
   "source": [
    "cislo = 100\n",
    "print(cislo)\n",
    "\n",
    "cislo = cislo + 1\n",
    "print(cislo)"
   ]
  }
 ],
 "metadata": {
  "kernelspec": {
   "display_name": "Python 3",
   "language": "python",
   "name": "python3"
  },
  "language_info": {
   "codemirror_mode": {
    "name": "ipython",
    "version": 3
   },
   "file_extension": ".py",
   "mimetype": "text/x-python",
   "name": "python",
   "nbconvert_exporter": "python",
   "pygments_lexer": "ipython3",
   "version": "3.11.3"
  }
 },
 "nbformat": 4,
 "nbformat_minor": 2
}
