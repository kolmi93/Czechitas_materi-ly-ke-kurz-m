{
 "cells": [
  {
   "cell_type": "markdown",
   "metadata": {},
   "source": [
    "# Antikvariát\n",
    "\n",
    "Antikvariát Poslední strana nabízí veškeré své tituly za 50 kč.\n",
    "\n",
    " - Uložte název antikvariátu do libovolné proměnné.\n",
    " - Cenu za jeden titul uložte do proměnné cena_za_kus.\n",
    " - Antikvariát má dnes speciální akci, -30% na všechny dostupné tituly! Slevu uložte do proměnné sleva jako desetinné číslo.\n",
    " - Znovu vypočtěte cenu za kus na základě této slevy."
   ]
  },
  {
   "cell_type": "markdown",
   "metadata": {},
   "source": [
    "### Řešení"
   ]
  },
  {
   "cell_type": "code",
   "execution_count": 2,
   "metadata": {},
   "outputs": [
    {
     "name": "stdout",
     "output_type": "stream",
     "text": [
      "15.0\n"
     ]
    }
   ],
   "source": [
    "nazev = 'Antkvariát Poslední strana'\n",
    "cena_za_kus = 50\n",
    "sleva = 0.3\n",
    "nova_po_sleve = cena_za_kus * sleva\n",
    "\n",
    "print(nova_po_sleve)"
   ]
  }
 ],
 "metadata": {
  "kernelspec": {
   "display_name": "Python 3",
   "language": "python",
   "name": "python3"
  },
  "language_info": {
   "codemirror_mode": {
    "name": "ipython",
    "version": 3
   },
   "file_extension": ".py",
   "mimetype": "text/x-python",
   "name": "python",
   "nbconvert_exporter": "python",
   "pygments_lexer": "ipython3",
   "version": "3.11.3"
  }
 },
 "nbformat": 4,
 "nbformat_minor": 2
}
