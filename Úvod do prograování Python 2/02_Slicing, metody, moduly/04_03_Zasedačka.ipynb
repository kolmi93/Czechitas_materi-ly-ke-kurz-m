{
 "cells": [
  {
   "cell_type": "markdown",
   "metadata": {},
   "source": [
    "# Zasedačka\n",
    "\n",
    "#### Níže máš seznam akcí, které se konaly v zasedačce jedné firmy."
   ]
  },
  {
   "cell_type": "code",
   "execution_count": 2,
   "metadata": {},
   "outputs": [],
   "source": [
    "akce = [\n",
    "    \"školení - řízení firemních vozidel\",\n",
    "    \"jazykový kurz - angličtina\",\n",
    "    \"pohovor - Jan Dvořák\",\n",
    "    \"pohovor - Antonín Sova\",\n",
    "    \"jazykový kurz - němčina\",\n",
    "    \"pohovor - Iveta Hájková\",\n",
    "    \"pohovor - Ivan Brož\",\n",
    "    \"pohovor - Katarína Martináková\",\n",
    "    \"setkání se zákazníkem - Metrostav\",\n",
    "    \"jazykový kurz - angličtina\",\n",
    "    \"školení - vykazování práce\",\n",
    "    \"pohovor - Klaudie Moudrusová\",\n",
    "]"
   ]
  },
  {
   "cell_type": "markdown",
   "metadata": {},
   "source": [
    "#### Napiš program, který zjistí následující:\n",
    "\n",
    "- Kolik se uskutečnilo pohovorů?\n",
    "- V jakých jazycích se mohou zaměstnanci firmy vzdělávat?\n",
    "- Při řešení můžeš využít operátor in a slicing, případně metodu split()"
   ]
  },
  {
   "cell_type": "markdown",
   "metadata": {},
   "source": [
    "### Řešení"
   ]
  },
  {
   "cell_type": "markdown",
   "metadata": {},
   "source": [
    "počet pohovorů"
   ]
  },
  {
   "cell_type": "code",
   "execution_count": 3,
   "metadata": {},
   "outputs": [
    {
     "name": "stdout",
     "output_type": "stream",
     "text": [
      "6\n"
     ]
    }
   ],
   "source": [
    "pocet_pohovoru = 0\n",
    "\n",
    "for jeden in akce:\n",
    "    if 'pohovor' in jeden:\n",
    "        pocet_pohovoru += 1\n",
    "\n",
    "print(pocet_pohovoru)"
   ]
  },
  {
   "cell_type": "markdown",
   "metadata": {},
   "source": [
    "jazyky"
   ]
  },
  {
   "cell_type": "code",
   "execution_count": 5,
   "metadata": {},
   "outputs": [
    {
     "name": "stdout",
     "output_type": "stream",
     "text": [
      "['angličtina', 'němčina']\n"
     ]
    }
   ],
   "source": [
    "jazyky = []\n",
    "\n",
    "for one in akce:\n",
    "    aktivita, popis = one.split(' - ')\n",
    "    if 'jazykový kurz' in aktivita and popis not in jazyky:\n",
    "        jazyky.append(popis)\n",
    "\n",
    "print(jazyky)\n"
   ]
  }
 ],
 "metadata": {
  "kernelspec": {
   "display_name": "Python 3",
   "language": "python",
   "name": "python3"
  },
  "language_info": {
   "codemirror_mode": {
    "name": "ipython",
    "version": 3
   },
   "file_extension": ".py",
   "mimetype": "text/x-python",
   "name": "python",
   "nbconvert_exporter": "python",
   "pygments_lexer": "ipython3",
   "version": "3.11.3"
  }
 },
 "nbformat": 4,
 "nbformat_minor": 2
}
