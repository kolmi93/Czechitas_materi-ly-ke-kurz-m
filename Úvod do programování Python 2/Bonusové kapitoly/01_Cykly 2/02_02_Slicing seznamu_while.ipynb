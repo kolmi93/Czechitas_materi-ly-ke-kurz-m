{
 "cells": [
  {
   "cell_type": "markdown",
   "metadata": {},
   "source": [
    "# Slicing seznamu\n",
    "\n",
    "Vlož si do programu následující kus kódu:"
   ]
  },
  {
   "cell_type": "code",
   "execution_count": null,
   "metadata": {},
   "outputs": [],
   "source": [
    "seznam = [49, 38, 18, 82, 85, 60, 94, 21, 20, 14, 37,\n",
    "          80, 13, 66, 41, 68, 82, 88, 41, 52, 28, 35, 55]\n",
    "\n",
    "delka = 5"
   ]
  },
  {
   "cell_type": "markdown",
   "metadata": {},
   "source": [
    "Napiš řešení, které bude ze seznamu krájet a vypisovat kusy o délce v proměnné delka. Nevadí, pokud poslední seznam se zbytkem čísel bude menší. Řešení musí fungovat tak, že pouze změníš proměnnou delka a zbytek programu zůstane stejný."
   ]
  },
  {
   "cell_type": "markdown",
   "metadata": {},
   "source": [
    "### Řešení"
   ]
  },
  {
   "cell_type": "code",
   "execution_count": 7,
   "metadata": {},
   "outputs": [
    {
     "name": "stdout",
     "output_type": "stream",
     "text": [
      "[49, 38, 18, 82, 85]\n",
      "[60, 94, 21, 20, 14]\n",
      "[37, 80, 13, 66, 41]\n",
      "[68, 82, 88, 41, 52]\n",
      "[28, 35, 55]\n"
     ]
    }
   ],
   "source": [
    "seznam = [49, 38, 18, 82, 85, 60, 94, 21, 20, 14, 37,\n",
    "          80, 13, 66, 41, 68, 82, 88, 41, 52, 28, 35, 55]\n",
    "\n",
    "delka = 5\n",
    "\n",
    "while True:\n",
    "    kus_seznamu = seznam[:delka]\n",
    "    print(kus_seznamu)\n",
    "    seznam = seznam[delka:]\n",
    "    if not seznam:\n",
    "        break"
   ]
  }
 ],
 "metadata": {
  "kernelspec": {
   "display_name": "Python 3",
   "language": "python",
   "name": "python3"
  },
  "language_info": {
   "codemirror_mode": {
    "name": "ipython",
    "version": 3
   },
   "file_extension": ".py",
   "mimetype": "text/x-python",
   "name": "python",
   "nbconvert_exporter": "python",
   "pygments_lexer": "ipython3",
   "version": "3.11.3"
  }
 },
 "nbformat": 4,
 "nbformat_minor": 2
}
