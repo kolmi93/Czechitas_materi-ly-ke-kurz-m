{
 "cells": [
  {
   "cell_type": "markdown",
   "metadata": {},
   "source": [
    "# Prvočíslo\n",
    "\n",
    "Požádej uživatele o zadání celého čísla. Následně urči, zda je toto číslo prvočíslo.\n",
    "\n",
    "Prvočíslo je číslo, které je dělitelné beze zbytku pouze 2 čísly - 1 a sebou samotným.\n",
    "\n",
    " - Například 5 je prvočíslo, protože je dělitelná pouze 1 a 5.\n",
    " - Naopak 4 není prvočíslo, protože je dělitelná 1, 2 a 4."
   ]
  },
  {
   "cell_type": "markdown",
   "metadata": {},
   "source": [
    "### Řešení"
   ]
  },
  {
   "cell_type": "code",
   "execution_count": 9,
   "metadata": {},
   "outputs": [
    {
     "name": "stdout",
     "output_type": "stream",
     "text": [
      "Vybrali jste číslo 6.\n",
      "Vámi vybrané číslo není prvočíslo.\n"
     ]
    }
   ],
   "source": [
    "def prime_number(number):\n",
    "    print(f'Vybrali jste číslo {number}.')\n",
    "    result = 'Vámi vybrané číslo je prvočíslo.'\n",
    "    for one in range(2, number):\n",
    "        if number % one == 0:\n",
    "            result = 'Vámi vybrané číslo není prvočíslo.'\n",
    "    print(result)\n",
    "\n",
    "number = int(input('Zadejte celé číslo, u kterého chcete zjistit, jestli se jedná o prvočíslo:\\n'))\n",
    "prime_number(number)\n"
   ]
  }
 ],
 "metadata": {
  "kernelspec": {
   "display_name": "Python 3",
   "language": "python",
   "name": "python3"
  },
  "language_info": {
   "codemirror_mode": {
    "name": "ipython",
    "version": 3
   },
   "file_extension": ".py",
   "mimetype": "text/x-python",
   "name": "python",
   "nbconvert_exporter": "python",
   "pygments_lexer": "ipython3",
   "version": "3.11.3"
  }
 },
 "nbformat": 4,
 "nbformat_minor": 2
}
