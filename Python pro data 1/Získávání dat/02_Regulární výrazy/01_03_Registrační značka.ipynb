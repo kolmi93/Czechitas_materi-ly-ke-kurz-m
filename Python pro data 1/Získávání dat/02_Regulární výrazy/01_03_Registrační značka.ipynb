{
 "cells": [
  {
   "cell_type": "markdown",
   "metadata": {},
   "source": [
    "# Registrační značka\n",
    "\n",
    "Standardní registrační značky automobilů, vydané od roku 2004, mají následující formát:\n",
    "\n",
    "- Na prvním místě je číslo.\n",
    "- Na druhém místě písmeno, které označuje kraj.\n",
    "- Na třetím místě je číslo nebo písmeno.\n",
    "- Na čtvrtém místě je mezera a následuje čtveřice čísel.\n",
    "- Napiš regulární výraz, který bude kontrolovat formát registrační značky. Ověřit si ho můžeš na následujících značkách, které mají správný formát.\n",
    "\n"
   ]
  },
  {
   "cell_type": "markdown",
   "metadata": {},
   "source": [
    "### Řešení"
   ]
  },
  {
   "cell_type": "markdown",
   "metadata": {},
   "source": [
    "[0-9]{1}[A-Z]{1}([0-9]{1}|[A-Z]{1}) {1}[0-9]{4}"
   ]
  },
  {
   "cell_type": "markdown",
   "metadata": {},
   "source": [
    "viz.: https://regex101.com/r/hwBfGf/1"
   ]
  }
 ],
 "metadata": {
  "language_info": {
   "name": "python"
  }
 },
 "nbformat": 4,
 "nbformat_minor": 2
}
