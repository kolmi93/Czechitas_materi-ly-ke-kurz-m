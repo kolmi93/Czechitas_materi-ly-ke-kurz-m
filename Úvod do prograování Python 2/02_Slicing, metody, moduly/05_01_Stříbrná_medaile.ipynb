{
 "cells": [
  {
   "cell_type": "markdown",
   "metadata": {},
   "source": [
    "# Stříbrná medaile\n",
    "\n",
    "#### Stříbrná medaile je sice úžasný úspěch, ale kdo by nechtěl vyhrát? Podívejme se, kolik chybělo stříbrnému běžci k vítězství.\n",
    "\n",
    "- Nejprve si vytvoř dvě proměnné, do kterých ulož čas vítěze a čas závodníka se stříbrnou medailí. Oba časy převeď na minuty a ulož jako číslo.\n",
    "- Vypočti rozdíl obou proměnných. Tím zjistíš, kolik minut chybělo stříbrnému závodníku k vítězství."
   ]
  },
  {
   "cell_type": "code",
   "execution_count": 1,
   "metadata": {},
   "outputs": [],
   "source": [
    "vysledky = [\n",
    "    [\"Brunner Radek\", [3, 0, 9]], \n",
    "    [\"Urban Jaroslav\", [3, 11, 44]], \n",
    "    [\"Andrle Jakub\", [3, 12, 21]], \n",
    "    [\"Fiala Stanislav\", [3, 13, 31]]\n",
    "]"
   ]
  },
  {
   "cell_type": "markdown",
   "metadata": {},
   "source": [
    "### Řešení"
   ]
  },
  {
   "cell_type": "code",
   "execution_count": 5,
   "metadata": {},
   "outputs": [
    {
     "name": "stdout",
     "output_type": "stream",
     "text": [
      "Druhému běžci chybělo 11.583 minut k tomu porazit vítěze.\n"
     ]
    }
   ],
   "source": [
    "vitezny_cas = vysledky[0][1]\n",
    "stribrny_cas = vysledky[1][1]\n",
    "\n",
    "v_min = vitezny_cas[0]*60 + vitezny_cas[1] + vitezny_cas[2]/60\n",
    "s_min = stribrny_cas[0]*60 + stribrny_cas[1]+ stribrny_cas[2]/60\n",
    "\n",
    "\n",
    "chybelo = s_min - v_min\n",
    "print(f'Druhému běžci chybělo {round(chybelo,3)} minut k tomu porazit vítěze.')"
   ]
  },
  {
   "cell_type": "markdown",
   "metadata": {},
   "source": [
    "napsáno úsporněji:"
   ]
  },
  {
   "cell_type": "code",
   "execution_count": 4,
   "metadata": {},
   "outputs": [
    {
     "name": "stdout",
     "output_type": "stream",
     "text": [
      "Druhému běžci chybělo 11.583 minut k tomu porazit vítěze.\n"
     ]
    }
   ],
   "source": [
    "vitezny_cas = vysledky[0][1][0] * 60 + vysledky[0][1][1] + vysledky[0][1][2] / 60\n",
    "stribrny_cas = vysledky[1][1][0] * 60 + vysledky[1][1][1] + vysledky[1][1][2] / 60\n",
    "\n",
    "\n",
    "chybelo = stribrny_cas - vitezny_cas\n",
    "print(f'Druhému běžci chybělo {round(chybelo, 3)} minut k tomu porazit vítěze.')"
   ]
  }
 ],
 "metadata": {
  "kernelspec": {
   "display_name": "Python 3",
   "language": "python",
   "name": "python3"
  },
  "language_info": {
   "codemirror_mode": {
    "name": "ipython",
    "version": 3
   },
   "file_extension": ".py",
   "mimetype": "text/x-python",
   "name": "python",
   "nbconvert_exporter": "python",
   "pygments_lexer": "ipython3",
   "version": "3.11.3"
  }
 },
 "nbformat": 4,
 "nbformat_minor": 2
}
