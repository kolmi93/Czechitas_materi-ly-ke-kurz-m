{
 "cells": [
  {
   "cell_type": "markdown",
   "metadata": {},
   "source": [
    "#  Narozeniny ve školce\n",
    "\n",
    "Toto pokročilé cvičení se úplně nedotýká formátu JSON, ale vyžaduje pokročilou práci se slovníky a hodně hledání na internetu.\n",
    "\n",
    "Paní ředitelka školky si exportovala z informačního systému seznam dětí, jejich zařazení do třídy a datum narození: kids.csv. Potřebuje vytvořit pro učitelky každé třídy výpis měsíců se seznamy dětí, které mají v tom měsíci narozeny. Výstupem budou textové soubory podle názvů tříd. Napište program univerzálně. Názvy tříd nejsou pevné, takže je získejte až ze samotných dat."
   ]
  },
  {
   "cell_type": "markdown",
   "metadata": {},
   "source": [
    "### Řešení"
   ]
  },
  {
   "cell_type": "code",
   "execution_count": 8,
   "metadata": {},
   "outputs": [
    {
     "name": "stdout",
     "output_type": "stream",
     "text": [
      "[['Benedikt Marek', 'žabičky', '18. 01. 2019'], ['Hubert Suchánek', 'koťátka', '17. 08. 2017'], ['Rudolf Doskočil', 'včeličky', '30. 12. 2016'], ['Nataša Králová', 'ježečci', '31. 03. 2015'], ['Květoslav Hanuš', 'včeličky', '22. 03. 2017'], ['Břetislav Jaroš', 'koťátka', '21. 01. 2020'], ['Slavomír Charvát', 'koťátka', '08. 01. 2020'], ['Kamil Přibyl', 'sovičky', '03. 07. 2017'], ['Miroslava Janková', 'ježečci', '04. 06. 2018'], ['Zdeněk Petr', 'koťátka', '23. 10. 2016'], ['Otakar Čížek', 'ježečci', '13. 03. 2018'], ['Valérie Vondráčková', 'sovičky', '16. 04. 2020'], ['Jiří Řehák', 'koťátka', '01. 05. 2017'], ['Irma Navrátilová', 'žabičky', '12. 11. 2018'], ['Marta Mrázková', 'včeličky', '04. 10. 2015'], ['Blažena Kohoutová', 'sovičky', '10. 12. 2016'], ['Judita Pavlíková', 'ježečci', '30. 04. 2015'], ['Libuše Vítová', 'ježečci', '11. 12. 2016'], ['Ida Tučková', 'sovičky', '04. 11. 2020'], ['Hana Blažková', 'včeličky', '13. 09. 2016'], ['Klement Řehák', 'sovičky', '01. 08. 2018'], ['Oldřich Ptáček', 'koťátka', '22. 09. 2020'], ['Valdemar Rýpal', 'koťátka', '05. 03. 2017'], ['Lukáš Doležal', 'sovičky', '14. 07. 2018'], ['Dominika Pavelková', 'žabičky', '03. 01. 2017'], ['Hugo Malík', 'žabičky', '02. 10. 2017'], ['Amálie Sýkorová', 'ježečci', '01. 03. 2016'], ['Oliver Beneš', 'ježečci', '16. 06. 2017'], ['Eva Procházková', 'včeličky', '06. 05. 2018'], ['Libor Macháček', 'sovičky', '02. 03. 2016'], ['Albína Drábková', 'ježečci', '02. 08. 2019'], ['Mikuláš Krejčí', 'koťátka', '05. 06. 2020'], ['Michaela Pavelková', 'sovičky', '30. 03. 2020'], ['Hedvika Beránková', 'sovičky', '22. 08. 2015'], ['Elena Tomanová', 'žabičky', '31. 12. 2020'], ['Ctirad Podlezl', 'sovičky', '29. 04. 2015'], ['Dita Burianová', 'koťátka', '13. 01. 2015'], ['Ljuba Svozilová', 'sovičky', '11. 10. 2020'], ['Albert Zdráhal', 'ježečci', '02. 08. 2020'], ['Berta Kolářová', 'žabičky', '24. 08. 2015'], ['Štěpán Holeček', 'žabičky', '26. 08. 2016'], ['Xenie Mikešová', 'ježečci', '11. 07. 2015'], ['David Kozák', 'koťátka', '20. 06. 2016'], ['Matylda Kocourková', 'ježečci', '09. 02. 2018'], ['Jindřich Mach', 'koťátka', '20. 05. 2018'], ['Stanislav Šimek', 'žabičky', '20. 05. 2020'], ['Lubomír Rýpal', 'žabičky', '05. 03. 2015'], ['Agáta Franková', 'koťátka', '27. 06. 2016'], ['Beáta Šulcová', 'ježečci', '20. 11. 2020'], ['Servác Hošek', 'koťátka', '01. 08. 2016'], ['Dobroslav Souček', 'koťátka', '17. 01. 2015'], ['Zbyšek Toman', 'koťátka', '26. 08. 2018'], ['Vlasta Staňková', 'sovičky', '10. 01. 2017'], ['Viktor Mašek', 'žabičky', '15. 05. 2017'], ['Svatava Beránková', 'sovičky', '08. 07. 2019'], ['Alice Kejsalová', 'žabičky', '22. 04. 2018'], ['Bohumír Němeček', 'ježečci', '07. 05. 2018'], ['Emanuel Šulc', 'koťátka', '13. 07. 2015'], ['Vladimír Povýšil', 'sovičky', '08. 10. 2016'], ['Marcela Burianová', 'ježečci', '31. 01. 2019'], ['Natálie Coufalová', 'sovičky', '03. 12. 2016'], ['Xenie Boháčová', 'koťátka', '08. 12. 2017'], ['Pravoslav Utěkal', 'sovičky', '12. 11. 2019'], ['Pravoslav Válek', 'včeličky', '13. 01. 2015'], ['Radek Brotz', 'ježečci', '02. 10. 2019'], ['Adolf Ztratil', 'sovičky', '07. 12. 2020'], ['Nora Křížová', 'ježečci', '14. 11. 2019'], ['Řehoř Zeman', 'žabičky', '01. 02. 2016'], ['Věroslav Nováček', 'sovičky', '29. 10. 2019'], ['Tereza Tomanová', 'sovičky', '02. 03. 2018'], ['Aleš Dostál', 'ježečci', '07. 11. 2018'], ['Iva Vítková', 'sovičky', '02. 06. 2018'], ['Ilona Dvořáková', 'žabičky', '19. 02. 2016'], ['Nela Nosková', 'sovičky', '08. 04. 2017'], ['Šimon Macek', 'včeličky', '21. 12. 2016'], ['Adéla Urbánková', 'koťátka', '18. 08. 2019'], ['Ludvík Pavlíček', 'žabičky', '09. 05. 2016'], ['Bohumil Lukeš', 'koťátka', '12. 11. 2016'], ['Jolana Vítová', 'ježečci', '02. 12. 2019'], ['Sáva Janečková', 'včeličky', '18. 05. 2015'], ['Milena Stehlíková', 'včeličky', '06. 03. 2020'], ['Žaneta Řezáčová', 'žabičky', '25. 01. 2020'], ['Drahoslava Křížková', 'koťátka', '08. 09. 2018'], ['Havel Vlach', 'sovičky', '22. 08. 2016'], ['David Zukal', 'koťátka', '25. 01. 2017'], ['Bohdana Červinková', 'ježečci', '21. 10. 2015'], ['Roland Macháček', 'včeličky', '07. 08. 2015'], ['Hana Kozáková', 'sovičky', '01. 09. 2018'], ['Irma Machová', 'včeličky', '30. 05. 2017'], ['Vavřinec Soukup', 'sovičky', '16. 08. 2015'], ['Herbert Krejčí', 'sovičky', '17. 12. 2015'], ['Ivo Štěpán', 'žabičky', '17. 08. 2016'], ['Irena Trojanová', 'ježečci', '14. 05. 2015'], ['Gizela Boháčová', 'žabičky', '11. 09. 2018'], ['Lucie Lukášová', 'sovičky', '21. 07. 2016'], ['Martina Vlachová', 'koťátka', '07. 11. 2015'], ['Saskie Bartáková', 'včeličky', '14. 08. 2020'], ['Linda Kuchařová', 'ježečci', '05. 11. 2017'], ['Karel Lukeš', 'včeličky', '29. 12. 2018'], ['Filip Šrámek', 'koťátka', '16. 07. 2017']]\n"
     ]
    }
   ],
   "source": [
    "import csv\n",
    "\n",
    "children = []\n",
    "with open('data\\\\kids.csv', mode='r', encoding='utf-8') as file:\n",
    "    csvFile = csv.reader(file)\n",
    "    for line in csvFile:\n",
    "        children.append(line)\n",
    "print(children)"
   ]
  },
  {
   "cell_type": "code",
   "execution_count": 9,
   "metadata": {},
   "outputs": [
    {
     "name": "stdout",
     "output_type": "stream",
     "text": [
      "['žabičky', 'koťátka', 'včeličky', 'ježečci', 'sovičky']\n"
     ]
    }
   ],
   "source": [
    "# do seznamu classes budu nahrávat jména tříd\n",
    "classes = []\n",
    "\n",
    "# zjistím si jména jednotlivých třít\n",
    "for dite in children:\n",
    "    if dite[1] not in classes:\n",
    "        classes.append(dite[1])\n",
    "print(classes)\n"
   ]
  },
  {
   "cell_type": "code",
   "execution_count": 10,
   "metadata": {},
   "outputs": [],
   "source": [
    "# jednotlivé slovníky, do kterých budu nahrávat data ke každé ze tříd\n",
    "zabicky = {}\n",
    "kotatka = {}\n",
    "vcelicky = {}\n",
    "jezecci = {}\n",
    "sovicky = {}"
   ]
  },
  {
   "cell_type": "code",
   "execution_count": 11,
   "metadata": {},
   "outputs": [],
   "source": [
    "for jmeno, trida, datum in children:\n",
    "    if trida == 'žabičky':\n",
    "        mesic = int(datum[4:6])\n",
    "        if mesic not in zabicky:\n",
    "            zabicky[mesic] = []\n",
    "        zabicky[mesic].append(jmeno)\n",
    "\n",
    "    if trida == 'koťátka':\n",
    "        mesic = int(datum[4:6])\n",
    "        if mesic not in kotatka:\n",
    "            kotatka[mesic] = []\n",
    "        kotatka[mesic].append(jmeno)\n",
    "\n",
    "    if trida == 'včeličky':\n",
    "        mesic = int(datum[4:6])\n",
    "        if mesic not in vcelicky:\n",
    "            vcelicky[mesic] = []\n",
    "        vcelicky[mesic].append(jmeno)\n",
    "\n",
    "    if trida == 'ježečci':\n",
    "        mesic = int(datum[4:6])\n",
    "        if mesic not in jezecci:\n",
    "            jezecci[mesic] = []\n",
    "        jezecci[mesic].append(jmeno)\n",
    "        \n",
    "    if trida == 'sovičky':\n",
    "        mesic = int(datum[4:6])\n",
    "        if mesic not in sovicky:\n",
    "            sovicky[mesic] = []\n",
    "        sovicky[mesic].append(jmeno)\n",
    "\n",
    "#print(zabicky)\n",
    "#print(kotatka)\n",
    "#print(vcelicky)\n",
    "#print(jezecci)\n",
    "#print(sovicky)\n",
    "\n",
    "with open('zabicky.json', mode='w', encoding='utf-8') as output_file:\n",
    "    json.dump(zabicky, output_file, indent=4, sort_keys=True, ensure_ascii=False)\n",
    "\n",
    "with open('kotatka.json', mode='w', encoding='utf-8') as output_file:\n",
    "    json.dump(kotatka, output_file, indent=4, sort_keys=True, ensure_ascii=False)\n",
    "\n",
    "with open('vcelicky.json', mode='w', encoding='utf-8') as output_file:\n",
    "    json.dump(vcelicky, output_file, indent=4, sort_keys=True, ensure_ascii=False)\n",
    "\n",
    "with open('jezecci.json', mode='w', encoding='utf-8') as output_file:\n",
    "    json.dump(jezecci, output_file, indent=4, sort_keys=True, ensure_ascii=False)\n",
    "    \n",
    "with open('sovicky.json', mode='w', encoding='utf-8') as output_file:\n",
    "    json.dump(sovicky, output_file, indent=4, sort_keys=True, ensure_ascii=False)\n",
    "\n",
    "slovniky = [zabicky, kotatka, vcelicky, jezecci, sovicky]\n",
    "nazev_souboru = ['zabicky.json', 'kotatka.json', 'vcelicky.json', 'jezecci.json', 'sovicky.json']\n",
    "\n",
    "for i, slovnik in enumerate(slovniky):\n",
    "    with open(nazev_souboru[i], mode=\"w\", encoding='utf-8') as output_file:\n",
    "        json.dump(slovniky[i], output_file, indent=4, sort_keys=True, ensure_ascii=False)"
   ]
  },
  {
   "cell_type": "code",
   "execution_count": 12,
   "metadata": {},
   "outputs": [
    {
     "data": {
      "text/plain": [
       "'import csv\\n\\nchildren = []\\nwith open(\\'kids.csv\\', mode=\\'r\\', encoding=\\'utf-8\\') as file:\\n    csvFile = csv.reader(file)\\n    for line in csvFile:\\n        children.append(line)\\nprint(children)\\n\\n# jména tříd + jednotlivé třídy\\nclasses = []\\nzabicky = {}\\nkotatka = {}\\nvcelicky = {}\\njezecci = {}\\nsovicky = {}\\n\\n# jméno jednotlivých třít\\nfor dite in children:\\n    if dite[1] not in classes:\\n        classes.append(dite[1])\\nprint(classes)\\n\\n# vytvoření slovníku\\nfor jmeno, trida, datum in children:\\n    if trida == \\'žabičky\\':\\n        mesic = int(datum[4:6])\\n        zabicky.setdefault(mesic, []).append(jmeno)\\nfor jmeno, trida, datum in children:\\n    if trida == \\'koťátka\\':\\n        mesic = int(datum[4:6])\\n        kotatka.setdefault(mesic, []).append(jmeno)\\nfor jmeno, trida, datum in children:\\n    if trida == \\'včeličky\\':\\n        mesic = int(datum[4:6])\\n        vcelicky.setdefault(mesic, []).append(jmeno)\\nfor jmeno, trida, datum in children:\\n    if trida == \\'ježečci\\':\\n        mesic = int(datum[4:6])\\n        jezecci.setdefault(mesic, []).append(jmeno)\\nfor jmeno, trida, datum in children:\\n    if trida == \\'sovičky\\':\\n        mesic = int(datum[4:6])\\n        sovicky.setdefault(mesic, []).append(jmeno)\\n\\n# uložení\\nslovniky = [zabicky, kotatka, vcelicky, jezecci, sovicky]\\nnazev_souboru = [\\'zabicky.json\\', \\'kotatka.json\\', \\'vcelicky.json\\', \\'jezecci.json\\', \\'sovicky.json\\']\\n\\nfor i, slovnik in enumerate(slovniky):\\n    with open(nazev_souboru[i], mode=\"w\", encoding=\\'utf-8\\') as output_file:\\n        for klic, hodnota in slovnik.items():\\n            output_file.write(f\"{klic}: {hodnota}\\n\")'"
      ]
     },
     "execution_count": 12,
     "metadata": {},
     "output_type": "execute_result"
    }
   ],
   "source": [
    "'''import csv\n",
    "\n",
    "children = []\n",
    "with open('kids.csv', mode='r', encoding='utf-8') as file:\n",
    "    csvFile = csv.reader(file)\n",
    "    for line in csvFile:\n",
    "        children.append(line)\n",
    "print(children)\n",
    "\n",
    "# jména tříd + jednotlivé třídy\n",
    "classes = []\n",
    "zabicky = {}\n",
    "kotatka = {}\n",
    "vcelicky = {}\n",
    "jezecci = {}\n",
    "sovicky = {}\n",
    "\n",
    "# jméno jednotlivých třít\n",
    "for dite in children:\n",
    "    if dite[1] not in classes:\n",
    "        classes.append(dite[1])\n",
    "print(classes)\n",
    "\n",
    "# vytvoření slovníku\n",
    "for jmeno, trida, datum in children:\n",
    "    if trida == 'žabičky':\n",
    "        mesic = int(datum[4:6])\n",
    "        zabicky.setdefault(mesic, []).append(jmeno)\n",
    "for jmeno, trida, datum in children:\n",
    "    if trida == 'koťátka':\n",
    "        mesic = int(datum[4:6])\n",
    "        kotatka.setdefault(mesic, []).append(jmeno)\n",
    "for jmeno, trida, datum in children:\n",
    "    if trida == 'včeličky':\n",
    "        mesic = int(datum[4:6])\n",
    "        vcelicky.setdefault(mesic, []).append(jmeno)\n",
    "for jmeno, trida, datum in children:\n",
    "    if trida == 'ježečci':\n",
    "        mesic = int(datum[4:6])\n",
    "        jezecci.setdefault(mesic, []).append(jmeno)\n",
    "for jmeno, trida, datum in children:\n",
    "    if trida == 'sovičky':\n",
    "        mesic = int(datum[4:6])\n",
    "        sovicky.setdefault(mesic, []).append(jmeno)\n",
    "\n",
    "# uložení\n",
    "slovniky = [zabicky, kotatka, vcelicky, jezecci, sovicky]\n",
    "nazev_souboru = ['zabicky.json', 'kotatka.json', 'vcelicky.json', 'jezecci.json', 'sovicky.json']\n",
    "\n",
    "for i, slovnik in enumerate(slovniky):\n",
    "    with open(nazev_souboru[i], mode=\"w\", encoding='utf-8') as output_file:\n",
    "        for klic, hodnota in slovnik.items():\n",
    "            output_file.write(f\"{klic}: {hodnota}\\n\")'''"
   ]
  },
  {
   "cell_type": "markdown",
   "metadata": {},
   "source": [
    "Metoda setdefault(mesic, []) nejprve zkontroluje, zda již klíč mesic existuje ve slovníku zabicky.\n",
    "Pokud neexistuje, vytvoří nový seznam jako výchozí hodnotu a přiřadí jej ke klíči mesic.\n",
    "Pokud již existuje, vrátí stávající seznam.\n",
    "To zajišťuje, že seznam je vytvořen pouze jednou pro každý měsíc, a pak jsou do něj postupně přidávána všechna jména."
   ]
  }
 ],
 "metadata": {
  "kernelspec": {
   "display_name": "Python 3",
   "language": "python",
   "name": "python3"
  },
  "language_info": {
   "codemirror_mode": {
    "name": "ipython",
    "version": 3
   },
   "file_extension": ".py",
   "mimetype": "text/x-python",
   "name": "python",
   "nbconvert_exporter": "python",
   "pygments_lexer": "ipython3",
   "version": "3.11.3"
  }
 },
 "nbformat": 4,
 "nbformat_minor": 2
}
