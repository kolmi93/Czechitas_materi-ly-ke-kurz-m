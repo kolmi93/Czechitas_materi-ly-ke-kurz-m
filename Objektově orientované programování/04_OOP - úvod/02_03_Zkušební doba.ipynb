{
 "cells": [
  {
   "cell_type": "markdown",
   "metadata": {},
   "source": [
    "# Zkušební doba\n",
    "\n",
    "#### U zaměstnanců budeme nově evidovat, jestli jsou ve zkušební době.\n",
    "- Rozšiř metodu __init__ třídy Employee o parametr probation_period. Tuto hodnotu ulož jako atribut třídy Employee.\n",
    "- Uprav metodu __str__. Pokud je zaměstnanec ve zkušební době, přidej k jeho/jejímu výpisu text Je ve zkušební době."
   ]
  },
  {
   "cell_type": "markdown",
   "metadata": {},
   "source": [
    "### Řešení"
   ]
  },
  {
   "cell_type": "code",
   "execution_count": 1,
   "metadata": {},
   "outputs": [
    {
     "name": "stdout",
     "output_type": "stream",
     "text": [
      "Zaměstnanec Petr Paprika pracuje na pozici skladník. Je ve zkušební době.\n",
      "Zaměstnanec Maruška Novotná pracuje na pozici Prodavačka.\n"
     ]
    }
   ],
   "source": [
    "class Employee:\n",
    "    def __init__(self, name, position, holiday_entitlement, probation_period):\n",
    "        self.name = name\n",
    "        self.position = position\n",
    "        self.holiday_entitlement = holiday_entitlement\n",
    "        self.probation_period = probation_period\n",
    "\n",
    "    def __str__(self):\n",
    "        text = f\"Zaměstnanec {self.name} pracuje na pozici {self.position}.\"\n",
    "        if self.probation_period:\n",
    "            text = text + ' Je ve zkušební době.'\n",
    "        return text\n",
    "\n",
    "    def take_holiday(self, days):\n",
    "        if self.holiday_entitlement >= days:\n",
    "            self.holiday_entitlement -= days\n",
    "            return f\"Užij si to.\"\n",
    "        else:\n",
    "            return f\"Bohužel už máš nárok jen na {self.holiday_entitlement} dní.\"\n",
    "\n",
    "employee_01 = Employee(\"Petr Paprika\", \"skladník\", 22, True)\n",
    "employee_02 = Employee(\"Maruška Novotná\", \"Prodavačka\", 21, False)\n",
    "\n",
    "print(employee_01)\n",
    "print(employee_02)"
   ]
  }
 ],
 "metadata": {
  "kernelspec": {
   "display_name": "Python 3",
   "language": "python",
   "name": "python3"
  },
  "language_info": {
   "codemirror_mode": {
    "name": "ipython",
    "version": 3
   },
   "file_extension": ".py",
   "mimetype": "text/x-python",
   "name": "python",
   "nbconvert_exporter": "python",
   "pygments_lexer": "ipython3",
   "version": "3.11.3"
  }
 },
 "nbformat": 4,
 "nbformat_minor": 2
}
