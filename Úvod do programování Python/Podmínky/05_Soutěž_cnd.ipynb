{
 "cells": [
  {
   "cell_type": "markdown",
   "metadata": {},
   "source": [
    "# Soutěž\n",
    "\n",
    "Divadlo Pěst na oko pořádá soutěž o lístky na premiéru nového představení Zločin v podmínce. Pro účast v soutěži musí zájemce splnit následující dvě podmínky:\n",
    "\n",
    " - Sdílel alespoň 5 příspěvků divadla na sociálních sítích.\n",
    " - Letos navštívil(a) alespoň 5 představení.\n",
    "Současně platí, že soutěžit můžou všichni členové Klubu přátel Divadla Pěst na oko, i kdyby podmínky nesplnili.\n",
    "\n",
    "Tvým úkolem je vytvořit program, který se uživatele zeptá na všechny potřebné informace (stačí odpověď ano/ne) a vyhodnotí, zda se může zúčastnit soutěže."
   ]
  },
  {
   "cell_type": "markdown",
   "metadata": {},
   "source": [
    "### Řešení"
   ]
  },
  {
   "cell_type": "code",
   "execution_count": 2,
   "metadata": {},
   "outputs": [
    {
     "name": "stdout",
     "output_type": "stream",
     "text": [
      "Splňujete podmínky. Můžete se zúčastnit soutěže.\n"
     ]
    }
   ],
   "source": [
    "soc_s = input('Sdílel/a jste aspoň 5 příspěvků divadla na sociální sítě? [a/n]\\n')\n",
    "navstena = input('Navštívil/a jste letos aspoň 5x naše divadlo? [a/n]\\n')\n",
    "clen = input('Jste členem Klubu přátel Divadla Pěst na oko? [a/n]\\n')\n",
    "\n",
    "if (soc_s and navstena) == 'a' or clen == 'a':\n",
    "    print('Splňujete podmínky. Můžete se zúčastnit soutěže.')\n",
    "else:\n",
    "    print('Je nám líto, ale nemůžete se zúčasnit soutěže. Nesplňujete podmínky.')"
   ]
  }
 ],
 "metadata": {
  "kernelspec": {
   "display_name": "Python 3",
   "language": "python",
   "name": "python3"
  },
  "language_info": {
   "codemirror_mode": {
    "name": "ipython",
    "version": 3
   },
   "file_extension": ".py",
   "mimetype": "text/x-python",
   "name": "python",
   "nbconvert_exporter": "python",
   "pygments_lexer": "ipython3",
   "version": "3.11.3"
  }
 },
 "nbformat": 4,
 "nbformat_minor": 2
}
