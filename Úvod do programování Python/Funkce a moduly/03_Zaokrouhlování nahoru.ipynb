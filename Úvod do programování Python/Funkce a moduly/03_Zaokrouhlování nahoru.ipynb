{
 "cells": [
  {
   "cell_type": "markdown",
   "metadata": {},
   "source": [
    "# Zaokrouhlování nahoru\n",
    "\n",
    "Importujte modul math a vyzkoušejte si funkci math.ceil(), která slouží k zaokrouhlování směrem nahoru. Proveďte zaokrouhlování z předchozího cvičení na celé koruny směrem nahoru."
   ]
  },
  {
   "cell_type": "markdown",
   "metadata": {},
   "source": [
    "### Řešení"
   ]
  },
  {
   "cell_type": "code",
   "execution_count": 1,
   "metadata": {},
   "outputs": [
    {
     "name": "stdout",
     "output_type": "stream",
     "text": [
      "7.800000000000001\n",
      "188\n"
     ]
    }
   ],
   "source": [
    "import math\n",
    "\n",
    "listek_student_euro = 12 * 0.65\n",
    "\n",
    "koruny = math.ceil(listek_student_euro * 24)\n",
    "\n",
    "print(listek_student_euro)\n",
    "print(koruny)"
   ]
  }
 ],
 "metadata": {
  "kernelspec": {
   "display_name": "Python 3",
   "language": "python",
   "name": "python3"
  },
  "language_info": {
   "codemirror_mode": {
    "name": "ipython",
    "version": 3
   },
   "file_extension": ".py",
   "mimetype": "text/x-python",
   "name": "python",
   "nbconvert_exporter": "python",
   "pygments_lexer": "ipython3",
   "version": "3.11.3"
  }
 },
 "nbformat": 4,
 "nbformat_minor": 2
}
