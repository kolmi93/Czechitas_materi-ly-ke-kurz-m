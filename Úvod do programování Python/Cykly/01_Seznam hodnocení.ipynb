{
 "cells": [
  {
   "cell_type": "markdown",
   "metadata": {},
   "source": [
    "# Seznam hodnocení\n",
    "\n",
    "Mějme seznam hodnocení divadelní hry Plyšáci na útěku , který vypadá takto:"
   ]
  },
  {
   "cell_type": "code",
   "execution_count": null,
   "metadata": {},
   "outputs": [],
   "source": [
    "hodnoceni = [7, 9, 6, 7, 9, 8]"
   ]
  },
  {
   "cell_type": "markdown",
   "metadata": {},
   "source": [
    "Vytvořte program, který projde tento seznam a vypíše každé hodnocení na nový řádek.\n",
    "Upravte program tak, aby vypisoval výstup v tomto formátu:\n",
    "\n",
    "- 7/10\n",
    "- 9/10\n",
    "- 6/10\n",
    "- 7/10\n",
    "- 9/10\n",
    "- 8/10"
   ]
  },
  {
   "cell_type": "markdown",
   "metadata": {},
   "source": [
    "### Řešení"
   ]
  },
  {
   "cell_type": "code",
   "execution_count": 1,
   "metadata": {},
   "outputs": [
    {
     "name": "stdout",
     "output_type": "stream",
     "text": [
      "7/10\n",
      "9/10\n",
      "6/10\n",
      "7/10\n",
      "9/10\n",
      "8/10\n"
     ]
    }
   ],
   "source": [
    "for one in hodnoceni:\n",
    "    print(f'{one}/10')"
   ]
  }
 ],
 "metadata": {
  "kernelspec": {
   "display_name": "Python 3",
   "language": "python",
   "name": "python3"
  },
  "language_info": {
   "codemirror_mode": {
    "name": "ipython",
    "version": 3
   },
   "file_extension": ".py",
   "mimetype": "text/x-python",
   "name": "python",
   "nbconvert_exporter": "python",
   "pygments_lexer": "ipython3",
   "version": "3.11.3"
  }
 },
 "nbformat": 4,
 "nbformat_minor": 2
}
