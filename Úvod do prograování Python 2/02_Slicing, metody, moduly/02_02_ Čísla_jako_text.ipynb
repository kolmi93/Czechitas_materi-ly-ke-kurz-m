{
 "cells": [
  {
   "cell_type": "markdown",
   "metadata": {},
   "source": [
    "# Čísla jako text\n",
    "\n",
    "#### Mějme seznam celých čísel zadaných jako text"
   ]
  },
  {
   "cell_type": "code",
   "execution_count": 2,
   "metadata": {},
   "outputs": [],
   "source": [
    "hodnoty = ['12', '1', '7', '-11']"
   ]
  },
  {
   "cell_type": "markdown",
   "metadata": {},
   "source": [
    "Potřebujeme k třetímu číslu v seznamu přičíst 4, aby výsledek vypadal takto:\n",
    "\n",
    "hodnoty = ['12', '1', '11', '-11']"
   ]
  },
  {
   "cell_type": "markdown",
   "metadata": {},
   "source": [
    "### Řešení"
   ]
  },
  {
   "cell_type": "code",
   "execution_count": 3,
   "metadata": {},
   "outputs": [
    {
     "name": "stdout",
     "output_type": "stream",
     "text": [
      "['12', '1', '11', '-11']\n"
     ]
    }
   ],
   "source": [
    "nove_cislo = int(hodnoty[2]) + 4\n",
    "hodnoty[2] = str(nove_cislo)\n",
    "\n",
    "print(hodnoty)"
   ]
  },
  {
   "cell_type": "markdown",
   "metadata": {},
   "source": [
    "Poznámky:\n",
    "\n",
    "- Uložte si hodnotu na třetí pozici v seznamu do nějaké proměnné.\n",
    "- Převeďte tuto hodnotu na číslo a přičtěte k němu 4. Výsledek uložte do proměnné vysledek.\n",
    "- Převeďte hodnotu v proměnné vysledek zpět na řetězec a uložte ji na třetí pozici v seznamu hodnoty.\n",
    "Můžete také zkusit vymyslet, jak udělat zápis příkazů co nejúspornější. Dá se dojít až k tomu, že celé řešení bude na jeden řádek."
   ]
  }
 ],
 "metadata": {
  "kernelspec": {
   "display_name": "Python 3",
   "language": "python",
   "name": "python3"
  },
  "language_info": {
   "codemirror_mode": {
    "name": "ipython",
    "version": 3
   },
   "file_extension": ".py",
   "mimetype": "text/x-python",
   "name": "python",
   "nbconvert_exporter": "python",
   "pygments_lexer": "ipython3",
   "version": "3.11.3"
  }
 },
 "nbformat": 4,
 "nbformat_minor": 2
}
