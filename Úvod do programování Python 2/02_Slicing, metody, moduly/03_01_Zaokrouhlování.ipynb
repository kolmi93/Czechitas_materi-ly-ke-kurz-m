{
 "cells": [
  {
   "cell_type": "markdown",
   "metadata": {},
   "source": [
    "# Zaokrouhlování\n",
    "\n",
    "#### Napište program, který dostane na vstupu desetinné číslo a na výstup napíše toto číslo zaokrouhlené nejdříve nahoru, potom dolů a potom běžným Pythonovským zaokrouhlováním."
   ]
  },
  {
   "cell_type": "markdown",
   "metadata": {},
   "source": [
    "### Řešení"
   ]
  },
  {
   "cell_type": "code",
   "execution_count": 4,
   "metadata": {},
   "outputs": [
    {
     "name": "stdout",
     "output_type": "stream",
     "text": [
      "zaokrouhleno nahoru: 4\n",
      "zaokrouhleno dolů: 3\n",
      "zaokrouhleno pythonovsky: 3\n"
     ]
    }
   ],
   "source": [
    "import math\n",
    "\n",
    "number = float(input('Napiště libovolné desetinné číslo:\\n'))\n",
    "\n",
    "nahoru = math.ceil(number)\n",
    "dolu = math.floor(number)\n",
    "pythonovsky = round(number)\n",
    "\n",
    "print(f'zaokrouhleno nahoru: {nahoru}\\nzaokrouhleno dolů: {dolu}\\nzaokrouhleno pythonovsky: {pythonovsky}')"
   ]
  }
 ],
 "metadata": {
  "kernelspec": {
   "display_name": "Python 3",
   "language": "python",
   "name": "python3"
  },
  "language_info": {
   "codemirror_mode": {
    "name": "ipython",
    "version": 3
   },
   "file_extension": ".py",
   "mimetype": "text/x-python",
   "name": "python",
   "nbconvert_exporter": "python",
   "pygments_lexer": "ipython3",
   "version": "3.11.3"
  }
 },
 "nbformat": 4,
 "nbformat_minor": 2
}
