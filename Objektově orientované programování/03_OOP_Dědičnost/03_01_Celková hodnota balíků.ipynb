{
 "cells": [
  {
   "cell_type": "markdown",
   "metadata": {},
   "source": [
    "# Celková hodnota balíků\n",
    "\n",
    "#### Pokračuj ve své práci pro zásilkovou společnost. Společnost chce doplnit do aplikace funkci pro výpočet celkového hodnoty nákladu nějakého auta, aby pak (např. v případě nehody nebo krádeže) mohla snadno spočítat celkovou hodnotu cenných balíků v autě a předat informaci pojišťovně. Příklad je podobný bonusu na výpočet celkové hmotnosti z předchozí části, liší se ale v tom, že hodnotu mají pouze cenné balíky, zatímco hmotnost mají všechny balíky.\n",
    "\n",
    "#### Níže je příklad balíků, které můžeš použít pro tvorbu svého programu.\n",
    "\n",
    "- Vytvoř si proměnnou total_value, do které si s využitím cyklu budeš ukládat celkovou hodnotu všech balíků. Na začátku bude mít hodnotu 0.\n",
    "- Vytvoř cyklus, který projde seznam package_list.\n",
    "- Vyber funkci, která je podle tebe nejvhodnější pro zajištění bezpečného čtení atributu value. - Můžeš použít funkci isinstance(), hasattr() i getattr(). Přičti hodnotu balíku k proměnné total_value, aniž by program skončil chybou u objektu package_2.\n",
    "- Na konci programu vypiš, jaká je celková hodnota balíků v autě."
   ]
  },
  {
   "cell_type": "code",
   "execution_count": 22,
   "metadata": {},
   "outputs": [
    {
     "name": "stdout",
     "output_type": "stream",
     "text": [
      "Celková hodnota balíků je 10500,- Kč.\n"
     ]
    }
   ],
   "source": [
    "from dataclasses import dataclass\n",
    "\n",
    "@dataclass     # nezapomenout napsat dataclass\n",
    "class Package:\n",
    "    address: str\n",
    "    weight: float\n",
    "    state: str = 'nedoručen'\n",
    "    \n",
    "    def __str__(self):\n",
    "        return f'Balík na adresu {self.address}, má hnotnost {self.weight} a je ve stavu {self.state}.'\n",
    "        \n",
    "    def delivery_price(self):\n",
    "        price = 0\n",
    "        if self.weight < 10:\n",
    "            price = 129\n",
    "        elif self.weight >= 10 and self.weight < 20:\n",
    "            price = 159\n",
    "        else:\n",
    "            price = 359\n",
    "        return f'Cena za doručení balíku činí: {price},- Kč.'\n",
    "    \n",
    "    def deliver(self):\n",
    "        if self.state == 'doručen':\n",
    "            return f'Balík byl již doručen.'\n",
    "        else:\n",
    "            self.state = 'doručen'\n",
    "            return f'Doručení uloženo.'\n",
    "\n",
    "\n",
    "# POZOR, aby pořadí def __init__ odpovídalo pořadí jednotlivých package !!!\n",
    "class ValuablePackage(Package):\n",
    "    def __init__(self, address, weight, value, state = 'nedoručen'):\n",
    "        super().__init__(address, weight, state)\n",
    "        self.value = value\n",
    "    \n",
    "    def __str__(self):\n",
    "        return super().__str__() + f' Balík má hodnotu {self.value} Kč.'    \n",
    "\n",
    "package_1 = ValuablePackage(\"Grimmauldovo náměstí 11\", 1.9, 5000, \"nedoručen\")\n",
    "package_2 = Package(\"Godrikův důl 47\", 1.9, \"nedoručen\")\n",
    "package_3 = ValuablePackage(\"Vydrník svatého Drába 13\", 1.9, 5500, \"nedoručen\")\n",
    "package_list = [package_1, package_2, package_3]\n",
    "\n",
    "\n",
    "# celková hodnota balíků v autě\n",
    "total_value = 0\n",
    "\n",
    "for one in package_list:\n",
    "    if hasattr(one, 'value'):\n",
    "        total_value += one.value\n",
    "\n",
    "print(f'Celková hodnota balíků je {total_value},- Kč.')"
   ]
  },
  {
   "cell_type": "code",
   "execution_count": null,
   "metadata": {},
   "outputs": [],
   "source": []
  }
 ],
 "metadata": {
  "kernelspec": {
   "display_name": "Python 3",
   "language": "python",
   "name": "python3"
  },
  "language_info": {
   "codemirror_mode": {
    "name": "ipython",
    "version": 3
   },
   "file_extension": ".py",
   "mimetype": "text/x-python",
   "name": "python",
   "nbconvert_exporter": "python",
   "pygments_lexer": "ipython3",
   "version": "3.11.3"
  }
 },
 "nbformat": 4,
 "nbformat_minor": 2
}
