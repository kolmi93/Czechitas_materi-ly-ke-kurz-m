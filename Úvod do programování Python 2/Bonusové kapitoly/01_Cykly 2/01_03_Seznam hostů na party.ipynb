{
 "cells": [
  {
   "cell_type": "markdown",
   "metadata": {},
   "source": [
    "# Seznam hostů\n",
    "\n",
    "Vraťte se k příkladu se zadáváním seznamu hostu na párty a zkopírujte si kód k sobě do editoru. Upravte program tak, že pokud uživatel v průběhu zadávání jmen napíše \"konec\", cyklus na zadávání jmen se ukončí."
   ]
  },
  {
   "cell_type": "markdown",
   "metadata": {},
   "source": [
    "### Řešení"
   ]
  },
  {
   "cell_type": "code",
   "execution_count": 1,
   "metadata": {},
   "outputs": [
    {
     "name": "stdout",
     "output_type": "stream",
     "text": [
      "['Jana', 'Petr']\n"
     ]
    }
   ],
   "source": [
    "number_of_guests = int(input(\"Zadej počet hostů: \"))\n",
    "guest_list = []\n",
    "for i in range(number_of_guests):\n",
    "    new_guest = input(\"Zadej jméno hosta: \")\n",
    "    if new_guest == 'konec':\n",
    "        break\n",
    "    guest_list.append(new_guest)\n",
    "print(guest_list)"
   ]
  }
 ],
 "metadata": {
  "kernelspec": {
   "display_name": "Python 3",
   "language": "python",
   "name": "python3"
  },
  "language_info": {
   "codemirror_mode": {
    "name": "ipython",
    "version": 3
   },
   "file_extension": ".py",
   "mimetype": "text/x-python",
   "name": "python",
   "nbconvert_exporter": "python",
   "pygments_lexer": "ipython3",
   "version": "3.11.3"
  }
 },
 "nbformat": 4,
 "nbformat_minor": 2
}
