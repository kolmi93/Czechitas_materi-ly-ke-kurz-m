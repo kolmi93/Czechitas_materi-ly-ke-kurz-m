{
 "cells": [
  {
   "cell_type": "markdown",
   "metadata": {},
   "source": [
    "# Slavný soude\n",
    "\n",
    "Spisová značka, tj. označení spisu u soudu, má zpravidla následující formát:\n",
    "\n",
    " - číslo soudního oddělení (např. 1 až 2 čísla),\n",
    " - rejstříková značka (např. jedno až tři velká písmena),\n",
    " - běžné číslo, podle toho kdy k soudu věc přišla (např. 1 až 4 čísla),\n",
    " - lomítko a za ním ročník (4 čísla).\n",
    "\n",
    "Může vypadat například takto: 63 C 397/2014. Napiš regulární výraz a na tomto příkladu jej vyzkoušej."
   ]
  },
  {
   "cell_type": "markdown",
   "metadata": {},
   "source": [
    "### Řešení"
   ]
  },
  {
   "cell_type": "markdown",
   "metadata": {},
   "source": [
    "\\d{1,2} {1}[A-Z]{1,3} {1}\\d{1,4}/{1}\\d{4}"
   ]
  },
  {
   "cell_type": "markdown",
   "metadata": {},
   "source": [
    "viz.: https://regex101.com/r/oOwN96/1"
   ]
  }
 ],
 "metadata": {
  "language_info": {
   "name": "python"
  }
 },
 "nbformat": 4,
 "nbformat_minor": 2
}
