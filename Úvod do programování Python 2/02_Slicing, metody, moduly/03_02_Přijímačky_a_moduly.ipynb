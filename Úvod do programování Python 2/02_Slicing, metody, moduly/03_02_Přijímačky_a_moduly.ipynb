{
 "cells": [
  {
   "cell_type": "markdown",
   "metadata": {},
   "source": [
    "# Přijímačky a moduly\n",
    "\n",
    "#### Uvažujme vysvědčení studenta, které máme uložené jako seznam."
   ]
  },
  {
   "cell_type": "code",
   "execution_count": 1,
   "metadata": {},
   "outputs": [],
   "source": [
    "school_report = [\n",
    "    [\"Český jazyk\", 1],\n",
    "    [\"Anglický jazyk\", 1],\n",
    "    [\"Matematika\", 1],\n",
    "    [\"Přírodopis\", 2],\n",
    "    [\"Dějepis\", 1],\n",
    "    [\"Fyzika\", 2],\n",
    "    [\"Hudební výchova\", 4],\n",
    "    [\"Výtvarná výchova\", 2],\n",
    "    [\"Tělesná výchova\", 3],\n",
    "    [\"Chemie\", 4],\n",
    "]"
   ]
  },
  {
   "cell_type": "markdown",
   "metadata": {},
   "source": [
    "#### Uvažuj, že student se hlásí na školu, která vybírá studenty podle průměru. Pro školu jsou ale důležité pouze předměty český jazyk, anglický jazyk, matematika a fyzika. Vypočítej průměr studenta z daných předmětů s využitím modulu statstics. Na začátku vytvoř prázdný seznam a následně pomocí cyklu vlož do nového seznamu známky ze čtyř vyjmenovaných předmětů. Nakonec použij metodu statistics.mean() k výpočtu průměru. Dále zkus využít funkce, které jsou zmíněné v textu, k výpočtu nejlepší a nejhorší známky z daných předmětů."
   ]
  },
  {
   "cell_type": "markdown",
   "metadata": {},
   "source": [
    "### Řešení"
   ]
  },
  {
   "cell_type": "markdown",
   "metadata": {},
   "source": [
    "varianta A"
   ]
  },
  {
   "cell_type": "code",
   "execution_count": 2,
   "metadata": {},
   "outputs": [
    {
     "name": "stdout",
     "output_type": "stream",
     "text": [
      "Průměr studenta je: 1.25, nejlepší známka je 1, nejhorší známka je 2.\n"
     ]
    }
   ],
   "source": [
    "import statistics\n",
    "\n",
    "vybrane_predmety = []\n",
    "\n",
    "for predmet, znamka in school_report:\n",
    "    if predmet in ('Český jazyk', 'Anglický jazyk', 'Matematika', 'Fyzika'):\n",
    "        vybrane_predmety.append(znamka)\n",
    "\n",
    "print(f'Průměr studenta je: {statistics.mean(vybrane_predmety)}, nejlepší známka je {min(vybrane_predmety)}, nejhorší známka je {max(vybrane_predmety)}.')"
   ]
  },
  {
   "cell_type": "markdown",
   "metadata": {},
   "source": [
    "varianta B"
   ]
  },
  {
   "cell_type": "code",
   "execution_count": 3,
   "metadata": {},
   "outputs": [
    {
     "name": "stdout",
     "output_type": "stream",
     "text": [
      "Průměr studenta je: 1.25, nejlepší známka je 1, nejhorší známka je 2.\n"
     ]
    }
   ],
   "source": [
    "import statistics\n",
    "\n",
    "vybrane_predmety = []\n",
    "\n",
    "for predmet_znamka in school_report:\n",
    "    predmet = predmet_znamka[0]\n",
    "    znamka = predmet_znamka[1]\n",
    "\n",
    "    if predmet in ('Český jazyk', 'Anglický jazyk', 'Matematika', 'Fyzika'):\n",
    "        vybrane_predmety.append(znamka)\n",
    "\n",
    "print(f'Průměr studenta je: {statistics.mean(vybrane_predmety)}, nejlepší známka je {min(vybrane_predmety)}, nejhorší známka je {max(vybrane_predmety)}.')\n"
   ]
  }
 ],
 "metadata": {
  "kernelspec": {
   "display_name": "Python 3",
   "language": "python",
   "name": "python3"
  },
  "language_info": {
   "codemirror_mode": {
    "name": "ipython",
    "version": 3
   },
   "file_extension": ".py",
   "mimetype": "text/x-python",
   "name": "python",
   "nbconvert_exporter": "python",
   "pygments_lexer": "ipython3",
   "version": "3.11.3"
  }
 },
 "nbformat": 4,
 "nbformat_minor": 2
}
