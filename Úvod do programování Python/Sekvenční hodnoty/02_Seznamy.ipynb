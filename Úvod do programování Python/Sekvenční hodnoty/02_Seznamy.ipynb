{
 "cells": [
  {
   "cell_type": "markdown",
   "metadata": {},
   "source": [
    "# Seznamy\n",
    "\n",
    " 1. Vytvořte nějaký seznam celých čísel, například počty diváků na několika po sobě jdoucích představeních.\n",
    " 2. Vytvořte nějaký seznam desetinných čísel, například zaplněnost divadla v několika po sobě jdoucích představeních.\n",
    " 3. Vytvořte nějaký seznam řetězců, například seznam názvů několika divadelních představení, která divadlo hraje. Uložte tento seznam do proměnné hry. Uložte do nějaké proměnné druhou položku tohoto seznamu.\n",
    " 4. Do proměnné hodnoceni uložte seznam hodnocení, které obdržela divadelní hra \"Plyšáci na útěku\" v různých recenzních časopisech. Hodnocení je vždy dvouprvkový seznam obsahující název recenzního časopisu jako řetězec a samotné hodnocení jako číslo mezi 1 až 10."
   ]
  },
  {
   "cell_type": "markdown",
   "metadata": {},
   "source": [
    "### Řešení "
   ]
  },
  {
   "cell_type": "code",
   "execution_count": 1,
   "metadata": {},
   "outputs": [],
   "source": [
    "cela_cisla = [120, 110, 115, 120, 125]\n",
    "desetinna_cisla = [0.9, 0.8, 0.85, 0.9, 0.95]\n",
    "hry = ['Jedna ruka netleská', 'Ucpaný systém', 'Někdo to rád horké', 'Ray Man']\n",
    "druha_hra = hry[1]\n",
    "hodnoceni =[\n",
    "    ['Divadelní svět', 7],\n",
    "    ['Svět prken', 8],\n",
    "    ['Divadelní revue', 6],\n",
    "]"
   ]
  }
 ],
 "metadata": {
  "kernelspec": {
   "display_name": "Python 3",
   "language": "python",
   "name": "python3"
  },
  "language_info": {
   "codemirror_mode": {
    "name": "ipython",
    "version": 3
   },
   "file_extension": ".py",
   "mimetype": "text/x-python",
   "name": "python",
   "nbconvert_exporter": "python",
   "pygments_lexer": "ipython3",
   "version": "3.11.3"
  }
 },
 "nbformat": 4,
 "nbformat_minor": 2
}
