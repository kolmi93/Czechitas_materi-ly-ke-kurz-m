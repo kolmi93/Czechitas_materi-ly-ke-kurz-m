{
 "cells": [
  {
   "cell_type": "markdown",
   "metadata": {},
   "source": [
    "# Paranoidní večírek\n",
    "\n",
    "#### Pořadatel našeho večírku se stává stále více paranoidním a nyní rozhodl, že každý z hostů bude mít speciální heslo, které je platné jen pro něj. Seznam hostů a jejich hesel je níže. Napiš program, který nejprve zkontroluje, zda je host na seznamu, a pokud tam je, zeptá se ho na heslo a zkontroluje jeho správnost. Hostu na seznamu, který zadá správné heslo, vypíše program text: \"Smíš vstoupit.\""
   ]
  },
  {
   "cell_type": "code",
   "execution_count": 1,
   "metadata": {},
   "outputs": [],
   "source": [
    "passwords = {\"Jiří\": \"tajne-heslo\", \"Natálie\": \"jeste-tajnejsi-heslo\", \"Klára\": \"nejtajnejsi-heslo\"}"
   ]
  },
  {
   "cell_type": "markdown",
   "metadata": {},
   "source": [
    "### Řešení"
   ]
  },
  {
   "cell_type": "markdown",
   "metadata": {},
   "source": [
    "varianta A"
   ]
  },
  {
   "cell_type": "code",
   "execution_count": 2,
   "metadata": {},
   "outputs": [
    {
     "name": "stdout",
     "output_type": "stream",
     "text": [
      "Vaše jméno není na seznamu.\n"
     ]
    }
   ],
   "source": [
    "name = input('Jak se jmenujete?\\n').strip().title()   # strip() ošetří nechtěné mezery, title() zajistí, aby jméno mělo na začátku velké písmeno, dál malé\n",
    "\n",
    "if name in passwords:\n",
    "  code = input('Rekněte heslo:\\n')\n",
    "  if code == passwords[name]:\n",
    "    print('Smíš vstoupit.')\n",
    "  else:\n",
    "    print('Špatné heslo, běž pryč!')\n",
    "else:\n",
    "  print('Tvoje jméno není na seznamu. Bež pryč!')"
   ]
  },
  {
   "cell_type": "markdown",
   "metadata": {},
   "source": [
    "varianta B - pomocí early exit- nejdřív otestuju to, co nechci. Díky tomu neni třeba se tolik zanořovat do podmínek"
   ]
  },
  {
   "cell_type": "code",
   "execution_count": null,
   "metadata": {},
   "outputs": [],
   "source": [
    "name = input('Jak se jmenujete?\\n').strip().title()\n",
    "\n",
    "if name not in passwords:\n",
    "  print('Tvoje jméno není na seznamu. Bež pryč!')\n",
    "  exit()\n",
    "\n",
    "code = input('Rekněte heslo:\\n')\n",
    "\n",
    "if code != passwords[name]:\n",
    "    print('Špatné heslo, běž pryč!')\n",
    "    exit()\n",
    "\n",
    "print('Smíš vstoupit.')"
   ]
  }
 ],
 "metadata": {
  "kernelspec": {
   "display_name": "Python 3",
   "language": "python",
   "name": "python3"
  },
  "language_info": {
   "codemirror_mode": {
    "name": "ipython",
    "version": 3
   },
   "file_extension": ".py",
   "mimetype": "text/x-python",
   "name": "python",
   "nbconvert_exporter": "python",
   "pygments_lexer": "ipython3",
   "version": "3.11.3"
  }
 },
 "nbformat": 4,
 "nbformat_minor": 2
}
