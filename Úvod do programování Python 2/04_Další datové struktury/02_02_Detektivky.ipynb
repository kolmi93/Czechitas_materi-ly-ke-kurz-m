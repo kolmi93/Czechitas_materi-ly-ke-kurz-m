{
 "cells": [
  {
   "cell_type": "markdown",
   "metadata": {},
   "source": [
    "# Detektivky\n",
    "\n",
    "#### Vydavatel detektivek si eviduje prodané kusy u jednotlivých knih. V následujícím slovníku najdeš tři knihy a u každé z nich je počet prodaných kusů."
   ]
  },
  {
   "cell_type": "code",
   "execution_count": 3,
   "metadata": {},
   "outputs": [],
   "source": [
    "sales = {\n",
    "    \"Zkus mě chytit\": 4165,\n",
    "    \"Vrah zavolá v deset\": 5681,\n",
    "    \"Zločinný steh\": 2565,\n",
    "}"
   ]
  },
  {
   "cell_type": "markdown",
   "metadata": {},
   "source": [
    "- Zkopíruj si slovník do svého programu.\n",
    "- Přidej do slovníku nově vydanou detektivku \"Noc, která mě zabila\", která zatím nebyla uvedena - na trh, je tedy prodáno 0 kusů.\n",
    "- U knihy \"Vrah zavolá v deset\" zvyš počet prodaných kusů o 100."
   ]
  },
  {
   "cell_type": "markdown",
   "metadata": {},
   "source": [
    "### Řešení"
   ]
  },
  {
   "cell_type": "code",
   "execution_count": 5,
   "metadata": {},
   "outputs": [
    {
     "name": "stdout",
     "output_type": "stream",
     "text": [
      "{'Zkus mě chytit': 4165, 'Vrah zavolá v deset': 5681, 'Zločinný steh': 2565, 'Noc, která mě zabila': 0}\n",
      "{'Zkus mě chytit': 4165, 'Vrah zavolá v deset': 5781, 'Zločinný steh': 2565, 'Noc, která mě zabila': 0}\n"
     ]
    }
   ],
   "source": [
    "# přidání nové detektivky do seznamu\n",
    "\n",
    "sales[\"Noc, která mě zabila\"] = 0\n",
    "print(sales)\n",
    "\n",
    "# zvýšení počtu zásob\n",
    "\n",
    "sales[\"Vrah zavolá v deset\"] += 100\n",
    "print(sales)"
   ]
  }
 ],
 "metadata": {
  "kernelspec": {
   "display_name": "Python 3",
   "language": "python",
   "name": "python3"
  },
  "language_info": {
   "codemirror_mode": {
    "name": "ipython",
    "version": 3
   },
   "file_extension": ".py",
   "mimetype": "text/x-python",
   "name": "python",
   "nbconvert_exporter": "python",
   "pygments_lexer": "ipython3",
   "version": "3.11.3"
  }
 },
 "nbformat": 4,
 "nbformat_minor": 2
}
