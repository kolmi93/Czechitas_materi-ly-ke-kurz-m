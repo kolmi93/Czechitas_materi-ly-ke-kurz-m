{
 "cells": [
  {
   "cell_type": "markdown",
   "metadata": {},
   "source": [
    "# Fahrnheit vs. Celsius\n",
    "\n",
    "#### Nastudujte si na České Wikipedii jak se převádějí stupně Fahrenheita na stupně Celsia a napište program, který takový převod provede. Váš program se zeptá uživatele na teplotu ve stupních Fahrenheita a vypíše její ekvivalent ve stupních Celsia. Pokud pečete podle anglických receptů, často se po váš požaduje rozehřát troubu na uvedenou teplotu. Pokud si ovšem neuvědomíte, že Američané používají pro měření teploty stupně Fahrenheita namísto Celsia, bude vás na konci pečení čekat nemilé překvapení.\n",
    "\n",
    "#### Nastudujte si na České Wikipedii jak se převádějí stupně Fahrenheita na stupně Celsia a napište program, který takový převod provede. Váš program se zeptá uživatele na teplotu ve stupních Fahrenheita a vypíše její ekvivalent ve stupních Celsia.\n",
    "\n",
    "https://cs.wikipedia.org/wiki/Stupe%C5%88_Fahrenheita"
   ]
  },
  {
   "cell_type": "markdown",
   "metadata": {},
   "source": [
    "### Řešení"
   ]
  },
  {
   "cell_type": "code",
   "execution_count": 1,
   "metadata": {},
   "outputs": [
    {
     "name": "stdout",
     "output_type": "stream",
     "text": [
      "65.55555555555556\n",
      "Pokud Vámi je třeba péct Vaše jídlo při 150 stupních, na troubě si nastavte 66 stupňů Celsia.\n"
     ]
    }
   ],
   "source": [
    "farnheit = int(input('Při kolika stupních Farnheita je třeba vaše jídlo péct?\\n'))\n",
    "celsius = (farnheit -32) * 5/9\n",
    "print(celsius)\n",
    "\n",
    "print(f\"Pokud Vámi je třeba péct Vaše jídlo při {farnheit} stupních, na troubě si nastavte {round(celsius)} stupňů Celsia.\")"
   ]
  }
 ],
 "metadata": {
  "kernelspec": {
   "display_name": "Python 3",
   "language": "python",
   "name": "python3"
  },
  "language_info": {
   "codemirror_mode": {
    "name": "ipython",
    "version": 3
   },
   "file_extension": ".py",
   "mimetype": "text/x-python",
   "name": "python",
   "nbconvert_exporter": "python",
   "pygments_lexer": "ipython3",
   "version": "3.11.3"
  }
 },
 "nbformat": 4,
 "nbformat_minor": 2
}
