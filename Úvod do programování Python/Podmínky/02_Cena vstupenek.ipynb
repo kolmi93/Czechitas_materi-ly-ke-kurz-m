{
 "cells": [
  {
   "cell_type": "markdown",
   "metadata": {},
   "source": [
    "# Cena vstupenek\n",
    "\n",
    "A nyní opět pokračujeme v našem rezervačním systému.\n",
    "\n",
    " 1. Program vstupenky01.py, který jste napsali v předchozí fázi, si uložte jako vstupenky02.py, abychom ho mohli dále rozšířit o výpočet ceny vstupenky.\n",
    " 2. Jakmile máte v programu načtený věk uživatele, vytvořte si proměnnou plna_cena, do které uložte hodnotu 12.\n",
    " 3. Vytvořte podmínku, která do proměnné cena uloží cenu spočítanou podle věku uživatele dle následujících pravidel\n",
    "  - 0 euro pro návštěvníky mladší 6 let,\n",
    "  - 65% ze základní ceny pro návštěvníky 6 až 26 let (žák, student),\n",
    "  - 100% ze základní ceny pro návštěvníky 27 až 64 let (dospělý),\n",
    "  - 50% ze základní ceny pro ostatní (senior).\n",
    "Nezapomeňte na zaokrouhlování, ať nám cena vyjde v celých centech. Zaokrouhlení na určitý počet desetinných míst se nastavuje druhým nepovinným parametrem funkce round().\n",
    "\n",
    " 4. Nakonec spočtenou cenu vypište s nějakou hezkou zprávou na výstup."
   ]
  },
  {
   "cell_type": "markdown",
   "metadata": {},
   "source": [
    "### Řešení"
   ]
  },
  {
   "cell_type": "code",
   "execution_count": 1,
   "metadata": {},
   "outputs": [
    {
     "name": "stdout",
     "output_type": "stream",
     "text": [
      "Divadlo Pěst na oko\n",
      "Vítejte v online rezervaci vstupenek\n",
      "Pro vstup do systému je třeba registrace.\n",
      "Cena Vaší vstupenky je 12,- Kč.\n"
     ]
    }
   ],
   "source": [
    "print('Divadlo Pěst na oko')\n",
    "print('Vítejte v online rezervaci vstupenek')\n",
    "print('Pro vstup do systému je třeba registrace.')\n",
    "\n",
    "jmeno = input('Jaké je Vaše jméno?\\n')\n",
    "vek = int(input('Kolik Vám je let?\\n'))\n",
    "\n",
    "plna_cena = 12\n",
    "\n",
    "if vek < 6:\n",
    "    cena = 0\n",
    "elif vek >= 6 and vek <= 26:\n",
    "    cena = plna_cena * 0.65\n",
    "elif vek >= 65:\n",
    "    cena = plna_cena * 0.5\n",
    "else:\n",
    "    cena = plna_cena\n",
    "\n",
    "print(f'Cena Vaší vstupenky je {cena},- Kč.')"
   ]
  }
 ],
 "metadata": {
  "kernelspec": {
   "display_name": "Python 3",
   "language": "python",
   "name": "python3"
  },
  "language_info": {
   "codemirror_mode": {
    "name": "ipython",
    "version": 3
   },
   "file_extension": ".py",
   "mimetype": "text/x-python",
   "name": "python",
   "nbconvert_exporter": "python",
   "pygments_lexer": "ipython3",
   "version": "3.11.3"
  }
 },
 "nbformat": 4,
 "nbformat_minor": 2
}
