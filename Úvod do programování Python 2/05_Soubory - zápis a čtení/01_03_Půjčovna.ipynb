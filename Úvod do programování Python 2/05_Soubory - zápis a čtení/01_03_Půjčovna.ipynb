{
 "cells": [
  {
   "cell_type": "markdown",
   "metadata": {},
   "source": [
    "# Půjčovna\n",
    "\n",
    "#### Půjčovna aut má v každém kraji ČR jedno auto s danou SPZ. Ke konci roku chce zjistit, kolik všechna auta najezdila dohromady kilometrů. V souboru auta.txt je pro každou SPZ zaznamenáno kolik dané auto ujelo kilometrů za daný rok. Hodnoty jsou v tisících kilometrů. Bohužel se v jednotlivých krajích blbě zkoordinovali a někdo používal desetinnou čárku, někdo zase tečku.\n",
    "\n",
    "#### Pozor! V souboru s daty je ještě jeden problém, který není na první pohled vidět!\n",
    "\n",
    "#### Napište program, který na výstup vypíše součet všech ujetých kilometrů. Jistě se vám bude hodit metoda řetězců jménem replace()."
   ]
  },
  {
   "cell_type": "markdown",
   "metadata": {},
   "source": [
    "### Řešení"
   ]
  },
  {
   "cell_type": "code",
   "execution_count": 3,
   "metadata": {},
   "outputs": [
    {
     "name": "stdout",
     "output_type": "stream",
     "text": [
      "2AD:3824 16.1\n",
      "\n",
      "6B2:6635 7.6\n",
      "\n",
      "4C8:2878 10,4\n",
      "\n",
      "2E7:7010 12,2\n",
      "\n",
      "2H4:2270 6.6\n",
      "\n",
      "3J5:7942 13.2\n",
      "\n",
      "3K3:2886 12,7\n",
      "\n",
      "2L0:2404 14,5\n",
      "\n",
      "2M6:1384 12.1\n",
      "\n",
      "4P6:3285 10.8\n",
      "\n",
      "7S5:9790 9.9\n",
      "\n",
      "6T9:9994 8,4\n",
      "\n",
      "4U9:2239 16,5\n",
      "\n",
      "3Z8:5802 10,1\n",
      "[16.1, 7.6, 10.4, 12.2, 6.6, 13.2, 12.7, 14.5, 12.1, 10.8, 9.9, 8.4, 16.5, 10.1]\n",
      "Celkově bylo ujeto 161.1 km.\n"
     ]
    }
   ],
   "source": [
    "spz = []\n",
    "with open('data\\\\spz.txt', encoding = 'utf-8') as file:\n",
    "    for line in file:\n",
    "        print(line)\n",
    "\n",
    "# pokud si vyprintujete soubor, můžete si všimnout, že některé km mají desetinná místa oddělena , a některá . Je tudíž třeba to sjednotit - použiji replace.\n",
    "# závorkách replace je první hodnota ta, kterou chci nahradit a druhá tou kterou chci nahrazovat\n",
    "\n",
    "        line = line.replace(',', '.')\n",
    "        line = float(line.split(' ')[-1])  # to mi říká, že v každé řádce jsou jednotlivé hodnoty rozděleny mezerou a že chci pracovat s tou hodnotou na konci -> [-1]\n",
    "        spz.append(line)\n",
    "print(spz)\n",
    "\n",
    "ujete_km = sum(spz)\n",
    "print(f'Celkově bylo ujeto {ujete_km} km.')"
   ]
  },
  {
   "cell_type": "code",
   "execution_count": 3,
   "metadata": {},
   "outputs": [
    {
     "name": "stdout",
     "output_type": "stream",
     "text": [
      "161.1\n"
     ]
    }
   ],
   "source": [
    "# verze od Jirky\n",
    "total_distance = 0\n",
    "with open('spz.txt', encoding=\"utf-8\") as file:\n",
    "    for line in file:\n",
    "        if len(line.strip()) > 0:\n",
    "            _, km = line.split()\n",
    "            km = km.replace(\",\", \".\")\n",
    "            km = float(km)\n",
    "            total_distance += km\n",
    "print(total_distance)"
   ]
  }
 ],
 "metadata": {
  "kernelspec": {
   "display_name": "Python 3",
   "language": "python",
   "name": "python3"
  },
  "language_info": {
   "codemirror_mode": {
    "name": "ipython",
    "version": 3
   },
   "file_extension": ".py",
   "mimetype": "text/x-python",
   "name": "python",
   "nbconvert_exporter": "python",
   "pygments_lexer": "ipython3",
   "version": "3.11.3"
  }
 },
 "nbformat": 4,
 "nbformat_minor": 2
}
