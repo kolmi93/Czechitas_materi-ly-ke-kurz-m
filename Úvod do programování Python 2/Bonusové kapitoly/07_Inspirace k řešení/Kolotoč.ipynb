{
 "cells": [
  {
   "cell_type": "markdown",
   "metadata": {},
   "source": [
    "# Kolotoč\n",
    "\n",
    "Naprogramuj simulaci televizní soutěže Kolotoč.\n",
    "\n",
    "## Průběh hry\n",
    "\n",
    "Vybraný řetězec je před uživatelem zamaskován (např. emoji symboly místo písmen) - vytisknuty jsou jen mezery a interpunkce. Uživatel hádá písmeno. Uhodnuté písmeno je odkryto ve všech jeho výskytech v textu. Nebude záležet na velikosti písmen (vše velkým, odpověď uživatele převést na velké)."
   ]
  },
  {
   "cell_type": "markdown",
   "metadata": {},
   "source": [
    "### Řešení"
   ]
  },
  {
   "cell_type": "code",
   "execution_count": 1,
   "metadata": {},
   "outputs": [
    {
     "name": "stdout",
     "output_type": "stream",
     "text": [
      "Vítáme Vás ve hře KOLOTOČ. Zvládnete uhádnout české přísloví?\n"
     ]
    }
   ],
   "source": [
    "import random\n",
    "\n",
    "UNCHANGED_CHARACTER = [' ', '.', ',', '_', '!', '?', '-']\n",
    "\n",
    "# Načtení přísloví ze souboru\n",
    "prislovi = []\n",
    "with open('přísloví.txt', mode='r', encoding='utf-8') as file:\n",
    "    for line in file:\n",
    "        prislovi.append(line.strip().upper())\n",
    "\n",
    "print('Vítáme Vás ve hře KOLOTOČ. Zvládnete uhádnout české přísloví?')\n",
    "\n",
    "# Generování náhodného přísloví\n",
    "\n",
    "while True:\n",
    "    selected = random.choice(prislovi)\n",
    "    index = prislovi.index(selected)\n",
    "    prislovi.pop(index)\n",
    "\n",
    "    # Záměna přísloví za znaky\n",
    "    hidden_proverb = []\n",
    "    for character in selected:\n",
    "        if character not in UNCHANGED_CHARACTER:\n",
    "            hidden_proverb.append('▮')\n",
    "        else:\n",
    "            hidden_proverb.append(character)\n",
    "\n",
    "    hidden_proverb_str = ''.join(hidden_proverb)\n",
    "    print(hidden_proverb_str)\n",
    "\n",
    "    # počet chybných hádání\n",
    "    wrong_guess = 0\n",
    "\n",
    "    # proces hádání\n",
    "    while '▮' in hidden_proverb:\n",
    "        guess = (input('\\nHádejte písmeno, které by mohlo být v přísloví:\\n')).upper()\n",
    "        found = False\n",
    "        for index, character in enumerate(selected):\n",
    "            if guess == character:\n",
    "                hidden_proverb[index] = guess\n",
    "                found = True\n",
    "\n",
    "        # Zvýšení počtu chybných hádání v případě nesprávného tipu\n",
    "        if not found:\n",
    "            wrong_guess += 1\n",
    "\n",
    "        # Aktualizace skrytého přísloví\n",
    "        hidden_proverb_str = ''.join(hidden_proverb)\n",
    "        print(hidden_proverb_str)\n",
    "\n",
    "    # Vyhodnocení hry\n",
    "    if '▮' not in hidden_proverb_str:\n",
    "        print(f'\\nGratulujeme, uhádl/a jste přísloví. Chybných pokusů: {wrong_guess}')\n",
    "\n",
    "    continue_game = input('Chcete pokračovat dále ve hře? [a/n]\\n')\n",
    "    if continue_game == 'a':\n",
    "        print('\\nDržte si klobouky, hra pokračuje dál.\\n')\n",
    "    else:\n",
    "        print('\\nHra končí. Děkujeme za Vaši účast. Brzy na viděnou.')\n",
    "        break\n",
    "\n",
    "    # Kontrola, zda zbylo 0 přísloví\n",
    "    if len(prislovi) == 0:\n",
    "        print('Hrál/a jste již tolikrát, že jste vypotřeboval/a všechny známá přísloví. Hra končí.')\n",
    "        break"
   ]
  }
 ],
 "metadata": {
  "kernelspec": {
   "display_name": "Python 3",
   "language": "python",
   "name": "python3"
  },
  "language_info": {
   "codemirror_mode": {
    "name": "ipython",
    "version": 3
   },
   "file_extension": ".py",
   "mimetype": "text/x-python",
   "name": "python",
   "nbconvert_exporter": "python",
   "pygments_lexer": "ipython3",
   "version": "3.11.3"
  }
 },
 "nbformat": 4,
 "nbformat_minor": 2
}
