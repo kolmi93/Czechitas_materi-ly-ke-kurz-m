{
 "cells": [
  {
   "cell_type": "markdown",
   "metadata": {},
   "source": [
    "# Cený balík\n",
    "\n",
    "#### Pokračuj ve své práci pro zásilkovou společnost. Společnost nově doručuje i cenné balíky, které mají zadanou určitou hodnotu.\n",
    "\n",
    "- Vytvoř třídu ValuablePackage, která dědí od třídy Package. ValuablePackage má navíc atribut value, ostatní atributy dědí od třídy Package.\n",
    "- Atribut value nastav pomocí funkce __init__. Ostatní parametry předej funkci __init__ třídy Package.\n",
    "- Přidej do výpisu informací o cenném balíku (metoda __str__) informaci o ceně balíku.\n",
    "- Vytvoř si alespoň jeden objekt a zkus volání jeho funkcí. Současně si vytvoř \"obyčejný\" balík o zkontroluj, že u něj se nic nezměnilo."
   ]
  },
  {
   "cell_type": "markdown",
   "metadata": {},
   "source": [
    "### Řešení"
   ]
  },
  {
   "cell_type": "code",
   "execution_count": 5,
   "metadata": {},
   "outputs": [
    {
     "name": "stdout",
     "output_type": "stream",
     "text": [
      "Balík na adresu Václavské náměstí 12, Praha, má hnotnost 0.25 a je ve stavu nedoručen. Balík má hodnotu 5000 Kč.\n",
      "Balík na adresu Horni Dolní 44, Tramtárie, má hnotnost 2.5 a je ve stavu nedoručen.\n",
      "Doručení uloženo.\n",
      "Balík na adresu Václavské náměstí 12, Praha, má hnotnost 0.25 a je ve stavu doručen. Balík má hodnotu 5000 Kč.\n",
      "Balík byl již doručen.\n",
      "Doručení uloženo.\n",
      "Balík na adresu Horni Dolní 44, Tramtárie, má hnotnost 2.5 a je ve stavu doručen.\n",
      "Balík byl již doručen.\n"
     ]
    }
   ],
   "source": [
    "class Package:\n",
    "    def __init__(self, address, weight, state = 'nedoručen'):\n",
    "        self.address = address\n",
    "        self.weight = weight\n",
    "        self.state = state\n",
    "    \n",
    "    def __str__(self):\n",
    "        return f'Balík na adresu {self.address}, má hnotnost {self.weight}.'\n",
    "        \n",
    "    def delivery_price(self):\n",
    "        if self.weight < 10:\n",
    "            price = 129\n",
    "        elif self.weight >= 10 and self.weight < 20:\n",
    "            price = 159\n",
    "        else:\n",
    "            price = 359\n",
    "        return price\n",
    "    \n",
    "    def deliver(self):\n",
    "        if self.state == 'doručen':\n",
    "            return f'Balík byl již doručen.'\n",
    "        else:\n",
    "            self.state = 'doručen'\n",
    "            return f'Doručení uloženo.'\n",
    "\n",
    "class ValuablePackage(Package):\n",
    "    def __init__(self, address, weight, value, state = 'nedoručen'):\n",
    "        super().__init__(address, weight, state)\n",
    "        self.value = value\n",
    "    \n",
    "    def __str__(self):\n",
    "        return super().__str__() + f' Balík má hodnotu {self.value} Kč.'\n",
    "    \n",
    "\n",
    "package_01 = ValuablePackage('Václavské náměstí 12, Praha', 0.25, 5000)\n",
    "package_02 = Package('Horni Dolní 44, Tramtárie', 2.5)\n",
    "\n",
    "# výpis informací o balících\n",
    "print(package_01)\n",
    "print(package_02)\n",
    "\n",
    "# doručení balíků\n",
    "print(package_01.deliver())\n",
    "print(package_01)\n",
    "print(package_01.deliver())\n",
    "\n",
    "print(package_02.deliver())\n",
    "print(package_02)\n",
    "print(package_02.deliver())\n"
   ]
  }
 ],
 "metadata": {
  "kernelspec": {
   "display_name": "Python 3",
   "language": "python",
   "name": "python3"
  },
  "language_info": {
   "codemirror_mode": {
    "name": "ipython",
    "version": 3
   },
   "file_extension": ".py",
   "mimetype": "text/x-python",
   "name": "python",
   "nbconvert_exporter": "python",
   "pygments_lexer": "ipython3",
   "version": "3.11.3"
  }
 },
 "nbformat": 4,
 "nbformat_minor": 2
}
