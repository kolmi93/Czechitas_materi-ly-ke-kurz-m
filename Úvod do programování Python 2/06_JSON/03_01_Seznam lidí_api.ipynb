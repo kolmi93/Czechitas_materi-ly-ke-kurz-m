{
 "cells": [
  {
   "cell_type": "markdown",
   "metadata": {},
   "source": [
    "# Seznam lidí\n",
    "\n",
    "Jak už jsme si ověřili v lekci, datové API na adrese https://api.kodim.cz/python-data/people obsahuje seznam lidí. Napište program, který tento seznam z API stáhne a převede z formátu JSON na Python slovníky. Proveďte následující úkoly.\n",
    "\n",
    " 1. Zjistěte kolik lidí celkem seznam obsahuje.\n",
    " 2. Zjistěte jaké všechny informace máme o jednotlivých osobách.\n",
    " 3. Zjistěte, kolik je v souboru mužů a žen."
   ]
  },
  {
   "cell_type": "markdown",
   "metadata": {},
   "source": [
    "### Řešení"
   ]
  },
  {
   "cell_type": "code",
   "execution_count": 10,
   "metadata": {},
   "outputs": [
    {
     "name": "stdout",
     "output_type": "stream",
     "text": [
      "dict_keys(['first_name', 'last_name', 'email', 'gender'])\n",
      "Žen: 511, mužů: 489.\n"
     ]
    }
   ],
   "source": [
    "import requests\n",
    "\n",
    "response = requests.get('https://api.kodim.cz/python-data/people')\n",
    "data = response.json()\n",
    "print(data)\n",
    "\n",
    "# kolik lidí seznam obsahuje\n",
    "print(len(data))\n",
    "\n",
    "# co o lidech víme\n",
    "print(data[0].keys())\n",
    "\n",
    "# kolik je v souboru žen a mužů\n",
    "women = 0\n",
    "men = 0\n",
    "for person in data:\n",
    "    if person['gender'] == 'Female':\n",
    "        women += 1\n",
    "    else:\n",
    "        men += 1\n",
    "\n",
    "print(f'Žen: {women}, mužů: {men}.')\n"
   ]
  }
 ],
 "metadata": {
  "kernelspec": {
   "display_name": "Python 3",
   "language": "python",
   "name": "python3"
  },
  "language_info": {
   "codemirror_mode": {
    "name": "ipython",
    "version": 3
   },
   "file_extension": ".py",
   "mimetype": "text/x-python",
   "name": "python",
   "nbconvert_exporter": "python",
   "pygments_lexer": "ipython3",
   "version": "3.11.3"
  }
 },
 "nbformat": 4,
 "nbformat_minor": 2
}
