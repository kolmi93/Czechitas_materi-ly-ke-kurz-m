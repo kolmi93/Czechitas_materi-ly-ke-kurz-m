{
 "cells": [
  {
   "cell_type": "markdown",
   "metadata": {},
   "source": [
    "# Gymnázium\n",
    "\n",
    "Matematické gymnázium nabízí aplikaci, která sděluje informaci o povinnosti vykonání přijímací zkoušky. Požádejte uživatele o zadání známky z matematiky a průměru všech známek na posledním vysvědčení. Pokud má zájemce průměr známek nižší než 1.8 a z matematiky nejhůře dvojku, vypište text: \"Přijmeme vás bez přijímací zkoušky.\". V opačném případě vypište \"Musíte splnit přijímací zkoušku.\"."
   ]
  },
  {
   "cell_type": "markdown",
   "metadata": {},
   "source": [
    "### Řešení"
   ]
  },
  {
   "cell_type": "code",
   "execution_count": 12,
   "metadata": {},
   "outputs": [
    {
     "name": "stdout",
     "output_type": "stream",
     "text": [
      "Musíte splnit přijímací zkoušku.\n"
     ]
    }
   ],
   "source": [
    "matematika = int(input('Zadejte, jakou mělo dítě známku z natematiky na vysvědčení:\\n'))\n",
    "prumer_vysvedceni = float(input('Jaký byl průměr známek dítěte na posledním vysvědčení:\\n'))\n",
    "\n",
    "if prumer_vysvedceni < 1.8 and matematika <= 2:\n",
    "  print('Přijmeme vás bez přijímací zkoušky.')\n",
    "else:\n",
    "  print('Musíte splnit přijímací zkoušku.')"
   ]
  }
 ],
 "metadata": {
  "kernelspec": {
   "display_name": "Python 3",
   "language": "python",
   "name": "python3"
  },
  "language_info": {
   "codemirror_mode": {
    "name": "ipython",
    "version": 3
   },
   "file_extension": ".py",
   "mimetype": "text/x-python",
   "name": "python",
   "nbconvert_exporter": "python",
   "pygments_lexer": "ipython3",
   "version": "3.11.3"
  }
 },
 "nbformat": 4,
 "nbformat_minor": 2
}
