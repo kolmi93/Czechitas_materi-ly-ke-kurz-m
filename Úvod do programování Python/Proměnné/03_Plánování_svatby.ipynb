{
 "cells": [
  {
   "cell_type": "markdown",
   "metadata": {},
   "source": [
    "# Plánování svatby\n",
    "\n",
    "Karolína bude mít za půl roku svatbu a právě obdržela od agentury ceník služeb. Cena za kompletní menu pro dospělou osobu je 990 Kč, pro dítě je to 50 % ceny dospělého.\n",
    "\n",
    " - Uložte cenu za dospělou osobu do proměnné cena_dospely.\n",
    " - Pomocí proměnné cena_dospely vypočítejte cenu za dítě, tu uložte do proměnné cena_dite.\n",
    " - Vypočítejte celkové náklady na jídlo pro 60 dospělých a 8 dětí. Pro výpočet použijte předchozí proměnné.\n",
    " - V ceníku byla chyba, cena za dospělého je ve skutečnosti 1000 Kč. Upravte na základě této informace všechny proměnné."
   ]
  },
  {
   "cell_type": "markdown",
   "metadata": {},
   "source": [
    "### Řešení"
   ]
  },
  {
   "cell_type": "code",
   "execution_count": 1,
   "metadata": {},
   "outputs": [
    {
     "name": "stdout",
     "output_type": "stream",
     "text": [
      "63360.0\n",
      "64000.0\n"
     ]
    }
   ],
   "source": [
    "cena_dospely = 990\n",
    "cena_dite = cena_dospely * 0.5\n",
    "celkove_naklady = cena_dospely * 60 + cena_dite * 8\n",
    "print(celkove_naklady)\n",
    "\n",
    "cena_dospely = 1000\n",
    "cena_dite = cena_dospely * 0.5\n",
    "celkove_naklady = cena_dospely * 60 + cena_dite * 8\n",
    "print(celkove_naklady)"
   ]
  }
 ],
 "metadata": {
  "kernelspec": {
   "display_name": "Python 3",
   "language": "python",
   "name": "python3"
  },
  "language_info": {
   "codemirror_mode": {
    "name": "ipython",
    "version": 3
   },
   "file_extension": ".py",
   "mimetype": "text/x-python",
   "name": "python",
   "nbconvert_exporter": "python",
   "pygments_lexer": "ipython3",
   "version": "3.11.3"
  }
 },
 "nbformat": 4,
 "nbformat_minor": 2
}
