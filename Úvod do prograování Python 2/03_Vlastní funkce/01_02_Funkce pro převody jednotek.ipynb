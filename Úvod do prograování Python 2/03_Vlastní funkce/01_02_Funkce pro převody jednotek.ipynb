{
 "cells": [
  {
   "cell_type": "markdown",
   "metadata": {},
   "source": [
    "# Funkce pro převody jednotek\n",
    "\n",
    "Převod kilometrů na míle a zpět\n",
    "Napište dvě funkce: kilometry_na_mile(kilometry) a mily_na_kilometry(mile), které provedou převod mezi kilometry a mílemi.\n",
    "\n",
    "Převod metrů na stopy a zpět\n",
    "Napište funkce: metry_na_stopy(metry) a stopy_na_metry(stopy), které umožňují převod mezi metry a stopami.\n",
    "\n",
    "Převod centimetrů na palce a zpět\n",
    "Vytvořte dvě funkce: centimetry_na_palec(centimetry) a palce_na_centimetry(palce), které umožní převod mezi centimetry a palci.\n",
    "\n",
    "Převod hmotnosti kilogramů na libry a zpět\n",
    "Napište funkce: kilogramy_na_libry(kilogramy) a libry_na_kilogramy(libry), které provedou převod mezi kilogramy a librami.\n",
    "\n",
    "Převod objemu litrů na galony a zpět\n",
    "Vytvořte dvě funkce: litry_na_galony(litry) a galony_na_litry(galony), které umožní převod mezi litry a galony.\n",
    "\n",
    "Převod rychlosti kilometrů za hodinu na míle za hodinu a zpět\n",
    "Napište funkce: kmh_na_mph(kmh) a mph_na_kmh(mph), které umožní převod rychlosti mezi kilometry za hodinu a míli za hodinu.\n",
    "\n",
    "Převod teploty ze stupňů Celsia na Fahrenheit a zpět\n",
    "Vytvořte dvě funkce: celsia_na_fahrenheit(teplota) a fahrenheit_na_celsia(teplota), které umožňují převod teploty mezi stupni Celsia a stupni Fahrenheit.\n",
    "\n",
    "! TIP !\n",
    "Všechny výsledky si ověřte pomocí online kalkulátoru, že vycházejí správně!\n",
    "\n",
    "Vzorečky vycházejí z tohoto: https://www.metric-conversions.org/"
   ]
  },
  {
   "cell_type": "markdown",
   "metadata": {},
   "source": []
  },
  {
   "cell_type": "markdown",
   "metadata": {},
   "source": [
    "### Řešení"
   ]
  },
  {
   "cell_type": "markdown",
   "metadata": {},
   "source": [
    "kilometry na míle a zpět:"
   ]
  },
  {
   "cell_type": "code",
   "execution_count": 1,
   "metadata": {},
   "outputs": [
    {
     "name": "stdout",
     "output_type": "stream",
     "text": [
      "0 6214\n",
      "1.60926939169617\n"
     ]
    }
   ],
   "source": [
    "def kilometry_na_mile(a):\n",
    "    print(a * 0,6214)\n",
    "\n",
    "kilometry_na_mile(1)\n",
    "\n",
    "def mile_na_kilometry (a):\n",
    "    print(a / 0.6214)\n",
    "\n",
    "mile_na_kilometry(1)"
   ]
  },
  {
   "cell_type": "markdown",
   "metadata": {},
   "source": [
    "metry na stopy a zpět:"
   ]
  },
  {
   "cell_type": "code",
   "execution_count": 2,
   "metadata": {},
   "outputs": [
    {
     "name": "stdout",
     "output_type": "stream",
     "text": [
      "0.30480370641307\n",
      "0.30480370641307\n"
     ]
    }
   ],
   "source": [
    "def metry_na_stopy(a):\n",
    "    print(a / 3.2808)\n",
    "\n",
    "metry_na_stopy(1)\n",
    "\n",
    "def stopy_na_metry(a):\n",
    "    print(a / 3.2808)\n",
    "\n",
    "stopy_na_metry(1)"
   ]
  },
  {
   "cell_type": "markdown",
   "metadata": {},
   "source": [
    "centimetry na palce a zpět:"
   ]
  },
  {
   "cell_type": "code",
   "execution_count": 3,
   "metadata": {},
   "outputs": [
    {
     "name": "stdout",
     "output_type": "stream",
     "text": [
      "0.3937\n",
      "2.54000508001016\n"
     ]
    }
   ],
   "source": [
    "def centimetry_na_palce(a):\n",
    "    print(a * 0.39370)\n",
    "\n",
    "centimetry_na_palce(1)\n",
    "\n",
    "def palce_na_centimetry(a):\n",
    "    print(a / 0.39370)\n",
    "\n",
    "palce_na_centimetry(1)"
   ]
  },
  {
   "cell_type": "markdown",
   "metadata": {},
   "source": [
    "kilogramy na libry a zpět:"
   ]
  },
  {
   "cell_type": "code",
   "execution_count": 4,
   "metadata": {},
   "outputs": [
    {
     "name": "stdout",
     "output_type": "stream",
     "text": [
      "2.2046\n",
      "0.4535970244035199\n"
     ]
    }
   ],
   "source": [
    "def kg_na_libry(a):\n",
    "    print(a * 2.2046)\n",
    "\n",
    "kg_na_libry(1)\n",
    "\n",
    "def libry_na_kg(a):\n",
    "    print(a / 2.2046)\n",
    "\n",
    "libry_na_kg(1)"
   ]
  },
  {
   "cell_type": "markdown",
   "metadata": {},
   "source": [
    "litry na galon a zpět (konkrétně galon VB):"
   ]
  },
  {
   "cell_type": "code",
   "execution_count": 5,
   "metadata": {},
   "outputs": [
    {
     "name": "stdout",
     "output_type": "stream",
     "text": [
      "0.21997\n",
      "4.546074464699732\n"
     ]
    }
   ],
   "source": [
    "def litr_na_galon(a):\n",
    "    print(a * 0.21997)\n",
    "\n",
    "litr_na_galon(1)\n",
    "\n",
    "def galon_na_litr(a):\n",
    "    print(a / 0.21997)\n",
    "\n",
    "galon_na_litr(1)"
   ]
  },
  {
   "cell_type": "markdown",
   "metadata": {},
   "source": [
    "km/h na míle/h a zpět:"
   ]
  },
  {
   "cell_type": "code",
   "execution_count": 6,
   "metadata": {},
   "outputs": [
    {
     "name": "stdout",
     "output_type": "stream",
     "text": [
      "0.62137\n",
      "1.6093470878864444\n"
     ]
    }
   ],
   "source": [
    "def kmh_na_mh(a):\n",
    "    print(a * 0.62137)\n",
    "\n",
    "kmh_na_mh(1)\n",
    "\n",
    "def mh_na_kmh(a):\n",
    "    print(a / 0.62137)\n",
    "\n",
    "mh_na_kmh(1)"
   ]
  },
  {
   "cell_type": "markdown",
   "metadata": {},
   "source": [
    "celsia na fahrnheit a zpět:"
   ]
  },
  {
   "cell_type": "code",
   "execution_count": 7,
   "metadata": {},
   "outputs": [
    {
     "name": "stdout",
     "output_type": "stream",
     "text": [
      "33.8\n",
      "-17.22222222222222\n"
     ]
    }
   ],
   "source": [
    "def celsium_na_fahrnheit(a):\n",
    "    print(a * 1.8 + 32)\n",
    "\n",
    "celsium_na_fahrnheit(1)\n",
    "\n",
    "def fahrnheit_na_celsius(a):\n",
    "    print((a - 32) / 1.8)\n",
    "\n",
    "fahrnheit_na_celsius(1) "
   ]
  }
 ],
 "metadata": {
  "kernelspec": {
   "display_name": "Python 3",
   "language": "python",
   "name": "python3"
  },
  "language_info": {
   "codemirror_mode": {
    "name": "ipython",
    "version": 3
   },
   "file_extension": ".py",
   "mimetype": "text/x-python",
   "name": "python",
   "nbconvert_exporter": "python",
   "pygments_lexer": "ipython3",
   "version": "3.11.3"
  }
 },
 "nbformat": 4,
 "nbformat_minor": 2
}
