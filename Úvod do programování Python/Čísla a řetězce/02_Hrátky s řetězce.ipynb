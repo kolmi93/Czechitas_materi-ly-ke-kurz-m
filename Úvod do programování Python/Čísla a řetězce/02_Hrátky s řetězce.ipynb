{
 "cells": [
  {
   "cell_type": "markdown",
   "metadata": {},
   "source": [
    "# Hráty s řetězce\n",
    "\n",
    "- Vypište řetězec obsahující jméno divadla.\n",
    "- Vypište řetězec obsahující jméno divadla tak, že sečtete dohromady jednotlivá slova toho jména.\n",
    "- Zkuste vynásobit řetězec celým číslem. Jaký jste dostali výsledek?\n",
    "- Vypište řetězec který vypadá takto: '111111000000', ale místo šesti jedniček a šesti nul obsahuje 256 jedniček a 256 nul."
   ]
  },
  {
   "cell_type": "markdown",
   "metadata": {},
   "source": [
    "### Řešení"
   ]
  },
  {
   "cell_type": "code",
   "execution_count": 1,
   "metadata": {},
   "outputs": [
    {
     "name": "stdout",
     "output_type": "stream",
     "text": [
      "Divadlo U Tří sester\n"
     ]
    }
   ],
   "source": [
    "print('Divadlo U Tří sester')"
   ]
  },
  {
   "cell_type": "code",
   "execution_count": 2,
   "metadata": {},
   "outputs": [
    {
     "name": "stdout",
     "output_type": "stream",
     "text": [
      "Divadlo U Tří sester\n"
     ]
    }
   ],
   "source": [
    "print('Divadlo' + ' ' + 'U' + ' ' + 'Tří' + ' ' + 'sester')"
   ]
  },
  {
   "cell_type": "code",
   "execution_count": 3,
   "metadata": {},
   "outputs": [
    {
     "name": "stdout",
     "output_type": "stream",
     "text": [
      "Divadlo U Tří sesterDivadlo U Tří sester\n"
     ]
    }
   ],
   "source": [
    "print('Divadlo U Tří sester' * 2)"
   ]
  },
  {
   "cell_type": "code",
   "execution_count": 4,
   "metadata": {},
   "outputs": [
    {
     "name": "stdout",
     "output_type": "stream",
     "text": [
      "11111111111111111111111111111111111111111111111111111111111111111111111111111111111111111111111111111111111111111111111111111111111111111111111111111111111111111111111111111111111111111111111111111111111111111111111111111111111111111111111111111111111111110000000000000000000000000000000000000000000000000000000000000000000000000000000000000000000000000000000000000000000000000000000000000000000000000000000000000000000000000000000000000000000000000000000000000000000000000000000000000000000000000000000000000000\n"
     ]
    }
   ],
   "source": [
    "print('1' * 256 + '0' * 256)"
   ]
  }
 ],
 "metadata": {
  "kernelspec": {
   "display_name": "Python 3",
   "language": "python",
   "name": "python3"
  },
  "language_info": {
   "codemirror_mode": {
    "name": "ipython",
    "version": 3
   },
   "file_extension": ".py",
   "mimetype": "text/x-python",
   "name": "python",
   "nbconvert_exporter": "python",
   "pygments_lexer": "ipython3",
   "version": "3.11.3"
  }
 },
 "nbformat": 4,
 "nbformat_minor": 2
}
