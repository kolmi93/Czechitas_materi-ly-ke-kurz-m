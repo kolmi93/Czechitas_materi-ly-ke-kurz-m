{
 "cells": [
  {
   "cell_type": "markdown",
   "metadata": {},
   "source": [
    "# Banka\n",
    "\n",
    "Nasimulujme si fungování bankovní aplikace, konkrétně žádost o převod peněz z účtu. Na začátku si vytvoř program balance.txt a do něj vlož nějaké číslo. Toto číslo reprezentuje aktuální zůstatek na účtu.\n",
    "\n",
    "Přečti hodnotu v souboru, převeď ji na číslo a ulož ji do proměnné account_balance. Čtení souboru i převod na číslo ošetři pomocí výjimek. Následně se zeptej uživatele (uživatelky), kolik peněz chce převést na jiný účet. Ošetři pomocí výjimky, že uživatel (uživatelka) zadal(a) číslo. Dále vyvolej ValueError v případě, že zadaná částka je záporná nebo vyšší než zústatek na účtu. Pokud je vše v pořádku, spočítej nový zůstatek a zapiš ho do souboru balance.txt."
   ]
  },
  {
   "cell_type": "markdown",
   "metadata": {},
   "source": [
    "### Řešení"
   ]
  },
  {
   "cell_type": "code",
   "execution_count": 10,
   "metadata": {},
   "outputs": [
    {
     "ename": "ValueError",
     "evalue": "Zadaná částka je vyšší než zůstatek na účtu.",
     "output_type": "error",
     "traceback": [
      "\u001b[1;31m---------------------------------------------------------------------------\u001b[0m",
      "\u001b[1;31mValueError\u001b[0m                                Traceback (most recent call last)",
      "Cell \u001b[1;32mIn[10], line 21\u001b[0m\n\u001b[0;32m     19\u001b[0m     \u001b[38;5;28;01mraise\u001b[39;00m \u001b[38;5;167;01mValueError\u001b[39;00m(\u001b[38;5;124m\"\u001b[39m\u001b[38;5;124mZadaná částka je záporná a zápornou částku nelze převést.\u001b[39m\u001b[38;5;124m\"\u001b[39m)\n\u001b[0;32m     20\u001b[0m \u001b[38;5;28;01mif\u001b[39;00m amount \u001b[38;5;241m>\u001b[39m account_balance:\n\u001b[1;32m---> 21\u001b[0m     \u001b[38;5;28;01mraise\u001b[39;00m \u001b[38;5;167;01mValueError\u001b[39;00m(\u001b[38;5;124m\"\u001b[39m\u001b[38;5;124mZadaná částka je vyšší než zůstatek na účtu.\u001b[39m\u001b[38;5;124m\"\u001b[39m)\n\u001b[0;32m     23\u001b[0m account_balance \u001b[38;5;241m-\u001b[39m\u001b[38;5;241m=\u001b[39m amount\n\u001b[0;32m     25\u001b[0m \u001b[38;5;28;01mwith\u001b[39;00m \u001b[38;5;28mopen\u001b[39m(\u001b[38;5;124m\"\u001b[39m\u001b[38;5;124mbalance.txt\u001b[39m\u001b[38;5;124m\"\u001b[39m, mode\u001b[38;5;241m=\u001b[39m\u001b[38;5;124m'\u001b[39m\u001b[38;5;124mw\u001b[39m\u001b[38;5;124m'\u001b[39m, encoding\u001b[38;5;241m=\u001b[39m\u001b[38;5;124m'\u001b[39m\u001b[38;5;124mutf-8\u001b[39m\u001b[38;5;124m'\u001b[39m) \u001b[38;5;28;01mas\u001b[39;00m output_file:\n",
      "\u001b[1;31mValueError\u001b[0m: Zadaná částka je vyšší než zůstatek na účtu."
     ]
    }
   ],
   "source": [
    "import sys\n",
    "try:\n",
    "    with open(\"balance.txt\", mode='r', encoding='utf-8') as file:\n",
    "        account_balance = int(file.read())\n",
    "except FileNotFoundError:\n",
    "    print(\"Soubor, který se snažíte načíst, neexistuje\")\n",
    "    sys.exit()\n",
    "except ValueError:\n",
    "    print(\"Soubor obsahuje špatný formát. Je třeba převést na celé číslo(integer).\")\n",
    "    sys.exit()\n",
    "\n",
    "try:\n",
    "    amount = int(input(\"Kolik peněz chcete převést na jiný účet? \"))\n",
    "except ValueError:\n",
    "    print(\"Zadaná hodnota není celé číslo (integer).\")\n",
    "    sys.exit()\n",
    "\n",
    "if amount < 0:\n",
    "    raise ValueError(\"Zadaná částka je záporná a zápornou částku nelze převést.\")\n",
    "if amount > account_balance:\n",
    "    raise ValueError(\"Zadaná částka je vyšší než Váš zůstatek na účtu.\")\n",
    "\n",
    "account_balance -= amount\n",
    "\n",
    "with open(\"balance.txt\", mode='w', encoding='utf-8') as output_file:\n",
    "    output_file.write(str(account_balance))"
   ]
  }
 ],
 "metadata": {
  "kernelspec": {
   "display_name": "Python 3",
   "language": "python",
   "name": "python3"
  },
  "language_info": {
   "codemirror_mode": {
    "name": "ipython",
    "version": 3
   },
   "file_extension": ".py",
   "mimetype": "text/x-python",
   "name": "python",
   "nbconvert_exporter": "python",
   "pygments_lexer": "ipython3",
   "version": "3.11.3"
  }
 },
 "nbformat": 4,
 "nbformat_minor": 2
}
