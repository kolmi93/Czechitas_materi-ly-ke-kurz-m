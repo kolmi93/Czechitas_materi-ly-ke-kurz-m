{
 "cells": [
  {
   "cell_type": "markdown",
   "metadata": {},
   "source": [
    "# Vánoční party\n",
    "\n",
    "#### Ve statistice existuje ukazatel zvaný modus, který vrátí nejčastější hodnotu v datech. V modulu statistics existuje funkce mode(), která umí modus spočítat. Funkce mode() má navíc vychytávku, umí pracovat i s řetězci.\n",
    "\n",
    "#### Uvažuj data v seznamu votes, což je hlasování zaměstnanců malé firmy o tom, jakou akci podniknou během jejich vánočního večírku. Použij funkce mode() ke zjištění, pro jakou aktivitu hlasovalo nejvíce zaměstnanců. Funkce má jeden parametr - seznam, ze kterého má určit nejčastější prvek."
   ]
  },
  {
   "cell_type": "code",
   "execution_count": 2,
   "metadata": {},
   "outputs": [],
   "source": [
    "votes = [\n",
    "    \"curling\", \n",
    "    \"vánoční svařák na trzích\", \n",
    "    \"vánoční svařák na trzích\", \n",
    "    \"curling\", \n",
    "    \"zážitková první pomoc\",\n",
    "    \"curling\", \n",
    "    \"zážitková první pomoc\",\n",
    "    \"curling\",\n",
    "    \"zážitková první pomoc\",\n",
    "    ]"
   ]
  },
  {
   "cell_type": "code",
   "execution_count": 3,
   "metadata": {},
   "outputs": [
    {
     "name": "stdout",
     "output_type": "stream",
     "text": [
      "curling\n"
     ]
    }
   ],
   "source": [
    "import statistics\n",
    "\n",
    "print(statistics.mode(votes))"
   ]
  }
 ],
 "metadata": {
  "kernelspec": {
   "display_name": "Python 3",
   "language": "python",
   "name": "python3"
  },
  "language_info": {
   "codemirror_mode": {
    "name": "ipython",
    "version": 3
   },
   "file_extension": ".py",
   "mimetype": "text/x-python",
   "name": "python",
   "nbconvert_exporter": "python",
   "pygments_lexer": "ipython3",
   "version": "3.11.3"
  }
 },
 "nbformat": 4,
 "nbformat_minor": 2
}
