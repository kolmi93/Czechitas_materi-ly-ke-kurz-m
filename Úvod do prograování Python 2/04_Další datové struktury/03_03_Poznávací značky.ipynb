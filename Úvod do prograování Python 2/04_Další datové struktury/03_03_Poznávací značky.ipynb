{
 "cells": [
  {
   "cell_type": "markdown",
   "metadata": {},
   "source": [
    "# Poznávací značky\n",
    "\n",
    "#### V následujícím slovníků je evidence automobilů. Klíčem jsou státní poznávací značky (SPZ) a hodnotou je jméno majitele vozu. Napiš program, který vypíše všechny majitele, jejichž vozidlo je registrováno v Plzeňském kraji, tj. na druhém místě (index 1!) řetězce v klíči je písmeno P."
   ]
  },
  {
   "cell_type": "code",
   "execution_count": 14,
   "metadata": {},
   "outputs": [],
   "source": [
    "plates = {\"4A2 3000\": \"František Novák\",\n",
    "    \"6P5 4747\": \"Jana Pilná\",\n",
    "    \"3B7 3652\": \"Jaroslav Sečkár\",\n",
    "    \"1P5 5269\": \"Marta Nováková\",\n",
    "    \"37E 1252\": \"Martina Matušková\",\n",
    "    \"2A5 2241\": \"Jan Král\"}"
   ]
  },
  {
   "cell_type": "markdown",
   "metadata": {},
   "source": [
    "# Řešení"
   ]
  },
  {
   "cell_type": "code",
   "execution_count": 16,
   "metadata": {},
   "outputs": [
    {
     "name": "stdout",
     "output_type": "stream",
     "text": [
      "Jana Pilná\n",
      "Marta Nováková\n"
     ]
    }
   ],
   "source": [
    "for spz, jmeno in plates.items():\n",
    "    if spz[1] == 'P':\n",
    "        print(jmeno)"
   ]
  }
 ],
 "metadata": {
  "kernelspec": {
   "display_name": "Python 3",
   "language": "python",
   "name": "python3"
  },
  "language_info": {
   "codemirror_mode": {
    "name": "ipython",
    "version": 3
   },
   "file_extension": ".py",
   "mimetype": "text/x-python",
   "name": "python",
   "nbconvert_exporter": "python",
   "pygments_lexer": "ipython3",
   "version": "3.11.3"
  }
 },
 "nbformat": 4,
 "nbformat_minor": 2
}
