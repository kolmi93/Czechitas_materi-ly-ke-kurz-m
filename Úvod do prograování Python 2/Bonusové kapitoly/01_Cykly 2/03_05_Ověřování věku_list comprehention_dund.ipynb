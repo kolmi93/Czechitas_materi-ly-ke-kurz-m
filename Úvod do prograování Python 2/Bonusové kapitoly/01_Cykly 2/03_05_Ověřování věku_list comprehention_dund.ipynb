{
 "cells": [
  {
   "cell_type": "markdown",
   "metadata": {},
   "source": [
    "# Ověřování věku\n",
    "\n",
    "Následující seznam obsahuje věky uživatelů naší malé sociální sítě."
   ]
  },
  {
   "cell_type": "code",
   "execution_count": 13,
   "metadata": {},
   "outputs": [],
   "source": [
    "veky = [35, 12, 44, 11, 18, 21, 28, 18]"
   ]
  },
  {
   "cell_type": "markdown",
   "metadata": {},
   "source": [
    " 1. Vytvořte pomocí chroustání seznamů seznam celých čísel, které udávají, kolik jednotlivým uživatelům zbývá do 18ti let. Záporná čísla budou znamenat, že uživatel už věk překročil.\n",
    " 2. Vytvořte pomocí chroustání seznamů seznam pravdivostních hodnot, které udávají, který uživatel je starší 18ti let.\n",
    " 3. Vytvořte pomocí chroustání seznamů seznam pravdivostních hodnot, které udávají, který uživatel má přesně 18 let."
   ]
  },
  {
   "cell_type": "markdown",
   "metadata": {},
   "source": [
    "### Řešení"
   ]
  },
  {
   "cell_type": "code",
   "execution_count": 14,
   "metadata": {},
   "outputs": [
    {
     "name": "stdout",
     "output_type": "stream",
     "text": [
      "[-17, 6, -26, 7, 0, -3, -10, 0]\n"
     ]
    }
   ],
   "source": [
    "# kolik zvývá do 18\n",
    "\n",
    "osmnact = [18-vek for vek in veky]\n",
    "print(osmnact)"
   ]
  },
  {
   "cell_type": "code",
   "execution_count": 15,
   "metadata": {},
   "outputs": [
    {
     "name": "stdout",
     "output_type": "stream",
     "text": [
      "[True, False, True, False, False, True, True, False]\n"
     ]
    }
   ],
   "source": [
    "# True pokud je 18+\n",
    "\n",
    "pravda = [vek > 18 for vek in veky]\n",
    "print(pravda)"
   ]
  },
  {
   "cell_type": "code",
   "execution_count": 16,
   "metadata": {},
   "outputs": [
    {
     "name": "stdout",
     "output_type": "stream",
     "text": [
      "[False, False, False, False, True, False, False, True]\n"
     ]
    }
   ],
   "source": [
    "# přesně 18 let\n",
    "\n",
    "presne = [vek == 18 for vek in veky]\n",
    "print(presne)"
   ]
  }
 ],
 "metadata": {
  "kernelspec": {
   "display_name": "Python 3",
   "language": "python",
   "name": "python3"
  },
  "language_info": {
   "codemirror_mode": {
    "name": "ipython",
    "version": 3
   },
   "file_extension": ".py",
   "mimetype": "text/x-python",
   "name": "python",
   "nbconvert_exporter": "python",
   "pygments_lexer": "ipython3",
   "version": "3.11.3"
  }
 },
 "nbformat": 4,
 "nbformat_minor": 2
}
