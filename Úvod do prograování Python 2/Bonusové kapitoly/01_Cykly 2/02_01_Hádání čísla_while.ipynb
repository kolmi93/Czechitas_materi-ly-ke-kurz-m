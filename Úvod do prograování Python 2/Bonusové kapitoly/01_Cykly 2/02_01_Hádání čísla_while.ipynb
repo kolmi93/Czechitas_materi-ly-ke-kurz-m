{
 "cells": [
  {
   "cell_type": "markdown",
   "metadata": {},
   "source": [
    "# Hádání čísla\n",
    "\n",
    "Napište interaktivní hru, ve které počítač vygeneruje tajné číslo v rozsahu 1 až 100 (použijte funkci random.randint()). Následně se v cyklu ptejte uživatele, aby zadal číslo a vypisujte vždy jestli je zadané číslo nižší nebo vyšší než tajné číslo. Ukončete cyklus v momentě, kdy uživatel trefí tajné číslo."
   ]
  },
  {
   "cell_type": "markdown",
   "metadata": {},
   "source": [
    "### Řešení"
   ]
  },
  {
   "cell_type": "code",
   "execution_count": 2,
   "metadata": {},
   "outputs": [
    {
     "name": "stdout",
     "output_type": "stream",
     "text": [
      "Vybrané číslo 50 je větší než hledané číslo.\n",
      "Vybrané číslo 14 je menší než hledané číslo.\n",
      "Vybrané číslo 20 je menší než hledané číslo.\n",
      "Vybrané číslo 30 je menší než hledané číslo.\n",
      "Vybrané číslo 40 je větší než hledané číslo.\n",
      "Vybrané číslo 40 je větší než hledané číslo.\n",
      "Vybrané číslo 39 je větší než hledané číslo.\n",
      "Vybrané číslo 38 je větší než hledané číslo.\n",
      "Gratulujeme! Našel/Našla jste tajné číslo. Tajné číslo bylo číslo 37\n"
     ]
    }
   ],
   "source": [
    "import random\n",
    "\n",
    "secret_number = random.randint(1, 101)\n",
    "\n",
    "\n",
    "while True:\n",
    "    number = int(input('Zadej libovolné číslo od 0 do 100:\\n'))\n",
    "\n",
    "    if number == secret_number:\n",
    "        print(f'Gratulujeme! Našel/Našla jste tajné číslo. Tajné číslo bylo číslo {secret_number}.')\n",
    "        break\n",
    "\n",
    "    if number > secret_number:\n",
    "        print(f'Vybrané číslo {number} je větší než hledané číslo.')\n",
    "    elif number < secret_number:\n",
    "        print(f'Vybrané číslo {number} je menší než hledané číslo.')"
   ]
  }
 ],
 "metadata": {
  "kernelspec": {
   "display_name": "Python 3",
   "language": "python",
   "name": "python3"
  },
  "language_info": {
   "codemirror_mode": {
    "name": "ipython",
    "version": 3
   },
   "file_extension": ".py",
   "mimetype": "text/x-python",
   "name": "python",
   "nbconvert_exporter": "python",
   "pygments_lexer": "ipython3",
   "version": "3.11.3"
  }
 },
 "nbformat": 4,
 "nbformat_minor": 2
}
