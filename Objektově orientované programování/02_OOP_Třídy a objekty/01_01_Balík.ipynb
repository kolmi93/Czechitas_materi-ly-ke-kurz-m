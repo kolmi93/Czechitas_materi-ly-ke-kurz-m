{
 "cells": [
  {
   "cell_type": "markdown",
   "metadata": {},
   "source": [
    "# Balík\n",
    "\n",
    "#### Uvažuj, že navrhuješ software pro zásilkovou společnost.\n",
    "\n",
    "- Vytvoř třídu Package, která bude mít tři atributy - address, weight a state. Vytvoř metodu __init__, která uloží hodnoty parametrů metody do atributů.\n",
    "- Přidej metodu get_info(), která vrátí informace o balíku jako řetězec. Uvažuj například větu \"Balík na adresu Václavské Náměstí 12, Praha má hmotnost 0.25 kg je ve stavu nedoručen\".\n",
    "- Zkus si vytvořit alespoň dva objekty ze třídy Balik. U address uvažujeme typ řetězec (str), u weight desetinné číslo. U atributu state zadávej pro zjednodušení pouze dva stavy: doručen a nedoručen.\n",
    "- Vypiš informace, které generuje metoda get_info(), na obrazovku, a ověř, že je vše v pořádku.\n",
    "- Vytvoř metodu delivery_price(), která vypočítá cenu přepravy balíku. Cena přepravy je daná hmotností balíku. Cena přepravy balíku do 10 kg je 129 Kč, cena přepravy balíku od 10 kg do 20 kg je 159 Kč a cena přepravy balíků těžších než 20 kg je 359 Kč. Metoda spočítá cenu a vrátí ji jako číslo."
   ]
  },
  {
   "cell_type": "markdown",
   "metadata": {},
   "source": [
    "### Řešení"
   ]
  },
  {
   "cell_type": "code",
   "execution_count": 1,
   "metadata": {},
   "outputs": [
    {
     "name": "stdout",
     "output_type": "stream",
     "text": [
      "Balík na adresu Václavské náměstí 12, Praha, má hnotnost 0.25 a je ve stavu nedoručen.\n",
      "Cena za doručení balíku činí: 129,- Kč.\n",
      "Balík na adresu Horni Dolní 44, Tramtárie, má hnotnost 12.5 a je ve stavu doručen.\n",
      "Cena za doručení balíku činí: 159,- Kč.\n"
     ]
    }
   ],
   "source": [
    "class Package:\n",
    "    def __init__(self, address, weight, state):\n",
    "        self.address = address\n",
    "        self.weight = weight\n",
    "        self.state = state\n",
    "\n",
    "    def get_info(self):\n",
    "        return f'Balík na adresu {self.address}, má hnotnost {self.weight} a je ve stavu {self.state}.'\n",
    "\n",
    "    def delivery_price(self):\n",
    "        price = 0\n",
    "        if self.weight < 10:\n",
    "            price = 129\n",
    "        elif self.weight >= 10 and self.weight < 20:\n",
    "            price = 159\n",
    "        else:\n",
    "            price = 359\n",
    "        return f'Cena za doručení balíku činí: {price},- Kč.'\n",
    "\n",
    "package_01 = Package('Václavské náměstí 12, Praha', 0.25, 'nedoručen')\n",
    "package_02 = Package('Horni Dolní 44, Tramtárie', 12.5, 'doručen')\n",
    "\n",
    "print(package_01.get_info())\n",
    "print(package_01.delivery_price())\n",
    "print(package_02.get_info())\n",
    "print(package_02.delivery_price())\n",
    "\n"
   ]
  }
 ],
 "metadata": {
  "kernelspec": {
   "display_name": "Python 3",
   "language": "python",
   "name": "python3"
  },
  "language_info": {
   "codemirror_mode": {
    "name": "ipython",
    "version": 3
   },
   "file_extension": ".py",
   "mimetype": "text/x-python",
   "name": "python",
   "nbconvert_exporter": "python",
   "pygments_lexer": "ipython3",
   "version": "3.11.3"
  }
 },
 "nbformat": 4,
 "nbformat_minor": 2
}
