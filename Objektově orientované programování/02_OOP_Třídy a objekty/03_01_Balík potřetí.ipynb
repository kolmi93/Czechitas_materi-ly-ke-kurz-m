{
 "cells": [
  {
   "cell_type": "markdown",
   "metadata": {},
   "source": [
    "# Balík potřetí\n",
    "\n",
    "#### Vrať se k návrhu software pro zásilkovou společnost. U třídy Package uprav atribut state tak, aby byl chráněný. Ověř, že vytváření objektů i výpisy informací o něm fungují."
   ]
  },
  {
   "cell_type": "markdown",
   "metadata": {},
   "source": [
    "### Řešení"
   ]
  },
  {
   "cell_type": "code",
   "execution_count": 21,
   "metadata": {},
   "outputs": [
    {
     "name": "stdout",
     "output_type": "stream",
     "text": [
      "Balík na adresu Václavské náměstí 12, Praha, má hnotnost 0.25 a je ve stavu nedoručen.\n"
     ]
    },
    {
     "ename": "TypeError",
     "evalue": "__str__ returned non-string (type NoneType)",
     "output_type": "error",
     "traceback": [
      "\u001b[1;31m---------------------------------------------------------------------------\u001b[0m",
      "\u001b[1;31mTypeError\u001b[0m                                 Traceback (most recent call last)",
      "Cell \u001b[1;32mIn[21], line 33\u001b[0m\n\u001b[0;32m     30\u001b[0m package_01 \u001b[38;5;241m=\u001b[39m Package(\u001b[38;5;124m'\u001b[39m\u001b[38;5;124mVáclavské náměstí 12, Praha\u001b[39m\u001b[38;5;124m'\u001b[39m, \u001b[38;5;241m0.25\u001b[39m, \u001b[38;5;124m'\u001b[39m\u001b[38;5;124mnedoručen\u001b[39m\u001b[38;5;124m'\u001b[39m)\n\u001b[0;32m     31\u001b[0m package_02 \u001b[38;5;241m=\u001b[39m Package(\u001b[38;5;124m'\u001b[39m\u001b[38;5;124mHorni Dolní 44, Tramtárie\u001b[39m\u001b[38;5;124m'\u001b[39m, \u001b[38;5;241m2.5\u001b[39m, \u001b[38;5;124m'\u001b[39m\u001b[38;5;124mnedoručen\u001b[39m\u001b[38;5;124m'\u001b[39m)\n\u001b[1;32m---> 33\u001b[0m \u001b[38;5;28;43mprint\u001b[39;49m\u001b[43m(\u001b[49m\u001b[43mpackage_01\u001b[49m\u001b[43m)\u001b[49m\n\u001b[0;32m     34\u001b[0m \u001b[38;5;66;03m#print(package_01.delivery_price())\u001b[39;00m\n\u001b[0;32m     35\u001b[0m \u001b[38;5;66;03m#print(package_01.deliver())\u001b[39;00m\n\u001b[0;32m     36\u001b[0m \u001b[38;5;28mprint\u001b[39m(package_02)\n",
      "\u001b[1;31mTypeError\u001b[0m: __str__ returned non-string (type NoneType)"
     ]
    }
   ],
   "source": [
    "class Package:\n",
    "    def __init__(self, address, weight, state = 'nedoručen'):\n",
    "        self.address = address\n",
    "        self.weight = weight\n",
    "        self._state = state  # před state se přidá '_'\n",
    "    \n",
    "    def __str__(self):\n",
    "        return f'Balík na adresu {self.address}, má hnotnost {self.weight} a je ve stavu {self.state}.'\n",
    "\n",
    "    def delivery_price(self):\n",
    "        price = 0\n",
    "        if self.weight < 10:\n",
    "            price = 129\n",
    "        elif self.weight >= 10 and self.weight < 20:\n",
    "            price = 159\n",
    "        else:\n",
    "            price = 359\n",
    "        return f'Cena za doručení balíku činí: {price},- Kč.'\n",
    "    \n",
    "    def deliver(self):\n",
    "        if self._state == 'doručen': # před state se přidá '_'\n",
    "            return f'Balík byl již doručen.'\n",
    "        else:\n",
    "            self._state = 'doručen' # před state se přidá '_'\n",
    "            return f'Doručení uloženo.'\n",
    "\n",
    "package_01 = Package('Václavské náměstí 12, Praha', 0.25, 'nedoručen')\n",
    "package_02 = Package('Horni Dolní 44, Tramtárie', 2.5, 'nedoručen')\n",
    "\n",
    "print(package_01)\n",
    "#print(package_01.delivery_price())\n",
    "#print(package_01.deliver())\n",
    "print(package_02)\n",
    "#print(package_02.delivery_price())\n",
    "#print(package_02.deliver())\n",
    "#print(package_01.deliver())\n",
    "\n",
    "#print(package_01)\n",
    "#print(package_02)\n"
   ]
  }
 ],
 "metadata": {
  "kernelspec": {
   "display_name": "Python 3",
   "language": "python",
   "name": "python3"
  },
  "language_info": {
   "codemirror_mode": {
    "name": "ipython",
    "version": 3
   },
   "file_extension": ".py",
   "mimetype": "text/x-python",
   "name": "python",
   "nbconvert_exporter": "python",
   "pygments_lexer": "ipython3",
   "version": "3.11.3"
  }
 },
 "nbformat": 4,
 "nbformat_minor": 2
}
