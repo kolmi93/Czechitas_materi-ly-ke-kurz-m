{
 "cells": [
  {
   "cell_type": "markdown",
   "metadata": {},
   "source": [
    "# Jednoduchý vstup\n",
    "\n",
    "Náš vůbec první program nebude dělat nic víc, než vypisovat text na obrazovku.\n",
    "\n",
    " - Založte si program vstup-vystup.py. V tomto programu pomocí funkce print() vypište na obrazovku Divadlo Pěst na oko. Program spusťte a vyzkoušejte, že dělá co má.\n",
    " - Upravte tento program tak, že do proměnné nazev uložíte název nějakého divadelního představení a do proměnné cas uložte čas konání tohoto představení. Nyní pomocí funkce print() nechte program vypsat na obrazovku na jeden řádek název představení a čas konání, např. Zkrocení zlé ženy - 19:30.\n",
    " - Upravte dále program tak, že do proměnné hodina uložíte hodinu konání představení (jako celé číslo) a do proměnné minuta minutu konání, také jako celé číslo. Zařiďte, aby výstup programu vypadal takto: Zkrocení zlé ženy - 19:30."
   ]
  },
  {
   "cell_type": "markdown",
   "metadata": {},
   "source": [
    "### Řešení"
   ]
  },
  {
   "cell_type": "code",
   "execution_count": 2,
   "metadata": {},
   "outputs": [
    {
     "name": "stdout",
     "output_type": "stream",
     "text": [
      "Divadlo Pěste na oko\n",
      "Jedna ruka netleská - 19:30\n",
      "Jedna ruka netleská - 19:30\n",
      "Jedna ruka netleská - 19:30\n",
      "Jedna ruka netleská - 19:30\n"
     ]
    }
   ],
   "source": [
    "print('Divadlo Pěste na oko')\n",
    "\n",
    "nazev = 'Jedna ruka netleská'\n",
    "cas = '19:30'\n",
    "\n",
    "print (nazev + ' - ' + cas)\n",
    "print(f'{nazev} - {cas}')\n",
    "\n",
    "hodina = '19'\n",
    "minuta = '30'\n",
    "\n",
    "print(nazev + ' - ' + hodina + ':' + minuta)\n",
    "print(f'{nazev} - {hodina}:{minuta}')"
   ]
  }
 ],
 "metadata": {
  "kernelspec": {
   "display_name": "Python 3",
   "language": "python",
   "name": "python3"
  },
  "language_info": {
   "codemirror_mode": {
    "name": "ipython",
    "version": 3
   },
   "file_extension": ".py",
   "mimetype": "text/x-python",
   "name": "python",
   "nbconvert_exporter": "python",
   "pygments_lexer": "ipython3",
   "version": "3.11.3"
  }
 },
 "nbformat": 4,
 "nbformat_minor": 2
}
