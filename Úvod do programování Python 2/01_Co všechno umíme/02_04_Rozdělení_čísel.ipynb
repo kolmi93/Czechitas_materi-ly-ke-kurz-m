{
 "cells": [
  {
   "cell_type": "markdown",
   "metadata": {},
   "source": [
    "# Rozdělení čísel\n",
    "\n",
    "### Napiš kód, který zpracuje seznam čísel a vytvoří nový seznam se sudými čísly a nový seznam s lichými čísly z původního seznamu."
   ]
  },
  {
   "cell_type": "markdown",
   "metadata": {},
   "source": [
    "## Řešení"
   ]
  },
  {
   "cell_type": "code",
   "execution_count": 1,
   "metadata": {},
   "outputs": [
    {
     "name": "stdout",
     "output_type": "stream",
     "text": [
      "[2, 4, 6, 8, 10]\n",
      "[1, 3, 5, 7, 9]\n",
      "Po rozdělení listu vyšlo, že toto jsou sudá čísla: [2, 4, 6, 8, 10] a toto jsou lichá čísla: [1, 3, 5, 7, 9].\n"
     ]
    }
   ],
   "source": [
    "list = [1,2,3,4,5,6,7,8,9,10]\n",
    "\n",
    "suda = []\n",
    "licha = []\n",
    "\n",
    "for cislo in list:\n",
    "    if cislo % 2 == 0:     # říká, že číslo je bezezbytku dělitelné číslem 2\n",
    "        suda.append(cislo) #.append() přidává vybraná čísla do prázdného seznamu, co jsme si vytvořili na začátku\n",
    "    else:\n",
    "        licha.append(cislo)\n",
    "\n",
    "print(suda)\n",
    "print(licha)\n",
    "\n",
    "print(f\"Po rozdělení listu vyšlo, že toto jsou sudá čísla: {suda} a toto jsou lichá čísla: {licha}.\")"
   ]
  }
 ],
 "metadata": {
  "kernelspec": {
   "display_name": "Python 3",
   "language": "python",
   "name": "python3"
  },
  "language_info": {
   "codemirror_mode": {
    "name": "ipython",
    "version": 3
   },
   "file_extension": ".py",
   "mimetype": "text/x-python",
   "name": "python",
   "nbconvert_exporter": "python",
   "pygments_lexer": "ipython3",
   "version": "3.11.3"
  }
 },
 "nbformat": 4,
 "nbformat_minor": 2
}
