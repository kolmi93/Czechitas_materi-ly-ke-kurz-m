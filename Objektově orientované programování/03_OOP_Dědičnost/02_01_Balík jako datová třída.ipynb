{
 "cells": [
  {
   "cell_type": "markdown",
   "metadata": {},
   "source": [
    "# Balík jako datová třída\n",
    "\n",
    "Uprav třídu Package na datovou třídu. Třída bude mít atributy address, weight, a state. U každého z atributů vymysli a nastav vhodný datový typ. Existující metody ve třídě ponech.\n",
    "\n",
    "Následně vyzkoušej, zda funguje vytváření balíků. A co cenné balíky, fungují pořád, i když dědí od datové třídy?"
   ]
  },
  {
   "cell_type": "markdown",
   "metadata": {},
   "source": [
    "### Řešení"
   ]
  },
  {
   "cell_type": "code",
   "execution_count": 1,
   "metadata": {},
   "outputs": [
    {
     "ename": "AttributeError",
     "evalue": "'ValuablePackage' object has no attribute 'value'",
     "output_type": "error",
     "traceback": [
      "\u001b[1;31m---------------------------------------------------------------------------\u001b[0m",
      "\u001b[1;31mAttributeError\u001b[0m                            Traceback (most recent call last)",
      "Cell \u001b[1;32mIn[1], line 42\u001b[0m\n\u001b[0;32m     38\u001b[0m package_01 \u001b[38;5;241m=\u001b[39m ValuablePackage(\u001b[38;5;124m'\u001b[39m\u001b[38;5;124mVáclavské náměstí 12, Praha\u001b[39m\u001b[38;5;124m'\u001b[39m, \u001b[38;5;241m0.25\u001b[39m, \u001b[38;5;241m5000\u001b[39m, \u001b[38;5;124m'\u001b[39m\u001b[38;5;124mnedoručen\u001b[39m\u001b[38;5;124m'\u001b[39m)\n\u001b[0;32m     39\u001b[0m package_02 \u001b[38;5;241m=\u001b[39m Package(\u001b[38;5;124m'\u001b[39m\u001b[38;5;124mHorni Dolní 44, Tramtárie\u001b[39m\u001b[38;5;124m'\u001b[39m, \u001b[38;5;241m2.5\u001b[39m, \u001b[38;5;124m'\u001b[39m\u001b[38;5;124mnedoručen\u001b[39m\u001b[38;5;124m'\u001b[39m)\n\u001b[1;32m---> 42\u001b[0m \u001b[38;5;28;43mprint\u001b[39;49m\u001b[43m(\u001b[49m\u001b[43mpackage_01\u001b[49m\u001b[43m)\u001b[49m\n\u001b[0;32m     43\u001b[0m \u001b[38;5;28mprint\u001b[39m(package_01\u001b[38;5;241m.\u001b[39mdeliver())\n\u001b[0;32m     44\u001b[0m \u001b[38;5;28mprint\u001b[39m(package_01)\n",
      "Cell \u001b[1;32mIn[1], line 35\u001b[0m, in \u001b[0;36mValuablePackage.__str__\u001b[1;34m(self)\u001b[0m\n\u001b[0;32m     34\u001b[0m \u001b[38;5;28;01mdef\u001b[39;00m \u001b[38;5;21m__str__\u001b[39m(\u001b[38;5;28mself\u001b[39m):\n\u001b[1;32m---> 35\u001b[0m     \u001b[38;5;28;01mreturn\u001b[39;00m \u001b[38;5;28msuper\u001b[39m()\u001b[38;5;241m.\u001b[39m\u001b[38;5;21m__str__\u001b[39m() \u001b[38;5;241m+\u001b[39m \u001b[38;5;124mf\u001b[39m\u001b[38;5;124m'\u001b[39m\u001b[38;5;124m Balík má hodnotu \u001b[39m\u001b[38;5;132;01m{\u001b[39;00m\u001b[38;5;28;43mself\u001b[39;49m\u001b[38;5;241;43m.\u001b[39;49m\u001b[43mvalue\u001b[49m\u001b[38;5;132;01m}\u001b[39;00m\u001b[38;5;124m Kč.\u001b[39m\u001b[38;5;124m'\u001b[39m\n",
      "\u001b[1;31mAttributeError\u001b[0m: 'ValuablePackage' object has no attribute 'value'"
     ]
    }
   ],
   "source": [
    "from dataclasses import dataclass\n",
    "\n",
    "@dataclass     # nezapomenout napsat dataclass a import datasclasses\n",
    "class Package:\n",
    "    address: str\n",
    "    weight: float\n",
    "    state: str = 'nedoručen'\n",
    "    \n",
    "    def __str__(self):\n",
    "        return f'Balík na adresu {self.address}, má hnotnost {self.weight}.'\n",
    "        \n",
    "    def delivery_price(self):\n",
    "        if self.weight < 10:\n",
    "            price = 129\n",
    "        elif self.weight >= 10 and self.weight < 20:\n",
    "            price = 159\n",
    "        else:\n",
    "            price = 359\n",
    "        return price\n",
    "    \n",
    "    def deliver(self):\n",
    "        if self.state == 'doručen':\n",
    "            return f'Balík byl již doručen.'\n",
    "        else:\n",
    "            self.state = 'doručen'\n",
    "            return f'Doručení uloženo.'\n",
    "\n",
    "class ValuablePackage(Package):\n",
    "    def __init__(self, address, weight, value, state = 'nedoručen'):\n",
    "        super().__init__(address, weight, state)\n",
    "        self.value = value\n",
    "    \n",
    "    def __str__(self):\n",
    "        return super().__str__() + f' Balík má hodnotu {self.value} Kč.'\n",
    "    \n",
    "\n",
    "package_01 = ValuablePackage('Václavské náměstí 12, Praha', 0.25, 5000, 'nedoručen')\n",
    "package_02 = Package('Horni Dolní 44, Tramtárie', 2.5, 'nedoručen')\n",
    "\n",
    "\n",
    "print(package_01)\n",
    "print(package_01.deliver())\n",
    "print(package_01)\n",
    "print(package_01.deliver())\n",
    "\n",
    "print(package_02)\n",
    "print(package_02.deliver())\n",
    "print(package_02)\n",
    "print(package_02.deliver())\n"
   ]
  }
 ],
 "metadata": {
  "kernelspec": {
   "display_name": "Python 3",
   "language": "python",
   "name": "python3"
  },
  "language_info": {
   "codemirror_mode": {
    "name": "ipython",
    "version": 3
   },
   "file_extension": ".py",
   "mimetype": "text/x-python",
   "name": "python",
   "nbconvert_exporter": "python",
   "pygments_lexer": "ipython3",
   "version": "3.11.3"
  }
 },
 "nbformat": 4,
 "nbformat_minor": 2
}
