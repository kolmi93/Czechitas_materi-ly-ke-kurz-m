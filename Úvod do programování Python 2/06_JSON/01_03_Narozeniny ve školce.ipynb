{
 "cells": [
  {
   "cell_type": "markdown",
   "metadata": {},
   "source": [
    "#  Narozeniny ve školce\n",
    "\n",
    "Toto pokročilé cvičení se úplně nedotýká formátu JSON, ale vyžaduje pokročilou práci se slovníky a hodně hledání na internetu.\n",
    "\n",
    "Paní ředitelka školky si exportovala z informačního systému seznam dětí, jejich zařazení do třídy a datum narození: kids.csv. Potřebuje vytvořit pro učitelky každé třídy výpis měsíců se seznamy dětí, které mají v tom měsíci narozeny. Výstupem budou textové soubory podle názvů tříd. Napište program univerzálně. Názvy tříd nejsou pevné, takže je získejte až ze samotných dat."
   ]
  },
  {
   "cell_type": "markdown",
   "metadata": {},
   "source": [
    "### Řešení"
   ]
  },
  {
   "cell_type": "code",
   "execution_count": 24,
   "metadata": {},
   "outputs": [],
   "source": [
    "import csv\n",
    "\n",
    "children = []\n",
    "with open('kids.csv', mode='r', encoding='utf-8') as file:\n",
    "    csvFile = csv.reader(file)\n",
    "    for line in csvFile:\n",
    "        children.append(line)\n",
    "# print(children)\n",
    "\n",
    "\n",
    "# jména tříd+ jednotlivé třídy\n",
    "classes = []\n",
    "zabicky = {}\n",
    "kotatka = {}\n",
    "vcelicky = {}\n",
    "jezecci = {}\n",
    "sovicky = {}\n",
    "\n",
    "# jméno jednotlivých třít\n",
    "for dite in children:\n",
    "    if dite[1] not in classes:\n",
    "        classes.append(dite[1])\n",
    "\n",
    "# vytvoření slovníku\n",
    "for jmeno, trida, datum in children:\n",
    "    if trida == 'žabičky':\n",
    "        mesic = int(datum[4:6])\n",
    "        zabicky.setdefault(mesic, []).append(jmeno)\n",
    "for jmeno, trida, datum in children:\n",
    "    if trida == 'koťátka':\n",
    "        mesic = int(datum[4:6])\n",
    "        kotatka.setdefault(mesic, []).append(jmeno)\n",
    "for jmeno, trida, datum in children:\n",
    "    if trida == 'včeličky':\n",
    "        mesic = int(datum[4:6])\n",
    "        vcelicky.setdefault(mesic, []).append(jmeno)\n",
    "for jmeno, trida, datum in children:\n",
    "    if trida == 'ježečci':\n",
    "        mesic = int(datum[4:6])\n",
    "        jezecci.setdefault(mesic, []).append(jmeno)\n",
    "for jmeno, trida, datum in children:\n",
    "    if trida == 'sovičky':\n",
    "        mesic = int(datum[4:6])\n",
    "        sovicky.setdefault(mesic, []).append(jmeno)\n",
    "\n",
    "# uložení\n",
    "slovniky = [zabicky, kotatka, vcelicky, jezecci, sovicky]\n",
    "nazev_souboru = ['zabicky.txt', 'kotatka.txt', 'vcelicky.txt', 'jezecci.txt', 'sovicky.txt']\n",
    "\n",
    "for i, slovnik in enumerate(slovniky):\n",
    "    with open(nazev_souboru[i], mode=\"w\", encoding='utf-8') as output_file:\n",
    "        for klic, hodnota in slovnik.items():\n",
    "            output_file.write(f\"{klic}: {hodnota}\\n\")"
   ]
  },
  {
   "cell_type": "markdown",
   "metadata": {},
   "source": [
    "Metoda setdefault(mesic, []) nejprve zkontroluje, zda již klíč mesic existuje ve slovníku zabicky.\n",
    "Pokud neexistuje, vytvoří nový seznam jako výchozí hodnotu a přiřadí jej ke klíči mesic.\n",
    "Pokud již existuje, vrátí stávající seznam.\n",
    "To zajišťuje, že seznam je vytvořen pouze jednou pro každý měsíc, a pak jsou do něj postupně přidávána všechna jména."
   ]
  }
 ],
 "metadata": {
  "kernelspec": {
   "display_name": "Python 3",
   "language": "python",
   "name": "python3"
  },
  "language_info": {
   "codemirror_mode": {
    "name": "ipython",
    "version": 3
   },
   "file_extension": ".py",
   "mimetype": "text/x-python",
   "name": "python",
   "nbconvert_exporter": "python",
   "pygments_lexer": "ipython3",
   "version": "3.11.3"
  }
 },
 "nbformat": 4,
 "nbformat_minor": 2
}
