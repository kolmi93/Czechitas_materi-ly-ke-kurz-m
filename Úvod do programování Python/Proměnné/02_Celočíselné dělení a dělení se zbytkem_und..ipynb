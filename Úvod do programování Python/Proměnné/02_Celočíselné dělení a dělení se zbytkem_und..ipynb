{
 "cells": [
  {
   "cell_type": "markdown",
   "metadata": {},
   "source": [
    "# Celočíselné dělení a dělení se zbytkem\n",
    "\n",
    "Zaexperimentujte s operátory celočíselného dělení a dělení se zbytkem.\n",
    "\n",
    " - Kolikrát se vejde číslo 72 do 1024? Kolik je zbytek po dělení čísla 1024 číslem 72?\n",
    " - Divadlo má délky představení vždy uloženo v minutách. Například extrémně nudné a zničující představení \"Smrt v přímém přenosu\" trvá 265 minut. Uložte tuto hodnotu do proměnné delka.\n",
    " - Použijte proměnnou delka a spočítejte trvání představení vyjádřeno v hodinách a minutách. Do proměnné hodin uložte počet celých hodin a do proměnné minut uložte zbylé minuty."
   ]
  },
  {
   "cell_type": "markdown",
   "metadata": {},
   "source": [
    "### Řešení"
   ]
  },
  {
   "cell_type": "code",
   "execution_count": 3,
   "metadata": {},
   "outputs": [
    {
     "name": "stdout",
     "output_type": "stream",
     "text": [
      "14\n",
      "16\n",
      "265\n",
      "4\n",
      "25\n"
     ]
    }
   ],
   "source": [
    "podil = 1024 // 72\n",
    "\n",
    "zbytek = 1024 % 72\n",
    "\n",
    "delka_predstaveni = 265\n",
    "\n",
    "hodiny = delka_predstaveni // 60\n",
    "\n",
    "minuty = delka_predstaveni % 60\n",
    "\n",
    "print(podil)\n",
    "print(zbytek)\n",
    "print(delka_predstaveni)\n",
    "print(hodiny)\n",
    "print(minuty)"
   ]
  }
 ],
 "metadata": {
  "kernelspec": {
   "display_name": "Python 3",
   "language": "python",
   "name": "python3"
  },
  "language_info": {
   "codemirror_mode": {
    "name": "ipython",
    "version": 3
   },
   "file_extension": ".py",
   "mimetype": "text/x-python",
   "name": "python",
   "nbconvert_exporter": "python",
   "pygments_lexer": "ipython3",
   "version": "3.11.3"
  }
 },
 "nbformat": 4,
 "nbformat_minor": 2
}
