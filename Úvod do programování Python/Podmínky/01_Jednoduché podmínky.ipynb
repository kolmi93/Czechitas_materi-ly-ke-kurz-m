{
 "cells": [
  {
   "cell_type": "markdown",
   "metadata": {},
   "source": [
    "# Jednoduché podmínky\n",
    "\n",
    " 1. Založte si program prihlaseni.py. V tomto nechte uživatele zadat svoje uživatelské jméno a poté heslo. Pokud se heslo neshoduje s heslem simsalabim, vypište na výstup\n",
    "Vstup nepovolen\n",
    "a zavolejte funkci exit(), aby uživatel neznalý hesla nemohl s programem dál pracovat.\n",
    "\n",
    " 2. Na konec programu vlož příkaz, který se uživatele zeptá na věk. Pokud je uživatel starší 18 let, vypište na výstup\n",
    "Smíš vstoupit\n",
    "Pokud je mladší, vypiš\n",
    "\n",
    " Vstup povolen od 18 let"
   ]
  },
  {
   "cell_type": "markdown",
   "metadata": {},
   "source": [
    "### Řešení"
   ]
  },
  {
   "cell_type": "code",
   "execution_count": 1,
   "metadata": {},
   "outputs": [
    {
     "name": "stdout",
     "output_type": "stream",
     "text": [
      "Vstup povolen od 18 let\n"
     ]
    }
   ],
   "source": [
    "heslo_nastavene = 'simsalabim'\n",
    "\n",
    "jmeno = input('Jaké je Vaše jméno?\\n')\n",
    "heslo = input('Jaké je Vaše heslo?\\n')\n",
    "\n",
    "if heslo != heslo_nastavene:\n",
    "    prnt('Vstup nepovolen.')\n",
    "    exit()\n",
    "\n",
    "vek = int(input('Kolik Vám je let?\\n'))\n",
    "\n",
    "if vek < 18:\n",
    "    print('Vstup povolen od 18 let.')\n",
    "else:\n",
    "    ('Smíš vstoupit.')"
   ]
  }
 ],
 "metadata": {
  "kernelspec": {
   "display_name": "Python 3",
   "language": "python",
   "name": "python3"
  },
  "language_info": {
   "codemirror_mode": {
    "name": "ipython",
    "version": 3
   },
   "file_extension": ".py",
   "mimetype": "text/x-python",
   "name": "python",
   "nbconvert_exporter": "python",
   "pygments_lexer": "ipython3",
   "version": "3.11.3"
  }
 },
 "nbformat": 4,
 "nbformat_minor": 2
}
