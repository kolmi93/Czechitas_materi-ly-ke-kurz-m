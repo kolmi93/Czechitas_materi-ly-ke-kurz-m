{
 "cells": [
  {
   "cell_type": "markdown",
   "metadata": {},
   "source": [
    "# Karty 2\n",
    "\n",
    "Napište program, který vylosuje seznam 4 náhodných hracích karet podobně jako v předchozím úkolu. Můžeme si představovat, že rozdáváme karty například v pokeru. Zatím pro jednoduchost nebudeme řešit, že se nám může nějaká karta v seznamu opakovat.\n",
    "\n",
    "1. Vymyslete, jak budete vylosovanou kartu v seznamu reprezentovat. Vypište pak tento seznam na výstup.\n",
    "2. Dále k tomuto seznamu vypište součet hodnot všech vylosovaných karet. Položme hodnotu karet J, Q a K rovnu deseti a eso rovnu jedné."
   ]
  },
  {
   "cell_type": "markdown",
   "metadata": {},
   "source": [
    "### Řešení"
   ]
  },
  {
   "cell_type": "code",
   "execution_count": 6,
   "metadata": {},
   "outputs": [
    {
     "name": "stdout",
     "output_type": "stream",
     "text": [
      "K\n",
      "3\n",
      "5\n",
      "J\n",
      "Celková hodnota vylosovaných karet je: 28.\n"
     ]
    }
   ],
   "source": [
    "import random\n",
    "\n",
    "barvy = ['kříže', 'srdce', 'piky', 'káry']\n",
    "hodnoty = list(range(2,11)) + ['J', 'Q', 'K', 'A']\n",
    "\n",
    "selected = []\n",
    "number = 4\n",
    "\n",
    "# losování náhodných karet\n",
    "while number != 0:\n",
    "  selected.append([random.choice(barvy), random.choice(hodnoty)])\n",
    "  number -= 1\n",
    "\n",
    "# převod karet na hodnoty\n",
    "numbers = []\n",
    "for choice in selected:\n",
    "  print(choice[-1]) # kontrola losovaných\n",
    "  if choice[-1] in ('J', 'Q', 'K'):\n",
    "      choice[-1] = 10\n",
    "  elif choice[-1] == 'A':\n",
    "      choice[-1] = 1\n",
    "  numbers.append(choice[-1])\n",
    "\n",
    "print(f'Celková hodnota vylosovaných karet je: {sum(numbers)}.')"
   ]
  }
 ],
 "metadata": {
  "kernelspec": {
   "display_name": "Python 3",
   "language": "python",
   "name": "python3"
  },
  "language_info": {
   "codemirror_mode": {
    "name": "ipython",
    "version": 3
   },
   "file_extension": ".py",
   "mimetype": "text/x-python",
   "name": "python",
   "nbconvert_exporter": "python",
   "pygments_lexer": "ipython3",
   "version": "3.11.3"
  }
 },
 "nbformat": 4,
 "nbformat_minor": 2
}
