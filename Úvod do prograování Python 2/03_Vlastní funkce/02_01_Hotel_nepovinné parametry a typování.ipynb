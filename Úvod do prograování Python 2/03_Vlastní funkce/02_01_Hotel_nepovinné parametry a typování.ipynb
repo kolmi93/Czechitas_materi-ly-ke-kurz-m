{
 "cells": [
  {
   "cell_type": "markdown",
   "metadata": {},
   "source": [
    "# Hotel\n",
    "\n",
    "Napiš funkci total_price, která vypočte cenu noci v hotelu. Funkce bude mít dva parametry - persons a breakfast. Cena za noc za osobu je 850 Kč a cena za snídani za osobu je 125 Kč. Funkce vrátí výslednou cenu. Parametr breakfast je nepovinný a výchozí hodnota je False.\n",
    "\n",
    "Funkci vyzkoušej se zadáním dvou i jedné hodnoty, např. total_price(3), total_price(2, True)."
   ]
  },
  {
   "cell_type": "markdown",
   "metadata": {},
   "source": [
    "### Řešení"
   ]
  },
  {
   "cell_type": "code",
   "execution_count": 1,
   "metadata": {},
   "outputs": [
    {
     "name": "stdout",
     "output_type": "stream",
     "text": [
      "Cena za tři osoby/noc činí: 2550,- Kč.\n",
      "Cena za dva osoby/noc se snidani činí: 1950,- Kč.\n"
     ]
    }
   ],
   "source": [
    "def total_price(persons, breakfast=False):\n",
    "    cena_za_noc = 850\n",
    "    cena_za_snidani = 125\n",
    "\n",
    "    celkem_za_noc = persons * cena_za_noc\n",
    "\n",
    "    if breakfast:\n",
    "        celkem_za_noc += cena_za_snidani * persons\n",
    "    \n",
    "    return celkem_za_noc\n",
    "\n",
    "print(f'Cena za tři osoby/noc činí: {total_price(3)},- Kč.')\n",
    "print(f'Cena za dva osoby/noc se snidani činí: {total_price(2, True)},- Kč.')"
   ]
  }
 ],
 "metadata": {
  "kernelspec": {
   "display_name": "Python 3",
   "language": "python",
   "name": "python3"
  },
  "language_info": {
   "codemirror_mode": {
    "name": "ipython",
    "version": 3
   },
   "file_extension": ".py",
   "mimetype": "text/x-python",
   "name": "python",
   "nbconvert_exporter": "python",
   "pygments_lexer": "ipython3",
   "version": "3.11.3"
  }
 },
 "nbformat": 4,
 "nbformat_minor": 2
}
