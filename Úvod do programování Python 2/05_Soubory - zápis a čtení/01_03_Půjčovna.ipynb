{
 "cells": [
  {
   "cell_type": "markdown",
   "metadata": {},
   "source": [
    "# Půjčovna\n",
    "\n",
    "#### Půjčovna aut má v každém kraji ČR jedno auto s danou SPZ. Ke konci roku chce zjistit, kolik všechna auta najezdila dohromady kilometrů. V souboru auta.txt je pro každou SPZ zaznamenáno kolik dané auto ujelo kilometrů za daný rok. Hodnoty jsou v tisících kilometrů. Bohužel se v jednotlivých krajích blbě zkoordinovali a někdo používal desetinnou čárku, někdo zase tečku.\n",
    "\n",
    "#### Pozor! V souboru s daty je ještě jeden problém, který není na první pohled vidět!\n",
    "\n",
    "#### Napište program, který na výstup vypíše součet všech ujetých kilometrů. Jistě se vám bude hodit metoda řetězců jménem replace()."
   ]
  },
  {
   "cell_type": "markdown",
   "metadata": {},
   "source": [
    "### Řešení"
   ]
  },
  {
   "cell_type": "code",
   "execution_count": 1,
   "metadata": {},
   "outputs": [
    {
     "name": "stdout",
     "output_type": "stream",
     "text": [
      "[16.1, 7.6, 10.4, 12.2, 6.6, 13.2, 12.7, 14.5, 12.1, 10.8, 9.9, 8.4, 16.5, 10.1]\n",
      "Celkově bylo ujeto 161.1 km.\n"
     ]
    }
   ],
   "source": [
    "spz = []\n",
    "with open('spz.txt', encoding = 'utf-8') as file:\n",
    "    for line in file:\n",
    "        # print(line)\n",
    "        line = line.replace(',', '.')\n",
    "        line = float(line.split(' ')[-1])\n",
    "        spz.append(line)\n",
    "print(spz)\n",
    "\n",
    "ujete_km = sum(spz)\n",
    "print(f'Celkově bylo ujeto {ujete_km} km.')"
   ]
  },
  {
   "cell_type": "code",
   "execution_count": 3,
   "metadata": {},
   "outputs": [
    {
     "name": "stdout",
     "output_type": "stream",
     "text": [
      "161.1\n"
     ]
    }
   ],
   "source": [
    "# verze od Jirky\n",
    "total_distance = 0\n",
    "with open('spz.txt', encoding=\"utf-8\") as file:\n",
    "    for line in file:\n",
    "        if len(line.strip()) > 0:\n",
    "            _, km = line.split()\n",
    "            km = km.replace(\",\", \".\")\n",
    "            km = float(km)\n",
    "            total_distance += km\n",
    "print(total_distance)"
   ]
  }
 ],
 "metadata": {
  "kernelspec": {
   "display_name": "Python 3",
   "language": "python",
   "name": "python3"
  },
  "language_info": {
   "codemirror_mode": {
    "name": "ipython",
    "version": 3
   },
   "file_extension": ".py",
   "mimetype": "text/x-python",
   "name": "python",
   "nbconvert_exporter": "python",
   "pygments_lexer": "ipython3",
   "version": "3.11.3"
  }
 },
 "nbformat": 4,
 "nbformat_minor": 2
}
