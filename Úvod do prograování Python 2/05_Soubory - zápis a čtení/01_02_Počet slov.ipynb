{
 "cells": [
  {
   "cell_type": "markdown",
   "metadata": {},
   "source": [
    "# Počet slov\n",
    "\n",
    "#### Stáhněte si odevzdanou slohovou práci. Zadání bylo sepsat text o nejméně 150ti slovech pojednávající o našem hlavním městě. Napište program, který spočítá počet slov v tomto textu, abychom věděli, zda bylo zadání formálně splněno. Nechte se vést následujícím návodem.\n",
    "\n",
    "- Nechte váš program otevřít soubor a načíst jednotlivé řádky do seznamu\n",
    "- Každý řádek převeďte na seznam slov. Slovem se rozumí vše, co je odděleno mezerou nebo novým řádkem\n",
    "- Vypište na výstup počty slov na každém řádku\n",
    "- Vypište na výstup celkový počet všech slov v souboru"
   ]
  },
  {
   "cell_type": "markdown",
   "metadata": {},
   "source": [
    "### Řešení"
   ]
  },
  {
   "cell_type": "markdown",
   "metadata": {},
   "source": [
    "varianta A"
   ]
  },
  {
   "cell_type": "code",
   "execution_count": 1,
   "metadata": {},
   "outputs": [
    {
     "name": "stdout",
     "output_type": "stream",
     "text": [
      "[['Prágl'], ['Prágl,', 'po', 'anglánsku', 'Prague', 'nebo', 'Praha', 'nebo', 'v', 'Cajsku,', 'je', 'taková', 'lochna'], ['v', 'tem', 'kuse', 'hródy', 'někde', 'za', 'čárama', 'naši', 'domoviny,', 'kde', 'se', 'zoncna', 'už'], ['nechláme', 'a', 'kde', 'se', 'prndá', 'po', 'cajzlovsku.', 'A', 'ještě', 'k', 'temu', 'tam', 'majó', 'sicnu'], ['těžcí', 'papaláši,', 'kvůli', 'čemu', 'ho', 'má', 'každé', 'v', 'láfu', 'jako', 'kaktus', 've', 'véfuku.'], ['Z', 'Práglu', 'bere', 'kramále', 'aj', 'ten', 'jejich', 'len', 'kerému', 'se', 'péruje', 'Vltava.'], [], ['O', 'Práglu', 'se', 'taky', 'kóří,', 'pač', 'tam', 'majó', 'hafo', 'retychů', 'pro', 'všecky.', 'Kromě'], ['bůry', 'švédských', 'retychů', 'só', 'aj', 'dva', 'v', 'Olmecu', 'a', 'jeden', 'v', 'Bučovicách.'], ['To', 'my', 'z', 'našeho', 'štatlu', 'radši', 'hážem', 'lulec', 'do', 'kašny', 'na', 'Zelňáku.', 'Když'], ['ale', 'nekdo', 'vopruboval', 'zašrajbčit', 'náš', 'barocké', 'Parnas', 'do', 'cancu', 'retychů'], ['pro', 'všecky,', 'přišmrdolili', 'se', 'ti', 'Švédi', 's', 'tým,', 'že', 'só', 'proti', 'a', 'hókajó', 'po'], ['celé', 'hródě,', 'že', 'ta', 'vasra', 'v', 'tem', 'se', 'dá', 'chlemtat.']]\n",
      "Slohová práce obsahuje celkem 137 slov.\n"
     ]
    }
   ],
   "source": [
    "lines = []\n",
    "with open ('slohova_prace.txt', encoding = 'utf-8') as file:\n",
    "    for line in file:\n",
    "        # line = line.split()   - POKUD BYCHOM TO CHTĚLI POSTUPNĚ\n",
    "        # lines.append(line)\n",
    "\n",
    "        lines.append(line.split())\n",
    "\n",
    "print(lines)\n",
    "\n",
    "pocet_slov = 0\n",
    "\n",
    "for one in lines:\n",
    "    pocet_slov += len(one)\n",
    "\n",
    "print(f'Slohová práce obsahuje celkem {pocet_slov} slov.')"
   ]
  },
  {
   "cell_type": "markdown",
   "metadata": {},
   "source": [
    "varianta B"
   ]
  },
  {
   "cell_type": "code",
   "execution_count": 2,
   "metadata": {},
   "outputs": [
    {
     "name": "stdout",
     "output_type": "stream",
     "text": [
      "Slohová práce obsahuje celkem 137 slov.\n"
     ]
    }
   ],
   "source": [
    "with open('slohova_prace.txt', encoding=\"utf-8\") as f:\n",
    "    text = f.read()\n",
    "    num_words = len(text.split())\n",
    "\n",
    "print(f'Slohová práce obsahuje celkem {num_words} slov.')"
   ]
  }
 ],
 "metadata": {
  "kernelspec": {
   "display_name": "Python 3",
   "language": "python",
   "name": "python3"
  },
  "language_info": {
   "codemirror_mode": {
    "name": "ipython",
    "version": 3
   },
   "file_extension": ".py",
   "mimetype": "text/x-python",
   "name": "python",
   "nbconvert_exporter": "python",
   "pygments_lexer": "ipython3",
   "version": "3.11.3"
  }
 },
 "nbformat": 4,
 "nbformat_minor": 2
}
