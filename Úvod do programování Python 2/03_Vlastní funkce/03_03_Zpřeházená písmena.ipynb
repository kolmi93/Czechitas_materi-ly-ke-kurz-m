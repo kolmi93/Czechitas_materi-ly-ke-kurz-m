{
 "cells": [
  {
   "cell_type": "markdown",
   "metadata": {},
   "source": [
    "# Zpřeházená písmena\n",
    "\n",
    "#### Slovo je stále možné pohodlně přečíst, když jsou pomíchaná písmena. Stačí, když první a poslední písmeno je na své pozici zachováno. Napiš funkci, která bude mít jako vstupní parametr slovo a vrátí slovo, kde zpřehází všechny znaky kromě prvního a posledního.\n",
    "\n",
    "Nápověda: random.shuffle()\n",
    "\n",
    "Super bonus: Napiš program, který takovou funkci využije na delší text více slov."
   ]
  },
  {
   "cell_type": "code",
   "execution_count": 16,
   "metadata": {},
   "outputs": [],
   "source": [
    "text = '''Slovo je stále možné pohodlně přečíst, když jsou pomíchaná písmena.\n",
    "Stačí, když první a poslední písmeno je na své pozici zachováno. Napiš funkci,\n",
    "která bude mít jako vstupní parametr slovo a vrátí slovo, kde zpřehází všechny\n",
    "znaky kromě prvního a posledního.'''"
   ]
  },
  {
   "cell_type": "markdown",
   "metadata": {},
   "source": [
    "### Řešení"
   ]
  },
  {
   "cell_type": "code",
   "execution_count": 17,
   "metadata": {},
   "outputs": [
    {
     "name": "stdout",
     "output_type": "stream",
     "text": [
      "jodhaa\n"
     ]
    }
   ],
   "source": [
    "import random\n",
    "\n",
    "slovo = input('Zadejte slovo, které chcete přeházet:\\n')\n",
    "\n",
    "def zprehazej(slovo):\n",
    "    zmena = list(slovo[1:-1])\n",
    "    random.shuffle(zmena)\n",
    "    print(slovo[0] + ''.join(zmena) + slovo[-1])\n",
    "\n",
    "zprehazej(slovo)"
   ]
  },
  {
   "cell_type": "markdown",
   "metadata": {},
   "source": [
    "superbonus"
   ]
  },
  {
   "cell_type": "code",
   "execution_count": 25,
   "metadata": {},
   "outputs": [
    {
     "name": "stdout",
     "output_type": "stream",
     "text": [
      "Sovlo je sátle mžnoé phloodně ptečířs, když josu pcmohaíná pnmaíse. Satíč, když pnvrí a peodnlsí psímneo je na své poizci zoavhnáco. Naipš fucikn, kertá bdue mít jkao vpuntsí paeartmr slvoo a vrtáí solvo, kde zřepáhzí všhency zkany krmoě pvíhnro a poídhlneos.\n"
     ]
    }
   ],
   "source": [
    "import random\n",
    "\n",
    "def zprehazej(slovo):\n",
    "    if len(slovo) <= 2:\n",
    "        return (slovo)\n",
    "    else:\n",
    "        zmena = list(slovo[1:-1])\n",
    "        random.shuffle(zmena)\n",
    "        return slovo[0] + ''.join(zmena) + slovo[-1]\n",
    "\n",
    "text = '''Slovo je stále možné pohodlně přečíst, když jsou pomíchaná písmena.\n",
    "Stačí, když první a poslední písmeno je na své pozici zachováno. Napiš funkci,\n",
    "která bude mít jako vstupní parametr slovo a vrátí slovo, kde zpřehází všechny\n",
    "znaky kromě prvního a posledního.'''\n",
    "\n",
    "zprehazena_slova = []\n",
    "\n",
    "for slovo in text.split():\n",
    "    zprehazena_slova.append(zprehazej(slovo))\n",
    "\n",
    "vysledek = ' '.join(zprehazena_slova)\n",
    "print(vysledek)"
   ]
  }
 ],
 "metadata": {
  "kernelspec": {
   "display_name": "Python 3",
   "language": "python",
   "name": "python3"
  },
  "language_info": {
   "codemirror_mode": {
    "name": "ipython",
    "version": 3
   },
   "file_extension": ".py",
   "mimetype": "text/x-python",
   "name": "python",
   "nbconvert_exporter": "python",
   "pygments_lexer": "ipython3",
   "version": "3.11.3"
  }
 },
 "nbformat": 4,
 "nbformat_minor": 2
}
