{
 "cells": [
  {
   "cell_type": "markdown",
   "metadata": {},
   "source": [
    "# Balík podruhé\n",
    "\n",
    "#### Vrať se k návrhu software pro zásilkovou společnost.\n",
    "\n",
    "- U třídy Package přejmenuj metodu get_info() na __str__() a vyzkoušej, jestli nyní stačí k získání informací o balíku funkce print().\n",
    "- Přidej metodu deliver(). Půjde o obdobu tlačítka, které řidič nebo řidička zmáčkne při doručení balíku a zaznamená tak jeho doručení. Metoda nejprve zkontroluje, zda balík náhodou již není ve stavu doručen. Pokud ano, metoda vrátí zprávu \"Balík již byl doručen\". Tím bude řidič (řidička) informován(a) o tom, že se pravděpodobně spletl(a) a snaží se zaznamenat doručení u špatného balíku. Pokud balík není ve stavu doručen, změň jeho stav právě na doručen a vrať zprávu \"Doručení uloženo\".\n",
    "- Vyzkoušej metodu deliver(). Co se stane, pokud ji u jednoho balíku zavoláš dvakrát?"
   ]
  },
  {
   "cell_type": "markdown",
   "metadata": {},
   "source": [
    "### Řešení"
   ]
  },
  {
   "cell_type": "code",
   "execution_count": 1,
   "metadata": {},
   "outputs": [
    {
     "name": "stdout",
     "output_type": "stream",
     "text": [
      "Balík na adresu Václavské náměstí 12, Praha, má hnotnost 0.25 a je ve stavu nedoručen.\n",
      "Balík na adresu Horni Dolní 44, Tramtárie, má hnotnost 12.5 a je ve stavu doručen.\n",
      "Doručení uloženo.\n",
      "Balík byl již doručen.\n"
     ]
    }
   ],
   "source": [
    "class Package:\n",
    "    def __init__(self, address, weight, state):\n",
    "        self.address = address\n",
    "        self.weight = weight\n",
    "        self.state = state\n",
    "\n",
    "    def __str__(self):\n",
    "        return f'Balík na adresu {self.address}, má hnotnost {self.weight} a je ve stavu {self.state}.'\n",
    "\n",
    "    def delivery_price(self):\n",
    "        if self.weight < 10:\n",
    "            price = 129\n",
    "        elif self.weight >= 10 and self.weight < 20:\n",
    "            price = 159\n",
    "        else:\n",
    "            price = 359\n",
    "        return price\n",
    "    \n",
    "    def deliver(self):\n",
    "        if self.state == 'doručen':\n",
    "            return 'Balík byl již doručen.'\n",
    "        else:\n",
    "            self.state = 'doručen'\n",
    "            return 'Doručení uloženo.'\n",
    "\n",
    "# vytvoření objektů\n",
    "package_01 = Package('Václavské náměstí 12, Praha', 0.25, 'nedoručen')\n",
    "package_02 = Package('Horni Dolní 44, Tramtárie', 12.5, 'doručen')\n",
    "\n",
    "print(package_01)\n",
    "print(package_02)\n",
    "\n",
    "print(package_01.deliver())\n",
    "print(package_02.deliver())\n",
    "\n",
    "\n"
   ]
  }
 ],
 "metadata": {
  "kernelspec": {
   "display_name": "Python 3",
   "language": "python",
   "name": "python3"
  },
  "language_info": {
   "codemirror_mode": {
    "name": "ipython",
    "version": 3
   },
   "file_extension": ".py",
   "mimetype": "text/x-python",
   "name": "python",
   "nbconvert_exporter": "python",
   "pygments_lexer": "ipython3",
   "version": "3.11.3"
  }
 },
 "nbformat": 4,
 "nbformat_minor": 2
}
