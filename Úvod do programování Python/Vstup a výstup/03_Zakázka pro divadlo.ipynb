{
 "cells": [
  {
   "cell_type": "markdown",
   "metadata": {},
   "source": [
    "# Zakázka pro divadlo\n",
    "\n",
    "Divadlo požaduje systém pro online rezervaci vstupenek na pořádaná představení. Váš první úkol na této zakázce je vytvořit registraci pro nové uživatele tohoto systému.\n",
    "\n",
    " - Založte si program vstupenky01.py. Bude to první verze našeho programu pro nákup vstupenek.\n",
    " - Napište program tak, aby nejprve vypsal na obrazovku Divadlo Pěst na oko na první řádek, na druhý řádek chceme vypsat Vítejte v online rezervaci vstupenek a na třetí řádek Pro vstup do systému je potřeba registrace.\n",
    " - Na dalším řádku požádejte uživatele o jeho uživatelské jméno a poté o jeho věk. Ten si uložte do nějaké proměnné jako číslo."
   ]
  },
  {
   "cell_type": "markdown",
   "metadata": {},
   "source": [
    "### Řešení"
   ]
  },
  {
   "cell_type": "code",
   "execution_count": 2,
   "metadata": {},
   "outputs": [
    {
     "name": "stdout",
     "output_type": "stream",
     "text": [
      "Divadlo Pěst na oko\n",
      "Vítejte v online rezervaci vstupenek\n",
      "Pro vstup do sstému je třeba registrace.\n"
     ]
    }
   ],
   "source": [
    "print('Divadlo Pěst na oko')\n",
    "print('Vítejte v online rezervaci vstupenek')\n",
    "print('Pro vstup do systému je třeba registrace.')\n",
    "\n",
    "jmeno = input('Jaké je Vaše jméno?\\n')\n",
    "vek = int(input('Kolik Vám je let?\\n'))"
   ]
  }
 ],
 "metadata": {
  "kernelspec": {
   "display_name": "Python 3",
   "language": "python",
   "name": "python3"
  },
  "language_info": {
   "codemirror_mode": {
    "name": "ipython",
    "version": 3
   },
   "file_extension": ".py",
   "mimetype": "text/x-python",
   "name": "python",
   "nbconvert_exporter": "python",
   "pygments_lexer": "ipython3",
   "version": "3.11.3"
  }
 },
 "nbformat": 4,
 "nbformat_minor": 2
}
