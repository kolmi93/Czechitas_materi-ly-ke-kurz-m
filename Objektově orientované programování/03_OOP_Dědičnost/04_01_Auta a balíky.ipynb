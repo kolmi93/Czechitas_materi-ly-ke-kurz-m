{
 "cells": [
  {
   "cell_type": "markdown",
   "metadata": {},
   "source": [
    "# Auta a balíky\n",
    "\n",
    "#### U našich balíků budeme nově evidovat, který řidič(ka) balík doručuje. Díky tomu pak bude možné odeslat SMS zprávu s číslem řidiče (řidičky), aby mohli zákazníci v případě potřeby řidiče (řidičku) kontaktovat.\n",
    "\n",
    "#### Vytvoř třídu Driver, která bude mít atributy name a phone_number. Dále uprav třídu Package. Třída bude mít nově atribut driver, ve kterém bude uložen(a) řidič(ka) doručující balík. Uprav i třídu ValuablePackage, aby v metodě __init__() předala hodnotu parametru driver metodě __init__ rodičovské třídy. Přidej třídě Package metodu send_message(), která odešle zprávu s textem: \"Dnes budeme doručovat váš balík. V případě potřeby kontaktujte řidiče na čísle: \" Na konec zprávy doplň telefonní číslo."
   ]
  },
  {
   "cell_type": "markdown",
   "metadata": {},
   "source": [
    "### Řešení"
   ]
  },
  {
   "cell_type": "code",
   "execution_count": 3,
   "metadata": {},
   "outputs": [
    {
     "name": "stdout",
     "output_type": "stream",
     "text": [
      "Odesíláme SMS: Dnes budeme doručovat váš balík. V případě potřeby kontaktujte řidiče na čísle: +420 123 456 789\n",
      "Celková hodnota balíků je 5000,- Kč.\n"
     ]
    }
   ],
   "source": [
    "from dataclasses import dataclass\n",
    "\n",
    "@dataclass\n",
    "class Driver:\n",
    "    name: str\n",
    "    phone_number: str\n",
    "\n",
    "@dataclass\n",
    "class Package:\n",
    "    address: str\n",
    "    weight: float\n",
    "    state: str = 'nedoručen'\n",
    "    driver: Driver = None\n",
    "\n",
    "    def __str__(self):\n",
    "        return f'Balík na adresu {self.address}, má hmotnost {self.weight} a je ve stavu {self.state}.'\n",
    "\n",
    "    def delivery_price(self):\n",
    "        if self.weight < 10:\n",
    "            price = 129\n",
    "        elif self.weight >= 10 and self.weight < 20:\n",
    "            price = 159\n",
    "        else:\n",
    "            price = 359\n",
    "        return price\n",
    "\n",
    "    def deliver(self):\n",
    "        if self.state == 'doručen':\n",
    "            return f'Balík byl již doručen.'\n",
    "        else:\n",
    "            self.state = 'doručen'\n",
    "            return f'Doručení uloženo.'\n",
    "\n",
    "    def send_message(self):\n",
    "        if self.driver is not None:\n",
    "            message = f\"Dnes budeme doručovat váš balík. V případě potřeby kontaktujte řidiče na čísle: {self.driver.phone_number}\"\n",
    "            print(f\"Odesíláme SMS: {message}\")\n",
    "\n",
    "class ValuablePackage(Package):\n",
    "    def __init__(self, address, weight, value, state='nedoručen', driver=None):\n",
    "        super().__init__(address, weight, state, driver)\n",
    "        self.value = value\n",
    "\n",
    "    def __str__(self):\n",
    "        return super().__str__() + f' Balík má hodnotu {self.value} Kč.'\n",
    "\n",
    "# Příklad použití\n",
    "driver_1 = Driver(\"Jana Nováková\", \"+420 123 456 789\")\n",
    "\n",
    "package_1 = ValuablePackage(\"Grimmauldovo náměstí 11\", 1.9, 5000, \"nedoručen\", driver_1)\n",
    "package_2 = Package(\"Godrikův důl 47\", 1.9, \"nedoručen\")\n",
    "package_3 = ValuablePackage(\"Vydrník svatého Drába 13\", 1.9, 5500, \"nedoručeno\", driver_1)\n",
    "package_list = [package_1, package_2, package_3]\n",
    "\n",
    "package_1.send_message()\n",
    "\n",
    "# Zbytek původního kódu pro výpočet celkové hodnoty balíků\n",
    "\n",
    "total_value = 0\n",
    "\n",
    "for one in package_list:\n",
    "    if hasattr(one, 'value') and one.state == \"nedoručen\":\n",
    "        total_value += one.value\n",
    "\n",
    "print(f'Celková hodnota balíků je {total_value},- Kč.')"
   ]
  }
 ],
 "metadata": {
  "kernelspec": {
   "display_name": "Python 3",
   "language": "python",
   "name": "python3"
  },
  "language_info": {
   "codemirror_mode": {
    "name": "ipython",
    "version": 3
   },
   "file_extension": ".py",
   "mimetype": "text/x-python",
   "name": "python",
   "nbconvert_exporter": "python",
   "pygments_lexer": "ipython3",
   "version": "3.11.3"
  }
 },
 "nbformat": 4,
 "nbformat_minor": 2
}
