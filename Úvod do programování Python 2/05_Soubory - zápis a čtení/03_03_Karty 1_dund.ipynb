{
 "cells": [
  {
   "cell_type": "markdown",
   "metadata": {},
   "source": [
    "# Karty 1\n",
    "\n",
    "Napište program, který vylosuje náhodnou hrací kartu z klasické whistové sady obsahující 52 karet, rozdělených do čtyř barev (kříže, srdce, piky, káry), s hodnotami 2, 3, 4, 5, 6, 7, 8, 9, 10, J (kluk), Q (dáma), K (král), A (eso).\n",
    "\n",
    "Výstup programu může vypadat například takto:\n",
    "\n",
    "Karta: kluk kříže"
   ]
  },
  {
   "cell_type": "markdown",
   "metadata": {},
   "source": [
    "Nápověda: Jak vybrat náhodný prvek ze seznamu hledej v dokumentaci k modulu random."
   ]
  },
  {
   "cell_type": "markdown",
   "metadata": {},
   "source": [
    "### Řešení"
   ]
  },
  {
   "cell_type": "code",
   "execution_count": 1,
   "metadata": {},
   "outputs": [
    {
     "name": "stdout",
     "output_type": "stream",
     "text": [
      "piky 3\n"
     ]
    }
   ],
   "source": [
    "import random\n",
    "\n",
    "barvy = ['kříže', 'srdce', 'piky', 'káry']\n",
    "hodnoty = list(range(2,11)) + ['J', 'Q', 'K', 'A']\n",
    "\n",
    "print(random.choice(barvy), random.choice(hodnoty))"
   ]
  }
 ],
 "metadata": {
  "kernelspec": {
   "display_name": "Python 3",
   "language": "python",
   "name": "python3"
  },
  "language_info": {
   "codemirror_mode": {
    "name": "ipython",
    "version": 3
   },
   "file_extension": ".py",
   "mimetype": "text/x-python",
   "name": "python",
   "nbconvert_exporter": "python",
   "pygments_lexer": "ipython3",
   "version": "3.11.3"
  }
 },
 "nbformat": 4,
 "nbformat_minor": 2
}
