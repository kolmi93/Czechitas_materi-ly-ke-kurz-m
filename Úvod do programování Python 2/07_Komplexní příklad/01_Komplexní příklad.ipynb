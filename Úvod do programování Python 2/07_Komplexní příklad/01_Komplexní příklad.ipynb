{
 "cells": [
  {
   "cell_type": "markdown",
   "metadata": {},
   "source": [
    "# Komplexní příklad\n",
    "\n",
    "V rámci této lekce si vyzkoušíme vyřešit příklad, ve kterém využijeme koncepty, které jsme si ukazovali v předchozích lekcích.\n",
    "\n",
    "Zadání příkazu je následující:\n",
    "\n",
    "Ze souboru battles.tsv si načti informace o bitvách, které se odehrály ve knižní sérii Písně ohně a ledu, jejímž autorem je spisovatel George R. R. Martin a podle níž byl natočen slavný seriál Hra o trůny. Naším úkolem je ze zadaných dat zjistit následující:\n",
    "\n",
    " - Statistiku, kolikrát byl který rod v pozici útočníků. Výsledná data ulož do CSV souboru attackers.csv.\n",
    " - Pokud je zadaná síla obou armád (sloupce attacker_size a defender_size, indexy sloupců jsou 17 a 18), vytvoř seznam velitelů, kteří v boji porazili silnější armádu (vítěze poznáš podle sloupce attacker_outcome, který obsahuje hodnoty win a loss, platí vždy z pohledu útočníka). Kolik takových bitev je?\n",
    "Abychom příklad vyřešili, je potřeba postupně provést následující kroky:\n",
    "\n",
    " - načíst soubor a uložit data do vhodné struktury,\n",
    " - projít data řádek po řádku a pro každý řádek si uložit všechny útočících rody,\n",
    "vytvořenou strukturu zapsat do souboru."
   ]
  },
  {
   "cell_type": "markdown",
   "metadata": {},
   "source": [
    "### Řešení"
   ]
  },
  {
   "cell_type": "markdown",
   "metadata": {},
   "source": [
    "ÚKOL Č. 1:\n",
    "\n",
    "kolikrát byl v pozici útočníků"
   ]
  },
  {
   "cell_type": "code",
   "execution_count": 38,
   "metadata": {},
   "outputs": [
    {
     "name": "stdout",
     "output_type": "stream",
     "text": [
      "{'Joffrey/Tommen Baratheon': 14, 'Robb Stark': 10, 'Balon/Euron Greyjoy': 7, 'Stannis Baratheon': 5}\n",
      "Counter({'Joffrey/Tommen Baratheon': 14, 'Robb Stark': 10, 'Balon/Euron Greyjoy': 7, 'Stannis Baratheon': 5})\n"
     ]
    }
   ],
   "source": [
    "import csv\n",
    "from collections import Counter\n",
    "\n",
    "battles = []\n",
    "with open('battles.tsv') as file:\n",
    "    # přečte soubor bez header\n",
    "    heading = next(file)\n",
    "    tsv_file = csv.reader(file, delimiter=\"\\t\")\n",
    "    for row in tsv_file: \n",
    "        battles.append(row)\n",
    "        \n",
    "# varianta A - for cyklus\n",
    "attackers = {}\n",
    "for one in battles:\n",
    "    if one[3] != '':\n",
    "        attacker = one[3]\n",
    "        if attacker not in attackers:\n",
    "            attackers[attacker] = 0\n",
    "        attackers[attacker] += 1\n",
    "print(attackers)\n",
    "\n",
    "# varianta B - s Counter\n",
    "attackers_2 = []\n",
    "for one in battles:\n",
    "    if one[3] != '':\n",
    "        attackers_2.append(one[3])\n",
    "attackers_counter = Counter(attackers_2)\n",
    "print(attackers_counter)\n",
    "\n",
    "with open('attackers.csv', mode='w', encoding='utf-8') as soubor:\n",
    "    # tady si hodnotu ukládáme do dvou proměnných\n",
    "    for jmeno, pocet in attackers_counter.items():\n",
    "        soubor.write(f'{jmeno},{pocet}\\n')\n"
   ]
  },
  {
   "cell_type": "markdown",
   "metadata": {},
   "source": [
    "ÚKOL Č . 2:\n",
    "\n",
    "seznam velitelů, kteří vyhráli, ikdyž byli v oslabení"
   ]
  },
  {
   "cell_type": "code",
   "execution_count": 44,
   "metadata": {},
   "outputs": [
    {
     "name": "stdout",
     "output_type": "stream",
     "text": [
      "['Clement Piper', 'Vance', 'Beric Dondarrion', 'Jaime Lannister', 'Dagmer Cleftjaw', 'Tywin Lannister', 'Flement Brax', 'Gregor Clegane', 'Addam Marbrand', 'Lyle Crakehall', 'Leo Lefford', 'Robertt Glover', 'Helman Tallhart', 'Roose Bolton', 'Wylis Manderly', 'Gilbert Farring']\n",
      "16\n",
      "Counter({'Clement Piper': 1, 'Vance': 1, 'Beric Dondarrion': 1, 'Jaime Lannister': 1, 'Dagmer Cleftjaw': 1, 'Tywin Lannister': 1, 'Flement Brax': 1, 'Gregor Clegane': 1, 'Addam Marbrand': 1, 'Lyle Crakehall': 1, 'Leo Lefford': 1, 'Robertt Glover': 1, 'Helman Tallhart': 1, 'Roose Bolton': 1, 'Wylis Manderly': 1, 'Gilbert Farring': 1})\n"
     ]
    }
   ],
   "source": [
    "import csv\n",
    "from collections import Counter\n",
    "\n",
    "battles = []\n",
    "with open('battles.tsv') as file:\n",
    "    # přečte soubor bez header\n",
    "    heading = next(file)\n",
    "    tsv_file = csv.reader(file, delimiter=\"\\t\")\n",
    "    for row in tsv_file: \n",
    "        battles.append(row)\n",
    "\n",
    "total = []\n",
    "for one in battles:\n",
    "    if one[17] > one[18] and one[13] == 'loss':\n",
    "        def_com = one[19].split(', ')\n",
    "        total += def_com\n",
    "    elif one[17] < one[18] and one[13] == 'win':\n",
    "        of_com = one[20].split(', ')\n",
    "        total += of_com\n",
    "print(total)\n",
    "print(len(total))"
   ]
  }
 ],
 "metadata": {
  "language_info": {
   "name": "python"
  }
 },
 "nbformat": 4,
 "nbformat_minor": 2
}
