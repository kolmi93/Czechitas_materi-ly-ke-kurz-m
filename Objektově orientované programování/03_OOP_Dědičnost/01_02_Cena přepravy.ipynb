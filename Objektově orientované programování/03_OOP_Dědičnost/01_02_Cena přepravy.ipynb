{
 "cells": [
  {
   "cell_type": "markdown",
   "metadata": {},
   "source": [
    "# Cena přepravy\n",
    "\n",
    "#### Pokračuj ve své práci pro zásilkovou společnost. Společnost nově požaduje, aby náš software uměl dopočítat cenu přepravy balíku.\n",
    "\n",
    "- U cenných balíků bude k ceně připočteno pojištění. Přidej ke třídě ValuablePackage metodu delivery_price(). Ta spočítá cenu přepravy s využitím metody mateřské třídy Package, kterou jsme vytvořili v předchozí lekci. K tomu připočte pojistné ve výši 5 % ceny balíku."
   ]
  },
  {
   "cell_type": "markdown",
   "metadata": {},
   "source": [
    "### Řešení"
   ]
  },
  {
   "cell_type": "code",
   "execution_count": 4,
   "metadata": {},
   "outputs": [
    {
     "name": "stdout",
     "output_type": "stream",
     "text": [
      "135.45\n",
      "129\n"
     ]
    }
   ],
   "source": [
    "class Package:\n",
    "    def __init__(self, address, weight, state = 'nedoručen'):\n",
    "        self.address = address\n",
    "        self.weight = weight\n",
    "        self.state = state\n",
    "    \n",
    "    def __str__(self):\n",
    "        return f'Balík na adresu {self.address}, má hnotnost {self.weight}.'\n",
    "        \n",
    "    def delivery_price(self):\n",
    "        if self.weight < 10:\n",
    "            price = 129\n",
    "        elif self.weight >= 10 and self.weight < 20:\n",
    "            price = 159\n",
    "        else:\n",
    "            price = 359\n",
    "        return price\n",
    "        \n",
    "    \n",
    "    def deliver(self):\n",
    "        if self.state == 'doručen':\n",
    "            return f'Balík byl již doručen.'\n",
    "        else:\n",
    "            self.state = 'doručen'\n",
    "            return f'Doručení uloženo.'\n",
    "\n",
    "class ValuablePackage(Package):\n",
    "    def __init__(self, address, weight, value, state = 'nedoručen'):\n",
    "        super().__init__(address, weight, state)\n",
    "        self.value = value\n",
    "    \n",
    "    def __str__(self):\n",
    "        return super().__str__() + f' Balík má hodnotu {self.value} Kč.'\n",
    "\n",
    "# zde doplněno\n",
    "    \n",
    "    def delivery_price(self):\n",
    "        price = super().delivery_price()\n",
    "        return (price * 0.05) + price\n",
    "\n",
    "package_01 = ValuablePackage('Václavské náměstí 12, Praha', 0.25, 5000)\n",
    "package_02 = Package('Horni Dolní 44, Tramtárie', 2.5)\n",
    "\n",
    "print(package_01.delivery_price())\n",
    "print(package_02.delivery_price())\n"
   ]
  }
 ],
 "metadata": {
  "kernelspec": {
   "display_name": "Python 3",
   "language": "python",
   "name": "python3"
  },
  "language_info": {
   "codemirror_mode": {
    "name": "ipython",
    "version": 3
   },
   "file_extension": ".py",
   "mimetype": "text/x-python",
   "name": "python",
   "nbconvert_exporter": "python",
   "pygments_lexer": "ipython3",
   "version": "3.11.3"
  }
 },
 "nbformat": 4,
 "nbformat_minor": 2
}
