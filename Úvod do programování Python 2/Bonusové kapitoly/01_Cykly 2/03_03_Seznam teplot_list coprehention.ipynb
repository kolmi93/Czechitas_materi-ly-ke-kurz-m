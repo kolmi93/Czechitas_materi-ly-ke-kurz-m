{
 "cells": [
  {
   "cell_type": "markdown",
   "metadata": {},
   "source": [
    "# Seznam teplot\n",
    "\n",
    "Mějme zadaný následující seznam naměřených teplot. Seznam obsahuje teploty naměřené pro každý den v týdnu ve čtyřech časech - ráno, v poledne, večer a v noci."
   ]
  },
  {
   "cell_type": "code",
   "execution_count": 5,
   "metadata": {},
   "outputs": [],
   "source": [
    "teploty = [\n",
    "    [2.1, 5.2, 6.1, -0.1],\n",
    "    [2.2, 4.8, 5.6, -1.0],\n",
    "    [3.3, 6.5, 5.9, 1.2],\n",
    "    [2.9, 5.6, 6.0, 0.0],\n",
    "    [2.0, 4.6, 5.5, -1.2],\n",
    "    [1.0, 3.2, 2.1, -2.0],\n",
    "    [0.4, 2.7, 1.3, -2.8]\n",
    "]"
   ]
  },
  {
   "cell_type": "markdown",
   "metadata": {},
   "source": [
    " 1. Vytvořte seznam průměrných teplot pro každý den.\n",
    " 2. Vytvořte seznam ranních teplot.\n",
    " 3. Vytvořte seznam nočních teplot.\n",
    " 4. Vytvořte seznam dvouprvkových seznamů obsahujících pouze polední a noční teplotu."
   ]
  },
  {
   "cell_type": "markdown",
   "metadata": {},
   "source": [
    "### Řešení"
   ]
  },
  {
   "cell_type": "code",
   "execution_count": 6,
   "metadata": {},
   "outputs": [
    {
     "name": "stdout",
     "output_type": "stream",
     "text": [
      "[3.325, 2.9, 4.225, 3.625, 2.725, 1.0750000000000002, 0.40000000000000013]\n"
     ]
    }
   ],
   "source": [
    "# průměrná teplota pro každý den\n",
    "\n",
    "import statistics\n",
    "\n",
    "average = [statistics.mean(teplota) for teplota in teploty]\n",
    "print(average)"
   ]
  },
  {
   "cell_type": "code",
   "execution_count": 7,
   "metadata": {},
   "outputs": [
    {
     "name": "stdout",
     "output_type": "stream",
     "text": [
      "[2.1, 2.2, 3.3, 2.9, 2.0, 1.0, 0.4]\n"
     ]
    }
   ],
   "source": [
    "# seznam ranních hodnot\n",
    "\n",
    "rano = [teplota[0] for teplota in teploty]\n",
    "print(rano)"
   ]
  },
  {
   "cell_type": "code",
   "execution_count": 8,
   "metadata": {},
   "outputs": [
    {
     "name": "stdout",
     "output_type": "stream",
     "text": [
      "[-0.1, -1.0, 1.2, 0.0, -1.2, -2.0, -2.8]\n"
     ]
    }
   ],
   "source": [
    "# seznam nočních teplot\n",
    "\n",
    "noc = [teplota[-1] for teplota in teploty]\n",
    "print(noc)"
   ]
  },
  {
   "cell_type": "code",
   "execution_count": 10,
   "metadata": {},
   "outputs": [
    {
     "name": "stdout",
     "output_type": "stream",
     "text": [
      "[[5.2, -0.1], [4.8, -1.0], [6.5, 1.2], [5.6, 0.0], [4.6, -1.2], [3.2, -2.0], [2.7, -2.8]]\n"
     ]
    }
   ],
   "source": [
    "# vypsat seznam poledních a nočních teplot\n",
    "\n",
    "poledne_noc = [[teplota[1], teplota[-1]] for teplota in teploty]\n",
    "print(poledne_noc)"
   ]
  }
 ],
 "metadata": {
  "kernelspec": {
   "display_name": "Python 3",
   "language": "python",
   "name": "python3"
  },
  "language_info": {
   "codemirror_mode": {
    "name": "ipython",
    "version": 3
   },
   "file_extension": ".py",
   "mimetype": "text/x-python",
   "name": "python",
   "nbconvert_exporter": "python",
   "pygments_lexer": "ipython3",
   "version": "3.11.3"
  }
 },
 "nbformat": 4,
 "nbformat_minor": 2
}
