{
 "cells": [
  {
   "cell_type": "markdown",
   "metadata": {},
   "source": [
    "# Registrace\n",
    "\n",
    "Založte si program registrace.py. Program nechá uživatele, aby si zvolil uživatelské jméno a heslo. Heslo jej nechejte zadat dvakrát a ověřte, že jej uživatel zadal dvakrát stejně. V opačném případě vypište varování, že hesla nejsou stejná. Dále ověřte, že heslo je bezpečné, což v tomto případě znamená, že je delší než 8 znaků."
   ]
  },
  {
   "cell_type": "markdown",
   "metadata": {},
   "source": [
    "### Řešení"
   ]
  },
  {
   "cell_type": "code",
   "execution_count": 2,
   "metadata": {},
   "outputs": [
    {
     "name": "stdout",
     "output_type": "stream",
     "text": [
      "Vaše heslo není bezpečné, má méně než 8 znaků.\n"
     ]
    }
   ],
   "source": [
    "jmeno = input('Zadejte své uživatelké jméno:\\n')\n",
    "heslo_1 = input('Zadejte své heslo:\\n')\n",
    "heslo_2 = input('Zadejte své heslo znovu:\\n')\n",
    "\n",
    "if heslo_1 != heslo_2:\n",
    "    print('Vámi zadaná heslo nejsou stejná.')\n",
    "if len(heslo_1) < 8:\n",
    "    print('Vaše heslo není bezpečné, má méně než 8 znaků.')"
   ]
  }
 ],
 "metadata": {
  "kernelspec": {
   "display_name": "Python 3",
   "language": "python",
   "name": "python3"
  },
  "language_info": {
   "codemirror_mode": {
    "name": "ipython",
    "version": 3
   },
   "file_extension": ".py",
   "mimetype": "text/x-python",
   "name": "python",
   "nbconvert_exporter": "python",
   "pygments_lexer": "ipython3",
   "version": "3.11.3"
  }
 },
 "nbformat": 4,
 "nbformat_minor": 2
}
