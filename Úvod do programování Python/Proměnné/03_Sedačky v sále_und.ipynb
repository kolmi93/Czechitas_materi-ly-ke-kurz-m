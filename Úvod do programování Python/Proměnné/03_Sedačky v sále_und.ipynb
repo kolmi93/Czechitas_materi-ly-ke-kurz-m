{
 "cells": [
  {
   "cell_type": "markdown",
   "metadata": {},
   "source": [
    "# Sedačky v sále\n",
    "\n",
    "Hlavní sál divadla má k dispozici 350 sedaček. Lze je poskládat do řad po 32 sedadlech tak, aby všechny řady byly úplné? Pokud ne, kolik sedaček musíme přikoupit, aby to šlo? Kolik nám takto vznikne celkem řad?"
   ]
  },
  {
   "cell_type": "markdown",
   "metadata": {},
   "source": [
    "### Řešení"
   ]
  },
  {
   "cell_type": "code",
   "execution_count": 1,
   "metadata": {},
   "outputs": [
    {
     "name": "stdout",
     "output_type": "stream",
     "text": [
      "30\n",
      "2\n",
      "11.0\n"
     ]
    }
   ],
   "source": [
    "sedacky_celkem = 350\n",
    "\n",
    "rada = 32\n",
    "\n",
    "zbyva_sedacek = 350 % 32\n",
    "\n",
    "dokoupit = 32 - zbyva_sedacek\n",
    "\n",
    "celkem_rad = (350 + dokoupit) / 32\n",
    "\n",
    "print(zbyva_sedacek)\n",
    "print(dokoupit)\n",
    "print(celkem_rad)"
   ]
  }
 ],
 "metadata": {
  "kernelspec": {
   "display_name": "Python 3",
   "language": "python",
   "name": "python3"
  },
  "language_info": {
   "codemirror_mode": {
    "name": "ipython",
    "version": 3
   },
   "file_extension": ".py",
   "mimetype": "text/x-python",
   "name": "python",
   "nbconvert_exporter": "python",
   "pygments_lexer": "ipython3",
   "version": "3.11.3"
  }
 },
 "nbformat": 4,
 "nbformat_minor": 2
}
