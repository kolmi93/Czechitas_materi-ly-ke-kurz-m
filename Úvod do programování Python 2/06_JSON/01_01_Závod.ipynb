{
 "cells": [
  {
   "cell_type": "markdown",
   "metadata": {},
   "source": [
    "# Závod\n",
    "\n",
    "Pracuj dál se souborem zavod.json. Cílem cvičení je zjistit čas závodníka, který získal stříbrnou medaili - seznam závodníků je seřazený, tedy výherce je zapsán jako první v našem souboru. Budeš tedy muset projít data pomocí cyklu a vytvořit seznam všech závodníků, kteří závod dokončili, tj. jejich oficiální čas není 'DNF'.\n",
    "\n",
    "Můžeš postupovat následujícím způsobem:\n",
    "\n",
    " 1. Vytvoř si prázdný seznam finishers, kam budeš vkládat jména závodníků, kteří závod doběhli.\n",
    " 2. Pomocí cyklu projdi seznam závodníků.\n",
    " 3. Do cyklu vlož podmínku, která ověří, zda oficiální čas závodníka je odlišná od řetězce DNF.\n",
    " 4. Dovnitř podmínky vlož kód, který vloží jméno a oficiální čas závodníka do seznamu finishers. (obě hodnoty můžeš dát do nového seznamu, výsledný seznam finishers bude tedy obsahovat seznamy jako jeho položky). Pro přidání prvku do seznamu použij metodu append(), tedy finishers.append(seznam_s_jmenem_a_casem_zavodnika)\n",
    " 5. Na konec programu (mimo cyklus) vlož příkaz na vypsání obsahu seznamu finishers.\n",
    " 6. Zvol index výsledného seznamu finishers tak aby print vypisoval pouze stříbrného medailistu.\n",
    "U každého bodu si klidně ověř že tvůj aktuální kus kódu dělá to co má - například dočasným pomocným printem."
   ]
  },
  {
   "cell_type": "markdown",
   "metadata": {},
   "source": [
    "### Řešení"
   ]
  },
  {
   "cell_type": "code",
   "execution_count": 6,
   "metadata": {},
   "outputs": [
    {
     "name": "stdout",
     "output_type": "stream",
     "text": [
      "[{'jmeno': 'Brunner Radek', 'rocnik': 1974, 'casy': {'oficialni': '3:00:09', '1.kolo': '4:16', '2.kolo': '2:55:53'}}, {'jmeno': 'Urban Jaroslav', 'rocnik': 1984, 'casy': {'oficialni': '3:11:44', '1.kolo': '4:11', '2.kolo': '3:07:33'}}, {'jmeno': 'Andrle Jakub', 'rocnik': 1982, 'casy': {'oficialni': '3:12:21', '1.kolo': '4:18', '2.kolo': '3:08:03'}}, {'jmeno': 'Michal Šmídl', 'rocnik': 1989, 'casy': {'oficialni': 'DNF', '1.kolo': '5:21'}}]\n",
      "[['Brunner Radek', '3:00:09'], ['Urban Jaroslav', '3:11:44'], ['Andrle Jakub', '3:12:21']]\n",
      "['Urban Jaroslav', '3:11:44']\n"
     ]
    }
   ],
   "source": [
    "import json\n",
    "\n",
    "with open('zavodnici.json', encoding='utf-8') as file:\n",
    "    runners = json.load(file)\n",
    "\n",
    "print(runners)\n",
    "\n",
    "finishers = []\n",
    "\n",
    "for runner in runners:\n",
    "    # podmínka že oficiální čas závodníka je cokoliv jiného než DNF\n",
    "    if runner['casy']['oficialni'] != 'DNF':\n",
    "        # přidání jména a oficiálního času závodníka do seznamu finishers\n",
    "        finishers.append([runner['jmeno'], runner['casy']['oficialni']])\n",
    "\n",
    "print(finishers)\n",
    "\n",
    "# stříbrný medailista\n",
    "print(finishers[1])"
   ]
  }
 ],
 "metadata": {
  "kernelspec": {
   "display_name": "Python 3",
   "language": "python",
   "name": "python3"
  },
  "language_info": {
   "codemirror_mode": {
    "name": "ipython",
    "version": 3
   },
   "file_extension": ".py",
   "mimetype": "text/x-python",
   "name": "python",
   "nbconvert_exporter": "python",
   "pygments_lexer": "ipython3",
   "version": "3.11.3"
  }
 },
 "nbformat": 4,
 "nbformat_minor": 2
}
