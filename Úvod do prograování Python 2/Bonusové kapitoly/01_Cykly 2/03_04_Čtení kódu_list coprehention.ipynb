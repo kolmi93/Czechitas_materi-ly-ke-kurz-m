{
 "cells": [
  {
   "cell_type": "markdown",
   "metadata": {},
   "source": [
    "# Čtení kódu\n",
    "\n",
    "Popište vlastními slovy co následující výrazy udělají se zadaným seznamem seznam. Až když máte ve svojí hlavjénce jasno, tak je zkuste napsat do Python konzole a ověřte, zda jste měli pravdu."
   ]
  },
  {
   "cell_type": "markdown",
   "metadata": {},
   "source": [
    ">>> seznam = [1, 4, 9, 16, 25, 36, 49, 64]\n",
    "\n",
    ">>> [x**0.5 for x in seznam]\n",
    "\n",
    ">>> [x % 2 for x in seznam]\n",
    "\n",
    ">>> [[x // 2, x % 2] for x in seznam]"
   ]
  },
  {
   "cell_type": "markdown",
   "metadata": {},
   "source": [
    ">>> seznam = ['12.03.2014', '10.01.2015', '06.06.1986']\n",
    "\n",
    ">>> [int(datum[3:5]) for datum in seznam]\n",
    "\n",
    ">>> [int(datum[:2])-1 for datum in seznam]\n",
    "\n",
    ">>> [[int(datum[:2]), int(datum[3:5]), int(datum[6:])] for datum in seznam]\n",
    "\n",
    ">>> [datum.split('.') for datum in seznam]\n",
    "\n",
    ">>> ['/'.join(datum.split('.')) for datum in seznam]"
   ]
  },
  {
   "cell_type": "markdown",
   "metadata": {},
   "source": [
    "### Řešení"
   ]
  },
  {
   "cell_type": "markdown",
   "metadata": {},
   "source": [
    "jde o pochopení kódu. Není zde co řešit.."
   ]
  }
 ],
 "metadata": {
  "language_info": {
   "name": "python"
  }
 },
 "nbformat": 4,
 "nbformat_minor": 2
}
