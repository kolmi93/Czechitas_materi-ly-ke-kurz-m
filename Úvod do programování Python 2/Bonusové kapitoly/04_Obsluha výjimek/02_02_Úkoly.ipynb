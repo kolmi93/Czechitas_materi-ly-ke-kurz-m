{
 "cells": [
  {
   "cell_type": "code",
   "execution_count": 46,
   "metadata": {},
   "outputs": [
    {
     "ename": "ValueError",
     "evalue": "Takový úkol už na seznamu je.",
     "output_type": "error",
     "traceback": [
      "\u001b[1;31m---------------------------------------------------------------------------\u001b[0m",
      "\u001b[1;31mValueError\u001b[0m                                Traceback (most recent call last)",
      "Cell \u001b[1;32mIn[46], line 16\u001b[0m\n\u001b[0;32m     14\u001b[0m     task \u001b[38;5;241m=\u001b[39m one\u001b[38;5;241m.\u001b[39msplit(\u001b[38;5;124m'\u001b[39m\u001b[38;5;124m,\u001b[39m\u001b[38;5;124m'\u001b[39m)[\u001b[38;5;241m0\u001b[39m]\n\u001b[0;32m     15\u001b[0m     \u001b[38;5;28;01mif\u001b[39;00m task \u001b[38;5;241m==\u001b[39m ukol:\n\u001b[1;32m---> 16\u001b[0m         \u001b[38;5;28;01mraise\u001b[39;00m \u001b[38;5;167;01mValueError\u001b[39;00m(\u001b[38;5;124m'\u001b[39m\u001b[38;5;124mTakový úkol už na seznamu je.\u001b[39m\u001b[38;5;124m'\u001b[39m)\n\u001b[0;32m     18\u001b[0m priorita \u001b[38;5;241m=\u001b[39m \u001b[38;5;28mint\u001b[39m(\u001b[38;5;28minput\u001b[39m(\u001b[38;5;124m'\u001b[39m\u001b[38;5;124mZadej prioritu úkolu:\u001b[39m\u001b[38;5;130;01m\\n\u001b[39;00m\u001b[38;5;124m'\u001b[39m))\n\u001b[0;32m     19\u001b[0m \u001b[38;5;28;01mif\u001b[39;00m priorita \u001b[38;5;129;01mnot\u001b[39;00m \u001b[38;5;129;01min\u001b[39;00m \u001b[38;5;28mrange\u001b[39m(\u001b[38;5;241m1\u001b[39m, \u001b[38;5;241m4\u001b[39m):\n",
      "\u001b[1;31mValueError\u001b[0m: Takový úkol už na seznamu je."
     ]
    }
   ],
   "source": [
    "import sys\n",
    "\n",
    "try:\n",
    "    with open('tasks.txt', mode='r', encoding='utf-8') as file:\n",
    "        seznam_ukolu = file.readlines()\n",
    "except FileNotFoundError:\n",
    "    print('Soubor, který se snažíte otevřít, neexistuje. To ale nevadí, bude vytvořen.')\n",
    "    seznam_ukolu = []\n",
    "\n",
    "ukol = input('Zadej název úkolu:\\n')\n",
    "\n",
    "# můžete udělat i kontrolu, jestli se úkol už na seznamu neobjevuje:\n",
    "for one in seznam_ukolu:\n",
    "    task = one.split(',')[0]\n",
    "    if task == ukol:\n",
    "        raise ValueError('Takový úkol už na seznamu je.')\n",
    "\n",
    "priorita = int(input('Zadej prioritu úkolu:\\n'))\n",
    "if priorita not in range(1, 4):\n",
    "    raise ValueError('Zadaná priorita musí být 1, 2 nebo 3.')\n",
    "\n",
    "seznam_ukolu.append(f'{ukol}, {priorita}\\n')\n",
    "print(seznam_ukolu)\n",
    "\n",
    "with open('tasks.txt', mode='w', encoding='utf-8') as output_file:\n",
    "    output_file.writelines(seznam_ukolu)"
   ]
  }
 ],
 "metadata": {
  "kernelspec": {
   "display_name": "Python 3",
   "language": "python",
   "name": "python3"
  },
  "language_info": {
   "codemirror_mode": {
    "name": "ipython",
    "version": 3
   },
   "file_extension": ".py",
   "mimetype": "text/x-python",
   "name": "python",
   "nbconvert_exporter": "python",
   "pygments_lexer": "ipython3",
   "version": "3.11.3"
  }
 },
 "nbformat": 4,
 "nbformat_minor": 2
}
