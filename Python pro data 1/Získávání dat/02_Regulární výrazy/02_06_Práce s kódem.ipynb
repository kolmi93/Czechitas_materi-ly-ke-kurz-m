{
 "cells": [
  {
   "cell_type": "markdown",
   "metadata": {},
   "source": [
    "# Práce s kódem\n",
    "\n",
    "Chceš pomoci firmě, která vyvinula e-mailového klienta pro český trh. Níže je kousek kódu, který generuje popisky políček pro zadání adres příjemců, příjemců v kopii, příjemců ve skryté kopii a tlačítka pro odeslání nebo uložení. Nyní by firma ráda expandovala na německý trh. Bohužel vývojáři vkládali popisky do aplikace jako řetězce a ztratili přehled o řetězcích, které v aplikaci mají a které je potřeba je přeložit.\n",
    "\n",
    "- Zkopíruj si následující kód, uložený jako řetězec, do svého programu.\n",
    "- Vyhledej v programu všechny řádky, kde je ukládán řetězec do proměnné, např. řádek sender_field_title = \"Příjemce\".\n",
    "- Pomocí dalšího regulárního výrazu vytáhni z každého řádku samotný řetězec (může být i s uvozovkami), např. \"Příjemce\"."
   ]
  },
  {
   "cell_type": "markdown",
   "metadata": {},
   "source": [
    "### Řešení"
   ]
  },
  {
   "cell_type": "code",
   "execution_count": 1,
   "metadata": {},
   "outputs": [
    {
     "name": "stdout",
     "output_type": "stream",
     "text": [
      "\"Příjemce\"\n",
      "\"Kopie\"\n",
      "\"Skrytá kopie\"\n",
      "\"Odeslat\"\n",
      "\"Uložit koncept\"\n"
     ]
    }
   ],
   "source": [
    "import re\n",
    "\n",
    "kod = \"\"\"\n",
    "sender_field_title = \"Příjemce\"\n",
    "copy_field_title = \"Kopie\"\n",
    "if blind_copy == True:\n",
    "    blind_copy_title = \"Skrytá kopie\"\n",
    "if action == \"send\":\n",
    "    button_title = \"Odeslat\"\n",
    "else:\n",
    "    button_title = \"Uložit koncept\"\n",
    "\"\"\"\n",
    "\n",
    "regularni_vyraz = re.compile(r'\"{1}[A-Z]{1}[a-záéíóúůěščřžý ]+\"')\n",
    "hledani = regularni_vyraz.findall(kod)\n",
    "\n",
    "for one in hledani:\n",
    "    print(one)\n"
   ]
  }
 ],
 "metadata": {
  "kernelspec": {
   "display_name": "Python 3",
   "language": "python",
   "name": "python3"
  },
  "language_info": {
   "codemirror_mode": {
    "name": "ipython",
    "version": 3
   },
   "file_extension": ".py",
   "mimetype": "text/x-python",
   "name": "python",
   "nbconvert_exporter": "python",
   "pygments_lexer": "ipython3",
   "version": "3.11.3"
  }
 },
 "nbformat": 4,
 "nbformat_minor": 2
}
