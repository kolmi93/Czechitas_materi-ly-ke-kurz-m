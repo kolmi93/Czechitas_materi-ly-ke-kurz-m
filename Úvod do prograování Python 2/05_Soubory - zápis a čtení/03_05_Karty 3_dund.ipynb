{
 "cells": [
  {
   "cell_type": "markdown",
   "metadata": {},
   "source": [
    "# Karty 3\n",
    "\n",
    "Zkusme vyřešit problém losování karet tak, aby se nám nemohlo stát, že nám nějaká karta padne vícekrát, když by správně v balíčku měla být od každé karty pouze jedna.\n",
    "\n",
    "Ze souboru karty.txt si načtěte do seznamu kompletní balíček karet. Zadání je stejné jako v předchozí úložce, tedy vylosovat 4 karty z balíčku a vypsat je jako seznam spolu se součtem hodnot.\n",
    "\n",
    "Existuje vícero možných postupů, které vedou ke stejnému výsledku. Zde už můžete trochu zagooglit. Ve většině postupů se vám bude hodit metoda, který umí odstranit prvek seznamu na zadaném indexu:\n",
    "\n",
    "x = [1, 2, 3]\n",
    "x.pop(0)\n",
    "print(x)  # [2, 3]\n",
    "Také se vám může hodit funkce shuffle() z modulu random, která umí náhodně zamíchat seznam."
   ]
  },
  {
   "cell_type": "markdown",
   "metadata": {},
   "source": [
    "### Řešení"
   ]
  },
  {
   "cell_type": "code",
   "execution_count": 1,
   "metadata": {},
   "outputs": [
    {
     "name": "stdout",
     "output_type": "stream",
     "text": [
      "V tahu č.1 byly vybrány karty o celkové hodnotě 33 bodů.\n",
      "V tahu č.2 byly vybrány karty o celkové hodnotě 28 bodů.\n",
      "V tahu č.3 byly vybrány karty o celkové hodnotě 15 bodů.\n",
      "V tahu č.4 byly vybrány karty o celkové hodnotě 31 bodů.\n",
      "V tahu č.5 byly vybrány karty o celkové hodnotě 23 bodů.\n",
      "V tahu č.6 byly vybrány karty o celkové hodnotě 24 bodů.\n",
      "V tahu č.7 byly vybrány karty o celkové hodnotě 32 bodů.\n",
      "V tahu č.8 byly vybrány karty o celkové hodnotě 32 bodů.\n",
      "V tahu č.9 byly vybrány karty o celkové hodnotě 29 bodů.\n",
      "V tahu č.10 byly vybrány karty o celkové hodnotě 24 bodů.\n",
      "V tahu č.11 byly vybrány karty o celkové hodnotě 17 bodů.\n",
      "V tahu č.12 byly vybrány karty o celkové hodnotě 33 bodů.\n",
      "V tahu č.13 byly vybrány karty o celkové hodnotě 19 bodů.\n",
      "Všechny karty byly již použity. Hra končí.\n"
     ]
    }
   ],
   "source": [
    "import random\n",
    "\n",
    "cards = []\n",
    "with open('karty.txt', mode = 'r', encoding = 'utf-8') as file:\n",
    "    for line in file:\n",
    "      cards.append(line.strip())\n",
    "      random.shuffle(cards)\n",
    "\n",
    "values = {\n",
    "   '2' : 2,\n",
    "   '3' : 3,\n",
    "   '4' : 4,\n",
    "   '5' : 5, \n",
    "   '6' : 6,\n",
    "   '7' : 7,\n",
    "   '8' : 8,\n",
    "   '9' : 9,\n",
    "   '10' : 10,\n",
    "   'kluk' : 10,\n",
    "   'dáma' : 10,\n",
    "   'král' : 10,\n",
    "   'eso' : 1,\n",
    "}\n",
    "\n",
    "# losování karet\n",
    "selected = []\n",
    "while len(cards) != 0:\n",
    "  move = []\n",
    "  for one in range(4):\n",
    "    move.append(cards.pop())\n",
    "  selected.append(move)\n",
    "# print(selected) # výpis všech tahů\n",
    "\n",
    "# převod na hodnoty\n",
    "possition = 0\n",
    "total = []\n",
    "for move in selected:\n",
    "  sum_moves = 0\n",
    "  for one in move:\n",
    "    one = one.split()[0]\n",
    "    if one in values:\n",
    "      one = values[one]\n",
    "    sum_moves += one\n",
    "  possition += 1\n",
    "  total.append([possition, sum_moves])\n",
    "# print(total) # výpis čísel kol + tahů převedených na hodnoty\n",
    "\n",
    "# výpis pozic\n",
    "for element in total:\n",
    "  print(f'V tahu č.{element[0]} byly vybrány karty o celkové hodnotě {element[1]} bodů.')\n",
    "\n",
    "if len(cards) == 0:\n",
    "  print('Všechny karty byly již použity. Hra končí.')"
   ]
  }
 ],
 "metadata": {
  "kernelspec": {
   "display_name": "Python 3",
   "language": "python",
   "name": "python3"
  },
  "language_info": {
   "codemirror_mode": {
    "name": "ipython",
    "version": 3
   },
   "file_extension": ".py",
   "mimetype": "text/x-python",
   "name": "python",
   "nbconvert_exporter": "python",
   "pygments_lexer": "ipython3",
   "version": "3.11.3"
  }
 },
 "nbformat": 4,
 "nbformat_minor": 2
}
