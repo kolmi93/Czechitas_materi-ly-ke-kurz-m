{
 "cells": [
  {
   "cell_type": "markdown",
   "metadata": {},
   "source": [
    "# Dělitelnost více čísly\n",
    "\n",
    "Vypišme si čísla z nějakého rozsahu na základě jejich dělitelnosti dvěma čísly.\n",
    "\n",
    " - Zkuste z nějakého rozsahu čísel vypsat čísla, která jsou dělitelná 3 i 4 současně.\n",
    " - Zkuste z nějakého rozsahu čísel vypsat čísla, která jsou dělitelná 5 nebo 6. Stačí vypsat text: \"Číslo je dělitelné 5 nebo 6.\""
   ]
  },
  {
   "cell_type": "markdown",
   "metadata": {},
   "source": [
    "### Řešení"
   ]
  },
  {
   "cell_type": "code",
   "execution_count": 8,
   "metadata": {},
   "outputs": [],
   "source": [
    "number = int(input('Vyberte celé číslo:\\n'))"
   ]
  },
  {
   "cell_type": "markdown",
   "metadata": {},
   "source": [
    "čísla dělitelná 3 a 4"
   ]
  },
  {
   "cell_type": "code",
   "execution_count": 9,
   "metadata": {},
   "outputs": [
    {
     "name": "stdout",
     "output_type": "stream",
     "text": [
      "Čísla dělitelná číslem 3 a 4 jsou: [12, 24, 36, 48, 60, 72, 84, 96].\n"
     ]
    }
   ],
   "source": [
    "three_four = []\n",
    "for one in range(1, number):\n",
    "    if one % 3 == 0 and one % 4 == 0:\n",
    "        three_four.append(one)\n",
    "print(f'Čísla dělitelná číslem 3 a 4 jsou: {three_four}.')"
   ]
  },
  {
   "cell_type": "markdown",
   "metadata": {},
   "source": [
    "čísla dělitelná 5 nebo 6"
   ]
  },
  {
   "cell_type": "code",
   "execution_count": 10,
   "metadata": {},
   "outputs": [
    {
     "name": "stdout",
     "output_type": "stream",
     "text": [
      "Čísla dělitelná číslem 5 nebo 6 jsou: [5, 6, 10, 12, 15, 18, 20, 24, 25, 30, 35, 36, 40, 42, 45, 48, 50, 54, 55, 60, 65, 66, 70, 72, 75, 78, 80, 84, 85, 90, 95, 96].\n"
     ]
    }
   ],
   "source": [
    "five_six = []\n",
    "for one in range(1, number):\n",
    "    if one % 5 == 0 or one % 6 == 0:\n",
    "        five_six.append(one)\n",
    "print(f'Čísla dělitelná číslem 5 nebo 6 jsou: {five_six}.')"
   ]
  }
 ],
 "metadata": {
  "kernelspec": {
   "display_name": "Python 3",
   "language": "python",
   "name": "python3"
  },
  "language_info": {
   "codemirror_mode": {
    "name": "ipython",
    "version": 3
   },
   "file_extension": ".py",
   "mimetype": "text/x-python",
   "name": "python",
   "nbconvert_exporter": "python",
   "pygments_lexer": "ipython3",
   "version": "3.11.3"
  }
 },
 "nbformat": 4,
 "nbformat_minor": 2
}
