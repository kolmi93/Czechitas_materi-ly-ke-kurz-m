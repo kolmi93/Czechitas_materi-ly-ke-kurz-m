{
 "cells": [
  {
   "cell_type": "markdown",
   "metadata": {},
   "source": [
    "# Množiny\n",
    "\n",
    "Následující text převeďte na množinu unikátních znaků, zjistěte počet unikátních znaků a vypište jejich seřazený seznam."
   ]
  },
  {
   "cell_type": "code",
   "execution_count": 3,
   "metadata": {},
   "outputs": [],
   "source": [
    "text = '''Prágl\n",
    "Prágl, po anglánsku Prague nebo Praha nebo v Cajsku, je taková lochna\n",
    "v tem kuse hródy někde za čárama naši domoviny, kde se zoncna už\n",
    "nechláme a kde se prndá po cajzlovsku. A ještě k temu tam majó sicnu\n",
    "těžcí papaláši, kvůli čemu ho má každé v láfu jako kaktus ve véfuku.\n",
    "Z Práglu bere kramále aj ten jejich len kerému se péruje Vltava.\n",
    "\n",
    "O Práglu se taky kóří, pač tam majó hafo retychů pro všecky. Kromě\n",
    "bůry švédských retychů só aj dva v Olmecu a jeden v Bučovicách.\n",
    "To my z našeho štatlu radši hážem lulec do kašny na Zelňáku. Když\n",
    "ale nekdo vopruboval zašrajbčit náš barocké Parnas do cancu retychů\n",
    "pro všecky, přišmrdolili se ti Švédi s tým, že só proti a hókajó po\n",
    "celé hródě, že ta vasra v tem se dá chlemtat.\n",
    "'''"
   ]
  },
  {
   "cell_type": "markdown",
   "metadata": {},
   "source": [
    "Očekávaný výstup:\n",
    "\n",
    "49\n",
    "['\\n', ' ', ',', '.', 'A', 'B', 'C', 'K', 'O', 'P', 'T', 'V', 'Z', 'a', 'b', 'c', 'd', 'e', 'f', 'g', 'h', 'i', 'j', 'k', 'l', 'm', 'n', 'o', 'p', 'r', 's', 't', 'u', 'v', 'y', 'z', 'á', 'é', 'í', 'ó', 'ý', 'č', 'ě', 'ň', 'ř', 'Š', 'š', 'ů', 'ž']"
   ]
  },
  {
   "cell_type": "code",
   "execution_count": 8,
   "metadata": {},
   "outputs": [
    {
     "name": "stdout",
     "output_type": "stream",
     "text": [
      "['\\n', ' ', ',', '.', 'A', 'B', 'C', 'K', 'O', 'P', 'T', 'V', 'Z', 'a', 'b', 'c', 'd', 'e', 'f', 'g', 'h', 'i', 'j', 'k', 'l', 'm', 'n', 'o', 'p', 'r', 's', 't', 'u', 'v', 'y', 'z', 'á', 'é', 'í', 'ó', 'ý', 'č', 'ě', 'ň', 'ř', 'Š', 'š', 'ů', 'ž']\n",
      "V textu je 49 jedinečných znaků.\n"
     ]
    }
   ],
   "source": [
    "jedinecne_znaky = []\n",
    "\n",
    "for one in text:\n",
    "    if one not in jedinecne_znaky:\n",
    "        jedinecne_znaky.append(one)\n",
    "\n",
    "\n",
    "print(sorted(jedinecne_znaky))\n",
    "print(f'V textu je {len(jedinecne_znaky)} jedinečných znaků.')\n"
   ]
  }
 ],
 "metadata": {
  "kernelspec": {
   "display_name": "Python 3",
   "language": "python",
   "name": "python3"
  },
  "language_info": {
   "codemirror_mode": {
    "name": "ipython",
    "version": 3
   },
   "file_extension": ".py",
   "mimetype": "text/x-python",
   "name": "python",
   "nbconvert_exporter": "python",
   "pygments_lexer": "ipython3",
   "version": "3.11.3"
  }
 },
 "nbformat": 4,
 "nbformat_minor": 2
}
