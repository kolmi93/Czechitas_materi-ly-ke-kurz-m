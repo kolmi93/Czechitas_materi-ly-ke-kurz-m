{
 "cells": [
  {
   "cell_type": "markdown",
   "metadata": {},
   "source": [
    "# Procházení seznamu\n",
    "\n",
    "1. Založte si program hesla.py a na jeho začátek vložte následující kód obsahující seznam hesel pro přihlášení do nějakého systému"
   ]
  },
  {
   "cell_type": "code",
   "execution_count": 3,
   "metadata": {},
   "outputs": [],
   "source": [
    "hesla = [\n",
    "    \"xyz101\",\n",
    "    \"punťa\",\n",
    "    \"razor-blade\",\n",
    "    \"1234\",\n",
    "    \"12011986\",\n",
    "    \"martin111\",\n",
    "    \"trhnisi\",\n",
    "    \"hokuspokus\",\n",
    "    \"jeník15\",\n",
    "    \"kristus-te-spasi\",\n",
    "    \"beruška\",\n",
    "    \"strčprstskrzkrk\",\n",
    "]"
   ]
  },
  {
   "cell_type": "markdown",
   "metadata": {},
   "source": [
    "2. Pomocí cyklu vypište všechny hesla na obrazovku, každé na jeden řádek.\n",
    "3. Upravte váš program tak, aby vypisoval jen bezpečná hesla, tedy taková, jež jsou delší než 8 znaků."
   ]
  },
  {
   "cell_type": "markdown",
   "metadata": {},
   "source": [
    "### Řešení"
   ]
  },
  {
   "cell_type": "code",
   "execution_count": 4,
   "metadata": {},
   "outputs": [
    {
     "name": "stdout",
     "output_type": "stream",
     "text": [
      "xyz101\n",
      "punťa\n",
      "razor-blade\n",
      "1234\n",
      "12011986\n",
      "martin111\n",
      "trhnisi\n",
      "hokuspokus\n",
      "jeník15\n",
      "kristus-te-spasi\n",
      "beruška\n",
      "strčprstskrzkrk\n"
     ]
    }
   ],
   "source": [
    "for heslo in hesla:\n",
    "    print(heslo)"
   ]
  },
  {
   "cell_type": "code",
   "execution_count": 5,
   "metadata": {},
   "outputs": [
    {
     "name": "stdout",
     "output_type": "stream",
     "text": [
      "razor-blade\n",
      "martin111\n",
      "hokuspokus\n",
      "kristus-te-spasi\n",
      "strčprstskrzkrk\n"
     ]
    }
   ],
   "source": [
    "for heslo in hesla:\n",
    "    if len(heslo) > 8:\n",
    "        print(heslo)"
   ]
  }
 ],
 "metadata": {
  "kernelspec": {
   "display_name": "Python 3",
   "language": "python",
   "name": "python3"
  },
  "language_info": {
   "codemirror_mode": {
    "name": "ipython",
    "version": 3
   },
   "file_extension": ".py",
   "mimetype": "text/x-python",
   "name": "python",
   "nbconvert_exporter": "python",
   "pygments_lexer": "ipython3",
   "version": "3.11.3"
  }
 },
 "nbformat": 4,
 "nbformat_minor": 2
}
