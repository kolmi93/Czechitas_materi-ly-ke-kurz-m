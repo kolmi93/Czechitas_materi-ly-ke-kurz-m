{
 "cells": [
  {
   "cell_type": "markdown",
   "metadata": {},
   "source": [
    "# Uživatelské jméno\n",
    "\n",
    "Náš systém vyžaduje od uživatele zadání uživatelského jména. Uživatelské jméno smí obsahovat pouze malá písmena a smí být maximálně 8 znaků dlouhé. Požádej uživatele o zadání uživatelského jména a pomocí regulárního výrazu vyhodnoť, zda je zadané správné."
   ]
  },
  {
   "cell_type": "markdown",
   "metadata": {},
   "source": [
    "### Řešení"
   ]
  },
  {
   "cell_type": "code",
   "execution_count": 3,
   "metadata": {},
   "outputs": [
    {
     "name": "stdout",
     "output_type": "stream",
     "text": [
      "UŽivatelské jméno nesplňuje požadované podmínky.\n"
     ]
    }
   ],
   "source": [
    "import re\n",
    "\n",
    "name = input('Zadejte uživatelské jméno. Nesmí být delší než 8 znaků a musí obsahovat jen malá písmena.\\n')\n",
    "regular_expression = re.compile(r'[a-z]{1,8}')\n",
    "\n",
    "if regular_expression.fullmatch(name):\n",
    "    print('Uživatelské jméno splňuje požadované podmínky.')\n",
    "else:\n",
    "    print('Uživatelské jméno nesplňuje požadované podmínky.')"
   ]
  }
 ],
 "metadata": {
  "kernelspec": {
   "display_name": "Python 3",
   "language": "python",
   "name": "python3"
  },
  "language_info": {
   "codemirror_mode": {
    "name": "ipython",
    "version": 3
   },
   "file_extension": ".py",
   "mimetype": "text/x-python",
   "name": "python",
   "nbconvert_exporter": "python",
   "pygments_lexer": "ipython3",
   "version": "3.11.3"
  }
 },
 "nbformat": 4,
 "nbformat_minor": 2
}
