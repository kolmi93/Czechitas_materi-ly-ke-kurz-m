{
 "cells": [
  {
   "cell_type": "markdown",
   "metadata": {},
   "source": [
    "# Počty obyvatel\n",
    "\n",
    "Mějme počty obyvatel v jednotlivých krajích ČR podle následující tabulky."
   ]
  },
  {
   "cell_type": "code",
   "execution_count": 4,
   "metadata": {},
   "outputs": [],
   "source": [
    "kraje = [\n",
    "    ['Hlavní město Praha', '1 280 508'],\n",
    "    ['Jihočeský kraj', '638 782'],\n",
    "    ['Jihomoravský kraj', '1 178 812'],\n",
    "    ['Karlovarský kraj', '296 749'],\n",
    "    ['Kraj Vysočina', '508 952'],\n",
    "    ['Královéhradecký kraj', '550 804'],\n",
    "    ['Liberecký kraj', '440 636'],\n",
    "    ['Moravskoslezský kraj', '1 209 879'],\n",
    "    ['Olomoucký kraj', '633 925'],\n",
    "    ['Pardubický kraj', '517 087'],\n",
    "    ['Plzeňský kraj', '578 629'],\n",
    "    ['Středočeský kraj', '1 338 982'],\n",
    "    ['Ústecký kraj', '821 377'],\n",
    "    ['Zlínský kraj', '583 698']\n",
    "]"
   ]
  },
  {
   "cell_type": "markdown",
   "metadata": {},
   "source": [
    " 1. Vytvořte seznam, který obsahuje pouze názvy všech krajů, tedy první sloupeček této tabulky.\n",
    " 2. Vytvořte seznam, který obsahuje počty obyvatel jako čísla. Pro zbavení se mezer v číslech se vám jistě bude hodit metoda řetězců jménem replace().\n",
    " 3. Do vhodně pojmenované proměnné uložte seznam, který reprezentuje výše uvedenou tabulku jako dva seznamy: seznam jmen a seznam počtů obyvatel jako čísla."
   ]
  },
  {
   "cell_type": "markdown",
   "metadata": {},
   "source": [
    "### Řešení"
   ]
  },
  {
   "cell_type": "code",
   "execution_count": 5,
   "metadata": {},
   "outputs": [
    {
     "name": "stdout",
     "output_type": "stream",
     "text": [
      "['Hlavní město Praha', 'Jihočeský kraj', 'Jihomoravský kraj', 'Karlovarský kraj', 'Kraj Vysočina', 'Královéhradecký kraj', 'Liberecký kraj', 'Moravskoslezský kraj', 'Olomoucký kraj', 'Pardubický kraj', 'Plzeňský kraj', 'Středočeský kraj', 'Ústecký kraj', 'Zlínský kraj']\n"
     ]
    }
   ],
   "source": [
    "# jen názvy krajů\n",
    "\n",
    "jen_kraje = [kraj[0] for kraj in kraje]\n",
    "print(jen_kraje)"
   ]
  },
  {
   "cell_type": "code",
   "execution_count": 6,
   "metadata": {},
   "outputs": [
    {
     "name": "stdout",
     "output_type": "stream",
     "text": [
      "[1280508, 638782, 1178812, 296749, 508952, 550804, 440636, 1209879, 633925, 517087, 578629, 1338982, 821377, 583698]\n"
     ]
    }
   ],
   "source": [
    "# pocet obyvatel jako čísla bez mezer a int\n",
    "\n",
    "pocty = [int(kraj[1].replace(' ', '')) for kraj in kraje]\n",
    "print(pocty)"
   ]
  },
  {
   "cell_type": "code",
   "execution_count": 13,
   "metadata": {},
   "outputs": [
    {
     "name": "stdout",
     "output_type": "stream",
     "text": [
      "(['Hlavní město Praha', 'Jihočeský kraj', 'Jihomoravský kraj', 'Karlovarský kraj', 'Kraj Vysočina', 'Královéhradecký kraj', 'Liberecký kraj', 'Moravskoslezský kraj', 'Olomoucký kraj', 'Pardubický kraj', 'Plzeňský kraj', 'Středočeský kraj', 'Ústecký kraj', 'Zlínský kraj'], [['1 280 508', '638 782', '1 178 812', '296 749', '508 952', '550 804', '440 636', '1 209 879', '633 925', '517 087', '578 629', '1 338 982', '821 377', '583 698']])\n"
     ]
    }
   ],
   "source": [
    "# separé seznamy pro kraje a pro počty obyvatel\n",
    "\n",
    "separe = [kraj[0] for kraj in kraje], [[kraj[1] for kraj in kraje]]\n",
    "print(separe)\n",
    "    "
   ]
  }
 ],
 "metadata": {
  "kernelspec": {
   "display_name": "Python 3",
   "language": "python",
   "name": "python3"
  },
  "language_info": {
   "codemirror_mode": {
    "name": "ipython",
    "version": 3
   },
   "file_extension": ".py",
   "mimetype": "text/x-python",
   "name": "python",
   "nbconvert_exporter": "python",
   "pygments_lexer": "ipython3",
   "version": "3.11.3"
  }
 },
 "nbformat": 4,
 "nbformat_minor": 2
}
