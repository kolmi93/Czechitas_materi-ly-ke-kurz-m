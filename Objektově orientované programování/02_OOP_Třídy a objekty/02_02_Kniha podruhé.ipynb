{
 "cells": [
  {
   "cell_type": "markdown",
   "metadata": {},
   "source": [
    "# Kniha podruhé\n",
    "\n",
    "#### Vrať se k práci se třídou Book. Pokud jsi ji nestihl(a) v minulé části vytvořit, vrať se nejprve k zadání příkladu na předchozí stránce a třídu si vytvoř.\n",
    "\n",
    " - U knihy budeme chtít evidovat, kolik kusů bylo prodáno. Přidej atribut sold, jehož hodnotu bude možné nastavit v metodě __init__(). Dále přidej atribut costs, které představují náklady na jednu knihu (např. tisk, doprava do knihkupectví, podíl autora (autorky) atd.).\n",
    "- Přidej metodu profit(), která vrátí celkový zisk z knihy. Zisk vypočti na základě vzorce: prodané kusy * (cena - náklady).\n",
    "- Přidej metodu rating(), která vrátí hodnocení knihy na základě jejího zisku. Pokud bude zisk méně než 50 tisíc, vrať hodnotu \"propadák\". Pokud bude zisk mezi 50 tisíc a 500 tisíc, vrať hodnotu \"průměr\". Pokud bude vyšší než 500 tisíc, vrať hodnotu \"bestseller\"."
   ]
  },
  {
   "cell_type": "markdown",
   "metadata": {},
   "source": [
    "### Řešení"
   ]
  },
  {
   "cell_type": "code",
   "execution_count": 3,
   "metadata": {},
   "outputs": [
    {
     "name": "stdout",
     "output_type": "stream",
     "text": [
      "675000\n",
      "Kniha Saturnin je bestseller.\n",
      "500000000\n",
      "Kniha Harry Potter a kámen mudrců je bestseller.\n"
     ]
    }
   ],
   "source": [
    "class Book:\n",
    "    def __init__(self, title, pages, price, sold, costs):\n",
    "        self.title = title\n",
    "        self.pages = pages\n",
    "        self.price = price\n",
    "        self.sold = sold\n",
    "        self.costs = costs\n",
    "    \n",
    "    def get_info(self):\n",
    "        return f'Kniha {self.title} má {self.pages} stran a stojí {self.price},- Kč.'\n",
    "\n",
    "    def get_time_to_read(self, minutes_per_pages = 4):\n",
    "        time_to_read = (minutes_per_pages * self.pages) / 60\n",
    "        return f'Knihu {self.title} trvá přečíst {round(time_to_read)} hodin.'\n",
    "\n",
    "    def profit(self):\n",
    "        return self.sold * (self.price - self.costs)\n",
    "    \n",
    "    def rating(self):\n",
    "        if self.profit() < 50000:\n",
    "            return f'Kniha {self.title} je propadák.'\n",
    "        elif self.profit() >= 50000 and self.profit() < 500000:\n",
    "            return f'Kniha {self.title} je průměr.'\n",
    "        else:\n",
    "            return f'Kniha {self.title} je bestseller.'\n",
    "\n",
    "book_01 = Book('Saturnin', 365, 400, 4500, 250)\n",
    "book_02 = Book('Harry Potter a kámen mudrců', 275, 300, 2000000, 50)\n",
    "\n",
    "print(book_01.profit())\n",
    "print(book_01.rating())\n",
    "\n",
    "print(book_02.profit())\n",
    "print(book_02.rating())"
   ]
  }
 ],
 "metadata": {
  "kernelspec": {
   "display_name": "Python 3",
   "language": "python",
   "name": "python3"
  },
  "language_info": {
   "codemirror_mode": {
    "name": "ipython",
    "version": 3
   },
   "file_extension": ".py",
   "mimetype": "text/x-python",
   "name": "python",
   "nbconvert_exporter": "python",
   "pygments_lexer": "ipython3",
   "version": "3.11.3"
  }
 },
 "nbformat": 4,
 "nbformat_minor": 2
}
