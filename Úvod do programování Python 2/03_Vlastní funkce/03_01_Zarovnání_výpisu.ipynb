{
 "cells": [
  {
   "cell_type": "markdown",
   "metadata": {},
   "source": [
    "# Zarovnání textu\n",
    "\n",
    "#### Vypište seznam čísel každé na nový řádek zarovnané vpravo na délku nejdelšího čísla."
   ]
  },
  {
   "cell_type": "code",
   "execution_count": 2,
   "metadata": {},
   "outputs": [],
   "source": [
    "numbers = [7728, 88, 958621, 5941, 959847272, 3944, 80, 521, 57035, 3967894]"
   ]
  },
  {
   "cell_type": "markdown",
   "metadata": {},
   "source": [
    "#### Návod:\n",
    "\n",
    "- Zjistěte kolik znaků zabírá nejdelší číslo ze seznamu\n",
    "- Napište funkci, která dostane řetězec a délku, na kterou má text vyplnit zleva mezerami\n",
    "- Bonus: funkce bude mít volitelný parametr, jakým znakem má text vyplňovat"
   ]
  },
  {
   "cell_type": "markdown",
   "metadata": {},
   "source": [
    "### Řešení"
   ]
  },
  {
   "cell_type": "code",
   "execution_count": 5,
   "metadata": {},
   "outputs": [
    {
     "name": "stdout",
     "output_type": "stream",
     "text": [
      "     7728\n",
      "       88\n",
      "   958621\n",
      "     5941\n",
      "959847272\n",
      "     3944\n",
      "       80\n",
      "      521\n",
      "    57035\n",
      "  3967894\n"
     ]
    }
   ],
   "source": [
    "def zarovnat (retezec , delka, znak = ' '):\n",
    "    doplneni = delka - len(retezec)\n",
    "    print(znak * doplneni + retezec)\n",
    "\n",
    "nejdelsi = 0\n",
    "\n",
    "for jeden in numbers:\n",
    "    delka = len(str(jeden))\n",
    "    if delka > nejdelsi:\n",
    "        nejdelsi = delka\n",
    "\n",
    "for jeden in numbers:\n",
    "    zarovnat(str(jeden), nejdelsi)"
   ]
  },
  {
   "cell_type": "markdown",
   "metadata": {},
   "source": [
    "bonus: znak jako vilitelný parametr"
   ]
  },
  {
   "cell_type": "code",
   "execution_count": 4,
   "metadata": {},
   "outputs": [
    {
     "name": "stdout",
     "output_type": "stream",
     "text": [
      "+++++7728\n",
      "+++++++88\n",
      "+++958621\n",
      "+++++5941\n",
      "959847272\n",
      "+++++3944\n",
      "+++++++80\n",
      "++++++521\n",
      "++++57035\n",
      "++3967894\n"
     ]
    }
   ],
   "source": [
    "def zarovnat (retezec, delka, znak):\n",
    "    doplneni = delka - len(retezec)\n",
    "    print(znak * doplneni + retezec)\n",
    "\n",
    "for jeden in numbers:\n",
    "    delka = len(str(jeden))\n",
    "    if delka > nejdelsi:\n",
    "        nejdelsi = delka\n",
    "\n",
    "znak = input('Jaký znak má doplňovat řetězec?\\n')\n",
    "\n",
    "for jeden in numbers:\n",
    "    zarovnat(str(jeden), nejdelsi, znak)"
   ]
  }
 ],
 "metadata": {
  "kernelspec": {
   "display_name": "Python 3",
   "language": "python",
   "name": "python3"
  },
  "language_info": {
   "codemirror_mode": {
    "name": "ipython",
    "version": 3
   },
   "file_extension": ".py",
   "mimetype": "text/x-python",
   "name": "python",
   "nbconvert_exporter": "python",
   "pygments_lexer": "ipython3",
   "version": "3.11.3"
  }
 },
 "nbformat": 4,
 "nbformat_minor": 2
}
