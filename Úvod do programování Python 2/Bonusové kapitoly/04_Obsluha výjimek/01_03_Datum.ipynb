{
 "cells": [
  {
   "cell_type": "markdown",
   "metadata": {},
   "source": [
    "# Datum\n",
    "\n",
    "Požádej uživatele o zadání data narození ve formátu RRRR-MM-DD.\n",
    "\n",
    "Nejprve ověř pomocí podmínek, že je zadáno správné datum - tj. v datu jsou dvě pomlčky a po rozdělení na jednotlivé části obsahuje každá z částí číslo. Stále je ale možné, že je zadáno nesmyslné datum. Například je možné zadat datum 31. dubna nebo 29. února pro nepřestupný rok. Proto přidej modul datetime a pomocí metody fromisoformat() vyzkoušej převod na typ datetime. Ošetři ValueError, která může být způsobena výše uvedenými případy."
   ]
  },
  {
   "cell_type": "code",
   "execution_count": null,
   "metadata": {},
   "outputs": [],
   "source": [
    "from datetime import datetime\n",
    "\n",
    "datum_narozeni = input(\"Zadej datum ve formátu RRRR-MM-DD: \")"
   ]
  },
  {
   "cell_type": "markdown",
   "metadata": {},
   "source": [
    "### Řešení"
   ]
  },
  {
   "cell_type": "code",
   "execution_count": 1,
   "metadata": {},
   "outputs": [
    {
     "name": "stdout",
     "output_type": "stream",
     "text": [
      "Zadané datum není platné.\n"
     ]
    }
   ],
   "source": [
    "from datetime import datetime\n",
    "\n",
    "def date_chech(datum):\n",
    "  if \"-\" not in datum or len(datum) != 10:\n",
    "    return False\n",
    "  \n",
    "  try:\n",
    "    rok, měsíc, den = int(datum.split(\"-\")[0]), int(datum.split(\"-\")[1]), int(datum.split(\"-\")[2])\n",
    "  except ValueError:\n",
    "    return False\n",
    "\n",
    "  try:\n",
    "    datetime.fromisoformat(datum)\n",
    "  except ValueError:\n",
    "    return False\n",
    "\n",
    "  return True\n",
    "\n",
    "datum_narozeni = input(\"Zadej datum narození ve formátu RRRR-MM-DD: \")\n",
    "\n",
    "if date_chech(datum_narozeni):\n",
    "  print(\"Zadané datum je platné.\")\n",
    "else:\n",
    "  print(\"Zadané datum není platné.\")"
   ]
  },
  {
   "cell_type": "markdown",
   "metadata": {},
   "source": [
    "jde to i pomocí datetime.strptime()"
   ]
  },
  {
   "cell_type": "code",
   "execution_count": 2,
   "metadata": {},
   "outputs": [
    {
     "name": "stdout",
     "output_type": "stream",
     "text": [
      "Zadané datum není platné.\n"
     ]
    }
   ],
   "source": [
    "from datetime import datetime\n",
    "\n",
    "def date_chech(datum):\n",
    "  if \"-\" not in datum or len(datum) != 10:\n",
    "    return False\n",
    "  \n",
    "  try:\n",
    "    rok, měsíc, den = int(datum.split(\"-\")[0]), int(datum.split(\"-\")[1]), int(datum.split(\"-\")[2])\n",
    "  except ValueError:\n",
    "    return False\n",
    "\n",
    "  try:\n",
    "    datetime.strptime(datum, \"%Y-%m-%d\")\n",
    "  except ValueError:\n",
    "    return False\n",
    "\n",
    "  return True\n",
    "\n",
    "datum_narozeni = input(\"Zadej datum narození ve formátu RRRR-MM-DD: \")\n",
    "\n",
    "if date_chech(datum_narozeni):\n",
    "  print(\"Zadané datum je platné.\")\n",
    "else:\n",
    "  print(\"Zadané datum není platné.\")"
   ]
  }
 ],
 "metadata": {
  "kernelspec": {
   "display_name": "Python 3",
   "language": "python",
   "name": "python3"
  },
  "language_info": {
   "codemirror_mode": {
    "name": "ipython",
    "version": 3
   },
   "file_extension": ".py",
   "mimetype": "text/x-python",
   "name": "python",
   "nbconvert_exporter": "python",
   "pygments_lexer": "ipython3",
   "version": "3.11.3"
  }
 },
 "nbformat": 4,
 "nbformat_minor": 2
}
