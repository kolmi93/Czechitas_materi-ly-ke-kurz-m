{
 "cells": [
  {
   "cell_type": "markdown",
   "metadata": {},
   "source": [
    "# Ave, Caesar!\n",
    "\n",
    "Římské číslice se dodnes používají například pro označení století, pořadí panovníků, papežů atd. Zkus sestavit regulární výraz, který zachytí římské číslice v následujících řetězcích. Nemusíš vytvářet obecný regulární výraz pro římské číslice, ale pouze výraz, který bude fungovat na dané řetězce."
   ]
  },
  {
   "cell_type": "markdown",
   "metadata": {},
   "source": [
    "### Řešení"
   ]
  },
  {
   "cell_type": "markdown",
   "metadata": {},
   "source": [
    "IX|XI|VII|I{1,3}|IV|V|X"
   ]
  },
  {
   "cell_type": "markdown",
   "metadata": {},
   "source": [
    "viz.: https://regex101.com/r/W8dzGi/1"
   ]
  }
 ],
 "metadata": {
  "language_info": {
   "name": "python"
  }
 },
 "nbformat": 4,
 "nbformat_minor": 2
}
