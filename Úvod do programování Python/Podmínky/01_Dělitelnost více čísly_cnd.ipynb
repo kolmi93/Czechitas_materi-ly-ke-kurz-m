{
 "cells": [
  {
   "cell_type": "markdown",
   "metadata": {},
   "source": [
    "# Dělitelnost více čísly\n",
    "\n",
    "Požádejme uživatele, ať zadá celé číslo. Napiš program který zjistí, zda je číslo dělitelné 3 i 4 současně.\n",
    "\n",
    "Tip: nezapomeňte si zadané číslo převést na int.\n",
    "\n",
    "Tip 2: K ověření dělitelnosti použij operátor % - zbytek po celočíselném dělení a zkontroluj, zda je výsledek 0. Například 15 % 5 vrací 0, protože 15 je dělitelné 5."
   ]
  },
  {
   "cell_type": "markdown",
   "metadata": {},
   "source": [
    "### Řešení"
   ]
  },
  {
   "cell_type": "code",
   "execution_count": 2,
   "metadata": {},
   "outputs": [
    {
     "name": "stdout",
     "output_type": "stream",
     "text": [
      "Vámi zadané číslo není dělitelné 3 i 4.\n"
     ]
    }
   ],
   "source": [
    "cislo = int(input('Zadejte celé číslo:\\n'))\n",
    "\n",
    "if cislo % 3 == 0 and cislo % 4 == 0:\n",
    "    print('Vámi zadané číslo je dělitelné 3 i 4.')\n",
    "else:\n",
    "    print('Vámi zadané číslo není dělitelné 3 i 4.')"
   ]
  }
 ],
 "metadata": {
  "kernelspec": {
   "display_name": "Python 3",
   "language": "python",
   "name": "python3"
  },
  "language_info": {
   "codemirror_mode": {
    "name": "ipython",
    "version": 3
   },
   "file_extension": ".py",
   "mimetype": "text/x-python",
   "name": "python",
   "nbconvert_exporter": "python",
   "pygments_lexer": "ipython3",
   "version": "3.11.3"
  }
 },
 "nbformat": 4,
 "nbformat_minor": 2
}
