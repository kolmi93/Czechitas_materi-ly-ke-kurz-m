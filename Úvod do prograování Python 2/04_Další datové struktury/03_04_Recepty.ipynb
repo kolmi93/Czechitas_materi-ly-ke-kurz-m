{
 "cells": [
  {
   "cell_type": "markdown",
   "metadata": {},
   "source": [
    "# Recepty\n",
    "\n",
    "#### Pohlédněte na následující reprezentaci receptu:"
   ]
  },
  {
   "cell_type": "code",
   "execution_count": 3,
   "metadata": {},
   "outputs": [],
   "source": [
    "recipe = {\n",
    "    'nazev': 'Batáty se šalvějí a pancettou',\n",
    "    'narocnost': 'stredni',\n",
    "    'doba': 30,\n",
    "    'ingredience': [\n",
    "        ['batát', '1', '15 kč'],\n",
    "        ['olivový olej', '2 lžíce', '2 kč'],\n",
    "        ['pancetta', '4-6 plátků', '21 kč'],\n",
    "        ['přepuštěné máslo', '2 lžíce', '5 kč'],\n",
    "        ['mletý černý pepř', '1/2 lžičky', '0.5 kč'],\n",
    "        ['sůl', '1/2 lžičky', '0.1 kč'],\n",
    "        ['muškátový oříšek', 'špetka', '1 kč'],\n",
    "        ['česnek', '2 stroužky', '1 kč'],\n",
    "        ['šalvějové lístky', '20-25', '12 kč']\n",
    "    ]\n",
    "}"
   ]
  },
  {
   "cell_type": "markdown",
   "metadata": {},
   "source": [
    "#### Uložte si tuto strukturu do proměnné recept na začátek nového programu. Vypište pomocí funkce print kolik bude celé jídlo stát korun zaokrouhlené na celé koruny nahoru."
   ]
  },
  {
   "cell_type": "markdown",
   "metadata": {},
   "source": [
    "### Řešení"
   ]
  },
  {
   "cell_type": "code",
   "execution_count": 4,
   "metadata": {},
   "outputs": [
    {
     "name": "stdout",
     "output_type": "stream",
     "text": [
      "Celé jídlo bude stát 58,- Kč.\n"
     ]
    }
   ],
   "source": [
    "import math\n",
    "\n",
    "total = 0\n",
    "for ingredience in recipe['ingredience']:\n",
    "  price = float(ingredience[-1].strip(' kč'))\n",
    "  total += price\n",
    "\n",
    "print(f'Celé jídlo bude stát {math.ceil(total)},- Kč.')"
   ]
  }
 ],
 "metadata": {
  "kernelspec": {
   "display_name": "Python 3",
   "language": "python",
   "name": "python3"
  },
  "language_info": {
   "codemirror_mode": {
    "name": "ipython",
    "version": 3
   },
   "file_extension": ".py",
   "mimetype": "text/x-python",
   "name": "python",
   "nbconvert_exporter": "python",
   "pygments_lexer": "ipython3",
   "version": "3.11.3"
  }
 },
 "nbformat": 4,
 "nbformat_minor": 2
}
