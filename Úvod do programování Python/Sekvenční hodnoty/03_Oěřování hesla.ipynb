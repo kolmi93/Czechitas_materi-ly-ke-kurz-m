{
 "cells": [
  {
   "cell_type": "markdown",
   "metadata": {},
   "source": [
    "# Ověřování hesla\n",
    "\n",
    "Ověřování hesla se někdy dělá tak, že se vás systém ptá pouze na některé jeho znaky. Napište program, který má uloženo heslo, které musí uživatel zadat. Pak se jej postupně zeptejte například na druhý, pátý a sedmý znak hesla. Propusťte uživatele pouze tehdy, zadá-li všechny tyto znaky správně.\n",
    "\n",
    "Příklad použití pro heslo czechitas:\n",
    "\n",
    " Zadej 2. znak hesla: z\n",
    " Zadej 5. znak hesla: h\n",
    " Zadej 7. znak hesla: t\n",
    " Vstup povolen\n",
    "\n",
    " Zadej 2. znak hesla: e\n",
    " Zadej 5. znak hesla: h\n",
    " Zadej 7. znak hesla: t\n",
    " Vstup zamítnut\n",
    "\n",
    "Bonus bonusu: Program náhodně vygeneruje na jaké tři písmena hesla se bude ptát."
   ]
  },
  {
   "cell_type": "markdown",
   "metadata": {},
   "source": [
    "### Řešení"
   ]
  },
  {
   "cell_type": "code",
   "execution_count": 3,
   "metadata": {},
   "outputs": [
    {
     "name": "stdout",
     "output_type": "stream",
     "text": [
      "Vstup zakázán.\n"
     ]
    }
   ],
   "source": [
    "heslo = 'simsalabim'\n",
    "druhy = input('Zadejte 2. písmeno z Vašeho hesla:\\n')\n",
    "paty = input('Zadejte 5. písmeno z Vašeho hesla:\\n')\n",
    "sedmy = input('Zadejte 7. písmeno z Vašeho hesla:\\n')\n",
    "\n",
    "if heslo[1] == druhy and heslo[4] == paty and heslo[6] == sedmy:\n",
    "    print('Vstup povolen.')\n",
    "else:\n",
    "    print('Vstup zakázán.')"
   ]
  },
  {
   "cell_type": "markdown",
   "metadata": {},
   "source": [
    "bonus"
   ]
  },
  {
   "cell_type": "code",
   "execution_count": 22,
   "metadata": {},
   "outputs": [
    {
     "name": "stdout",
     "output_type": "stream",
     "text": [
      "[6, 3, 8]\n",
      "Vstup zakázán.\n"
     ]
    }
   ],
   "source": [
    "import random\n",
    "\n",
    "heslo = 'simsalabim'\n",
    "nahodne_cislo = random.sample(range(1, len(heslo) + 1), 3)\n",
    "print(nahodne_cislo)\n",
    "\n",
    "prvni = input(f'Zadejte {nahodne_cislo[0] - 1}. písmeno z Vašeho hesla:\\n')\n",
    "druhy = input(f'Zadejte {nahodne_cislo[1] - 1}. písmeno z Vašeho hesla:\\n')\n",
    "treti = input(f'Zadejte {nahodne_cislo[2] - 1}. písmeno z Vašeho hesla:\\n')\n",
    "\n",
    "if heslo[nahodne_cislo[0] - 1] == prvni and heslo[nahodne_cislo[1] - 1] == druhy and heslo[nahodne_cislo[2] - 1] == treti:\n",
    "    print('Vstup povolen.')\n",
    "else:\n",
    "    print('Vstup zakázán.')"
   ]
  }
 ],
 "metadata": {
  "kernelspec": {
   "display_name": "Python 3",
   "language": "python",
   "name": "python3"
  },
  "language_info": {
   "codemirror_mode": {
    "name": "ipython",
    "version": 3
   },
   "file_extension": ".py",
   "mimetype": "text/x-python",
   "name": "python",
   "nbconvert_exporter": "python",
   "pygments_lexer": "ipython3",
   "version": "3.11.3"
  }
 },
 "nbformat": 4,
 "nbformat_minor": 2
}
