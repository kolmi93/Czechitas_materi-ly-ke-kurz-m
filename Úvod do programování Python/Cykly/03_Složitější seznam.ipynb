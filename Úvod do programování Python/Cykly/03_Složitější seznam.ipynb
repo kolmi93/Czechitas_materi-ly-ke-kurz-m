{
 "cells": [
  {
   "cell_type": "markdown",
   "metadata": {},
   "source": [
    "# Složitější seznam\n",
    "\n",
    "Založte si program cykly02.py a použijte v něm následující seznam měsíců v roce, Všimněte si, že je to seznam seznamů."
   ]
  },
  {
   "cell_type": "code",
   "execution_count": 2,
   "metadata": {},
   "outputs": [],
   "source": [
    "mesice = [\n",
    "    [\"leden\", 31],\n",
    "    [\"únor\", 28],\n",
    "    [\"březen\", 31],\n",
    "    [\"duben\", 30],\n",
    "    [\"květen\", 31],\n",
    "    [\"červen\", 30],\n",
    "    [\"červenec\", 31],\n",
    "    [\"srpen\", 31],\n",
    "    [\"září\", 30],\n",
    "    [\"říjen\", 31],\n",
    "    [\"listopad\", 30],\n",
    "    [\"prosinec\", 31],\n",
    "]"
   ]
  },
  {
   "cell_type": "markdown",
   "metadata": {},
   "source": [
    "1. Pomocí cyklu projděte tento seznam a vypište na výstup názvy jednotlivých měsíců.\n",
    "2. Pomocí dalšího cyklu vypište na výstup počty dní v jednotlivých měsících."
   ]
  },
  {
   "cell_type": "markdown",
   "metadata": {},
   "source": [
    "### Řešení"
   ]
  },
  {
   "cell_type": "code",
   "execution_count": 9,
   "metadata": {},
   "outputs": [
    {
     "name": "stdout",
     "output_type": "stream",
     "text": [
      "leden\n",
      "únor\n",
      "březen\n",
      "duben\n",
      "květen\n",
      "červen\n",
      "červenec\n",
      "srpen\n",
      "září\n",
      "říjen\n",
      "listopad\n",
      "prosinec\n"
     ]
    }
   ],
   "source": [
    "for jeden in mesice:\n",
    "    mesic = jeden[0]\n",
    "    print(mesic)"
   ]
  },
  {
   "cell_type": "code",
   "execution_count": 10,
   "metadata": {},
   "outputs": [
    {
     "name": "stdout",
     "output_type": "stream",
     "text": [
      "31\n",
      "28\n",
      "31\n",
      "30\n",
      "31\n",
      "30\n",
      "31\n",
      "31\n",
      "30\n",
      "31\n",
      "30\n",
      "31\n"
     ]
    }
   ],
   "source": [
    "for jeden in mesice:\n",
    "    den = jeden[1]\n",
    "    print(den)"
   ]
  }
 ],
 "metadata": {
  "kernelspec": {
   "display_name": "Python 3",
   "language": "python",
   "name": "python3"
  },
  "language_info": {
   "codemirror_mode": {
    "name": "ipython",
    "version": 3
   },
   "file_extension": ".py",
   "mimetype": "text/x-python",
   "name": "python",
   "nbconvert_exporter": "python",
   "pygments_lexer": "ipython3",
   "version": "3.11.3"
  }
 },
 "nbformat": 4,
 "nbformat_minor": 2
}
