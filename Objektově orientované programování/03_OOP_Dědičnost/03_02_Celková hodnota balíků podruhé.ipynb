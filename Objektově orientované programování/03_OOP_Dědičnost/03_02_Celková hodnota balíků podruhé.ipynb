{
 "cells": [
  {
   "cell_type": "markdown",
   "metadata": {},
   "source": [
    "# Celková hodnota balíků podruhé\n",
    "\n",
    "#### Vedení společnosti si uvědomilo, že do hodnoty balíků v autě by se neměly započítávat balíky, které už byly doručeny, protože již byly předány příjemci a nebudou tedy ukradeny nebo zničeny.\n",
    "\n",
    "- Uprav kód, který vytváří balíky, aby byl jeden balík vytvořený ve stavu doručen.\n",
    "- Uprav cyklus, aby započítal hodnotu pouze těch balíků, které jsou ve stavu nedoručen. Je třeba pro čtení použít některou z funkcí isinstance(), hasattr() nebo getattr()."
   ]
  },
  {
   "cell_type": "markdown",
   "metadata": {},
   "source": [
    "### Řešení"
   ]
  },
  {
   "cell_type": "code",
   "execution_count": 1,
   "metadata": {},
   "outputs": [
    {
     "name": "stdout",
     "output_type": "stream",
     "text": [
      "Celková hodnota balíků je 5500,- Kč.\n"
     ]
    }
   ],
   "source": [
    "from dataclasses import dataclass\n",
    "\n",
    "@dataclass     # nezapomenout napsat dataclass\n",
    "class Package:\n",
    "    address: str\n",
    "    weight: float\n",
    "    state: str = 'nedoručen'\n",
    "    \n",
    "    def __str__(self):\n",
    "        return f'Balík na adresu {self.address}, má hnotnost {self.weight}.'\n",
    "        \n",
    "    def delivery_price(self):\n",
    "        if self.weight < 10:\n",
    "            price = 129\n",
    "        elif self.weight >= 10 and self.weight < 20:\n",
    "            price = 159\n",
    "        else:\n",
    "            price = 359\n",
    "        return price\n",
    "    \n",
    "    def deliver(self):\n",
    "        if self.state == 'doručen':\n",
    "            return f'Balík byl již doručen.'\n",
    "        else:\n",
    "            self.state = 'doručen'\n",
    "            return f'Doručení uloženo.'\n",
    "\n",
    "\n",
    "# POZOR, aby pořadí def __init__ odpovídalo pořadí jednotlivých package !!!\n",
    "class ValuablePackage(Package):\n",
    "    def __init__(self, address, weight, value, state = 'nedoručen'):\n",
    "        super().__init__(address, weight, state)\n",
    "        self.value = value\n",
    "    \n",
    "    def __str__(self):\n",
    "        return super().__str__() + f' Balík má hodnotu {self.value} Kč.'    \n",
    "\n",
    "package_1 = ValuablePackage(\"Grimmauldovo náměstí 11\", 1.9, 5000, \"nedoručen\")\n",
    "package_2 = Package(\"Godrikův důl 47\", 1.9, \"nedoručen\")\n",
    "package_3 = ValuablePackage(\"Vydrník svatého Drába 13\", 1.9, 5500, \"nedoručen\")\n",
    "package_list = [package_1, package_2, package_3]\n",
    "\n",
    "# je třeba jeden z balíků doručit\n",
    "package_1.deliver()\n",
    "\n",
    "# celková hodnota balíků v autě + rozšířit předchozí podmínku\n",
    "total_value = 0\n",
    "\n",
    "for one in package_list:\n",
    "    if hasattr(one, 'value') and one.state == \"nedoručen\":\n",
    "            total_value += one.value\n",
    "\n",
    "print(f'Celková hodnota balíků je {total_value},- Kč.')"
   ]
  }
 ],
 "metadata": {
  "kernelspec": {
   "display_name": "Python 3",
   "language": "python",
   "name": "python3"
  },
  "language_info": {
   "codemirror_mode": {
    "name": "ipython",
    "version": 3
   },
   "file_extension": ".py",
   "mimetype": "text/x-python",
   "name": "python",
   "nbconvert_exporter": "python",
   "pygments_lexer": "ipython3",
   "version": "3.11.3"
  }
 },
 "nbformat": 4,
 "nbformat_minor": 2
}
