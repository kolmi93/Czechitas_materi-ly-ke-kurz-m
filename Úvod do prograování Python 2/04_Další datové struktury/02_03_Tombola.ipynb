{
 "cells": [
  {
   "cell_type": "markdown",
   "metadata": {},
   "source": [
    "# Tombola\n",
    "\n",
    "#### V následujícím slovníku jsou uložena čísla lístků tomboly a příslušné výhry."
   ]
  },
  {
   "cell_type": "code",
   "execution_count": 5,
   "metadata": {},
   "outputs": [],
   "source": [
    "tombola = {\n",
    "    7: \"Láhev kvalitního vína Château Headache\",\n",
    "    15: \"Pytel brambor z místního družstva\",\n",
    "    23: \"Čokoládový dort\",\n",
    "    47: \"Kniha o historii města\",\n",
    "    55: \"Šiška salámu\",\n",
    "    67: \"Vyhlídkový let balónem\",\n",
    "    79: \"Moderní televizor\",\n",
    "    91: \"Roční předplatné městského zpravodaje\",\n",
    "    93: \"Společenská hra Sázky a dostihy\",\n",
    "}"
   ]
  },
  {
   "cell_type": "markdown",
   "metadata": {},
   "source": [
    "- Napiš program, který se nejprve zeptá uživatele na číslo jeho lístku. Vstup uživatele si převeď na int!\n",
    "- Zkontroluj, zda je číslo lístku ve slovníku. Pokud ne, vypiš text \"Bohužel nevyhráváš nic.\" Pokud číslo ve slovníku je, vypiš uživateli, co vyhrál."
   ]
  },
  {
   "cell_type": "markdown",
   "metadata": {},
   "source": [
    "### Řešení"
   ]
  },
  {
   "cell_type": "code",
   "execution_count": 6,
   "metadata": {},
   "outputs": [
    {
     "name": "stdout",
     "output_type": "stream",
     "text": [
      "Vyhráváte Láhev kvalitního vína Château Headache.\n"
     ]
    }
   ],
   "source": [
    "listek = int(input('Jaké mátek číslo lístku?'))\n",
    "\n",
    "if listek in tombola:\n",
    "    print(f'Vyhráváte: {tombola[listek]}.')\n",
    "else:\n",
    "    print('Bohužel nevyhráváte nic.')"
   ]
  },
  {
   "cell_type": "markdown",
   "metadata": {},
   "source": [
    "Pokud bych chtěla napsat program, tak jak by reálně tombola měla fungovat:\n",
    "Tedy - jakmile bude výherní lístek vylosován a výhra předána, na daný lístek už není možné vybrat výhru znovu.\n",
    "Jakmile budou všechny výhry předány výhercům, tombola končí."
   ]
  },
  {
   "cell_type": "code",
   "execution_count": null,
   "metadata": {},
   "outputs": [],
   "source": [
    "while True:\n",
    "  cislo = int(input('Jaké máte číslo lístku?\\n'))\n",
    "  vyhra = tombola.pop(cislo, None)\n",
    "  if vyhra:\n",
    "    print(f'Gratulujeme, vyhráváte: {vyhra}.')\n",
    "  else:\n",
    "    print('Bohužel nevyhráváš nic.')\n",
    "\n",
    "  if len(tombola) == 0:\n",
    "    print('Tombola končí. Všechny výhry byly již rozebrány.')\n",
    "    break"
   ]
  },
  {
   "cell_type": "markdown",
   "metadata": {},
   "source": [
    "To, co v kódu vidíte je 'cyklus while'. Ten se opakuje, dokud je námi daná podmínka 'True' - tedy dokud platí.\n",
    "Jakmile přestane podmínka platit (bude 'False'), cyklus se přeruší pomocí 'break'.\n",
    "Pokud to překlopím na náš příklad, tak cyklus bude True, dokud budou v seznamu nějaké výhry. Po každém vylosování výherního\n",
    "lístku bude onen lístek vymazán ze seznamu pomocí 'pop'. Jakmile se vyberou všechny výherní lístky,\n",
    "naše podmínka již nebude 'True', ale 'False'. Vypíše se hláška o tom, že tombola končí a nastane 'break', cyklus se ukončí."
   ]
  }
 ],
 "metadata": {
  "kernelspec": {
   "display_name": "Python 3",
   "language": "python",
   "name": "python3"
  },
  "language_info": {
   "codemirror_mode": {
    "name": "ipython",
    "version": 3
   },
   "file_extension": ".py",
   "mimetype": "text/x-python",
   "name": "python",
   "nbconvert_exporter": "python",
   "pygments_lexer": "ipython3",
   "version": "3.11.3"
  }
 },
 "nbformat": 4,
 "nbformat_minor": 2
}
