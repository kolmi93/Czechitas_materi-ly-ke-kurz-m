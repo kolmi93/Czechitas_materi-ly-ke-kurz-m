{
 "cells": [
  {
   "cell_type": "markdown",
   "metadata": {},
   "source": [
    "# Seznamy čísel\n",
    "\n",
    "Mějme zadaný následující seznam:"
   ]
  },
  {
   "cell_type": "code",
   "execution_count": 2,
   "metadata": {},
   "outputs": [],
   "source": [
    "cisla = [1.12, 4.51, 2.64, 13.1, 0.1]"
   ]
  },
  {
   "cell_type": "markdown",
   "metadata": {},
   "source": [
    "Vytvořte seznam, který obsahuje:\n",
    "\n",
    " 1. každé z čísel ze seznamu cisla vynásobené dvěma,\n",
    " 2. každé z čísel ze seznamu cisla s opačným znaménkem,\n",
    " 3. každé z čísel ze seznamu cisla umocněné na druhou,\n",
    " 4. každé z čísel ze seznamu cisla jako řetězec."
   ]
  },
  {
   "cell_type": "markdown",
   "metadata": {},
   "source": [
    "### Řešení"
   ]
  },
  {
   "cell_type": "code",
   "execution_count": 3,
   "metadata": {},
   "outputs": [
    {
     "name": "stdout",
     "output_type": "stream",
     "text": [
      "[2.24, 9.02, 5.28, 26.2, 0.2]\n"
     ]
    }
   ],
   "source": [
    "# každé číslo vynásobení 2\n",
    "\n",
    "nasobeni = [(cislo * 2) for cislo in cisla]\n",
    "print(nasobeni)"
   ]
  },
  {
   "cell_type": "code",
   "execution_count": 4,
   "metadata": {},
   "outputs": [
    {
     "name": "stdout",
     "output_type": "stream",
     "text": [
      "[-1.12, -4.51, -2.64, -13.1, -0.1]\n"
     ]
    }
   ],
   "source": [
    "# každé číslo s opačným znaménkem\n",
    "\n",
    "opacne_znamenko = [(cislo * (-1)) for cislo in cisla]\n",
    "print(opacne_znamenko)"
   ]
  },
  {
   "cell_type": "code",
   "execution_count": 5,
   "metadata": {},
   "outputs": [
    {
     "name": "stdout",
     "output_type": "stream",
     "text": [
      "[1.2544000000000002, 20.3401, 6.969600000000001, 171.60999999999999, 0.010000000000000002]\n"
     ]
    }
   ],
   "source": [
    "# každé číslo umocněné na druhou\n",
    "\n",
    "mocnina = [(cislo ** 2) for cislo in cisla]\n",
    "print(mocnina)"
   ]
  },
  {
   "cell_type": "code",
   "execution_count": 6,
   "metadata": {},
   "outputs": [
    {
     "name": "stdout",
     "output_type": "stream",
     "text": [
      "['1.12', '4.51', '2.64', '13.1', '0.1']\n"
     ]
    }
   ],
   "source": [
    "# seznam jako řetězec\n",
    "\n",
    "retezec = [str(cislo) for cislo in cisla]\n",
    "print(retezec)"
   ]
  }
 ],
 "metadata": {
  "kernelspec": {
   "display_name": "Python 3",
   "language": "python",
   "name": "python3"
  },
  "language_info": {
   "codemirror_mode": {
    "name": "ipython",
    "version": 3
   },
   "file_extension": ".py",
   "mimetype": "text/x-python",
   "name": "python",
   "nbconvert_exporter": "python",
   "pygments_lexer": "ipython3",
   "version": "3.11.3"
  }
 },
 "nbformat": 4,
 "nbformat_minor": 2
}
