{
 "cells": [
  {
   "cell_type": "markdown",
   "metadata": {},
   "source": [
    "# Záznamy\n",
    "\n",
    "Uvažujme aplikaci, která si ukládá informace o činnosti uživatelů do textového souboru. Příklad souboru je níže."
   ]
  },
  {
   "cell_type": "code",
   "execution_count": 2,
   "metadata": {},
   "outputs": [],
   "source": [
    "zaznamy = \"\"\"\n",
    "searchNumber: pavca.czechitas action: search phone number of user dita\n",
    "user: pavca action: send sms to phone number +420728123456\n",
    "user: jirka: action: send 2 sms to phone number +420734123456\n",
    "\"\"\""
   ]
  },
  {
   "cell_type": "markdown",
   "metadata": {},
   "source": [
    " - Napiš program, který vypíše všechna telefonní čísla, která jsou v textovém souboru zmíněna.\n",
    " - Nahraď tato telefonní čísla nějakým řetězcem (např. \"XXX\"), aby nebyla v záznamech dostupná."
   ]
  },
  {
   "cell_type": "markdown",
   "metadata": {},
   "source": [
    "### Řešení"
   ]
  },
  {
   "cell_type": "code",
   "execution_count": 5,
   "metadata": {},
   "outputs": [
    {
     "name": "stdout",
     "output_type": "stream",
     "text": [
      "+420728123456\n",
      "+420734123456\n"
     ]
    }
   ],
   "source": [
    "import re\n",
    "\n",
    "regularni_vyraz = re.compile(r\"\\+420[0-9]{9}\")\n",
    "hledani = regularni_vyraz.findall(zaznamy)\n",
    "\n",
    "for one in hledani:\n",
    "    print(one)"
   ]
  },
  {
   "cell_type": "code",
   "execution_count": 6,
   "metadata": {},
   "outputs": [
    {
     "name": "stdout",
     "output_type": "stream",
     "text": [
      "\n",
      "searchNumber: pavca.czechitas action: search phone number of user dita\n",
      "user: pavca action: send sms to phone number XXX\n",
      "user: jirka: action: send 2 sms to phone number XXX\n",
      "\n"
     ]
    }
   ],
   "source": [
    "import re\n",
    "\n",
    "regularni_vyraz = re.compile(r\"\\+420[0-9]{9}\")\n",
    "anonymni_zapis = regularni_vyraz.sub(\"XXX\", zaznamy)\n",
    "\n",
    "print(anonymni_zapis)"
   ]
  }
 ],
 "metadata": {
  "kernelspec": {
   "display_name": "Python 3",
   "language": "python",
   "name": "python3"
  },
  "language_info": {
   "codemirror_mode": {
    "name": "ipython",
    "version": 3
   },
   "file_extension": ".py",
   "mimetype": "text/x-python",
   "name": "python",
   "nbconvert_exporter": "python",
   "pygments_lexer": "ipython3",
   "version": "3.11.3"
  }
 },
 "nbformat": 4,
 "nbformat_minor": 2
}
