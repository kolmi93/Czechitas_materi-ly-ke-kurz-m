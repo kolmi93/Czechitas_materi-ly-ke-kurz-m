{
 "cells": [
  {
   "cell_type": "markdown",
   "metadata": {},
   "source": [
    "# Kurz\n",
    "\n",
    "Stáhněte si soubor kurz.json s výše uvedeným obsahem a načtěte jej v Pythonu do proměnné kurz. Odpovězte na následující otázky:\n",
    "\n",
    " 1. Vypište na výstup počet účastnic na posledním konání kurzu.\n",
    " 2. Vypište na výstup jméno posledního kouče na prvním konání kurzu.\n",
    " 3. Vypište na výstup celkový počet konání kurzu.\n",
    " 4. Vypište na výstup všechna místa, na kterých se kurz konal.\n",
    " 5. Vypište na výstup součet všech účastnic.\n",
    " 6. Vypište na výstup množinu všech koučů, kteří se kdy kurzu účastnili."
   ]
  },
  {
   "cell_type": "markdown",
   "metadata": {},
   "source": [
    "### Řešení"
   ]
  },
  {
   "cell_type": "code",
   "execution_count": 2,
   "metadata": {},
   "outputs": [
    {
     "name": "stdout",
     "output_type": "stream",
     "text": [
      "{'nazev': 'Úvod do programování', 'lektor': 'Martin Podloucký', 'konani': [{'misto': 'T-Mobile', 'koucove': ['Dan Vrátil', 'Filip Kopecký', 'Martina Nemčoková'], 'ucastnic': 30}, {'misto': 'MSD IT', 'koucove': ['Dan Vrátil', 'Zuzana Tučková', 'Martina Nemčoková'], 'ucastnic': 25}, {'misto': 'Škoda DigiLab', 'koucove': ['Dan Vrátil', 'Filip Kopecký', 'Kateřina Kalášková'], 'ucastnic': 41}]}\n"
     ]
    }
   ],
   "source": [
    "import json\n",
    "\n",
    "with open('kurz.json', mode='r', encoding='utf-8') as file:\n",
    "    kurz = json.load(file)\n",
    "\n",
    "print(kurz)"
   ]
  },
  {
   "cell_type": "code",
   "execution_count": 14,
   "metadata": {},
   "outputs": [
    {
     "name": "stdout",
     "output_type": "stream",
     "text": [
      "41\n",
      "41\n"
     ]
    }
   ],
   "source": [
    "# počet účastnic na posledním kurzu\n",
    "# rozepsané\n",
    "posledni_kurz = kurz[\"konani\"][-1]\n",
    "pocet_ucastnic = posledni_kurz[\"ucastnic\"]\n",
    "print(pocet_ucastnic)\n",
    "\n",
    "print(kurz['konani'][-1]['ucastnic'])"
   ]
  },
  {
   "cell_type": "code",
   "execution_count": 16,
   "metadata": {},
   "outputs": [
    {
     "name": "stdout",
     "output_type": "stream",
     "text": [
      "Martina Nemčoková\n",
      "Martina Nemčoková\n"
     ]
    }
   ],
   "source": [
    "# jméno posledního kouče na prvním kurzu\n",
    "\n",
    "prvni_kurz = kurz[\"konani\"][0]\n",
    "posledni_kouc = prvni_kurz['koucove'][-1]\n",
    "print(posledni_kouc)\n",
    "\n",
    "print(kurz[\"konani\"][0]['koucove'][-1])"
   ]
  },
  {
   "cell_type": "code",
   "execution_count": 17,
   "metadata": {},
   "outputs": [
    {
     "name": "stdout",
     "output_type": "stream",
     "text": [
      "3\n"
     ]
    }
   ],
   "source": [
    "# celkový počet konání kurzu\n",
    "print(len(kurz['konani']))"
   ]
  },
  {
   "cell_type": "code",
   "execution_count": 23,
   "metadata": {},
   "outputs": [
    {
     "name": "stdout",
     "output_type": "stream",
     "text": [
      "T-Mobile\n",
      "MSD IT\n",
      "Škoda DigiLab\n",
      "['T-Mobile', 'MSD IT', 'Škoda DigiLab']\n"
     ]
    }
   ],
   "source": [
    "# místa konání všech kurzů\n",
    "for one in kurz['konani']:\n",
    "    print(one['misto'])\n",
    "\n",
    "mista = []\n",
    "for one in kurz['konani']:\n",
    "    mista.append(one['misto'])\n",
    "print(mista)"
   ]
  },
  {
   "cell_type": "code",
   "execution_count": 33,
   "metadata": {},
   "outputs": [
    {
     "name": "stdout",
     "output_type": "stream",
     "text": [
      "96\n"
     ]
    }
   ],
   "source": [
    "# celkový počet účastnic\n",
    "celkovy_pocet = 0\n",
    "\n",
    "for one in kurz['konani']:\n",
    "    celkovy_pocet += one['ucastnic']\n",
    "\n",
    "print(celkovy_pocet)"
   ]
  },
  {
   "cell_type": "code",
   "execution_count": 32,
   "metadata": {},
   "outputs": [
    {
     "name": "stdout",
     "output_type": "stream",
     "text": [
      "{'Kateřina Kalášková', 'Martina Nemčoková', 'Zuzana Tučková', 'Filip Kopecký', 'Dan Vrátil'}\n",
      "['Dan Vrátil', 'Filip Kopecký', 'Martina Nemčoková', 'Zuzana Tučková', 'Kateřina Kalášková']\n"
     ]
    }
   ],
   "source": [
    "# množina všech koučů, kteří se kurzů kdy zůčastnili\n",
    "# set\n",
    "koucove = set()\n",
    "\n",
    "for one in kurz['konani']:\n",
    "    koucove.update(set(one['koucove']))\n",
    "\n",
    "print(koucove)\n",
    "\n",
    "# for cyklus\n",
    "jedineční_koucove = []\n",
    "\n",
    "for konani in kurz['konani']:\n",
    "    for kouc in konani['koucove']:\n",
    "        if kouc not in jedineční_koucove:\n",
    "            jedineční_koucove.append(kouc)\n",
    "print(jedineční_koucove)"
   ]
  }
 ],
 "metadata": {
  "kernelspec": {
   "display_name": "Python 3",
   "language": "python",
   "name": "python3"
  },
  "language_info": {
   "codemirror_mode": {
    "name": "ipython",
    "version": 3
   },
   "file_extension": ".py",
   "mimetype": "text/x-python",
   "name": "python",
   "nbconvert_exporter": "python",
   "pygments_lexer": "ipython3",
   "version": "3.11.3"
  }
 },
 "nbformat": 4,
 "nbformat_minor": 2
}
