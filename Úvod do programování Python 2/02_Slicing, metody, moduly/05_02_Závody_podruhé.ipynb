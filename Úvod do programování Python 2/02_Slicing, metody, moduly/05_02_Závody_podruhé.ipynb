{
 "cells": [
  {
   "cell_type": "markdown",
   "metadata": {},
   "source": [
    "# Závody podruhé\n",
    "\n",
    "#### Zadání je podobné jako u předchozího příkladu, ale nyní zkusíme výpočet provést pro všechny závodníky.\n",
    "\n",
    "- Nejprve (pomocí cyklu a metody append()) vytvoř dvourozměrný seznam, kde na nulté pozici vnořeného seznamu je číslo běžce a na první pozici je čas běžce v minutách jako desetinné číslo.\n",
    "- Ve druhém kroku (opět pomocí cyklu a metody append()) vytvoř další dvourozměrný seznam, kde na nulté pozici vnořeného seznamu je číslo běžce a na první pozici je rozdíl času běžce oproti času vítěze v minutách. Jinak řečeno, bude tam číslo, které udává, o kolik by běžec musel být rychlejší, aby závod vyhrál."
   ]
  },
  {
   "cell_type": "code",
   "execution_count": 1,
   "metadata": {},
   "outputs": [],
   "source": [
    "vysledky = [\n",
    "    [\"Brunner Radek\", [3, 0, 9]], \n",
    "    [\"Urban Jaroslav\", [3, 11, 44]], \n",
    "    [\"Andrle Jakub\", [3, 12, 21]], \n",
    "    [\"Fiala Stanislav\", [3, 13, 31]]\n",
    "]"
   ]
  },
  {
   "cell_type": "markdown",
   "metadata": {},
   "source": [
    "### Řešení"
   ]
  },
  {
   "cell_type": "code",
   "execution_count": 2,
   "metadata": {},
   "outputs": [
    {
     "name": "stdout",
     "output_type": "stream",
     "text": [
      "Běžec Brunner Radek závod vyhrál.\n",
      "Běžec Urban Jaroslav ztrácí na vítěze 11.183 minut.\n",
      "Běžec Andrle Jakub ztrácí na vítěze 12.2 minut.\n",
      "Běžec Fiala Stanislav ztrácí na vítěze 13.217 minut.\n"
     ]
    }
   ],
   "source": [
    "prevedene_casy = []\n",
    "for jmeno, cas in vysledky:\n",
    "    cas = round(cas[0] * 60 + cas[1] + cas[1] / 60, 3)\n",
    "    prevedene_casy.append([jmeno, cas])\n",
    "\n",
    "vitezny_cas = prevedene_casy[0][1]\n",
    "ztrata_na_viteze = []\n",
    "\n",
    "for jmeno, cas in prevedene_casy:\n",
    "    ztrata = round(cas - vitezny_cas, 3)\n",
    "    ztrata_na_viteze.append([jmeno, ztrata])\n",
    "\n",
    "for jmeno, ztrata in ztrata_na_viteze:\n",
    "    if ztrata == 0.0:\n",
    "        print(f'Běžec {jmeno} závod vyhrál.')\n",
    "    else:\n",
    "        print(f'Běžec {jmeno} ztrácí na vítěze {ztrata} minut.')"
   ]
  }
 ],
 "metadata": {
  "kernelspec": {
   "display_name": "Python 3",
   "language": "python",
   "name": "python3"
  },
  "language_info": {
   "codemirror_mode": {
    "name": "ipython",
    "version": 3
   },
   "file_extension": ".py",
   "mimetype": "text/x-python",
   "name": "python",
   "nbconvert_exporter": "python",
   "pygments_lexer": "ipython3",
   "version": "3.11.3"
  }
 },
 "nbformat": 4,
 "nbformat_minor": 2
}
