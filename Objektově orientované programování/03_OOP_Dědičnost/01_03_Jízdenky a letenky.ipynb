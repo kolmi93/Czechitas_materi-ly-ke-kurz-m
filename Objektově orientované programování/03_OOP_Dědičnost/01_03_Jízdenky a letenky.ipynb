{
 "cells": [
  {
   "cell_type": "markdown",
   "metadata": {},
   "source": [
    "# Jízdenky a letadla\n",
    "\n",
    "#### Nyní je naším cílem práce pro společnost, která se zabývá prodejem jízdenek a letenek.\n",
    "\n",
    "- Vytvoř třídu Ticket, která bude mít atributy basic_price (základní cena) a seat_number (číslo sedadla). Tato třída bude sloužit například pro cesty autobusem.\n",
    "- Při cestování vlakem musíme řešit, jestli cestující využívá 1. nebo 2. třídu. Vytvoř třídu TrainTicket, která bude mít navíc atribut fare_class (uvažujeme možnosti economy a business). - Dále naprogramuj metodu get_price(), která bude vracet hodnotu stejnou jako basic_price, pokud atribut fare_class je economy, a cenu o 30 % vyšší oproti basic_price, pokud fare_class je business.\n",
    "- U letenek řešíme třídu, kterou cestující letí, navíc ale musíme řešit i počet odbavených zavazadel. Vytvoř třídu PlaneTicket, která bude dědit od třídy TrainTicket a bude mít navíc atribut checkout_luggages, který udává počet odbavených zavazadel. Naprogramuj metodu get_price(), která bude vracet hodnotu stejnou jako basic_price, pokud atribut fare_class je economy, a cenu o 50 % vyšší oproti basic_price, pokud fare_class je business. Dále připočti 2000 za každé odbavené zavazadlo (bez ohledu na třídu).\n",
    "- Vytvoř jízdenku na vlak se základní cenou 150 do tříd economy i business. Zkontroluj, jakou hodnotu vrací metoda get_price().\n",
    "- Vytvoř letenku se základní cenou 6000 do tříd economy i business s jedním odbaveným zavazadlem. Zkontroluj, jakou hodnotu vrací metoda get_price()."
   ]
  },
  {
   "cell_type": "markdown",
   "metadata": {},
   "source": [
    "### Řešení"
   ]
  },
  {
   "cell_type": "code",
   "execution_count": 1,
   "metadata": {},
   "outputs": [
    {
     "name": "stdout",
     "output_type": "stream",
     "text": [
      "8000\n",
      "11000.0\n",
      "150\n",
      "195.0\n"
     ]
    }
   ],
   "source": [
    "class Ticket:\n",
    "    def __init__(self, basic_price, seat_number):\n",
    "        self.basic_price = basic_price\n",
    "        self.seat_number = seat_number\n",
    "\n",
    "class TrainTicket(Ticket): # POZOR !! Pokud přejímáme z jiné třídy, je třeba na ni odkázat !!!\n",
    "    def __init__(self, basic_price, seat_number, fare_class):\n",
    "        super().__init__(basic_price, seat_number)\n",
    "        self.fare_class = fare_class\n",
    "    \n",
    "    def get_price(self):\n",
    "        if self.fare_class  == 'economy':\n",
    "            return self.basic_price\n",
    "        elif self.fare_class == 'business':\n",
    "            return self.basic_price * 1.3\n",
    "\n",
    "class PlaneTicket(TrainTicket):\n",
    "    def __init__(self, basic_price, seat_number, fare_class, checkout_luggages):\n",
    "        super().__init__(basic_price, seat_number, fare_class)\n",
    "        self.checkout_luggages = checkout_luggages\n",
    "\n",
    "    def get_price(self):\n",
    "        luggage_price = self.checkout_luggages * 2000\n",
    "        if self.fare_class == 'economy':\n",
    "            return self.basic_price + luggage_price\n",
    "        elif self.fare_class == 'business':\n",
    "            return self.basic_price * 1.5 + luggage_price\n",
    "\n",
    "train_ticket_01 = TrainTicket(150, '3B', 'economy')\n",
    "train_ticket_02 = TrainTicket(150, '3B', 'business')\n",
    "\n",
    "plane_ticket_01 = PlaneTicket(6000, 'A2', 'economy', 1)\n",
    "plane_ticket_02 = PlaneTicket(6000, 'B5', 'business', 1)\n",
    "\n",
    "print(plane_ticket_01.get_price())\n",
    "print(plane_ticket_02.get_price())\n",
    "\n",
    "print(train_ticket_01.get_price())\n",
    "print(train_ticket_02.get_price())\n"
   ]
  }
 ],
 "metadata": {
  "kernelspec": {
   "display_name": "Python 3",
   "language": "python",
   "name": "python3"
  },
  "language_info": {
   "codemirror_mode": {
    "name": "ipython",
    "version": 3
   },
   "file_extension": ".py",
   "mimetype": "text/x-python",
   "name": "python",
   "nbconvert_exporter": "python",
   "pygments_lexer": "ipython3",
   "version": "3.11.3"
  }
 },
 "nbformat": 4,
 "nbformat_minor": 2
}
