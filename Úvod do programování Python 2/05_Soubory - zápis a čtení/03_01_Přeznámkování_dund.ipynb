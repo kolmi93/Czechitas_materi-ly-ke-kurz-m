{
 "cells": [
  {
   "cell_type": "markdown",
   "metadata": {},
   "source": [
    "# Přeznámkování\n",
    "\n",
    "#### Univerzita pro celoživotní vzdělávání se rozhodla změnit svůj známkovací systém z číselných známek 1 až 5 na hodnocení písmeny A až F. Bohužel změna se odehrála jaksi uprostřed semestru, takže je potřeba změnit aktuální výkazy o známkách z čísel na písmena. Nechte se vést následujícím postupem.\n",
    "\n",
    "- Otevřete si dokument s jedním výkazem známek.\n",
    "- Zkopírujte si tuto tabulku do textového souboru.\n",
    "- Napište program, který tuto tabulku načte ze souboru a změní všechny známky tak, že 1 bude A, 2 bude B, 3 bude C, 4 bude D a 5 bude F.\n",
    "- Vypište váš výsledek do nějakého souboru tak, aby se z něj dal zase zkopírovat do tabulky Google.\n",
    "- Vytvořte novou Google tabulku, která vypadá stejně jako ta výše avšak s převedenými známkami."
   ]
  },
  {
   "cell_type": "markdown",
   "metadata": {},
   "source": [
    "### Řešení"
   ]
  },
  {
   "cell_type": "code",
   "execution_count": 7,
   "metadata": {},
   "outputs": [],
   "source": [
    "with open('test.txt', encoding = 'utf=8') as file:\n",
    "    data = file.read()\n",
    "\n",
    "preznamkovani = data.replace('1', 'A').replace('2', 'B').replace('3', 'C').replace('4', 'D').replace('5', 'D')\n",
    "\n",
    "with open('preznamkovani.txt', mode='w', encoding = 'utf-8') as output_file:\n",
    "    output_file.write(preznamkovani)"
   ]
  }
 ],
 "metadata": {
  "kernelspec": {
   "display_name": "Python 3",
   "language": "python",
   "name": "python3"
  },
  "language_info": {
   "codemirror_mode": {
    "name": "ipython",
    "version": 3
   },
   "file_extension": ".py",
   "mimetype": "text/x-python",
   "name": "python",
   "nbconvert_exporter": "python",
   "pygments_lexer": "ipython3",
   "version": "3.11.3"
  }
 },
 "nbformat": 4,
 "nbformat_minor": 2
}
