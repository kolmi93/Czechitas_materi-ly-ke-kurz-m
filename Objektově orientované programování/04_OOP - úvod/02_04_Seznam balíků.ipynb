{
 "cells": [
  {
   "cell_type": "markdown",
   "metadata": {},
   "source": [
    "# Seznam balíků\n",
    "\n",
    "#### Přepravní společnost musí rozdělovat balíky do jednotlivých aut. Při plánování dopravy je potřeba hlídat, zda pro jeden automobil není naplánována přeprava příliš velkého množství balíků. Vytvoř tedy tři objekty třídy Package. Dále vytvoř seznam package_list, do kterého vlož vytvořené objekty. Příklad objektů a seznamu je níže."
   ]
  },
  {
   "cell_type": "markdown",
   "metadata": {},
   "source": [
    "- Vytvoř si proměnnou total_weight, do které si s využitím cyklu budeš ukládat celkovou hmotnost všech balíků. Na začátku bude mít hodnotu 0.\n",
    "- Vytvoř cyklus, který projde seznam package_list.\n",
    "- Pro každý balík přičti jeho hmotnost k proměnné total_weight.\n",
    "- Na konci programu vypiš, jaká je celková hmotnost všech balíků.\n",
    "\n",
    "#### Zatím jsme uvažovali, že třídu Package využívá ve svém programu přepravní společnost. Stejnou třídu by ale mohl používat e-shop, který takto eviduje zboží odeslané zákazníkům. Provozovatele e-shopu bude určitě zajímat, kolik celkem zaplatí přepravní společnosti za přepravu balíku. Využij tedy balíky v seznamu package_list a spočítej celkové náklady na jejich přepravu. Náklady na přepravu jednoho balíku zjistíš voláním metody delivery_price()."
   ]
  },
  {
   "cell_type": "markdown",
   "metadata": {},
   "source": [
    "- package_1 = Package(\"Grimmauldovo náměstí 11\", 15, \"nedoručen\")\n",
    "- package_2 = Package(\"Godrikův důl 47\", 3, \"nedoručen\")\n",
    "- package_3 = Package(\"Vydrník svatého Drába 13\", 0.5, \"nedoručen\")\n",
    "- package_list = [package_1, package_2, package_3]"
   ]
  },
  {
   "cell_type": "markdown",
   "metadata": {},
   "source": [
    "### Řešení"
   ]
  },
  {
   "cell_type": "code",
   "execution_count": 1,
   "metadata": {},
   "outputs": [
    {
     "name": "stdout",
     "output_type": "stream",
     "text": [
      "18.5\n",
      "417\n"
     ]
    }
   ],
   "source": [
    "class Package:\n",
    "    def __init__(self, address, weight, state):\n",
    "        self.address = address\n",
    "        self.weight = weight\n",
    "        self.state = state\n",
    "    \n",
    "    def delivery_price(self):\n",
    "        price = 0\n",
    "        if self.weight < 10:\n",
    "            price = 129\n",
    "        elif self.weight >= 10 and self.weight < 20:\n",
    "            price = 159\n",
    "        else:\n",
    "            price = 359\n",
    "        return price\n",
    "\n",
    "package_1 = Package(\"Grimmauldovo náměstí 11\", 15, \"nedoručen\")\n",
    "package_2 = Package(\"Godrikův důl 47\", 3, \"nedoručen\")\n",
    "package_3 = Package(\"Vydrník svatého Drába 13\", 0.5, \"nedoručen\")\n",
    "package_list = [package_1, package_2, package_3]\n",
    "\n",
    "# celková hmotnost balíků\n",
    "total_weight = 0\n",
    "\n",
    "for one in package_list:\n",
    "    total_weight += one.weight\n",
    "\n",
    "print(total_weight)\n",
    "\n",
    "# celková cena přepravy balíků\n",
    "total_delivery_price = 0\n",
    "\n",
    "for one in package_list:\n",
    "    total_delivery_price += one.delivery_price()\n",
    "\n",
    "print(total_delivery_price)\n"
   ]
  }
 ],
 "metadata": {
  "kernelspec": {
   "display_name": "Python 3",
   "language": "python",
   "name": "python3"
  },
  "language_info": {
   "codemirror_mode": {
    "name": "ipython",
    "version": 3
   },
   "file_extension": ".py",
   "mimetype": "text/x-python",
   "name": "python",
   "nbconvert_exporter": "python",
   "pygments_lexer": "ipython3",
   "version": "3.11.3"
  }
 },
 "nbformat": 4,
 "nbformat_minor": 2
}
