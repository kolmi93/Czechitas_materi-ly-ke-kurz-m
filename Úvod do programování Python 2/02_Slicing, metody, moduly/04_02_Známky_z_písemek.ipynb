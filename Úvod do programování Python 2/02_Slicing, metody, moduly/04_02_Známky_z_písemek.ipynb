{
 "cells": [
  {
   "cell_type": "markdown",
   "metadata": {},
   "source": [
    "# Známky z písemek\n",
    "\n",
    "#### Máme data o písemce, která obsahovala 4 otázky. Za každou otázku mohl student (studentka) získat max. 10 bodů. Výsledky studentů jsou v následující tabulce.\n",
    "\n",
    "#### Ulož si známky studentů do dvourozměrného seznamu.\n",
    "\n",
    "tabulky zde -> https://kodim.cz/czechitas/uvod-do-progr-2/uvod-do-programovani-2/slicing-metody-moduly/dalsi-priklady/znamky-z-pisemek\n",
    "\n",
    "#### Spočítej známku jednotlivých studentů. Známku urči podle celkového počtu bodů ze všech příkladů. Bodovací tabulku najdeš níže.\n",
    "\n",
    "#### Vypočítej průměrné body z jednotlivých otázek. Ze které otázky dostali studenti v průměru nejvíce bodů? A ze které naopak nejméně?"
   ]
  },
  {
   "cell_type": "code",
   "execution_count": 10,
   "metadata": {},
   "outputs": [],
   "source": [
    "tabulka_bodu = [\n",
    "    ['A', 9, 7, 8, 5],\n",
    "    ['B', 5, 3, 6, 6],\n",
    "    ['C', 8, 4, 9, 7],\n",
    "    ['D', 8, 5, 4, 8],\n",
    "    ['E', 10, 6, 10, 7],\n",
    "]"
   ]
  },
  {
   "cell_type": "markdown",
   "metadata": {},
   "source": [
    "### Řešení"
   ]
  },
  {
   "cell_type": "markdown",
   "metadata": {},
   "source": [
    "známky jednotlivých žáků"
   ]
  },
  {
   "cell_type": "code",
   "execution_count": 11,
   "metadata": {},
   "outputs": [
    {
     "name": "stdout",
     "output_type": "stream",
     "text": [
      "Student A dostal známku 3, protože měl 29 bodů.\n",
      "Student B dostal známku 4, protože měl 20 bodů.\n",
      "Student C dostal známku 3, protože měl 28 bodů.\n",
      "Student D dostal známku 4, protože měl 25 bodů.\n",
      "Student E dostal známku 2, protože měl 33 bodů.\n"
     ]
    }
   ],
   "source": [
    "body_student = []\n",
    "\n",
    "for student_znamky in tabulka_bodu:\n",
    "    student = student_znamky[0]\n",
    "    body = student_znamky[1:]\n",
    "\n",
    "    body_student = sum(body)\n",
    "\n",
    "    if body_student < 20:\n",
    "        znamka = 5\n",
    "    elif body_student <= 26:\n",
    "        znamka = 4\n",
    "    elif body_student <= 32:\n",
    "        znamka = 3\n",
    "    elif body_student <= 36:\n",
    "        znamka = 2\n",
    "    else:\n",
    "        znamka = 1\n",
    "\n",
    "    print(f'Student {student} dostal známku {znamka}, protože měl {body_student} bodů.')\n"
   ]
  },
  {
   "cell_type": "markdown",
   "metadata": {},
   "source": [
    "půměrné body z otázek"
   ]
  },
  {
   "cell_type": "code",
   "execution_count": 12,
   "metadata": {},
   "outputs": [],
   "source": [
    "sloupce = [\n",
    "    ['A','B','C','D'],\n",
    "    [9,5,8,8,10],\n",
    "    [7,3,4,5,6],\n",
    "    [8,6,9,4,10],\n",
    "    [5,6,7,8,7]\n",
    "]"
   ]
  },
  {
   "cell_type": "markdown",
   "metadata": {},
   "source": [
    "varianta A"
   ]
  },
  {
   "cell_type": "code",
   "execution_count": 15,
   "metadata": {},
   "outputs": [
    {
     "name": "stdout",
     "output_type": "stream",
     "text": [
      "[8.0, 5.0, 7.4, 6.6]\n"
     ]
    }
   ],
   "source": [
    "prumery = []\n",
    "for body in sloupce[1:]:\n",
    "    prumer = sum(body)/len(body)\n",
    "    prumery.append(prumer)\n",
    "\n",
    "print(prumery)"
   ]
  },
  {
   "cell_type": "markdown",
   "metadata": {},
   "source": [
    "varianta B"
   ]
  },
  {
   "cell_type": "code",
   "execution_count": 16,
   "metadata": {},
   "outputs": [
    {
     "name": "stdout",
     "output_type": "stream",
     "text": [
      "[8, 5, 7.4, 6.6]\n"
     ]
    }
   ],
   "source": [
    "import statistics\n",
    "\n",
    "prumery = []\n",
    "\n",
    "for body in sloupce[1:]:\n",
    "    prumer = statistics.mean(body)\n",
    "    prumery.append(prumer)\n",
    "\n",
    "print(prumery)"
   ]
  },
  {
   "cell_type": "markdown",
   "metadata": {},
   "source": [
    "Ze které otázky dostali studenti v průměru nejvíce bodů? A ze které naopak nejméně?"
   ]
  },
  {
   "cell_type": "code",
   "execution_count": 21,
   "metadata": {},
   "outputs": [
    {
     "name": "stdout",
     "output_type": "stream",
     "text": [
      "Nejméně průměrných bodů bylo 5 a jednalo se o otázku č.2.\n",
      "Nejvíce průměrných bodů bylo 8 a jednalo se o otázku č.1.\n"
     ]
    }
   ],
   "source": [
    "print(f'Nejméně průměrných bodů bylo {min(prumery)} a jednalo se o otázku č.{prumery.index((min(prumery)))+1}.')\n",
    "print(f'Nejvíce průměrných bodů bylo {max(prumery)} a jednalo se o otázku č.{prumery.index((max(prumery)))+1}.')"
   ]
  }
 ],
 "metadata": {
  "kernelspec": {
   "display_name": "Python 3",
   "language": "python",
   "name": "python3"
  },
  "language_info": {
   "codemirror_mode": {
    "name": "ipython",
    "version": 3
   },
   "file_extension": ".py",
   "mimetype": "text/x-python",
   "name": "python",
   "nbconvert_exporter": "python",
   "pygments_lexer": "ipython3",
   "version": "3.11.3"
  }
 },
 "nbformat": 4,
 "nbformat_minor": 2
}
