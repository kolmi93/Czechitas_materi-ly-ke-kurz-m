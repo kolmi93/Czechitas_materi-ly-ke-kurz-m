{
 "cells": [
  {
   "cell_type": "markdown",
   "metadata": {},
   "source": [
    "# Elegantní volby\n",
    "\n",
    "Pokud vás trápí, že řešení varianty e) v úloze o volbách není příliš elegantní, zkuste sestavit Python výraz na jeden řádek, který celý bod e) vyřeší najednou. Bude potřeba do sebe zanořit dvě chroustání seznamů, jedno přes hodnoty v řádcích a druhé přes jednotlivé kraje."
   ]
  },
  {
   "cell_type": "markdown",
   "metadata": {},
   "source": [
    "### Řešení"
   ]
  },
  {
   "cell_type": "code",
   "execution_count": 2,
   "metadata": {},
   "outputs": [],
   "source": [
    "hlasy = [\n",
    "    [78774, 43179, 225111, 144799, 242854],\n",
    "    [91062, 22451, 17475, 53391, 46450],\n",
    "    [179186, 216499, 4493, 156305, 61222],\n",
    "    [9619, 53476, 926, 64737, 34566],\n",
    "    [66904, 85730, 27271, 12964, 38041],\n",
    "    [118755, 1929, 30426, 25178, 31952],\n",
    "    [64467, 40993, 81181, 39392, 4335],\n",
    "    [11221, 97970, 26179, 98539, 112578],\n",
    "    [171064, 7638, 8752, 96666, 39738],\n",
    "    [74235, 101680, 18920, 45904, 1922],\n",
    "    [39309, 1505, 10531, 30458, 40228],\n",
    "    [131584, 1812, 241122, 22267, 99326],\n",
    "    [194133, 39985, 200997, 28229, 20780],\n",
    "    [66188, 51607, 15977, 177272, 17664]\n",
    "]"
   ]
  },
  {
   "cell_type": "markdown",
   "metadata": {},
   "source": [
    "původní řešení"
   ]
  },
  {
   "cell_type": "code",
   "execution_count": 8,
   "metadata": {},
   "outputs": [
    {
     "name": "stdout",
     "output_type": "stream",
     "text": [
      "[[11, 6, 31, 20, 33], [39, 10, 8, 23, 20], [29, 35, 1, 25, 10], [6, 33, 1, 40, 21], [29, 37, 12, 6, 16], [57, 1, 15, 12, 15], [28, 18, 35, 17, 2], [3, 28, 8, 28, 32], [53, 2, 3, 30, 12], [31, 42, 8, 19, 1], [32, 1, 9, 25, 33], [27, 0, 49, 4, 20], [40, 8, 42, 6, 4], [20, 16, 5, 54, 5]]\n"
     ]
    }
   ],
   "source": [
    "# procenta hlasů kandidátů v jednotlivých krajích\n",
    "\n",
    "procenta = []\n",
    "for kraj in hlasy:\n",
    "    celkem_za_kraj = sum(kraj)\n",
    "    procenta.append([round((kandidat / celkem_za_kraj) * 100) for kandidat in kraj])\n",
    "print(procenta)"
   ]
  },
  {
   "cell_type": "markdown",
   "metadata": {},
   "source": [
    "řešení na jeden řádek"
   ]
  },
  {
   "cell_type": "code",
   "execution_count": 9,
   "metadata": {},
   "outputs": [
    {
     "name": "stdout",
     "output_type": "stream",
     "text": [
      "[[11, 6, 31, 20, 33], [39, 10, 8, 23, 20], [29, 35, 1, 25, 10], [6, 33, 1, 40, 21], [29, 37, 12, 6, 16], [57, 1, 15, 12, 15], [28, 18, 35, 17, 2], [3, 28, 8, 28, 32], [53, 2, 3, 30, 12], [31, 42, 8, 19, 1], [32, 1, 9, 25, 33], [27, 0, 49, 4, 20], [40, 8, 42, 6, 4], [20, 16, 5, 54, 5]]\n"
     ]
    }
   ],
   "source": [
    "procenta = [[round(kandidat/sum(kraj) * 100) for kandidat in kraj] for kraj in hlasy]\n",
    "print(procenta)"
   ]
  }
 ],
 "metadata": {
  "kernelspec": {
   "display_name": "Python 3",
   "language": "python",
   "name": "python3"
  },
  "language_info": {
   "codemirror_mode": {
    "name": "ipython",
    "version": 3
   },
   "file_extension": ".py",
   "mimetype": "text/x-python",
   "name": "python",
   "nbconvert_exporter": "python",
   "pygments_lexer": "ipython3",
   "version": "3.11.3"
  }
 },
 "nbformat": 4,
 "nbformat_minor": 2
}
