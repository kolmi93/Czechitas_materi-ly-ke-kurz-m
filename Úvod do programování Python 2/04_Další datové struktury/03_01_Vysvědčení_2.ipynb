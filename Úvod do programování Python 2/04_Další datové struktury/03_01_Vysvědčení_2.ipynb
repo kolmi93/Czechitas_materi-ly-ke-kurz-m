{
 "cells": [
  {
   "cell_type": "markdown",
   "metadata": {},
   "source": [
    "# Vysvědčení 2\n",
    "\n",
    "#### Uvažujme vysvědčení, které máme zapsané jako slovník.\n",
    "\n",
    "- Napiš program, který spočte průměrnou známku ze všech předmětů.\n",
    "- Uprav program, aby vypsal všechny předměty, ve kterých získal student známku 1."
   ]
  },
  {
   "cell_type": "code",
   "execution_count": 2,
   "metadata": {},
   "outputs": [],
   "source": [
    "school_report = {\n",
    "    \"Český jazyk\": 1,\n",
    "    \"Anglický jazyk\": 1,\n",
    "    \"Matematika\": 1,\n",
    "    \"Přírodopis\": 2,\n",
    "    \"Dějepis\": 1,\n",
    "    \"Fyzika\": 2,\n",
    "    \"Hudební výchova\": 4,\n",
    "    \"Výtvarná výchova\": 2,\n",
    "    \"Tělesná výchova\": 3,\n",
    "    \"Chemie\": 4,\n",
    "}"
   ]
  },
  {
   "cell_type": "markdown",
   "metadata": {},
   "source": [
    "### Řešení"
   ]
  },
  {
   "cell_type": "markdown",
   "metadata": {},
   "source": [
    "1. Průměrná známka"
   ]
  },
  {
   "cell_type": "markdown",
   "metadata": {},
   "source": [
    "varianta A"
   ]
  },
  {
   "cell_type": "code",
   "execution_count": 3,
   "metadata": {},
   "outputs": [
    {
     "name": "stdout",
     "output_type": "stream",
     "text": [
      "Průměrná známka žáka je: 2.1.\n"
     ]
    }
   ],
   "source": [
    "prumer = sum(school_report.values())/len(school_report)\n",
    "\n",
    "print(f'Průměrná známka žáka je: {prumer}.')"
   ]
  },
  {
   "cell_type": "markdown",
   "metadata": {},
   "source": [
    "varianta B"
   ]
  },
  {
   "cell_type": "code",
   "execution_count": 4,
   "metadata": {},
   "outputs": [
    {
     "name": "stdout",
     "output_type": "stream",
     "text": [
      "Průměrná známka žáka je: 2.1.\n"
     ]
    }
   ],
   "source": [
    "import statistics\n",
    "\n",
    "grades = []\n",
    "for subject, grade in school_report.items():\n",
    "    grades.append(grade)\n",
    "\n",
    "print(f'Průměrná známka žáka je: {statistics.mean(grades)}.')"
   ]
  },
  {
   "cell_type": "markdown",
   "metadata": {},
   "source": [
    "2. výpis předmětů s jedničkama"
   ]
  },
  {
   "cell_type": "code",
   "execution_count": 7,
   "metadata": {},
   "outputs": [
    {
     "name": "stdout",
     "output_type": "stream",
     "text": [
      "Český jazyk\n",
      "Anglický jazyk\n",
      "Matematika\n",
      "Dějepis\n"
     ]
    }
   ],
   "source": [
    "for subject, grade in school_report.items():\n",
    "  if grade == 1:\n",
    "    print(subject)"
   ]
  }
 ],
 "metadata": {
  "kernelspec": {
   "display_name": "Python 3",
   "language": "python",
   "name": "python3"
  },
  "language_info": {
   "codemirror_mode": {
    "name": "ipython",
    "version": 3
   },
   "file_extension": ".py",
   "mimetype": "text/x-python",
   "name": "python",
   "nbconvert_exporter": "python",
   "pygments_lexer": "ipython3",
   "version": "3.11.3"
  }
 },
 "nbformat": 4,
 "nbformat_minor": 2
}
