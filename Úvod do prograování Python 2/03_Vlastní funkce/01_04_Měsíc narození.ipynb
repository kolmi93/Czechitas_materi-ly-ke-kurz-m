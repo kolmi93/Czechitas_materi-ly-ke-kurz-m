{
 "cells": [
  {
   "cell_type": "markdown",
   "metadata": {},
   "source": [
    "# Měsíc narození\n",
    "\n",
    "Napiš funkci month_of_birth, která bude mít jeden parametr - rodné číslo. Funkce ze zadaného rodného čísla určí měsíc narození, které vrátí jako výstup. Nezapomeň, že pro ženy je k měsíci připočtena hodnota 50.\n",
    "\n",
    "Příklad: Pro hodnotu 9207054439 vrátí 7. Pro hodnotu 9555125899 vrátí 5."
   ]
  },
  {
   "cell_type": "markdown",
   "metadata": {},
   "source": [
    "### Řešení"
   ]
  },
  {
   "cell_type": "code",
   "execution_count": 1,
   "metadata": {},
   "outputs": [
    {
     "name": "stdout",
     "output_type": "stream",
     "text": [
      "7\n",
      "5\n"
     ]
    }
   ],
   "source": [
    "def month_of_birth(rodne_cislo):\n",
    "    mesic = int(rodne_cislo[2:4])\n",
    "    if mesic > 12:\n",
    "        mesic -= 50\n",
    "        print(mesic)\n",
    "    else:\n",
    "        print(mesic)\n",
    "\n",
    "\n",
    "month_of_birth('9207054439')\n",
    "month_of_birth('9555125899')"
   ]
  },
  {
   "cell_type": "markdown",
   "metadata": {},
   "source": [
    "pokud byste chtěli udělat funkci s výstupem od uživatele"
   ]
  },
  {
   "cell_type": "code",
   "execution_count": null,
   "metadata": {},
   "outputs": [],
   "source": [
    "def month_of_birth(rodne_cislo):\n",
    "    mesic = int(rodne_cislo[2:4])\n",
    "    if mesic > 12:\n",
    "        mesic -= 50\n",
    "        print(mesic)\n",
    "    else:\n",
    "        print(mesic)\n",
    "\n",
    "rodne_cislo = input('Zadejte své rodné číslo:\\n')\n",
    "month_of_birth(rodne_cislo)"
   ]
  }
 ],
 "metadata": {
  "kernelspec": {
   "display_name": "Python 3",
   "language": "python",
   "name": "python3"
  },
  "language_info": {
   "codemirror_mode": {
    "name": "ipython",
    "version": 3
   },
   "file_extension": ".py",
   "mimetype": "text/x-python",
   "name": "python",
   "nbconvert_exporter": "python",
   "pygments_lexer": "ipython3",
   "version": "3.11.3"
  }
 },
 "nbformat": 4,
 "nbformat_minor": 2
}
