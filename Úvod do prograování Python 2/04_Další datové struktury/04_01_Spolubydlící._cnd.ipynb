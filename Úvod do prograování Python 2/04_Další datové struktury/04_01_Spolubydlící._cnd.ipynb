{
 "cells": [
  {
   "cell_type": "markdown",
   "metadata": {},
   "source": [
    "# Spolubydlící\n",
    "\n",
    "#### Zkus dotáhnout náš program na finanční vypořádání spolubydlících. Z lekce si můžeš zkopírovat kódy, které vytvoří slovník s útratami jednotlivých spolubydlících a výpočet průměrné útraty na osobu. Dopiš cyklus, který projde slovník sum_per_person a pro každého ze spolubydlících vypíše, kolik by měl doplatit (pokud utratil(a) méně než průměr), případně kolik by měl obdržet (pokud utratil(a) více než průměr)."
   ]
  },
  {
   "cell_type": "code",
   "execution_count": 1,
   "metadata": {},
   "outputs": [],
   "source": [
    "import math\n",
    "\n",
    "purchase_list = [\n",
    "    {\"Jméno\": \"Petr\", \"Položka\": \"Prací prášek\", \"Částka\": 399},\n",
    "    {\"Jméno\": \"Ondra\", \"Položka\": \"Savo\", \"Částka\": 80},\n",
    "    {\"Jméno\": \"Petr\", \"Položka\": \"Toaletní papír\", \"Částka\": 65},\n",
    "    {\"Jméno\": \"Libor\", \"Položka\": \"Pivo\", \"Částka\": 124},\n",
    "    {\"Jméno\": \"Petr\", \"Položka\": \"Pytel na odpadky\", \"Částka\": 75},\n",
    "    {\"Jméno\": \"Míša\", \"Položka\": \"Utěrky na nádobí\", \"Částka\": 130},\n",
    "    {\"Jméno\": \"Ondra\", \"Položka\": \"Toaletní papír\", \"Částka\": 120},\n",
    "    {\"Jméno\": \"Míša\", \"Položka\": \"Pečící papír\", \"Částka\": 30},\n",
    "    {\"Jméno\": \"Zuzka\", \"Položka\": \"Savo\", \"Částka\": 80},\n",
    "    {\"Jméno\": \"Pavla\", \"Položka\": \"Máslo\", \"Částka\": 50},\n",
    "    {\"Jméno\": \"Ondra\", \"Položka\": \"Káva\", \"Částka\": 300}\n",
    "]"
   ]
  },
  {
   "cell_type": "code",
   "execution_count": 2,
   "metadata": {},
   "outputs": [],
   "source": [
    "sum_per_person = {}\n",
    "for item in purchase_list:\n",
    "    person = item[\"Jméno\"]\n",
    "    value = item[\"Částka\"]\n",
    "    if person in sum_per_person:\n",
    "        sum_per_person[person] += value\n",
    "    else:\n",
    "        sum_per_person[person] = value"
   ]
  },
  {
   "cell_type": "code",
   "execution_count": 3,
   "metadata": {},
   "outputs": [
    {
     "name": "stdout",
     "output_type": "stream",
     "text": [
      "Petr utratil(a) za společné nákupy 539 Kč.\n",
      "Ondra utratil(a) za společné nákupy 500 Kč.\n",
      "Libor utratil(a) za společné nákupy 124 Kč.\n",
      "Míša utratil(a) za společné nákupy 160 Kč.\n",
      "Zuzka utratil(a) za společné nákupy 80 Kč.\n",
      "Pavla utratil(a) za společné nákupy 50 Kč.\n"
     ]
    }
   ],
   "source": [
    "total_value = 0\n",
    "for person, value in sum_per_person.items():\n",
    "    total_value += value\n",
    "    print(f\"{person} utratil(a) za společné nákupy {value} Kč.\")"
   ]
  },
  {
   "cell_type": "code",
   "execution_count": 4,
   "metadata": {},
   "outputs": [
    {
     "name": "stdout",
     "output_type": "stream",
     "text": [
      "Průměrná hodnota na osobu je 242 Kč.\n"
     ]
    }
   ],
   "source": [
    "average_value = total_value / len(sum_per_person)\n",
    "print(f\"Průměrná hodnota na osobu je {round(average_value)} Kč.\")"
   ]
  },
  {
   "cell_type": "markdown",
   "metadata": {},
   "source": [
    "### Řešení"
   ]
  },
  {
   "cell_type": "code",
   "execution_count": 5,
   "metadata": {},
   "outputs": [
    {
     "name": "stdout",
     "output_type": "stream",
     "text": [
      "Petr dostane od ostatních 297,- Kč.\n",
      "Ondra dostane od ostatních 258,- Kč.\n",
      "Libor musí doplatit ostatním 119,- Kč.\n",
      "Míša musí doplatit ostatním 83,- Kč.\n",
      "Zuzka musí doplatit ostatním 163,- Kč.\n",
      "Pavla musí doplatit ostatním 193,- Kč.\n"
     ]
    }
   ],
   "source": [
    "for person, value in sum_per_person.items():\n",
    "    if value > average_value:\n",
    "        print(f'{person} dostane od ostatních {math.ceil(value - average_value)},- Kč.')\n",
    "    else:\n",
    "        print(f'{person} musí doplatit ostatním {math.ceil(average_value - value)},- Kč.')"
   ]
  },
  {
   "cell_type": "markdown",
   "metadata": {},
   "source": [
    "Poznámka:\n",
    "\n",
    "Je třeba nahoru import math"
   ]
  }
 ],
 "metadata": {
  "kernelspec": {
   "display_name": "Python 3",
   "language": "python",
   "name": "python3"
  },
  "language_info": {
   "codemirror_mode": {
    "name": "ipython",
    "version": 3
   },
   "file_extension": ".py",
   "mimetype": "text/x-python",
   "name": "python",
   "nbconvert_exporter": "python",
   "pygments_lexer": "ipython3",
   "version": "3.11.3"
  }
 },
 "nbformat": 4,
 "nbformat_minor": 2
}
