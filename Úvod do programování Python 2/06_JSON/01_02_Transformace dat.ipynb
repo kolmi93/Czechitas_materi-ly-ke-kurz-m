{
 "cells": [
  {
   "cell_type": "markdown",
   "metadata": {},
   "source": [
    "# Transformace dat\n",
    "\n",
    "Stáhněte si soubor words.txt a zpracujte z něj výstupní soubor ve formátu JSON obsahující slovník. Klíče budou písmena a hodnoty seznamy slov, které začínají písmenem v klíči. Pokud na nějaké písmeno žádná slova nezačínají, tak ve výstupu toto písmeno nebude. Seřaďte tyto seznamy podle abecedy. Zajistěte, aby i klíče ve výstupním JSON souboru byly seřazeny a data byla odsazena čtyřmi mezerami pro lepší čitelnost člověkem.\n",
    "\n",
    "Vzorový výstup:\n",
    "{\n",
    "\n",
    "    \"a\": [\n",
    "        \"adjust\",\n",
    "        \"afford\",\n",
    "        \"ankle\",\n",
    "        \"annual\",\n",
    "        \"argument\",\n",
    "        \"auditor\"\n",
    "    ],\n",
    "    \n",
    "    \"b\": [\n",
    "        \"bank\",\n",
    "        \"baseball\",\n",
    "        \"beautiful\",\n",
    "        \"blind\",\n",
    "        \"breakfast\",\n",
    "        \"bride\",\n",
    "        \"bronze\",\n",
    "        \"build\",\n",
    "        \"burial\"\n",
    "    ],"
   ]
  },
  {
   "cell_type": "markdown",
   "metadata": {},
   "source": [
    " 1. Vytvořím si prázdný slovník, do kterého budu vytvářet požadovaný výstup\n",
    " 2. Otevřu si vstupní soubor a budu ho načítat v cyklu po řádcích\n",
    " 3. Zbavím se znaku pro nový řádek v každém slově\n",
    " 4. Zjistím si první písmeno slova\n",
    " 5. Pokud písmeno není klíčem slovníku, tak tento záznam vytvořím a jako hodnotu vložím seznam s tímto slovem\n",
    " 6. Jinak slovo připojím na konec existujícího seznamu slov\n",
    " 7. Po zpracování celého vstupu seřadím seznamy slov na všech klíčích\n",
    " 8. Výstupní slovník zapíšu do souboru ve formátu JSON\n",
    " 9. V dokumentaci musím najít, jak zajistím, aby byl výstup hezky odsazovaný o 4 mezery a klíče slovníku byly seřazené"
   ]
  },
  {
   "cell_type": "markdown",
   "metadata": {},
   "source": [
    "### Řešení"
   ]
  },
  {
   "cell_type": "code",
   "execution_count": null,
   "metadata": {},
   "outputs": [],
   "source": [
    "import json\n",
    "\n",
    "lines = []\n",
    "\n",
    "with open('words.txt', encoding='utf-8') as file:\n",
    "    for line in file:\n",
    "        lines.append(line.strip())\n",
    "\n",
    "#print(lines)\n",
    "\n",
    "list = {}\n",
    "for word in lines:\n",
    "    # vyselektování prvního písmenka\n",
    "    character = word[0]\n",
    "    # vytvoření nového klíče\n",
    "    if character not in list:\n",
    "        # vytvoření nového listu uvnitř dict\n",
    "        list[character] = []\n",
    "    # doplní slova do listu podle klíče (písmena)\n",
    "    list[character].append(word)\n",
    "\n",
    "with open('final.json', mode='w', encoding='utf-8') as output_file:\n",
    "    json.dump(list, output_file, indent=4, sort_keys=True, ensure_ascii=False)\n",
    "\n",
    "# indent - odsazení, sort_keys - seřazení klíše abecedně, ensure_ascii - zabrání ztrátě dikritických znamének"
   ]
  },
  {
   "cell_type": "markdown",
   "metadata": {},
   "source": [
    "seřadit dict můžu 2 způsoby.\n",
    "1. předtím než zapíšu do json pomocí - sorted_list = dict(sorted(list.items()))\n",
    "2. při zápisu pomocí sort_keys=True"
   ]
  }
 ],
 "metadata": {
  "kernelspec": {
   "display_name": "Python 3",
   "language": "python",
   "name": "python3"
  },
  "language_info": {
   "codemirror_mode": {
    "name": "ipython",
    "version": 3
   },
   "file_extension": ".py",
   "mimetype": "text/x-python",
   "name": "python",
   "nbconvert_exporter": "python",
   "pygments_lexer": "ipython3",
   "version": "3.11.3"
  }
 },
 "nbformat": 4,
 "nbformat_minor": 2
}
