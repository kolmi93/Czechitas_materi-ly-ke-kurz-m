{
 "cells": [
  {
   "cell_type": "markdown",
   "metadata": {},
   "source": [
    "# Rozepsaná výplata\n",
    "\n",
    "#### Modifikujte program pro počítání výplaty z předchozí sekce tak, aby nevypisoval průměrnou výplatu za rok, nýbrž aby vypsal konkrétní vyplacenou částku pro každý měsíc zvlášť.\n",
    "\n",
    "- Nejprve tyto informace vypište na terminál\n",
    "- Poté program upravte tak, aby vypsal tyto výsledky do souboru"
   ]
  },
  {
   "cell_type": "markdown",
   "metadata": {},
   "source": [
    "### Řešení"
   ]
  },
  {
   "cell_type": "code",
   "execution_count": 4,
   "metadata": {},
   "outputs": [
    {
     "name": "stdout",
     "output_type": "stream",
     "text": [
      "[168, 150, 160, 168, 142, 163, 80, 125, 152, 168, 173, 96]\n",
      "[168000, 150000, 160000, 168000, 142000, 163000, 80000, 125000, 152000, 168000, 173000, 96000]\n"
     ]
    }
   ],
   "source": [
    "lines = []\n",
    "with open('data\\\\vykaz.txt', encoding = 'utf-8') as file:\n",
    "    for line in file:\n",
    "        lines.append(int(line))\n",
    "\n",
    "print(lines)\n",
    "\n",
    "hodinovka = int(input('Zadej, kolik bereš za hodinu práce:\\n'))\n",
    "\n",
    "month = []\n",
    "for one in lines:\n",
    "    month.append(one * hodinovka)\n",
    "print(month)\n",
    "\n",
    "with open('rozepsana_vyplata.txt', mode = 'w', encoding = 'utf-8') as output_file:\n",
    "    for one_m in month:\n",
    "        print(one_m, file=output_file)"
   ]
  }
 ],
 "metadata": {
  "kernelspec": {
   "display_name": "Python 3",
   "language": "python",
   "name": "python3"
  },
  "language_info": {
   "codemirror_mode": {
    "name": "ipython",
    "version": 3
   },
   "file_extension": ".py",
   "mimetype": "text/x-python",
   "name": "python",
   "nbconvert_exporter": "python",
   "pygments_lexer": "ipython3",
   "version": "3.11.3"
  }
 },
 "nbformat": 4,
 "nbformat_minor": 2
}
