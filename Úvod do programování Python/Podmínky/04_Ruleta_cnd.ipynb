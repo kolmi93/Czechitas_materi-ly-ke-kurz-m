{
 "cells": [
  {
   "cell_type": "markdown",
   "metadata": {},
   "source": [
    "# Ruleta\n",
    "\n",
    "Na obrázku vidíte rozložení čísel na klasické Francouzské ruletě. Ruleta obsahuje čísla 0 - 36. Každé číslo s výjimkou nuly je buď sudé nebo liché a zároveň červené nebo černé. Pro čísla 1 až 10 a 19 až 28 platí, že lichá čísla jsou červená a sudá jsou černá. Pro zbytek platí obrácené pravidlo, tedy lichá jsou černá a sudá červená. Nula není ani lichá ani sudá, ani černá ani červená.\n",
    "\n",
    "Napište program, kterému uživatel zadá číslo a program odpoví jestli jde o číslo sudé nebo liché, černé nebo červené, nebo je to nula."
   ]
  },
  {
   "cell_type": "markdown",
   "metadata": {},
   "source": [
    "### Řešení"
   ]
  },
  {
   "cell_type": "code",
   "execution_count": 17,
   "metadata": {},
   "outputs": [
    {
     "name": "stdout",
     "output_type": "stream",
     "text": [
      "Vaše číslo je liché a červená.\n"
     ]
    }
   ],
   "source": [
    "cislo = int(input('Zadejte číslo:\\n'))\n",
    "\n",
    "sude =  cislo % 2 == 0\n",
    "\n",
    "if sude:\n",
    "    sude_liche = 'sudé'\n",
    "else:\n",
    "    sude_liche = 'liché'\n",
    "\n",
    "if cislo == 0:\n",
    "    print('Číslo je 0.')\n",
    "else:\n",
    "    if cislo in range(1, 11) or cislo in range(19, 29):\n",
    "        if sude:\n",
    "            barva = 'černá'\n",
    "        else:\n",
    "            barva ='červená'\n",
    "    else:\n",
    "        if sude:\n",
    "            barva = 'červená'\n",
    "        else:\n",
    "            barva = 'černá'\n",
    "    print(f'Vaše číslo je {sude_liche} a {barva}.')\n"
   ]
  },
  {
   "cell_type": "code",
   "execution_count": 18,
   "metadata": {},
   "outputs": [
    {
     "name": "stdout",
     "output_type": "stream",
     "text": [
      "Vaše číslo je liché a červená.\n"
     ]
    }
   ],
   "source": [
    "cislo = int(input('Zadejte číslo:\\n'))\n",
    "\n",
    "if cislo == 0:\n",
    "    print('Číslo je 0.')\n",
    "else:\n",
    "    sude =  cislo % 2 == 0\n",
    "    sude_liche ='sudé' if sude else 'liché'\n",
    "    if cislo in range(1, 11) or cislo in range(19, 29):\n",
    "        barva = 'černá' if sude else 'červená'\n",
    "    else:\n",
    "        barva = 'červená' if sude else 'černá'\n",
    "    print(f'Vaše číslo je {sude_liche} a {barva}.')\n"
   ]
  }
 ],
 "metadata": {
  "kernelspec": {
   "display_name": "Python 3",
   "language": "python",
   "name": "python3"
  },
  "language_info": {
   "codemirror_mode": {
    "name": "ipython",
    "version": 3
   },
   "file_extension": ".py",
   "mimetype": "text/x-python",
   "name": "python",
   "nbconvert_exporter": "python",
   "pygments_lexer": "ipython3",
   "version": "3.11.3"
  }
 },
 "nbformat": 4,
 "nbformat_minor": 2
}
