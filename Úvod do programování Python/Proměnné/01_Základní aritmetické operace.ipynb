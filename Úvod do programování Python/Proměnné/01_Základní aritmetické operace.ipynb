{
 "cells": [
  {
   "cell_type": "markdown",
   "metadata": {},
   "source": [
    "# Základní aritmeticé operace\n",
    "\n",
    "Do proměnné a uložte libovolné celé číslo, do proměnné b uložte libovolné desetinné číslo. V následujících úlohách každý výsledek uložte do nové proměnné.\n",
    "\n",
    " - Vypočítejte součet a a b.\n",
    " - Vypočítejte součin a a b.\n",
    " - Vypočítejte zbytek po dělení čísla a číslem b.\n",
    " - Celočíselně vydělte číslo a číslem b."
   ]
  },
  {
   "cell_type": "markdown",
   "metadata": {},
   "source": [
    "### Řešení"
   ]
  },
  {
   "cell_type": "code",
   "execution_count": 6,
   "metadata": {},
   "outputs": [],
   "source": [
    "a = 10\n",
    "b = 3"
   ]
  },
  {
   "cell_type": "code",
   "execution_count": 7,
   "metadata": {},
   "outputs": [],
   "source": [
    "soucet = a + b\n",
    "soucin = a * b\n",
    "zbytek = a % b\n",
    "celociselne_deleni = a // b"
   ]
  },
  {
   "cell_type": "code",
   "execution_count": 8,
   "metadata": {},
   "outputs": [
    {
     "name": "stdout",
     "output_type": "stream",
     "text": [
      "13\n",
      "30\n",
      "1\n",
      "3\n"
     ]
    }
   ],
   "source": [
    "print(soucet)\n",
    "print(soucin)\n",
    "print(zbytek)\n",
    "print(celociselne_deleni)"
   ]
  }
 ],
 "metadata": {
  "kernelspec": {
   "display_name": "Python 3",
   "language": "python",
   "name": "python3"
  },
  "language_info": {
   "codemirror_mode": {
    "name": "ipython",
    "version": 3
   },
   "file_extension": ".py",
   "mimetype": "text/x-python",
   "name": "python",
   "nbconvert_exporter": "python",
   "pygments_lexer": "ipython3",
   "version": "3.11.3"
  }
 },
 "nbformat": 4,
 "nbformat_minor": 2
}
