{
 "cells": [
  {
   "cell_type": "markdown",
   "metadata": {},
   "source": [
    "#  Narozeniny ve školce\n",
    "\n",
    "Toto pokročilé cvičení se úplně nedotýká formátu JSON, ale vyžaduje pokročilou práci se slovníky a hodně hledání na internetu.\n",
    "\n",
    "Paní ředitelka školky si exportovala z informačního systému seznam dětí, jejich zařazení do třídy a datum narození: kids.csv. Potřebuje vytvořit pro učitelky každé třídy výpis měsíců se seznamy dětí, které mají v tom měsíci narozeny. Výstupem budou textové soubory podle názvů tříd. Napište program univerzálně. Názvy tříd nejsou pevné, takže je získejte až ze samotných dat."
   ]
  },
  {
   "cell_type": "markdown",
   "metadata": {},
   "source": [
    "### Řešení"
   ]
  },
  {
   "cell_type": "code",
   "execution_count": null,
   "metadata": {},
   "outputs": [],
   "source": []
  }
 ],
 "metadata": {
  "kernelspec": {
   "display_name": "Python 3",
   "language": "python",
   "name": "python3"
  },
  "language_info": {
   "codemirror_mode": {
    "name": "ipython",
    "version": 3
   },
   "file_extension": ".py",
   "mimetype": "text/x-python",
   "name": "python",
   "nbconvert_exporter": "python",
   "pygments_lexer": "ipython3",
   "version": "3.11.3"
  }
 },
 "nbformat": 4,
 "nbformat_minor": 2
}
