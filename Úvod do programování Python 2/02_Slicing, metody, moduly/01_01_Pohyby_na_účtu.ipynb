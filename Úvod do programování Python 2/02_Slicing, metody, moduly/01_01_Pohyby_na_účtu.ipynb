{
 "cells": [
  {
   "cell_type": "markdown",
   "metadata": {},
   "source": [
    "# Pohyby na účtu\n",
    "\n",
    "#### Mějme seznam pohybů na nějakém bankovním účtu:"
   ]
  },
  {
   "cell_type": "code",
   "execution_count": 5,
   "metadata": {},
   "outputs": [],
   "source": [
    "pohyby = [1200, -250, -800, 540, 721, -613, -222]"
   ]
  },
  {
   "cell_type": "markdown",
   "metadata": {},
   "source": [
    "- Vypište v pořadí třetí pohyb z uvedeného seznamu.\n",
    "- Vypište všechny pohyby kromě prvních dvou.\n",
    "- Vypište kolik je všech pohybů dohromady.\n",
    "- Pomocí volání vhodných funkcí vypište nejvyšší a nejnižší pohyb.\n",
    "- Spočítejte celkový přírůstek na účtu za dané období. Pozor, že přírůstek může vyjít i záporný."
   ]
  },
  {
   "cell_type": "markdown",
   "metadata": {},
   "source": [
    "### Řešení"
   ]
  },
  {
   "cell_type": "code",
   "execution_count": 6,
   "metadata": {},
   "outputs": [
    {
     "name": "stdout",
     "output_type": "stream",
     "text": [
      "-800\n"
     ]
    }
   ],
   "source": [
    "# Vypište v pořadí třetí pohyb z uvedeného seznamu.\n",
    "\n",
    "print(pohyby[2])"
   ]
  },
  {
   "cell_type": "code",
   "execution_count": 7,
   "metadata": {},
   "outputs": [
    {
     "name": "stdout",
     "output_type": "stream",
     "text": [
      "[-800, 540, 721, -613, -222]\n"
     ]
    }
   ],
   "source": [
    "# Vypište všechny pohyby kromě prvních dvou.\n",
    "\n",
    "print(pohyby[2:])"
   ]
  },
  {
   "cell_type": "code",
   "execution_count": 8,
   "metadata": {},
   "outputs": [
    {
     "name": "stdout",
     "output_type": "stream",
     "text": [
      "7\n"
     ]
    }
   ],
   "source": [
    "# vypiště kolik pohybů je dohromady\n",
    "\n",
    "print(len(pohyby))"
   ]
  },
  {
   "cell_type": "code",
   "execution_count": 9,
   "metadata": {},
   "outputs": [
    {
     "name": "stdout",
     "output_type": "stream",
     "text": [
      "min: -800, max: 1200.\n"
     ]
    }
   ],
   "source": [
    "# pomocí volání vhodných funkcí vypiště nejvyšší a nejnižší pohyb\n",
    "\n",
    "print(f\"min: {min(pohyby)}, max: {(max(pohyby))}.\")"
   ]
  },
  {
   "cell_type": "code",
   "execution_count": 10,
   "metadata": {},
   "outputs": [
    {
     "name": "stdout",
     "output_type": "stream",
     "text": [
      "576\n"
     ]
    }
   ],
   "source": [
    "# spočítat celkový přírůstek za dné období (může být i záporný)\n",
    "\n",
    "print(sum(pohyby))"
   ]
  }
 ],
 "metadata": {
  "kernelspec": {
   "display_name": "Python 3",
   "language": "python",
   "name": "python3"
  },
  "language_info": {
   "codemirror_mode": {
    "name": "ipython",
    "version": 3
   },
   "file_extension": ".py",
   "mimetype": "text/x-python",
   "name": "python",
   "nbconvert_exporter": "python",
   "pygments_lexer": "ipython3",
   "version": "3.11.3"
  }
 },
 "nbformat": 4,
 "nbformat_minor": 2
}
