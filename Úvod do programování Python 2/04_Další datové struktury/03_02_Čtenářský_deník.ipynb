{
 "cells": [
  {
   "cell_type": "markdown",
   "metadata": {},
   "source": [
    "# Čtenářský deník\n",
    "\n",
    "#### Gustav je vášnivým čtenářem detektivek z našeho nakladatelství a navíc si zapisuje knihy, které přečetl. Níže ve slovníku vidíme, jaké informace si eviduje - název knihy, počet stran a hodnocení od 0 do 10.\n",
    "\n",
    "- Napiš program, který spočte celkový počet stran, které Gustav přečetl.\n",
    "- Připiš do programu výpočet počtu knih, kterým dal Gustav hodnocení alespoň 8."
   ]
  },
  {
   "cell_type": "code",
   "execution_count": 11,
   "metadata": {},
   "outputs": [],
   "source": [
    "books = [\n",
    "    {\"title\": \"Vražda s příliš mnoha notami\", \"pages\": 450, \"rating\": 5},\n",
    "    {\"title\": \"Vražda podle knihy\", \"pages\": 524, \"rating\": 9},\n",
    "    {\"title\": \"Past\", \"pages\": 390, \"rating\": 4},\n",
    "    {\"title\": \"Popel popelu\", \"pages\": 411, \"rating\": 10},\n",
    "    {\"title\": \"Noc, která mě zabila\", \"pages\": 159, \"rating\": 7},\n",
    "    {\"title\": \"Vražda, kouř a stíny\", \"pages\": 258, \"rating\": 6},\n",
    "    {\"title\": \"Zločinný steh\", \"pages\": 542, \"rating\": 8},\n",
    "    {\"title\": \"Zkus mě chytit\", \"pages\": 247, \"rating\": 7},\n",
    "    {\"title\": \"Vrah zavolá v deset\", \"pages\": 396, \"rating\": 6},\n",
    "]"
   ]
  },
  {
   "cell_type": "markdown",
   "metadata": {},
   "source": [
    "### Řešení"
   ]
  },
  {
   "cell_type": "code",
   "execution_count": 14,
   "metadata": {},
   "outputs": [
    {
     "name": "stdout",
     "output_type": "stream",
     "text": [
      "3377\n"
     ]
    }
   ],
   "source": [
    "# celkový počet stran\n",
    "celkem_stran = 0\n",
    "\n",
    "for kniha in books:\n",
    "    celkem_stran += kniha[\"pages\"]\n",
    "\n",
    "print(celkem_stran)"
   ]
  },
  {
   "cell_type": "code",
   "execution_count": 15,
   "metadata": {},
   "outputs": [
    {
     "name": "stdout",
     "output_type": "stream",
     "text": [
      "3\n"
     ]
    }
   ],
   "source": [
    "# knihy s hodnocením 8+\n",
    "\n",
    "osm_plus_hvezd = 0\n",
    "\n",
    "for kniha in books:\n",
    "    if kniha[\"rating\"] >= 8:\n",
    "        osm_plus_hvezd += 1\n",
    "\n",
    "print(osm_plus_hvezd)"
   ]
  }
 ],
 "metadata": {
  "kernelspec": {
   "display_name": "Python 3",
   "language": "python",
   "name": "python3"
  },
  "language_info": {
   "codemirror_mode": {
    "name": "ipython",
    "version": 3
   },
   "file_extension": ".py",
   "mimetype": "text/x-python",
   "name": "python",
   "nbconvert_exporter": "python",
   "pygments_lexer": "ipython3",
   "version": "3.11.3"
  }
 },
 "nbformat": 4,
 "nbformat_minor": 2
}
