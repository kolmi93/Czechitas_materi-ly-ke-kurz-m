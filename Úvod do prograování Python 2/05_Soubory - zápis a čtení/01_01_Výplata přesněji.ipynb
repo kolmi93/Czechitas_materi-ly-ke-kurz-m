{
 "cells": [
  {
   "cell_type": "markdown",
   "metadata": {},
   "source": [
    "# Výplata přesněji\n",
    "\n",
    "#### Zatím jsme výplatu počítali za předpokladu, že každý měsíc odpracujeme stejný počet hodin, což není příliš realistické. Stáhněte si textový soubor vykaz.txt, který obsahuje 12 řádků a na každém řádku počet odpracovaných hodin za každý měsíc za poslední rok\n",
    "\n",
    "- Otevřete tento soubor ve svém programu a načtěte hodnoty na řádcích do seznamu vykaz. Vytiskněte tento seznam do terminálu funkcí print() abyste si ověřili, že jste soubor načetli správně.\n",
    "\n",
    "- Nechte uživatele zadat na příkazovém řádku hodinovou mzdu. Spočítejte a na výstup vytiskněte celkovou výplatu za celý rok a průměrnou výplatu na jeden měsíc."
   ]
  },
  {
   "cell_type": "markdown",
   "metadata": {},
   "source": [
    "### Řešení"
   ]
  },
  {
   "cell_type": "code",
   "execution_count": 1,
   "metadata": {},
   "outputs": [
    {
     "name": "stdout",
     "output_type": "stream",
     "text": [
      "[168, 150, 160, 168, 142, 163, 80, 125, 152, 168, 173, 96]\n",
      "Za poslední rok jste si vydělal/a celkem 261750,- Kč. Průměrně 21812,- Kč/ měsíc.\n"
     ]
    }
   ],
   "source": [
    "import statistics\n",
    "\n",
    "lines = []\n",
    "with open('vykaz.txt', encoding = 'utf-8') as file:\n",
    "    for line in file:\n",
    "        lines.append(int(line))\n",
    "\n",
    "print(lines)\n",
    "\n",
    "hodinovka = int(input('Zadej, kolik bereš za hodinu práce:\\n'))\n",
    "\n",
    "celkem = []\n",
    "for one in lines:\n",
    "    celkem.append(one * hodinovka)\n",
    "\n",
    "print(f'Za poslední rok jste si vydělal/a celkem {sum(celkem)},- Kč. Průměrně {round(statistics.mean(celkem))},- Kč/ měsíc.')"
   ]
  }
 ],
 "metadata": {
  "kernelspec": {
   "display_name": "Python 3",
   "language": "python",
   "name": "python3"
  },
  "language_info": {
   "codemirror_mode": {
    "name": "ipython",
    "version": 3
   },
   "file_extension": ".py",
   "mimetype": "text/x-python",
   "name": "python",
   "nbconvert_exporter": "python",
   "pygments_lexer": "ipython3",
   "version": "3.11.3"
  }
 },
 "nbformat": 4,
 "nbformat_minor": 2
}
