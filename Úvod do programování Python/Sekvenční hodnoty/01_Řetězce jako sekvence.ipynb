{
 "cells": [
  {
   "cell_type": "markdown",
   "metadata": {},
   "source": [
    "# Řetězec jako sekvence\n",
    "\n",
    "Uložte do proměnné jmeno svoje celé jméno a nechte vypsat jeho třetí, pátý a sedmý znak. Vyzkoušejte, co se stane, když budete chtít znak na pozici, která překračuje délku řetězce."
   ]
  },
  {
   "cell_type": "markdown",
   "metadata": {},
   "source": [
    "### Řešení"
   ]
  },
  {
   "cell_type": "code",
   "execution_count": 6,
   "metadata": {},
   "outputs": [
    {
     "name": "stdout",
     "output_type": "stream",
     "text": [
      "e l c\n"
     ]
    }
   ],
   "source": [
    "jmeno = 'Sherlock Holmes'\n",
    "\n",
    "treti = jmeno[2]\n",
    "paty = jmeno[4]\n",
    "sedmy = jmeno[6]\n",
    "# mimo_retezec = jmeno[30]\n",
    "\n",
    "print(treti, paty, sedmy)\n",
    "# print(mimo_retezec)  # IndexError: string index out of range"
   ]
  }
 ],
 "metadata": {
  "kernelspec": {
   "display_name": "Python 3",
   "language": "python",
   "name": "python3"
  },
  "language_info": {
   "codemirror_mode": {
    "name": "ipython",
    "version": 3
   },
   "file_extension": ".py",
   "mimetype": "text/x-python",
   "name": "python",
   "nbconvert_exporter": "python",
   "pygments_lexer": "ipython3",
   "version": "3.11.3"
  }
 },
 "nbformat": 4,
 "nbformat_minor": 2
}
