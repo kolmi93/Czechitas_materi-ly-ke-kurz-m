{
 "cells": [
  {
   "cell_type": "markdown",
   "metadata": {},
   "source": [
    "# Seznamy řetězců\n",
    "\n",
    "Mějme zadaný následující seznam"
   ]
  },
  {
   "cell_type": "code",
   "execution_count": 2,
   "metadata": {},
   "outputs": [],
   "source": [
    "jmena = ['Roman', 'Jan', 'Miroslav', 'Petr', 'Gabriel']"
   ]
  },
  {
   "cell_type": "markdown",
   "metadata": {},
   "source": [
    "Vytvořte seznam, který obsahuje\n",
    "\n",
    " 1. počty písmen ve všech jménech,\n",
    " 2. všechna jména napsaná velkými písmeny,\n",
    " 3. všechna jména plus písmeno 'a' na konci (stanou se z nich tedy ženská jména),\n",
    " 4. všechna jména převedená na malá písmena s koncovkou '@email.cz'."
   ]
  },
  {
   "cell_type": "markdown",
   "metadata": {},
   "source": [
    "### Řešení"
   ]
  },
  {
   "cell_type": "code",
   "execution_count": 4,
   "metadata": {},
   "outputs": [
    {
     "name": "stdout",
     "output_type": "stream",
     "text": [
      "[5, 3, 8, 4, 7]\n"
     ]
    }
   ],
   "source": [
    "# počty písmen pro každé jméno\n",
    "\n",
    "pocet = [len(jmeno) for jmeno in jmena]\n",
    "print(pocet)"
   ]
  },
  {
   "cell_type": "code",
   "execution_count": 8,
   "metadata": {},
   "outputs": [
    {
     "name": "stdout",
     "output_type": "stream",
     "text": [
      "['ROMAN', 'JAN', 'MIROSLAV', 'PETR', 'GABRIEL']\n"
     ]
    }
   ],
   "source": [
    "# vypsat všechna jméno velkým písmem\n",
    "\n",
    "velke = [(jmeno.upper()) for jmeno in jmena]\n",
    "print(velke)"
   ]
  },
  {
   "cell_type": "code",
   "execution_count": 9,
   "metadata": {},
   "outputs": [
    {
     "name": "stdout",
     "output_type": "stream",
     "text": [
      "['Romana', 'Jana', 'Miroslava', 'Petra', 'Gabriela']\n"
     ]
    }
   ],
   "source": [
    "# všechna jmena s 'a' na konci\n",
    "\n",
    "a = [jmeno + 'a' for jmeno in jmena]\n",
    "print(a)"
   ]
  },
  {
   "cell_type": "code",
   "execution_count": 10,
   "metadata": {},
   "outputs": [
    {
     "name": "stdout",
     "output_type": "stream",
     "text": [
      "['roman@email.cz', 'jan@email.cz', 'miroslav@email.cz', 'petr@email.cz', 'gabriel@email.cz']\n"
     ]
    }
   ],
   "source": [
    "# všechna jmena malym + email\n",
    "\n",
    "email = [(jmeno.lower() + '@email.cz') for jmeno in jmena]\n",
    "print(email)"
   ]
  }
 ],
 "metadata": {
  "kernelspec": {
   "display_name": "Python 3",
   "language": "python",
   "name": "python3"
  },
  "language_info": {
   "codemirror_mode": {
    "name": "ipython",
    "version": 3
   },
   "file_extension": ".py",
   "mimetype": "text/x-python",
   "name": "python",
   "nbconvert_exporter": "python",
   "pygments_lexer": "ipython3",
   "version": "3.11.3"
  }
 },
 "nbformat": 4,
 "nbformat_minor": 2
}
