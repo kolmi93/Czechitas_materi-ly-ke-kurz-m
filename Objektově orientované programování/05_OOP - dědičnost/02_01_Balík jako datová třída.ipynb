{
 "cells": [
  {
   "cell_type": "markdown",
   "metadata": {},
   "source": [
    "# Balík jako datová třída\n",
    "\n",
    "Uprav třídu Package na datovou třídu. Třída bude mít atributy address, weight, a state. U každého z atributů vymysli a nastav vhodný datový typ. Existující metody ve třídě ponech.\n",
    "\n",
    "Následně vyzkoušej, zda funguje vytváření balíků. A co cenné balíky, fungují pořád, i když dědí od datové třídy?"
   ]
  },
  {
   "cell_type": "markdown",
   "metadata": {},
   "source": [
    "### Řešení"
   ]
  },
  {
   "cell_type": "code",
   "execution_count": 1,
   "metadata": {},
   "outputs": [
    {
     "name": "stdout",
     "output_type": "stream",
     "text": [
      "Balík na adresu Václavské náměstí 12, Praha, má hnotnost 0.25 a je ve stavu nedoručen. Balík má hodnotu 5000 Kč.\n",
      "Doručení uloženo.\n",
      "Balík na adresu Václavské náměstí 12, Praha, má hnotnost 0.25 a je ve stavu doručen. Balík má hodnotu 5000 Kč.\n",
      "Balík byl již doručen.\n",
      "Balík na adresu Horni Dolní 44, Tramtárie, má hnotnost 2.5 a je ve stavu nedoručen.\n",
      "Doručení uloženo.\n",
      "Balík na adresu Horni Dolní 44, Tramtárie, má hnotnost 2.5 a je ve stavu doručen.\n",
      "Balík byl již doručen.\n"
     ]
    }
   ],
   "source": [
    "from dataclasses import dataclass\n",
    "\n",
    "@dataclass     # nezapomenout napsat dataclass a import datasclasses\n",
    "class Package:\n",
    "    address: str\n",
    "    weight: float\n",
    "    state: str = 'nedoručen'\n",
    "    \n",
    "    def __str__(self):\n",
    "        return f'Balík na adresu {self.address}, má hnotnost {self.weight} a je ve stavu {self.state}.'\n",
    "        \n",
    "    def delivery_price(self):\n",
    "        price = 0\n",
    "        if self.weight < 10:\n",
    "            price = 129\n",
    "        elif self.weight >= 10 and self.weight < 20:\n",
    "            price = 159\n",
    "        else:\n",
    "            price = 359\n",
    "        return f'Cena za doručení balíku činí: {price},- Kč.'\n",
    "    \n",
    "    def deliver(self):\n",
    "        if self.state == 'doručen':\n",
    "            return f'Balík byl již doručen.'\n",
    "        else:\n",
    "            self.state = 'doručen'\n",
    "            return f'Doručení uloženo.'\n",
    "\n",
    "class ValuablePackage(Package):\n",
    "    def __init__(self, address, weight, value, state = 'nedoručen'):\n",
    "        super().__init__(address, weight, state)\n",
    "        self.value = value\n",
    "    \n",
    "    def __str__(self):\n",
    "        return super().__str__() + f' Balík má hodnotu {self.value} Kč.'\n",
    "    \n",
    "\n",
    "package_01 = ValuablePackage('Václavské náměstí 12, Praha', 0.25, 5000, 'nedoručen')\n",
    "package_02 = Package('Horni Dolní 44, Tramtárie', 2.5, 'nedoručen')\n",
    "\n",
    "\n",
    "print(package_01)\n",
    "print(package_01.deliver())\n",
    "print(package_01)\n",
    "print(package_01.deliver())\n",
    "\n",
    "print(package_02)\n",
    "print(package_02.deliver())\n",
    "print(package_02)\n",
    "print(package_02.deliver())\n"
   ]
  },
  {
   "cell_type": "code",
   "execution_count": null,
   "metadata": {},
   "outputs": [],
   "source": []
  }
 ],
 "metadata": {
  "kernelspec": {
   "display_name": "Python 3",
   "language": "python",
   "name": "python3"
  },
  "language_info": {
   "codemirror_mode": {
    "name": "ipython",
    "version": 3
   },
   "file_extension": ".py",
   "mimetype": "text/x-python",
   "name": "python",
   "nbconvert_exporter": "python",
   "pygments_lexer": "ipython3",
   "version": "3.11.3"
  }
 },
 "nbformat": 4,
 "nbformat_minor": 2
}
