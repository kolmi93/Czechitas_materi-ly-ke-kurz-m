{
 "cells": [
  {
   "cell_type": "markdown",
   "metadata": {},
   "source": [
    "# Ruleta\n",
    "\n",
    "#### Napiš funkci, která bude jednoduchou simulací rulety. Budeme uvažovat pouze možnost sázení na řady. Uživatel si může vybrat jednu ze tří řad:\n",
    "\n",
    "- první řada (hodnoty 1, 4, 7 atd.),\n",
    "\n",
    "- druhá řada (hodnoty 2, 5, 8 atd.),\n",
    "\n",
    "- třetí řada (hodnoty 3, 6, 9 atd.).\n",
    "\n",
    "#### Zeptej se uživatele, na kterou ze tří řad sází a na výši sázky.\n",
    "\n",
    "#### Vytvoř funkci roulette, která bude mít parametry číslo řady a výši sázky. Pomocí funkce randint z modulu random vygeneruj náhodné číslo v rozsahu od 0 (včetně) do 36. Vyhodnoť, do které řady číslo náleží. Nezapomeň, že 0 nepatří do žádné z řad a pokud padne, uživatel vždy prohrává.\n",
    "\n",
    "#### Funkce roulette vrací hodnotu výhry. Pokud uživatel vsadil na správnou řadu, vyhrává dvojnásobek sázky, v opačném případě nevyhrává nic jeho sázka propadá."
   ]
  },
  {
   "cell_type": "markdown",
   "metadata": {},
   "source": []
  },
  {
   "cell_type": "markdown",
   "metadata": {},
   "source": [
    "### Řešení"
   ]
  },
  {
   "cell_type": "code",
   "execution_count": 11,
   "metadata": {},
   "outputs": [
    {
     "name": "stdout",
     "output_type": "stream",
     "text": [
      "Sázíte na 2. řadu. Padlo cislo: 1.\n",
      "Bohužel jste prohráli.\n"
     ]
    }
   ],
   "source": [
    "import random\n",
    "\n",
    "def roulette(hod, rada, castka):\n",
    "\n",
    "    print(f'Sázíte na {rada}. řadu. Padlo cislo: {hod}.')\n",
    "\n",
    "    if hod == 0:\n",
    "        print('Bohužel jste prohráli.')\n",
    "    elif hod % 3 == 1 and rada == 1:\n",
    "        print(f'Vyhráváte {castka * 2},- Kč.')\n",
    "    elif hod % 3 == 2 and rada == 2:\n",
    "        print(f'Vyhráváte {castka * 2},- Kč.')\n",
    "    elif hod % 3 == 0 and rada == 3:\n",
    "        print(f'Vyhráváte {castka * 2},- Kč.')\n",
    "    else:\n",
    "        print('Bohužel jste prohráli.')\n",
    "\n",
    "rada = int(input('Napište, na jakou řadu sázíte. K dispozici jsou řady 1-3:\\n'))\n",
    "castka = int(input('Jaká je výška vaší sázky?\\n'))\n",
    "hod = random.randint(0, 36)\n",
    "\n",
    "roulette(hod, rada, castka)"
   ]
  },
  {
   "cell_type": "code",
   "execution_count": 1,
   "metadata": {},
   "outputs": [
    {
     "name": "stdout",
     "output_type": "stream",
     "text": [
      "Sázíte na 1. řadu. Padlo cislo: 17.\n",
      "Bohužel jste prohráli.\n"
     ]
    }
   ],
   "source": [
    "import random\n",
    "\n",
    "rada = int(input('Napiš, na jakou řadu sázíš. K dispozici jsou řady 1-3:\\n'))\n",
    "castka = int(input('Jaká je výška tvojí sázky?\\n'))\n",
    "\n",
    "def roulette(rada, castka):\n",
    "    rady = [\n",
    "        range(1, 37, 3),\n",
    "        range(2, 37, 3),\n",
    "        range(3, 37, 3),\n",
    "    ]\n",
    "\n",
    "    hod = random.randint(0, 36)\n",
    "    \n",
    "    print(f'Sázíte na {rada}. řadu. Padlo cislo: {hod}.')\n",
    "\n",
    "    if hod == 0 or hod not in rady[rada-1]:\n",
    "        print('Bohužel jste prohráli.')\n",
    "    else:\n",
    "        print(f'Vyhráváte {castka * 2},- Kč.')\n",
    "\n",
    "roulette(rada, castka)"
   ]
  }
 ],
 "metadata": {
  "kernelspec": {
   "display_name": "Python 3",
   "language": "python",
   "name": "python3"
  },
  "language_info": {
   "codemirror_mode": {
    "name": "ipython",
    "version": 3
   },
   "file_extension": ".py",
   "mimetype": "text/x-python",
   "name": "python",
   "nbconvert_exporter": "python",
   "pygments_lexer": "ipython3",
   "version": "3.11.3"
  }
 },
 "nbformat": 4,
 "nbformat_minor": 2
}
