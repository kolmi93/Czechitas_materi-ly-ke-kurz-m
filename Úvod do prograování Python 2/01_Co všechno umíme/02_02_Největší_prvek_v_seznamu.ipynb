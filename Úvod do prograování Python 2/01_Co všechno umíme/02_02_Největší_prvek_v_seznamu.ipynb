{
 "cells": [
  {
   "cell_type": "markdown",
   "metadata": {},
   "source": [
    "# Největší prvek v seznamu\n",
    "\n",
    "### Napiš kód, který zpracuje seznam čísel a vypíše největší prvek v tomto seznamu (bez použití funkce max())."
   ]
  },
  {
   "cell_type": "markdown",
   "metadata": {},
   "source": [
    "### Řešení"
   ]
  },
  {
   "cell_type": "markdown",
   "metadata": {},
   "source": [
    "varianta A"
   ]
  },
  {
   "cell_type": "code",
   "execution_count": 1,
   "metadata": {},
   "outputs": [
    {
     "name": "stdout",
     "output_type": "stream",
     "text": [
      "35\n"
     ]
    }
   ],
   "source": [
    "nejvetsi = 0\n",
    "\n",
    "list = [4,10,9,35,2,29]\n",
    "\n",
    "for cislo in list:\n",
    "    if cislo > nejvetsi:\n",
    "        nejvetsi = cislo\n",
    "\n",
    "print(nejvetsi)"
   ]
  }
 ],
 "metadata": {
  "kernelspec": {
   "display_name": "Python 3",
   "language": "python",
   "name": "python3"
  },
  "language_info": {
   "codemirror_mode": {
    "name": "ipython",
    "version": 3
   },
   "file_extension": ".py",
   "mimetype": "text/x-python",
   "name": "python",
   "nbconvert_exporter": "python",
   "pygments_lexer": "ipython3",
   "version": "3.11.3"
  }
 },
 "nbformat": 4,
 "nbformat_minor": 2
}
