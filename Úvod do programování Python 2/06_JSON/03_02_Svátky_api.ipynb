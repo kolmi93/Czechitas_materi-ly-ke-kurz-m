{
 "cells": [
  {
   "cell_type": "markdown",
   "metadata": {},
   "source": [
    "# Svátky\n",
    "\n",
    "Na adrese https://svatky.adresa.info/json najdete API, které vám odpoví, kdo má dneska svátek.\n",
    "\n",
    " 1. Využijte toto API k tomu, abyste napsali program, který po spuštění vypíše na obrazovku kdo má dneska svátek.\n",
    " 2. Pokud použijete adresu https://svatky.adresa.info/json?date=DDMM, kde místo DDMM doplníte datum, dostanete jméno, které má svátek v zadaný den. Formát DDMM znamená že 6. ledna bude zapsáno jako 0601, 12. září jako 1209 apod. Napište program, který dostane na příkazové řádce číslo dne a číslo měsíce a vypíše na výstup kdo má v daný den svátek. Použijte váš program abyste zjistili, kdo má svátek 29. února.\n",
    " 3. Bonus: předchozí bod uprav tak, že nebudeš dávat funkci requests.get() adresu včetně parametru date=1209, ale pouze základní \"endpoint\" https://svatky.adresa.info/json a parametry (vše za ?) dodáš volitelným parametrem. Budeš potřebovat pracovat s dokumentací k requests."
   ]
  },
  {
   "cell_type": "markdown",
   "metadata": {},
   "source": [
    "### Řešení"
   ]
  },
  {
   "cell_type": "code",
   "execution_count": 1,
   "metadata": {},
   "outputs": [
    {
     "name": "stdout",
     "output_type": "stream",
     "text": [
      "[{'date': '0805', 'name': 'Den vítězství'}]\n",
      "Den vítězství\n"
     ]
    }
   ],
   "source": [
    "# svátek dnes\n",
    "\n",
    "import requests\n",
    "\n",
    "response = requests.get('https://svatky.adresa.info/json')\n",
    "data = response.json()\n",
    "print(data)\n",
    "print(data[0]['name'])"
   ]
  },
  {
   "cell_type": "code",
   "execution_count": 9,
   "metadata": {},
   "outputs": [
    {
     "name": "stdout",
     "output_type": "stream",
     "text": [
      "[{'date': '2902', 'name': 'Horymír'}]\n",
      "Horymír\n"
     ]
    }
   ],
   "source": [
    "# svátek 29.2.\n",
    "\n",
    "import requests\n",
    "\n",
    "response = requests.get('https://svatky.adresa.info/json?date=2902')\n",
    "data = response.json()\n",
    "print(data)\n",
    "print(data[0]['name'])"
   ]
  }
 ],
 "metadata": {
  "kernelspec": {
   "display_name": "Python 3",
   "language": "python",
   "name": "python3"
  },
  "language_info": {
   "codemirror_mode": {
    "name": "ipython",
    "version": 3
   },
   "file_extension": ".py",
   "mimetype": "text/x-python",
   "name": "python",
   "nbconvert_exporter": "python",
   "pygments_lexer": "ipython3",
   "version": "3.11.3"
  }
 },
 "nbformat": 4,
 "nbformat_minor": 2
}
