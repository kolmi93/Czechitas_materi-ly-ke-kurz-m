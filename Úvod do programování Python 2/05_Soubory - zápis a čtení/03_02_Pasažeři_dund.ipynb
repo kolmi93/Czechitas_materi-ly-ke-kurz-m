{
 "cells": [
  {
   "cell_type": "markdown",
   "metadata": {},
   "source": [
    "# Pasažéři\n",
    "\n",
    "#### Autobus mezi Zdebudevsí a Kozoprdy jezdí čtyřikrát denně každý všední den v týdnu. Za poslední týden jsme naměřili počty pasažérů pro každou jízdu tam i zpět. Data jsou uložená v souboru pasazeri.txt. Jízda vždy obsahuje dvě čísla oddělená čárkou, která udávají počet pasažérů směrem tam a směrem zpět.\n",
    "\n",
    "- Napište program, který pro první den vypíše, kolik pasažérů jelo celkem směrem tam a kolik směrem zpět.\n",
    "- Nechť váš program vypisuje součty pasažérů ze celý týden, tedy kolik lidí za celý týden jelo směrem tam a kolik směrem zpět."
   ]
  },
  {
   "cell_type": "markdown",
   "metadata": {},
   "source": [
    "### Řešení"
   ]
  },
  {
   "cell_type": "code",
   "execution_count": 115,
   "metadata": {},
   "outputs": [
    {
     "name": "stdout",
     "output_type": "stream",
     "text": [
      "Prvni den jelo během dne cestou do města 64 pasažérů, cestou zpátky 77 pasažérů.\n",
      "Za celý týden jelo do města 513 pasažérů a zpět 511 pasažérů.\n"
     ]
    }
   ],
   "source": [
    "week = []\n",
    "day_no = 1\n",
    "with open('pasazeri.txt', encoding = 'utf-8') as file:\n",
    "    for line in file:\n",
    "        # print(line)\n",
    "        day = {\n",
    "            'day_no' : day_no,\n",
    "            'way_there' : [],\n",
    "            'way_back' : [],\n",
    "        }\n",
    "        for one in line.split():\n",
    "            one = one.split(',')\n",
    "            day['way_there'].append(int(one[0]))\n",
    "            day['way_back'].append(int(one[1]))\n",
    "        week.append(day)\n",
    "        day_no += 1\n",
    "# print(week)\n",
    "\n",
    "total_there = 0\n",
    "total_back = 0\n",
    "\n",
    "for day in week:\n",
    "    if day['day_no'] == 1:\n",
    "        print(f'Prvni den jelo během dne cestou do města {sum(day[\"way_there\"])} pasažérů, cestou zpátky {sum(day[\"way_back\"])} pasažérů.')\n",
    "    total_there += sum(day['way_there'])\n",
    "    total_back += sum(day['way_back'])\n",
    "\n",
    "print(f'Za celý týden jelo do města {total_there} pasažérů a zpět {total_back} pasažérů.')\n",
    "\n"
   ]
  }
 ],
 "metadata": {
  "kernelspec": {
   "display_name": "Python 3",
   "language": "python",
   "name": "python3"
  },
  "language_info": {
   "codemirror_mode": {
    "name": "ipython",
    "version": 3
   },
   "file_extension": ".py",
   "mimetype": "text/x-python",
   "name": "python",
   "nbconvert_exporter": "python",
   "pygments_lexer": "ipython3",
   "version": "3.11.3"
  }
 },
 "nbformat": 4,
 "nbformat_minor": 2
}
