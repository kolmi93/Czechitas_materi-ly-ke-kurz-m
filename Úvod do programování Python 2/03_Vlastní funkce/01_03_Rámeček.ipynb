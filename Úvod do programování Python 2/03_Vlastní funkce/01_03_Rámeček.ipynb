{
 "cells": [
  {
   "cell_type": "markdown",
   "metadata": {},
   "source": [
    "# Rámeček\n",
    "\n",
    "Napiš funkci, která jako parametr převezme řetězec a vytiskne jej obalen hvězdičkami.\n",
    "\n",
    "Bonus: Znak, kterým se má text obalit, bude zadán také jako parametr."
   ]
  },
  {
   "cell_type": "markdown",
   "metadata": {},
   "source": [
    "### Řešení"
   ]
  },
  {
   "cell_type": "code",
   "execution_count": 1,
   "metadata": {},
   "outputs": [
    {
     "name": "stdout",
     "output_type": "stream",
     "text": [
      "***********\n",
      "* jahoda *\n",
      "***********\n",
      "***********\n",
      "* jahoda *\n",
      "***********\n"
     ]
    }
   ],
   "source": [
    "def ramecek (slovo):\n",
    "    ohraniceni = '*' * ((len(slovo)) + 5)\n",
    "\n",
    "    print(ohraniceni)\n",
    "    print('* ' + slovo + ' *')\n",
    "    print(ohraniceni)\n",
    "\n",
    "slovo = input('Zadejte slovo, které chcete umístit do rámečku:\\n')\n",
    "ramecek(slovo)"
   ]
  },
  {
   "cell_type": "markdown",
   "metadata": {},
   "source": [
    "úsporná varianta"
   ]
  },
  {
   "cell_type": "code",
   "execution_count": null,
   "metadata": {},
   "outputs": [],
   "source": [
    "def ramecek (slovo):\n",
    "    ohraniceni = '*' * ((len(slovo))+5)\n",
    "\n",
    "    print(ohraniceni + '\\n' + '* ' + slovo + ' *' + '\\n' + ohraniceni)\n",
    "\n",
    "slovo = input('Zadejte slovo, které chcete umístit do rámečku:\\n')\n",
    "ramecek(slovo)"
   ]
  },
  {
   "cell_type": "markdown",
   "metadata": {},
   "source": [
    "bonus"
   ]
  },
  {
   "cell_type": "code",
   "execution_count": null,
   "metadata": {},
   "outputs": [],
   "source": [
    "def ramecek (slovo, znak):\n",
    "    ohraniceni = znak * ((len(slovo)) + 5)\n",
    "\n",
    "    print(ohraniceni + '\\n' + znak + ' ' + slovo + ' ' + znak + '\\n' + ohraniceni)\n",
    "\n",
    "slovo = input('Zadejte slovo, které chcete umístit do rámečku:\\n')\n",
    "znak = input('Zadejte znak, kterým chcete mít orámované slovo:\\n')\n",
    "\n",
    "ramecek(slovo, znak)"
   ]
  }
 ],
 "metadata": {
  "kernelspec": {
   "display_name": "Python 3",
   "language": "python",
   "name": "python3"
  },
  "language_info": {
   "codemirror_mode": {
    "name": "ipython",
    "version": 3
   },
   "file_extension": ".py",
   "mimetype": "text/x-python",
   "name": "python",
   "nbconvert_exporter": "python",
   "pygments_lexer": "ipython3",
   "version": "3.11.3"
  }
 },
 "nbformat": 4,
 "nbformat_minor": 2
}
