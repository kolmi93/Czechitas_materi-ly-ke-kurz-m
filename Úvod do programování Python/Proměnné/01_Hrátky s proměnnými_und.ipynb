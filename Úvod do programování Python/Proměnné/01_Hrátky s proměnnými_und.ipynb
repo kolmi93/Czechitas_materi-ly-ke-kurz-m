{
 "cells": [
  {
   "cell_type": "markdown",
   "metadata": {},
   "source": [
    "# Hrátky s proměnnými\n",
    "\n",
    "Dbejte na to, aby proměnné měly vhodný název dobře naznačující, co je v které z nich uloženo.\n",
    "\n",
    " - Uložte do proměnné velikost_souboru celočíselnou hodnotu udávající počet herců a hereček, kteří hrají v divadle. Do proměnné platy spočítejte celkové náklady divadla na platy, víme-li, že průměrný plat v divadle je 22 392 Kč.\n",
    " - Do jiné proměnné s vhodným názvem uložte nějaké desetinné číslo, například velikost slevy na studentské vstupné. Do další proměnné uložte nějaký řetězec, například název nějakého představení.\n",
    " - Zatímco jste dělali předchozí cvičení, do divadla přibyli dva noví lidé. Aktualizujte tedy obsah proměnné velikost_souboru a zařiďte, aby v proměnné platy byla správná hodnota nákladů."
   ]
  },
  {
   "cell_type": "markdown",
   "metadata": {},
   "source": [
    "### Řešení"
   ]
  },
  {
   "cell_type": "code",
   "execution_count": 1,
   "metadata": {},
   "outputs": [
    {
     "name": "stdout",
     "output_type": "stream",
     "text": [
      "27\n",
      "559800\n",
      "Adéla ještě nevečeřela\n",
      "0.15\n"
     ]
    }
   ],
   "source": [
    "velikost_souboru = 25\n",
    "platy = 22392 * velikost_souboru\n",
    "studenstka_sleva = 0.15\n",
    "nazev_predstaveni = 'Adéla ještě nevečeřela'\n",
    "\n",
    "velikost_souboru += 2\n",
    "\n",
    "print(velikost_souboru)\n",
    "print(platy)\n",
    "print(nazev_predstaveni)\n",
    "print(studenstka_sleva)"
   ]
  }
 ],
 "metadata": {
  "kernelspec": {
   "display_name": "Python 3",
   "language": "python",
   "name": "python3"
  },
  "language_info": {
   "codemirror_mode": {
    "name": "ipython",
    "version": 3
   },
   "file_extension": ".py",
   "mimetype": "text/x-python",
   "name": "python",
   "nbconvert_exporter": "python",
   "pygments_lexer": "ipython3",
   "version": "3.11.3"
  }
 },
 "nbformat": 4,
 "nbformat_minor": 2
}
