{
 "cells": [
  {
   "cell_type": "markdown",
   "metadata": {},
   "source": [
    "# Volby\n",
    "\n",
    "Máme pět kandidátů na post prezidenta ČR. Následující tabulka obsahuje hlasy, které jednotliví kandidáti získali v prvním kole prezidentských voleb."
   ]
  },
  {
   "cell_type": "code",
   "execution_count": 20,
   "metadata": {},
   "outputs": [],
   "source": [
    "hlasy = [\n",
    "    [78774, 43179, 225111, 144799, 242854],\n",
    "    [91062, 22451, 17475, 53391, 46450],\n",
    "    [179186, 216499, 4493, 156305, 61222],\n",
    "    [9619, 53476, 926, 64737, 34566],\n",
    "    [66904, 85730, 27271, 12964, 38041],\n",
    "    [118755, 1929, 30426, 25178, 31952],\n",
    "    [64467, 40993, 81181, 39392, 4335],\n",
    "    [11221, 97970, 26179, 98539, 112578],\n",
    "    [171064, 7638, 8752, 96666, 39738],\n",
    "    [74235, 101680, 18920, 45904, 1922],\n",
    "    [39309, 1505, 10531, 30458, 40228],\n",
    "    [131584, 1812, 241122, 22267, 99326],\n",
    "    [194133, 39985, 200997, 28229, 20780],\n",
    "    [66188, 51607, 15977, 177272, 17664]\n",
    "]"
   ]
  },
  {
   "cell_type": "markdown",
   "metadata": {},
   "source": [
    "Zodpovězte následující otázky\n",
    "\n",
    " 1. Kolik získal každý kandidát hlasů v celé ČR?\n",
    "\n",
    " 2. Který kandidát vyhrál první kolo voleb?\n",
    "\n",
    " 3. Ve kterých krajích byla nejvyšší a nejnižší volební účast\n",
    "\n",
    " 4. Vytvořte tabulku, která ukazuje který kandidát vyhrál v kterém kraji.\n",
    "\n",
    " 5. Vytvořte tabulku podobnou té z tohoto cvičení, která místo čísel bude obsahovat jaké procento celkového počtu hlasů získal každý kandidát v daném kraji.\n",
    "\n",
    "Nápověda: postupuje tak, že použijete na každý řádek tabulky zvlášť chroustání seznamů. Tabulku můžete sestavit tak, že tento postup ručně zopakujete 13 krát, jednou pro každý kraj. Pokud toužíte po elegantnějším řešení, vyčkejte na nepovinné úložky."
   ]
  },
  {
   "cell_type": "markdown",
   "metadata": {},
   "source": [
    "### Řešení"
   ]
  },
  {
   "cell_type": "code",
   "execution_count": 22,
   "metadata": {},
   "outputs": [
    {
     "name": "stdout",
     "output_type": "stream",
     "text": [
      "[1296501, 766454, 909361, 996101, 791656]\n"
     ]
    }
   ],
   "source": [
    "# počty hlasů pro jednotlivé kandidáty\n",
    "\n",
    "celkem = []\n",
    "\n",
    "for kandidát in range(len(hlasy[0])):\n",
    "    soucet_hlasu = 0\n",
    "    for kraj in hlasy:\n",
    "        soucet_hlasu += kraj[kandidát]\n",
    "    celkem.append(soucet_hlasu)\n",
    "    \n",
    "print(celkem)"
   ]
  },
  {
   "cell_type": "code",
   "execution_count": 23,
   "metadata": {},
   "outputs": [
    {
     "name": "stdout",
     "output_type": "stream",
     "text": [
      "První kolo voleb vyhrál 1. kandidát.\n"
     ]
    }
   ],
   "source": [
    "# vítěz prvního kola\n",
    "\n",
    "print(f'První kolo voleb vyhrál {celkem.index(max(celkem)) + 1}. kandidát.')"
   ]
  },
  {
   "cell_type": "code",
   "execution_count": null,
   "metadata": {},
   "outputs": [
    {
     "name": "stdout",
     "output_type": "stream",
     "text": [
      "[734717, 230829, 617705, 163324, 230910, 208240, 230368, 346487, 323858, 242661, 122031, 496111, 484124, 328708]\n",
      "Kraj s největší účastí je 1. kraj.\n",
      "Kraj s nejmenší účastí je 11. kraj.\n"
     ]
    }
   ],
   "source": [
    "# největší a nejmenší účast v krajích\n",
    "\n",
    "ucast = [sum(kraj) for kraj in hlasy]\n",
    "maxi = max(ucast)\n",
    "mini = min(ucast)\n",
    "\n",
    "print(f'Kraj s největší účastí je {ucast.index(maxi) + 1}. kraj.')\n",
    "print(f'Kraj s nejmenší účastí je {ucast.index(mini) + 1}. kraj.')"
   ]
  },
  {
   "cell_type": "code",
   "execution_count": 41,
   "metadata": {},
   "outputs": [
    {
     "name": "stdout",
     "output_type": "stream",
     "text": [
      "[5, 1, 2, 4, 2, 1, 3, 5, 1, 2, 5, 3, 3, 4]\n",
      "V kraji č.1 vyhrál kandidát č. 5.\n",
      "V kraji č.2 vyhrál kandidát č. 1.\n",
      "V kraji č.3 vyhrál kandidát č. 2.\n",
      "V kraji č.4 vyhrál kandidát č. 4.\n",
      "V kraji č.5 vyhrál kandidát č. 2.\n",
      "V kraji č.6 vyhrál kandidát č. 1.\n",
      "V kraji č.7 vyhrál kandidát č. 3.\n",
      "V kraji č.8 vyhrál kandidát č. 5.\n",
      "V kraji č.9 vyhrál kandidát č. 1.\n",
      "V kraji č.10 vyhrál kandidát č. 2.\n",
      "V kraji č.11 vyhrál kandidát č. 5.\n",
      "V kraji č.12 vyhrál kandidát č. 3.\n",
      "V kraji č.13 vyhrál kandidát č. 3.\n",
      "V kraji č.14 vyhrál kandidát č. 4.\n"
     ]
    }
   ],
   "source": [
    "# který kandidát vyhrál ve kterém kraji\n",
    "\n",
    "kandidati = [(kraj.index(max(kraj)) + 1) for kraj in hlasy]\n",
    "print(kandidati)\n",
    "\n",
    "for kraj in hlasy:\n",
    "    print(f'V kraji č.{hlasy.index(kraj) + 1} vyhrál kandidát č. {kraj.index(max(kraj)) + 1}.')"
   ]
  },
  {
   "cell_type": "code",
   "execution_count": 44,
   "metadata": {},
   "outputs": [
    {
     "name": "stdout",
     "output_type": "stream",
     "text": [
      "[[11, 6, 31, 20, 33], [39, 10, 8, 23, 20], [29, 35, 1, 25, 10], [6, 33, 1, 40, 21], [29, 37, 12, 6, 16], [57, 1, 15, 12, 15], [28, 18, 35, 17, 2], [3, 28, 8, 28, 32], [53, 2, 3, 30, 12], [31, 42, 8, 19, 1], [32, 1, 9, 25, 33], [27, 0, 49, 4, 20], [40, 8, 42, 6, 4], [20, 16, 5, 54, 5]]\n"
     ]
    }
   ],
   "source": [
    "# procenta hlasů kandidátů v jednotlivých krajích\n",
    "\n",
    "procenta = []\n",
    "for kraj in hlasy:\n",
    "    celkem_za_kraj = sum(kraj)\n",
    "    procenta.append([round((kandidat / celkem_za_kraj) * 100) for kandidat in kraj])\n",
    "print(procenta)"
   ]
  }
 ],
 "metadata": {
  "kernelspec": {
   "display_name": "Python 3",
   "language": "python",
   "name": "python3"
  },
  "language_info": {
   "codemirror_mode": {
    "name": "ipython",
    "version": 3
   },
   "file_extension": ".py",
   "mimetype": "text/x-python",
   "name": "python",
   "nbconvert_exporter": "python",
   "pygments_lexer": "ipython3",
   "version": "3.11.3"
  }
 },
 "nbformat": 4,
 "nbformat_minor": 2
}
