{
 "cells": [
  {
   "cell_type": "markdown",
   "metadata": {},
   "source": [
    "# Průměrné teploty\n",
    "\n",
    "#### Následující tabulka obsahuje průměrné roční teploty v České republice za roky 2001 až 2010 (zdroj: Český hydrometeorologický ústav).\n",
    "\n",
    "\n",
    "2001\t7.8\n",
    "\n",
    "2002\t8.7\n",
    "\n",
    "2003\t8.2\n",
    "\n",
    "2004\t7.8\n",
    "\n",
    "2005\t7.7\n",
    "\n",
    "2006\t8.2\n",
    "\n",
    "2007\t9.1\n",
    "\n",
    "2008\t8.9\n",
    "\n",
    "2009\t8.4\n",
    "\n",
    "2010\t7.2\n",
    "\n",
    "### Vytvořte reprezentaci této tabulky pomocí seznamu seznamů. Zde existují dvě možnosti. Nejprve vytvořte seznam, který obsahuje řádky tabulky jako dvouprvkové seznamy a uložte jej do proměnné radky. Poté vytvořte seznam, který obsahuje sloupce tabulky, tedy dva seznamy po deseti prvcích. Uložte jej do proměnné sloupce.\n",
    "\n",
    "### Pro obě tyto reprezentace vyřešte následující úkoly\n",
    "\n",
    "- Získejte teplotu na třetím řádku tabulky.\n",
    "- Získejte rok na pátém řádku tabulky.\n",
    "- Získejte poslední řádek tabulky jako seznam.\n",
    "- Vytvořte tabulku bez prvních dvou řádků.\n",
    "- Vytvořte tabulku pouze z prvních dvou řádků.\n",
    "- Vytvořte tabulku obsahující jen řádky 5, 6, 7, 8 (myšleno při \"lidském\" číslování, tj. od 1).\n",
    "- Použitím proměnné sloupce vypište seznam teplot seřazený vzestupně podle velikosti. Šlo by to i pomocí proměnné radky, ale to ještě neumíme."
   ]
  },
  {
   "cell_type": "markdown",
   "metadata": {},
   "source": [
    "### Řešení"
   ]
  },
  {
   "cell_type": "code",
   "execution_count": 2,
   "metadata": {},
   "outputs": [],
   "source": [
    "radky = [\n",
    "    [2001, 7.8],\n",
    "    [2002, 8.7],\n",
    "    [2003, 8.2],\n",
    "    [2004,7.8],\n",
    "    [2005,7.7],\n",
    "    [2006,8.2],\n",
    "    [2007,9,1],\n",
    "    [2008,8.9],\n",
    "    [2009,8.4],\n",
    "    [2010,7.2]\n",
    "    ]\n",
    "\n",
    "sloupce = [\n",
    "    [2001, 2002, 2003, 2004, 2005, 2006, 2007, 2008, 2009, 2010],\n",
    "    [7.8,8.7,8.2,7.8,7.7,8.2,9.1,8.9,8.4,7.2]\n",
    "    ]"
   ]
  },
  {
   "cell_type": "code",
   "execution_count": 3,
   "metadata": {},
   "outputs": [
    {
     "name": "stdout",
     "output_type": "stream",
     "text": [
      "8.2\n",
      "8.2\n"
     ]
    }
   ],
   "source": [
    "# teplota - hodnota na 3. řádku tabulky\n",
    "\n",
    "print(radky[2][1])\n",
    "print(sloupce[1][2])"
   ]
  },
  {
   "cell_type": "code",
   "execution_count": 4,
   "metadata": {},
   "outputs": [
    {
     "name": "stdout",
     "output_type": "stream",
     "text": [
      "2005\n",
      "2005\n"
     ]
    }
   ],
   "source": [
    "# rok na 5. řádku tabulky\n",
    "\n",
    "print(radky[4][0])\n",
    "print(sloupce[0][4])"
   ]
  },
  {
   "cell_type": "code",
   "execution_count": 11,
   "metadata": {},
   "outputs": [
    {
     "name": "stdout",
     "output_type": "stream",
     "text": [
      "[2010, 7.2]\n",
      "[2010, 7.2]\n"
     ]
    }
   ],
   "source": [
    "# získejte poslední řádek tabulky jako seznam\n",
    "\n",
    "print(radky[-1])\n",
    "\n",
    "seznam_posledni_rok = []\n",
    "seznam_posledni_rok.append(sloupce[0][-1])\n",
    "seznam_posledni_rok.append(sloupce[1][-1])\n",
    "print(seznam_posledni_rok)"
   ]
  },
  {
   "cell_type": "code",
   "execution_count": 6,
   "metadata": {},
   "outputs": [
    {
     "name": "stdout",
     "output_type": "stream",
     "text": [
      "[[2003, 8.2], [2004, 7.8], [2005, 7.7], [2006, 8.2], [2007, 9, 1], [2008, 8.9], [2009, 8.4], [2010, 7.2]]\n",
      "[2003, 2004, 2005, 2006, 2007, 2008, 2009, 2010] [8.2, 7.8, 7.7, 8.2, 9.1, 8.9, 8.4, 7.2]\n"
     ]
    }
   ],
   "source": [
    "# vytvořit tabulku bez prvních 2 řádků\n",
    "\n",
    "print(radky[2:])\n",
    "print(sloupce[0][2:], sloupce[1][2:])"
   ]
  },
  {
   "cell_type": "code",
   "execution_count": 7,
   "metadata": {},
   "outputs": [
    {
     "name": "stdout",
     "output_type": "stream",
     "text": [
      "[[2001, 7.8], [2002, 8.7]]\n",
      "[2001, 2002] [7.8, 8.7]\n"
     ]
    }
   ],
   "source": [
    "# vytvořte tabulku z posledních 2 řádků\n",
    "\n",
    "print(radky[:2])\n",
    "print(sloupce[0][:2], sloupce[1][:2])"
   ]
  },
  {
   "cell_type": "code",
   "execution_count": 8,
   "metadata": {},
   "outputs": [
    {
     "name": "stdout",
     "output_type": "stream",
     "text": [
      "[[2005, 7.7], [2006, 8.2], [2007, 9, 1], [2008, 8.9]]\n",
      "[2005, 2006, 2007, 2008] [7.7, 8.2, 9.1, 8.9]\n"
     ]
    }
   ],
   "source": [
    "# tabulka jen s řádky 5,6,7,8\n",
    "\n",
    "print(radky[4:8])\n",
    "print(sloupce[0][4:8], sloupce[1][4:8])"
   ]
  },
  {
   "cell_type": "code",
   "execution_count": 13,
   "metadata": {},
   "outputs": [
    {
     "name": "stdout",
     "output_type": "stream",
     "text": [
      "[7.2, 7.7, 7.8, 7.8, 8.2, 8.2, 8.4, 8.7, 8.9, 9.1]\n"
     ]
    }
   ],
   "source": [
    "# pomocí sloupce vypsat teploty vzestupně\n",
    "\n",
    "print(sorted(sloupce[1]))"
   ]
  }
 ],
 "metadata": {
  "kernelspec": {
   "display_name": "Python 3",
   "language": "python",
   "name": "python3"
  },
  "language_info": {
   "codemirror_mode": {
    "name": "ipython",
    "version": 3
   },
   "file_extension": ".py",
   "mimetype": "text/x-python",
   "name": "python",
   "nbconvert_exporter": "python",
   "pygments_lexer": "ipython3",
   "version": "3.11.3"
  }
 },
 "nbformat": 4,
 "nbformat_minor": 2
}
