{
 "cells": [
  {
   "cell_type": "markdown",
   "metadata": {},
   "source": [
    "# Rodná čísla\n",
    "\n",
    "V následujícím seznamu máš seznam rodných čísel pacientů, kteří navštívili v jeden konkrétní den lékařskou ordinaci."
   ]
  },
  {
   "cell_type": "code",
   "execution_count": 12,
   "metadata": {},
   "outputs": [],
   "source": [
    "rodna_cisla = [\n",
    "    \"845128/6219\",\n",
    "    \"801002/5021\",\n",
    "    \"900116/8291\",\n",
    "    \"790501/7894\",\n",
    "    \"850706/9259\",\n",
    "    \"891222/1824\",\n",
    "    \"870327/9582\",\n",
    "    \"810602/6883\",\n",
    "    \"850512/5070\",\n",
    "    \"790531/7081\"\n",
    "]"
   ]
  },
  {
   "cell_type": "markdown",
   "metadata": {},
   "source": [
    "- Kolik přišlo mužů a kolik žen?\n",
    "- Kdy se narodil nejstarší a kdy nejmladší pacient?\n",
    "Pokud nevíš, jak funguje rodné číslo, vysvětlení je níže:\n",
    "\n",
    "Rodné číslo je identifikační číslo, které slouží k jednoznačné identifikaci osoby. V České republice se rodné číslo skládá z 10 číslic a jednoho lomítka, které ho rozděluje na části.\n",
    "\n",
    "- Prvních 6 číslic udává datum narození v pořadí rok (2 číslice), měsíc (2 číslice) a den (2 číslice). Například pro narození 2. února 1990 by prvních 6 číslic mělo být 900202. Zbytek rodného čísla (tj. část za lomítkem) slouží k identifikaci konkrétní osoby.\n",
    "- Ženy mají k číslu měsíce přičteno 50, např. 845128/6219 je číslo patřící ženě."
   ]
  },
  {
   "cell_type": "markdown",
   "metadata": {},
   "source": [
    "### Řešení"
   ]
  },
  {
   "cell_type": "code",
   "execution_count": 13,
   "metadata": {},
   "outputs": [
    {
     "name": "stdout",
     "output_type": "stream",
     "text": [
      "K lékaři přišlo: 1 žen/a a 9 muž/ů.\n"
     ]
    }
   ],
   "source": [
    "# počet mužů a žen\n",
    "# varianta A\n",
    "\n",
    "zena = []\n",
    "muz = []\n",
    "\n",
    "for cislo in rodna_cisla:\n",
    "    if (int(cislo[2:4])) > 12:\n",
    "        zena.append(cislo)\n",
    "    else:\n",
    "        muz.append(cislo)\n",
    "\n",
    "pocet_muzu = len(muz)\n",
    "pocet_zen = len(zena)\n",
    "              \n",
    "print(f'K lékaři přišlo: {pocet_zen} žen/a a {pocet_muzu} muž/ů.')"
   ]
  },
  {
   "cell_type": "code",
   "execution_count": 14,
   "metadata": {},
   "outputs": [
    {
     "name": "stdout",
     "output_type": "stream",
     "text": [
      "Ve vybraný den k lékaři přišlo: 1 žen/a a 9 muž/ů.\n"
     ]
    }
   ],
   "source": [
    "# počet mužů a žen\n",
    "# varianta B\n",
    "\n",
    "zeny = 0\n",
    "muzi = 0\n",
    "\n",
    "for cislo in rodna_cisla:\n",
    "    if (int(cislo[2:4])) > 12:\n",
    "        zeny += 1\n",
    "    else:\n",
    "        muzi += 1\n",
    "\n",
    "print(f'Ve vybraný den k lékaři přišlo: {zeny} žen/a a {muzi} muž/ů.')"
   ]
  },
  {
   "cell_type": "code",
   "execution_count": 15,
   "metadata": {},
   "outputs": [
    {
     "name": "stdout",
     "output_type": "stream",
     "text": [
      "Nejmladší: 900116\n",
      "Nejstarší: 790501\n",
      "Nejmladší pacient se narodil: 16. 01. 1990.\n",
      "Nejstarší pacient se narodil: 01. 05. 1979.\n",
      "Nejmladšíší: 900116\n",
      "Nejstarší: 790501\n"
     ]
    }
   ],
   "source": [
    "# nejmladší a nejstarší\n",
    "cisla = []\n",
    "\n",
    "for cislo in rodna_cisla:\n",
    "    zkracene_rc = int(cislo[:6])    # zkrácení na pvních 6 číslic + převedení na int\n",
    "    if int(cislo[2:4]) > 12:        # pro seřazení podle stáří je třeba u žen je třeba u žen odečíst 5000, aby jejich r.č. mělo stejný formát jako u mužů\n",
    "        zkracene_rc -= 5000\n",
    "        cisla.append(zkracene_rc)\n",
    "    else:\n",
    "        cisla.append(zkracene_rc)\n",
    "\n",
    "# nejmladší a nejstaší pomocí funkce MIN a MAX\n",
    "nejstarsi = str(min(cisla))   # převod int na str kvůli F-Stringu níže\n",
    "nejmladsi = str(max(cisla))   # převod int na str kvůli F-Stringu níže\n",
    "print(f\"Nejmladší: {nejmladsi}\")\n",
    "print(f\"Nejstarší: {nejstarsi}\")\n",
    "\n",
    "print(f'Nejmladší pacient se narodil: {nejmladsi[4:]}. {nejmladsi[2:4]}. 19{nejmladsi[:2]}.')\n",
    "print(f'Nejstarší pacient se narodil: {nejstarsi[4:]}. {nejstarsi[2:4]}. 19{nejstarsi[:2]}.')\n",
    "\n",
    "# nejmladěí a nejstarší pomocí .sort() a indexů\n",
    "cisla.sort()\n",
    "print(f\"Nejmladšíší: {cisla[-1]}\")\n",
    "print(f\"Nejstarší: {cisla[0]}\")"
   ]
  }
 ],
 "metadata": {
  "kernelspec": {
   "display_name": "Python 3",
   "language": "python",
   "name": "python3"
  },
  "language_info": {
   "codemirror_mode": {
    "name": "ipython",
    "version": 3
   },
   "file_extension": ".py",
   "mimetype": "text/x-python",
   "name": "python",
   "nbconvert_exporter": "python",
   "pygments_lexer": "ipython3",
   "version": "3.11.3"
  }
 },
 "nbformat": 4,
 "nbformat_minor": 2
}
