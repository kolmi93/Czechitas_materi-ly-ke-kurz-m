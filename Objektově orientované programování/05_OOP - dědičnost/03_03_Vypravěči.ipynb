{
 "cells": [
  {
   "cell_type": "markdown",
   "metadata": {},
   "source": [
    " # Vypravěči\n",
    "\n",
    " #### Nyní se vrátíme k práci pro nakladatelství, pro které jsme již připravili třídy Item, Book a AudioBook. V e-shopech se často objevuje možnost filtrování produktů. Uvažujme například, že někteří fanoušci a fanynky audioknih vybírají knihy podle herce a herečky, kteří je čtou. Preferované jméno bude uložené v proměnné favourite_narrator. Napiš kód, který projde všechny položky v seznamu all_items a vypíše názvy (atribut title) objektů, pro které se hodnota atributu narrator rovná hodnota v proměnné favourite_narrator. Pozor na to, že v seznamu all_items jsou i běžné knihy, které vypravěče nemají. Zajisti, aby program neskončil chybou, protože některý objekt nemá atribut narrator."
   ]
  },
  {
   "cell_type": "markdown",
   "metadata": {},
   "source": [
    "### Řešení"
   ]
  },
  {
   "cell_type": "code",
   "execution_count": 1,
   "metadata": {},
   "outputs": [
    {
     "name": "stdout",
     "output_type": "stream",
     "text": [
      "Problém tří těles\n"
     ]
    }
   ],
   "source": [
    "class Item:\n",
    "    def __init__(self, title, price):\n",
    "        self.title = title\n",
    "        self.price = price\n",
    "\n",
    "    def get_time_to_read(self):\n",
    "        pass\n",
    "\n",
    "class Book(Item):\n",
    "    def __init__(self, title, pages, price):\n",
    "        super().__init__(title, price)\n",
    "        self.pages = pages\n",
    "    \n",
    "    def get_info(self):\n",
    "        return f'Kniha {self.title} má {self.pages} stran a stojí {self.price},- Kč.'\n",
    "\n",
    "    def get_time_to_read(self, minutes_per_pages = 4):\n",
    "        time_to_read = minutes_per_pages * self.pages\n",
    "        return f'Knihu {self.title} trvá přečíst {time_to_read} minut.'\n",
    "\n",
    "class Audiobook(Item):\n",
    "    def __init__(self, title, price, duration_in_hours, narrator):\n",
    "        super().__init__(title, price)\n",
    "        self.duration_in_hours = duration_in_hours\n",
    "        self.narrator = narrator\n",
    "\n",
    "    def get_time_to_read(self):\n",
    "        return f'Audioknihu {self.title} trvá přečíst {self.duration_in_hours} hodin/y.'\n",
    "\n",
    "# * oblibený vypravěč\n",
    "favourite_narrator = \"Zbyšek Horák\"\n",
    "\n",
    "item_1 = Audiobook(\"Problém tří těles\", 299, 14.4, \"Zbyšek Horák\")\n",
    "item_2 = Book(\"Kadet Hornblower\", 399, 242)\n",
    "item_3 = Audiobook(\"Odysseus\", 389, 13.7, \"Lukáš Hlavica\")\n",
    "all_items = [item_1, item_2, item_3]\n",
    "\n",
    "for one in all_items:\n",
    "    if hasattr (one, 'narrator') and one.narrator == favourite_narrator:\n",
    "        print(one.title)"
   ]
  }
 ],
 "metadata": {
  "kernelspec": {
   "display_name": "Python 3",
   "language": "python",
   "name": "python3"
  },
  "language_info": {
   "codemirror_mode": {
    "name": "ipython",
    "version": 3
   },
   "file_extension": ".py",
   "mimetype": "text/x-python",
   "name": "python",
   "nbconvert_exporter": "python",
   "pygments_lexer": "ipython3",
   "version": "3.11.3"
  }
 },
 "nbformat": 4,
 "nbformat_minor": 2
}
