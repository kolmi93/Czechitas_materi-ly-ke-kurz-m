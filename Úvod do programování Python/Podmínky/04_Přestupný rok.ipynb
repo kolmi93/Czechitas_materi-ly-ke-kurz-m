{
 "cells": [
  {
   "cell_type": "markdown",
   "metadata": {},
   "source": [
    "# Přestupný rok\n",
    "\n",
    "Napište program, který po zadání kalendářního roku vypíše, zda jde o rok přestupný, či nikoliv. Letopočet je přestupný, pokud je dělitelný čtyřmi. Roky, které jsou dělitelné 100 jsou ovšem přestupné pouze tehdy, jsou-li zároveň dělitelné 400."
   ]
  },
  {
   "cell_type": "markdown",
   "metadata": {},
   "source": [
    "### Řešení"
   ]
  },
  {
   "cell_type": "code",
   "execution_count": 7,
   "metadata": {},
   "outputs": [
    {
     "name": "stdout",
     "output_type": "stream",
     "text": [
      "Vámi vybraný rok je přestupný.\n"
     ]
    }
   ],
   "source": [
    "rok = int(input('Zadejte rok:\\n'))\n",
    "\n",
    "if rok % 4 == 0:\n",
    "    print('Vámi vybraný rok je přestupný.')\n",
    "elif rok % 100 == 0 and rok % 400 == 0:\n",
    "    print('Vámi vybraný rok je přestupný.')\n",
    "else:\n",
    "    print('Vámi vybraný rok není přestupný.')"
   ]
  }
 ],
 "metadata": {
  "kernelspec": {
   "display_name": "Python 3",
   "language": "python",
   "name": "python3"
  },
  "language_info": {
   "codemirror_mode": {
    "name": "ipython",
    "version": 3
   },
   "file_extension": ".py",
   "mimetype": "text/x-python",
   "name": "python",
   "nbconvert_exporter": "python",
   "pygments_lexer": "ipython3",
   "version": "3.11.3"
  }
 },
 "nbformat": 4,
 "nbformat_minor": 2
}
