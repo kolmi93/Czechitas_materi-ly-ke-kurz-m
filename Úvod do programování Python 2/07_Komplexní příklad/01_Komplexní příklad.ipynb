{
 "cells": [
  {
   "cell_type": "markdown",
   "metadata": {},
   "source": [
    "# Komplexní příklad\n",
    "\n",
    "V rámci této lekce si vyzkoušíme vyřešit příklad, ve kterém využijeme koncepty, které jsme si ukazovali v předchozích lekcích.\n",
    "\n",
    "Zadání příkazu je následující:\n",
    "\n",
    "Ze souboru battles.tsv si načti informace o bitvách, které se odehrály ve knižní sérii Písně ohně a ledu, jejímž autorem je spisovatel George R. R. Martin a podle níž byl natočen slavný seriál Hra o trůny. Naším úkolem je ze zadaných dat zjistit následující:\n",
    "\n",
    " - Statistiku, kolikrát byl který rod v pozici útočníků. Výsledná data ulož do CSV souboru attackers.csv.\n",
    " - Pokud je zadaná síla obou armád (sloupce attacker_size a defender_size, indexy sloupců jsou 17 a 18), vytvoř seznam velitelů, kteří v boji porazili silnější armádu (vítěze poznáš podle sloupce attacker_outcome, který obsahuje hodnoty win a loss, platí vždy z pohledu útočníka). Kolik takových bitev je?\n",
    "Abychom příklad vyřešili, je potřeba postupně provést následující kroky:\n",
    "\n",
    " - načíst soubor a uložit data do vhodné struktury,\n",
    " - projít data řádek po řádku a pro každý řádek si uložit všechny útočících rody,\n",
    "vytvořenou strukturu zapsat do souboru."
   ]
  },
  {
   "cell_type": "markdown",
   "metadata": {},
   "source": [
    "### Řešení"
   ]
  },
  {
   "cell_type": "markdown",
   "metadata": {},
   "source": [
    "ÚKOL Č. 1:\n",
    "\n",
    "kolikrát byl v pozici útočníků"
   ]
  },
  {
   "cell_type": "code",
   "execution_count": 52,
   "metadata": {},
   "outputs": [
    {
     "name": "stdout",
     "output_type": "stream",
     "text": [
      "Lannister 9\n",
      " 99\n",
      "Stark 8\n",
      "Tully 3\n",
      "Greyjoy 8\n",
      "Bolton 3\n",
      "Baratheon 6\n",
      "Darry 1\n",
      "Brotherhood without Banners 1\n",
      "Frey 3\n",
      "Free folk 1\n",
      "Thenns 1\n",
      "Giants 1\n",
      "Brave Companions 1\n",
      "Karstark 2\n",
      "Mormont 2\n",
      "Glover 2\n",
      "Bracken 1\n"
     ]
    }
   ],
   "source": [
    "import csv\n",
    "from collections import Counter\n",
    "\n",
    "SL_ATTACKER_FIRST = 5\n",
    "SL_ATTACKER_LAST = 8\n",
    "\n",
    "battles = []\n",
    "attackers = Counter()\n",
    "\n",
    "with open('battles.tsv', 'r', encoding='utf-8') as file:\n",
    "    next(file)\n",
    "    tsv_reader = csv.reader(file, delimiter='\\t')\n",
    "\n",
    "    for row in tsv_reader:\n",
    "        if row != '':\n",
    "            battles.append(row)\n",
    "            attackers.update(row[SL_ATTACKER_FIRST:SL_ATTACKER_LAST + 1])\n",
    "\n",
    "# Print attacker counts\n",
    "for attacker, count in attackers.items():\n",
    "    print(attacker, count)"
   ]
  },
  {
   "cell_type": "code",
   "execution_count": 44,
   "metadata": {},
   "outputs": [
    {
     "name": "stdout",
     "output_type": "stream",
     "text": [
      "Lannister                      9\n",
      "Greyjoy                        8\n",
      "Stark                          8\n",
      "Baratheon                      6\n",
      "Tully                          3\n",
      "Bolton                         3\n",
      "Frey                           3\n",
      "Mormont                        2\n",
      "Karstark                       2\n",
      "Glover                         2\n",
      "Bracken                        1\n",
      "Brave Companions               1\n",
      "Thenns                         1\n",
      "Brotherhood without Banners    1\n",
      "Giants                         1\n",
      "Darry                          1\n",
      "Free folk                      1\n",
      "Name: count, dtype: int64\n"
     ]
    }
   ],
   "source": [
    "import pandas as pd\n",
    "\n",
    "data = pd.read_csv('battles.tsv', sep='\\t')\n",
    "\n",
    "serie_utocniku = pd.concat(\n",
    "    [\n",
    "        data['attacker_1'],\n",
    "        data['attacker_2'],\n",
    "        data['attacker_3'],\n",
    "        data['attacker_4'],\n",
    "    ]\n",
    ")\n",
    "\n",
    "vysledek = serie_utocniku.value_counts()\n",
    "print(vysledek)\n",
    "\n",
    "vysledek.to_csv('utocnici.csv', header=False)"
   ]
  },
  {
   "cell_type": "markdown",
   "metadata": {},
   "source": [
    "ÚKOL Č . 2:\n",
    "\n",
    "seznam velitelů, kteří vyhráli, ikdyž byli v oslabení"
   ]
  },
  {
   "cell_type": "code",
   "execution_count": 56,
   "metadata": {},
   "outputs": [
    {
     "name": "stdout",
     "output_type": "stream",
     "text": [
      "['Clement Piper', 'Vance', 'Beric Dondarrion', 'Jaime Lannister', 'Dagmer Cleftjaw', 'Tywin Lannister', 'Flement Brax', 'Gregor Clegane', 'Addam Marbrand', 'Lyle Crakehall', 'Leo Lefford', 'Robertt Glover', 'Helman Tallhart', 'Roose Bolton', 'Wylis Manderly', 'Gilbert Farring']\n",
      "16\n"
     ]
    }
   ],
   "source": [
    "import csv\n",
    "from collections import Counter\n",
    "\n",
    "battles = []\n",
    "with open('battles.tsv') as file:\n",
    "    heading = next(file)\n",
    "    tsv_file = csv.reader(file, delimiter=\"\\t\")\n",
    "    for row in tsv_file: \n",
    "        battles.append(row)\n",
    "\n",
    "total = []\n",
    "for one in battles:\n",
    "    if one[17] > one[18] and one[13] == 'loss':\n",
    "        def_com = one[19].split(', ')\n",
    "        if def_com:\n",
    "            total += def_com\n",
    "    elif one[17] < one[18] and one[13] == 'win':\n",
    "        of_com = one[20].split(', ')\n",
    "        if of_com:\n",
    "            total += of_com\n",
    "print(total)\n",
    "print(len(total))\n",
    "\n"
   ]
  },
  {
   "cell_type": "code",
   "execution_count": 57,
   "metadata": {},
   "outputs": [
    {
     "name": "stdout",
     "output_type": "stream",
     "text": [
      "['Robb Stark', 'Brynden Tully', 'Robb Stark', 'Tytos Blackwood', 'Brynden Tully', 'Rodrik Cassel', 'Cley Cerwyn', 'Ramsay Snow', 'Theon Greyjoy ', 'Robb Stark', 'Brynden Tully', 'Stannis Baratheon', 'Davos Seaworth', 'Edmure Tully', 'Jason Mallister', 'Karyl Vance', 'Tyrion Lannister', 'Jacelyn Bywater', 'Sandor Clegane', 'Tywin Lannister', 'Garlan Tyrell', 'Mace Tyrell', 'Randyll Tarly', 'Stannis Baratheon', 'Jon Snow', 'Donal Noye', 'Cotter Pyke']\n",
      "['Stannis Baratheon', 'Jon Snow', 'Donal Noye', 'Cotter Pyke']\n"
     ]
    }
   ],
   "source": [
    "# nacteni souboru rovnou jako vsechny radky do listu\n",
    "with open('battles.tsv', encoding='utf8') as soubor:\n",
    "    radky = soubor.readlines()\n",
    "\n",
    "# pripravene indexy sloupcu\n",
    "SL_VYSLEDEK = 13\n",
    "SL_SILA_UTOCNICI = 17\n",
    "SL_SILA_OBRANCI = 18\n",
    "SL_VELITEL_UTOCNICI = 19\n",
    "SL_VELITEL_OBRANCI = 20\n",
    "\n",
    "# pripraveny prazdny seznam velitelu (budeme rozsirovat)\n",
    "velitele = []\n",
    "\n",
    "# prochazim nactene radky\n",
    "for radek in radky[1:]:\n",
    "    radek = radek.split('\\t')  # rozdeluju na seznam bunek\n",
    "\n",
    "    # pokud jsou sila utocniku, nebo, sila obrancu prazdne\n",
    "    if radek[SL_SILA_UTOCNICI] == '' or radek[SL_SILA_OBRANCI] == '':\n",
    "        # nema smysl s timto radkem pokracovat\n",
    "        # jdeme na zacatek for cyklu pro dalsi radek\n",
    "        continue\n",
    "    \n",
    "    # pokud ale vse mame, pripravime si do promennych pro lepsi citelnost\n",
    "    sila_utocniku = float(radek[SL_SILA_UTOCNICI])\n",
    "    sila_obrancu = float(radek[SL_SILA_OBRANCI])\n",
    "    vysledek_bitvy = radek[SL_VYSLEDEK]\n",
    "\n",
    "    # tady musím zapnout hlavu\n",
    "    # koukam na to z pohledu utocniku (tak je vytvorena tabulka)\n",
    "    # chci pridat do seznamu ty, co prekonali presilu\n",
    "    if sila_utocniku > sila_obrancu and vysledek_bitvy == 'loss':\n",
    "        uspesni_velitele = radek[SL_VELITEL_OBRANCI].split(', ')\n",
    "        velitele += uspesni_velitele\n",
    "    elif sila_utocniku < sila_obrancu and vysledek_bitvy == 'win':\n",
    "        uspesni_velitele = radek[SL_VELITEL_UTOCNICI].split(', ')\n",
    "        velitele += uspesni_velitele\n",
    "\n",
    "print(velitele)\n",
    "print(uspesni_velitele)"
   ]
  }
 ],
 "metadata": {
  "kernelspec": {
   "display_name": "Python 3",
   "language": "python",
   "name": "python3"
  },
  "language_info": {
   "codemirror_mode": {
    "name": "ipython",
    "version": 3
   },
   "file_extension": ".py",
   "mimetype": "text/x-python",
   "name": "python",
   "nbconvert_exporter": "python",
   "pygments_lexer": "ipython3",
   "version": "3.11.3"
  }
 },
 "nbformat": 4,
 "nbformat_minor": 2
}
