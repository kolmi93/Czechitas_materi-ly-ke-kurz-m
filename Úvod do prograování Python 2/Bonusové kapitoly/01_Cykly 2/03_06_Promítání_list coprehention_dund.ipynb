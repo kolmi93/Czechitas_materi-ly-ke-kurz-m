{
 "cells": [
  {
   "cell_type": "markdown",
   "metadata": {},
   "source": [
    "# Promítání\n",
    "\n",
    "V letním kině Šmajchl mají program na každý den uložený jako dva seznamy. První seznam obsahuje názvy filmů a druhý jejich délky v minutách, např. takto:"
   ]
  },
  {
   "cell_type": "code",
   "execution_count": 1,
   "metadata": {},
   "outputs": [],
   "source": [
    "nazvy = [\n",
    "    'Někdo to rád horké, extended edition',\n",
    "    'Adéla ještě nevečeřela',\n",
    "    'Kulový blesk'\n",
    "]\n",
    "delky = [136, 105, 82]"
   ]
  },
  {
   "cell_type": "markdown",
   "metadata": {},
   "source": [
    "Použijte chroustání seznamů a vyrobte seznam trvání, který bude obsahovat délky filmů nikoliv jako čísla v minutách, ale jako řetězce v hodinách a v minutách. Výsledek tedy bude vypadat takto"
   ]
  },
  {
   "cell_type": "markdown",
   "metadata": {},
   "source": [
    "trvani = ['2:16', '1:45', '1:22']"
   ]
  },
  {
   "cell_type": "markdown",
   "metadata": {},
   "source": [
    "### Řešení"
   ]
  },
  {
   "cell_type": "code",
   "execution_count": 4,
   "metadata": {},
   "outputs": [
    {
     "name": "stdout",
     "output_type": "stream",
     "text": [
      "['2:16', '1:45', '1:22']\n"
     ]
    }
   ],
   "source": [
    "trvani = [(str(delka // 60) + ':' + str(delka % 60)) for delka in delky]\n",
    "print(trvani)"
   ]
  }
 ],
 "metadata": {
  "kernelspec": {
   "display_name": "Python 3",
   "language": "python",
   "name": "python3"
  },
  "language_info": {
   "codemirror_mode": {
    "name": "ipython",
    "version": 3
   },
   "file_extension": ".py",
   "mimetype": "text/x-python",
   "name": "python",
   "nbconvert_exporter": "python",
   "pygments_lexer": "ipython3",
   "version": "3.11.3"
  }
 },
 "nbformat": 4,
 "nbformat_minor": 2
}
