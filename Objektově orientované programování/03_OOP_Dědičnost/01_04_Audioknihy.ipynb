{
 "cells": [
  {
   "cell_type": "markdown",
   "metadata": {},
   "source": [
    "# Audioknihy\n",
    "\n",
    "#### V některých případech je nutné sáhnout k úpravám již napsané třídy. Uvažujme nakladatelství, pro které jsme vytvořili třídu Book v minulé lekci. Třída měla atributy title, pages and price. Nyní uvažujeme, že se nakladatelství rozhodlo vydávat i audioknihy. Ty nemají počet stránek, ale musíme u nich evidovat herce nebo herečku, který/která audioknihu předčítá. Budeme tedy chtít vytvořit třídu AudioBook, ale ta by neměla přímo dědit od třídy Book, protože by nám tam zbyl nepotřebný atribut pages. Musíme tedy prové úpravu již existujícího kódu. Takové úpravě se někdy říká refaktorizace.\n",
    "\n",
    "#### Vytvoř třídu Item, což je obecná položka, kterou bude nakladatelství prodávat. Třída Item bude mít atributy title a price. Uprav třídu Book tak, aby dědila od třídy Item. Třída Book bude mít navíc atribut pages. Atributy title a price nastav s využitím metody __init__ rodičovské třídy Item. Dále přidej třídu AudioBook, která bude mít navíc atributy duration_in_hours (délka nahrávky v hodinách) a narrator (člověk, který knihu čte). Třída AudioBook bude opět dědit od třídy Item a atributy title a price bude nastavovat s využitím metody __init__ rodičovské třídy Item.\n",
    "\n",
    "#### Třída Book si zachová svoji metodu get_time_to_read(), která pracuje s počtem stran (pages). Třída AudioBook bude mít metodu get_time_to_read() taky a při jejím zavolání bude vracet hodnotu atributu duration_in_hours. Pokud mají metodu všichni potomci, je běžné metodu přidat i rodičovské třídě. Přidej tedy metodu get_time_to_read() třídě Item. Do metody vlož klíčové slovo pass, protože pro třídu Item nebudeme do metody vkládat žádný výpočet.\n",
    "\n",
    "#### Vytvoř objekty reprezentující audioknihu Problém tří těles (délka 14.4, čte Zbyšek Horák, cena 299 Kč) a knihu Kadet Hornblower (242 stran, cena 399 Kč). Uvažuj, že nakladatelství přidá do e-shopu funkci, která vrátí celkový čas, kdy si bude moci zákazník nebo zákaznice užívat nakoupené produkty. Vytvoř tedy proměnnou total_time, která bude obsahovat součet délky audioknihy a času potřebného na přečtení knihy. Obojí zjisti s využitím metody get_time_to_read()."
   ]
  },
  {
   "cell_type": "markdown",
   "metadata": {},
   "source": [
    "### Řešení"
   ]
  },
  {
   "cell_type": "code",
   "execution_count": 1,
   "metadata": {},
   "outputs": [
    {
     "name": "stdout",
     "output_type": "stream",
     "text": [
      "Celkový čas: 52.86666666666667\n",
      "Kniha Kadet Hornblower má 242 stran a stojí 399,- Kč.\n",
      "16.133333333333333\n",
      "14.4\n"
     ]
    }
   ],
   "source": [
    "class Item:\n",
    "    def __init__(self, title, price):\n",
    "        self.title = title\n",
    "        self.price = price\n",
    "\n",
    "    def get_time_to_read(self):  #protože mají metodu všichni potomci, musí ji mít i rodičovská třída.\n",
    "        pass # protože se ale do metody zde nevkládá žádny výpočet, je zde jen pass\n",
    "\n",
    "class Book(Item):\n",
    "    def __init__(self, title, pages, price):\n",
    "        super().__init__(title, price)\n",
    "        self.pages = pages\n",
    "    \n",
    "    def get_info(self):\n",
    "        return f'Kniha {self.title} má {self.pages} stran a stojí {self.price},- Kč.'\n",
    "\n",
    "    def get_time_to_read(self, minutes_per_pages = 4):\n",
    "        time_to_read = (minutes_per_pages * self.pages) / 60\n",
    "        return time_to_read\n",
    "\n",
    "class Audiobook(Item):\n",
    "    def __init__(self, title, price, duration_in_hours, narrator):\n",
    "        super().__init__(title, price)\n",
    "        self.duration_in_hours = duration_in_hours\n",
    "        self.narrator = narrator\n",
    "\n",
    "    def get_time_to_read(self):\n",
    "        return self.duration_in_hours\n",
    "\n",
    "book_01 = Book('Kadet Hornblower', 242, 399)\n",
    "book_02 = Book('Harry Potter a kámen mudrců', 275, 300)\n",
    "\n",
    "audio_b_01 = Audiobook('Problém tří těles', 299, 14.4, 'Zbyšek Horák')\n",
    "audio_b_02 = Audiobook('Harry Potter a kámen mudrců', 300, 4, 'Jana Velká')\n",
    "\n",
    "book_list = [book_01, book_02, audio_b_01, audio_b_02]\n",
    "\n",
    "# celkový čas, potřebný pro přečtení/poslechnutí knihy/audioknihy\n",
    "total_time = 0\n",
    "\n",
    "for one in book_list:\n",
    "    total_time += one.get_time_to_read()\n",
    "\n",
    "print(f'Celkový čas: {total_time}')\n",
    "\n",
    "print(book_01.get_info())\n",
    "print(book_01.get_time_to_read())\n",
    "\n",
    "print(audio_b_01.get_time_to_read())"
   ]
  }
 ],
 "metadata": {
  "kernelspec": {
   "display_name": "Python 3",
   "language": "python",
   "name": "python3"
  },
  "language_info": {
   "codemirror_mode": {
    "name": "ipython",
    "version": 3
   },
   "file_extension": ".py",
   "mimetype": "text/x-python",
   "name": "python",
   "nbconvert_exporter": "python",
   "pygments_lexer": "ipython3",
   "version": "3.11.3"
  }
 },
 "nbformat": 4,
 "nbformat_minor": 2
}
