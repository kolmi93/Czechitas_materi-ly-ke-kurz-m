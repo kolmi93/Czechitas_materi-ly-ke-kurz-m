{
 "cells": [
  {
   "cell_type": "markdown",
   "metadata": {},
   "source": [
    "# Gymnázium\n",
    "\n",
    "Modifikujme si předchozí příklad. Horší známku z matematiky může student kompenzovat tím, že uspěje v matematické olympiádě. Přidejte tedy dotaz, zda se uchazeč zúčastnil okresního kola matematické olympiády. Pokud ano, bude mu zkouška odpuštěna, i kdyby jeho známka z matematiky byla horší. Požadavek na celkový průměr známek je však třeba stále dodržet.\n",
    "\n",
    "Otázka může vypadat například takto:\n",
    "\n",
    "  input(\"Zúčastnil ses okresního kola krajské olympiády? [a/n] \")\n",
    "\n",
    "Pokud se student olympiády zúčastnil, odpoví a.\n"
   ]
  },
  {
   "cell_type": "markdown",
   "metadata": {},
   "source": [
    "### Řešení"
   ]
  },
  {
   "cell_type": "code",
   "execution_count": 2,
   "metadata": {},
   "outputs": [
    {
     "name": "stdout",
     "output_type": "stream",
     "text": [
      "Přijmeme vás bez přijímací zkoušky.\n"
     ]
    }
   ],
   "source": [
    "matematika = int(input('Zadejte, jakou mělo dítě známku z natematiky na vysvědčení:\\n'))\n",
    "prumer_vysvedceni = float(input('Jaký byl průměr známek dítěte na posledním vysvědčení:\\n'))\n",
    "olympiada = input(\"Zúčastnil ses okresního kola krajské olympiády? [a/n] \")\n",
    "\n",
    "if prumer_vysvedceni < 1.8 and (matematika <= 2 or olympiada == 'a'):\n",
    "    print('Přijmeme vás bez přijímací zkoušky.')\n",
    "else:\n",
    "    print('Musíte splnit přijímací zkoušku.')"
   ]
  },
  {
   "cell_type": "code",
   "execution_count": null,
   "metadata": {},
   "outputs": [],
   "source": [
    "matematika = int(input('Zadejte, jakou mělo dítě známku z natematiky na vysvědčení:\\n'))\n",
    "prumer_vysvedceni = float(input('Jaký byl průměr známek dítěte na posledním vysvědčení:\\n'))\n",
    "olympiada = input(\"Zúčastnil ses okresního kola krajské olympiády? [a/n] \")\n",
    "\n",
    "if prumer_vysvedceni < 1.8 and matematika <= 2:\n",
    "    print('Přijmeme vás bez přijímací zkoušky.')\n",
    "elif prumer_vysvedceni < 1.8 and olympiada == 'a':\n",
    "    print('Přijmeme vás bez přijímací zkoušky.')\n",
    "else:\n",
    "    print('Musíte splnit přijímací zkoušku.')"
   ]
  }
 ],
 "metadata": {
  "kernelspec": {
   "display_name": "Python 3",
   "language": "python",
   "name": "python3"
  },
  "language_info": {
   "codemirror_mode": {
    "name": "ipython",
    "version": 3
   },
   "file_extension": ".py",
   "mimetype": "text/x-python",
   "name": "python",
   "nbconvert_exporter": "python",
   "pygments_lexer": "ipython3",
   "version": "3.11.3"
  }
 },
 "nbformat": 4,
 "nbformat_minor": 2
}
